{
 "cells": [
  {
   "cell_type": "markdown",
   "id": "43ddf648",
   "metadata": {
    "slideshow": {
     "slide_type": "slide"
    }
   },
   "source": [
    "# Módulo: Regresión y Correlación\n",
    "## T11b: Medidas de correlación"
   ]
  },
  {
   "cell_type": "markdown",
   "id": "870a548c",
   "metadata": {
    "slideshow": {
     "slide_type": "slide"
    }
   },
   "source": [
    "# Objetivos de la clase\n",
    "- Conocer los fundamentos del análisis bivariado y su aplicación\n",
    "- Aprender técnicas de estimación de variación conjunta y correlación entre variables\n",
    "- Distinguir entre los conceptos de correlación y causalidad"
   ]
  },
  {
   "cell_type": "markdown",
   "id": "7526809e",
   "metadata": {
    "slideshow": {
     "slide_type": "slide"
    }
   },
   "source": [
    "# Análisis bivariado"
   ]
  },
  {
   "cell_type": "markdown",
   "id": "6cacc4dd",
   "metadata": {
    "slideshow": {
     "slide_type": "slide"
    }
   },
   "source": [
    "## Concepto de análisis bivariado\n",
    "\n",
    "El análisis bivariado estudia las relaciones empíricas entre dos variables estadísticas\n",
    "\n",
    "<center>\n",
    "    <img src=\"figures/stats-1.jpg\" width=\"600\"/>\n",
    "</center>\n",
    "\n",
    "La idea es descubrir asociaciones entre las variables y su grado de asociación\n"
   ]
  },
  {
   "cell_type": "markdown",
   "id": "8a09c0f1",
   "metadata": {
    "slideshow": {
     "slide_type": "slide"
    }
   },
   "source": [
    "## Covarianza\n",
    "\n",
    "Así como la varianza indica el grado de variabilidad de una variable estadística, la covarianza indica el grado de **variabilidad conjunta** de dos variables estadísticas.\n",
    "\n",
    "<center>\n",
    "    <img src=\"figures/cov-1.png\" width=\"500\"/>\n",
    "</center>\n",
    "\n",
    "Si valores grandes (pequeños) de una variable se corresponden con valores grandes (pequeños) de la otra variable, entonces la covarianza es positiva.\n",
    "\n",
    "En caso contrario la covarianza resulta ser negativa. Es decir, valores pequeños se corresponden con valores grandes y viceversa."
   ]
  },
  {
   "cell_type": "markdown",
   "id": "a931da16",
   "metadata": {
    "slideshow": {
     "slide_type": "subslide"
    }
   },
   "source": [
    "Matemáticamente la covarianza muestral entre dos variables $X$ e $Y$ se estima de la siguiente forma:\n",
    "\n",
    "\\begin{align}\n",
    "    \\text{Cov}(X, Y) = \\sum_{i=1}^{n} \\frac{ (x_{i} - \\bar{x}) (y_{i} - \\bar{y}) }{n-1}\n",
    "\\end{align}\n",
    "\n",
    "Notar que la variaza muestral es un caso particular de la covarianza muestral cuando las dos variables son idénticas"
   ]
  },
  {
   "cell_type": "markdown",
   "id": "d6c65a85",
   "metadata": {
    "slideshow": {
     "slide_type": "slide"
    }
   },
   "source": [
    "# Medidas de Correlación"
   ]
  },
  {
   "cell_type": "markdown",
   "id": "3ac2ed33",
   "metadata": {
    "slideshow": {
     "slide_type": "slide"
    }
   },
   "source": [
    "## Coeficiente de correlación (Pearson)\n",
    "La normalización de la covarianza muestral resulta en el coeficiente de correlación de Pearson, que es una medida normalizada de la correlación lineal entre dos variables.\n",
    "\n",
    "Matemáticamente el coeficiente de correlación (Pearson) se calcula de la siguiente forma para una muestra:\n",
    "\n",
    "\\begin{align}\n",
    "    r_{xy} = \\frac{1}{n-1} \\sum_{i=1}^{n} \\frac{ (x_{i} - \\bar{x}) (y_{i} - \\bar{y}) }{S_{x} S_{y} }\n",
    "\\end{align}\n",
    "\n"
   ]
  },
  {
   "cell_type": "markdown",
   "id": "d2f549f6",
   "metadata": {
    "slideshow": {
     "slide_type": "subslide"
    }
   },
   "source": [
    "El valor de $r$ puede variar entre -1 y 1.\n",
    "\n",
    "Un $r$ mayor a cero indica una correlación lineal positiva, mientras que un $r$ menor a cero indica una correlación lineal negativa.\n",
    "\n",
    "Un $r$ cercano a cero indica que no hay correlación lineal.\n",
    "<center>\n",
    "    <img src=\"figures/corr-coef-2.png\" width=\"900\"/>\n",
    "</center>"
   ]
  },
  {
   "cell_type": "markdown",
   "id": "d97c1589",
   "metadata": {
    "slideshow": {
     "slide_type": "slide"
    }
   },
   "source": [
    "**Ejemplo**\n",
    "En una minera se quiere estudiar la relación entre la densidad del mineral y la potencia del molino SAG para alcanzar una molienda óptima.\n",
    "\n",
    "<br>\n",
    "<center>\n",
    "<table><tr>\n",
    "<td> <img src=\"figures/sag-1.jfif\" width=\"600\"/> </td>\n",
    "<td> <img src=\"figures/sag-gif-1.gif\" width=\"500\"/> </td>\n",
    "</tr></table>\n",
    "</center>"
   ]
  },
  {
   "cell_type": "code",
   "execution_count": 2,
   "id": "11276913",
   "metadata": {
    "slideshow": {
     "slide_type": "subslide"
    }
   },
   "outputs": [
    {
     "data": {
      "image/png": "[encoded data removed]",
      "text/plain": [
       "<Figure size 1152x324 with 2 Axes>"
      ]
     },
     "metadata": {
      "needs_background": "light"
     },
     "output_type": "display_data"
    }
   ],
   "source": [
    "import numpy as np\n",
    "import matplotlib.pyplot as plt\n",
    "np.random.seed(2)\n",
    "density = 2100*(1+(np.random.randn(100)-0.5)/10)\n",
    "power1 = (1+(np.random.randn(100)-0.5)/8)*density*130/700\n",
    "power2 = (1+(np.random.randn(100)-0.1)/20)*density*130/700\n",
    "\n",
    "fig, ax = plt.subplots(ncols=2)\n",
    "fig.set_size_inches(16, 4.5)\n",
    "ax[0].scatter(density, power1), ax[1].scatter(density, power2)\n",
    "ax[0].set_xlabel('Densidad [kg/m3]'), ax[0].set_ylabel('Potencia [kW]'), ax[0].set_title('r = ' + str(np.corrcoef(density, power1)[0][1]))\n",
    "ax[1].set_xlabel('Densidad [kg/m3]'), ax[1].set_ylabel('Potencia [kW]'), ax[1].set_title('r = ' + str(np.corrcoef(density, power2)[0][1]))\n",
    "plt.show()"
   ]
  },
  {
   "cell_type": "markdown",
   "id": "ec74be1d",
   "metadata": {
    "slideshow": {
     "slide_type": "slide"
    }
   },
   "source": [
    "## Diferencias con coeficiente de determinación\n",
    "\n",
    "El **coeficiente de correlación $r$** es una medida de la asociación lineal entre dos variables.\n",
    "\n",
    "El **coeficiente de determinación** $R^{2}$ es una medida de qué tan bien un modelo de regresión lineal puede ajustar a dos variables.\n",
    "\n",
    "Obviamente dos variables que tengan una alta linealidad entre ellas, tendrán más chances de poder modelarse correctamente mediante una regresión lineal.\n"
   ]
  },
  {
   "cell_type": "code",
   "execution_count": 36,
   "id": "c8743a01",
   "metadata": {
    "slideshow": {
     "slide_type": "slide"
    }
   },
   "outputs": [
    {
     "data": {
      "image/png": "[encoded data removed]",
      "text/plain": [
       "<Figure size 720x432 with 1 Axes>"
      ]
     },
     "metadata": {
      "needs_background": "light"
     },
     "output_type": "display_data"
    }
   ],
   "source": [
    "from sklearn.metrics import r2_score\n",
    "power = power2\n",
    "\n",
    "b1, b0 = np.polyfit(density, power, 1) #regresion lineal\n",
    "power_pred = b0 + b1*density #calculo de variable dependiente con modelo de regresion\n",
    "\n",
    "plt.figure(figsize=(10,6))\n",
    "plt.scatter(density, power, label='datos reales')\n",
    "plt.plot(density, power_pred, label='recta ajustada', color='red')\n",
    "plt.xlabel('Densidad [kg/m3]'), plt.ylabel('Potencia [kW]')\n",
    "plt.title('R2 = ' + str(r2_score(power, power_pred) ) + '\\n r = ' + str(np.corrcoef(density, power)[0][1])), plt.legend()\n",
    "plt.show()"
   ]
  },
  {
   "cell_type": "markdown",
   "id": "a8db5611",
   "metadata": {
    "slideshow": {
     "slide_type": "slide"
    }
   },
   "source": [
    "## Coeficiente de correlación (Spearman)\n",
    "\n",
    "Se trata de un coeficiente de correlación de rango entre dos variables aleatorias.\n",
    "\n",
    "Básicamente mide qué tan bien la relación entre dos variables puede describirse mediante una función monotónica.\n",
    "\n",
    "<center>\n",
    "    <img src=\"figures/spearman-1.png\" width=\"400\"/>\n",
    "</center>"
   ]
  },
  {
   "cell_type": "markdown",
   "id": "30dc0db1",
   "metadata": {
    "slideshow": {
     "slide_type": "slide"
    }
   },
   "source": [
    "## Correlación y causalidad\n",
    "\n",
    "Es importante notar que una correlación es cualquier relación estadística causal o no entre dos variables aleatorias.\n",
    "\n",
    "Esto significa que a pesar que tengan una alta correlación, no significa que uno de los fenómenos sea la **causa** del otro.\n",
    "\n",
    "<center>\n",
    "    <img src=\"figures/corr-caus-1.png\" width=\"600\"/>\n",
    "</center>\n",
    "\n",
    "La correlación es una condición necesaria, pero no suficiente para establecer causalidad.\n"
   ]
  },
  {
   "cell_type": "markdown",
   "id": "fb239230",
   "metadata": {
    "slideshow": {
     "slide_type": "slide"
    }
   },
   "source": [
    "# Sumario\n",
    "\n",
    "- El análisis bivariado estudia las relaciones estadísticas entre dos variables.\n",
    "- El coeficiente de correlación (Pearson) cuantifica el grado de relación lineal entre dos variables.\n",
    "- Que dos variables tengan una alta correlación no implica necesariamente que tengan una relación causa-efecto."
   ]
  }
 ],
 "metadata": {
  "celltoolbar": "Slideshow",
  "kernelspec": {
   "display_name": "Python 3 (ipykernel)",
   "language": "python",
   "name": "python3"
  },
  "language_info": {
   "codemirror_mode": {
    "name": "ipython",
    "version": 3
   },
   "file_extension": ".py",
   "mimetype": "text/x-python",
   "name": "python",
   "nbconvert_exporter": "python",
   "pygments_lexer": "ipython3",
   "version": "3.9.7"
  }
 },
 "nbformat": 4,
 "nbformat_minor": 5
}
