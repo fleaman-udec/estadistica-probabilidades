{
 "cells": [
  {
   "cell_type": "markdown",
   "metadata": {
    "slideshow": {
     "slide_type": "slide"
    }
   },
   "source": [
    "# Módulo: Distribuciones de Probabilidad\n",
    "## T5: Variables y Distribuciones Discretas y Continuas"
   ]
  },
  {
   "cell_type": "markdown",
   "metadata": {
    "slideshow": {
     "slide_type": "slide"
    }
   },
   "source": [
    "# Objetivos de la clase\n",
    "- Comprender los conceptos de variables aleatorias discretas y continuas.\n",
    "- Definir y comprender la distribuciones de probabilidades discretas y continuas.\n",
    "- Realizar cálculos con funciones de densidad de probabilidad."
   ]
  },
  {
   "cell_type": "markdown",
   "metadata": {
    "slideshow": {
     "slide_type": "slide"
    }
   },
   "source": [
    "# Variables aleatorias discretas y continuas"
   ]
  },
  {
   "cell_type": "markdown",
   "metadata": {
    "slideshow": {
     "slide_type": "slide"
    }
   },
   "source": [
    "## Variables aleatorias\n",
    "Una **variable aleatoria** es una función que asocia un número real con cada elemento del espacio muestral.\n",
    "\n",
    "<center>\n",
    "    <img src=\"figures/random-variable-1.png\" width=\"400\"/>\n",
    "</center>\n",
    "\n",
    "En el caso que la variable aleatoria tome valores binarios (0 ó 1) se denomina variable aleatoria de **Bernoulli**."
   ]
  },
  {
   "cell_type": "markdown",
   "metadata": {
    "slideshow": {
     "slide_type": "subslide"
    }
   },
   "source": [
    "**Ejemplo**: Se inspeccionan 3 piñones para verificar si presentan alguna falla o no. Si $N$ denota que no hay falla y $F$ denota que hay falla, entonces el espacio muestral corresponde a:\n",
    "\n",
    "\\begin{align}\n",
    "    S = \\{ NNN, NNF, NFF, NFN, FNN, FNF, FFF, FFN \\}\n",
    "\\end{align}\n",
    "\n",
    "Una variable aleatoria $X$ podría corresponder a la cantidad de piñones que presentan falla. En este caso los valores de $X$ podrían ser 0, 1, 2 ó 3.\n",
    "\n",
    "Por ejemplo, para el siguiente evento $E$ la variable $X$ tomará el valor 2 para cada elemento:\n",
    "\n",
    "\\begin{align}\n",
    "    E = \\{ NFF, FNF, FFN \\}\n",
    "\\end{align}\n",
    "\n",
    "<center>\n",
    "    <img src=\"figures/faults-gear-1.png\" width=\"400\"/>\n",
    "</center>\n"
   ]
  },
  {
   "cell_type": "markdown",
   "metadata": {
    "slideshow": {
     "slide_type": "slide"
    }
   },
   "source": [
    "## Espacio muestral discreto y continuo\n",
    "Un **espacio muestral discreto** tiene un número finito de elementos, o bien un número infinito numerable de elementos.\n",
    "- Ej.: el número que sale al tirar un dado representa a un espacio muestral discreto finito. En este caso: $S = \\{1, 2, 3, 4, 5, 6 \\}$\n",
    "- Ej.: el número veces que se tira un dado hasta sacar 5 es un espacio muestral discreto infinito. En este caso: $S = \\{1, 2, 3 ... 100, 101, ... \\}$\n",
    "    \n",
    "    \n",
    "Un **espacio muestral continuo** contiene un número infinito y no numerable de elementos.\n",
    "- Ej.: los metros que recorren distintos modelos de autos con 5 L de combustible"
   ]
  },
  {
   "cell_type": "markdown",
   "metadata": {
    "slideshow": {
     "slide_type": "slide"
    }
   },
   "source": [
    "## Variables discretas y continuas\n",
    "\n",
    "&#10148; Una variable aleatoria es **discreta** si se puede contar su conjunto de resultados posibles.\n",
    "\n",
    "&#10148; Una variable aleatoria es **continua** si puede tomar valores a escala continua.\n",
    "\n",
    "&#10148; En muchos casos las variables aleatorias continuas representan datos **medidos**, mientras que las variables discretas representan datos **por conteo**.\n",
    "\n",
    "<center>\n",
    "    <img src=\"figures/discrete-continuous-data-1.jpg\" width=\"400\"/>\n",
    "</center>\n",
    "\n"
   ]
  },
  {
   "cell_type": "markdown",
   "metadata": {
    "slideshow": {
     "slide_type": "slide"
    }
   },
   "source": [
    "# Distribuciones de probabilidad discretas"
   ]
  },
  {
   "cell_type": "markdown",
   "metadata": {
    "slideshow": {
     "slide_type": "slide"
    }
   },
   "source": [
    "## Distribución discreta de probabilidad\n",
    "La variable aleatoria discreta toma cada uno de sus valores con una cierta probabilidad.\n",
    "\n",
    "**Ejemplo**: Al lanzar un dado el valor $x=1$ tiene una probabilidad de $P(X=1) = 1/6$, el valor $x=2$ también tiene probabilidad $P(X=2) = 1/6$, y así sucesivamente.\n",
    "\n",
    "<br><center>\n",
    "    <img src=\"figures/prob-distr-2.png\" width=\"400\"/>\n",
    "</center>"
   ]
  },
  {
   "cell_type": "markdown",
   "metadata": {
    "slideshow": {
     "slide_type": "subslide"
    }
   },
   "source": [
    "El conjunto de pares ordenados $(x, P(X=x))$ se conoce como **función de probabilidad**, **función de masa de probabilidad**, o bien **distribución de probabilidad**.\n",
    "\n",
    "La distribución de probabilidad en un gráfico de barras se denomina histograma de probabilidad.\n",
    "\n",
    "<br><center>\n",
    "    <img src=\"figures/prob-distr-3.png\" width=\"500\"/>\n",
    "</center>"
   ]
  },
  {
   "cell_type": "markdown",
   "metadata": {
    "slideshow": {
     "slide_type": "subslide"
    }
   },
   "source": [
    "Formalmente, un conjunto de pares ordenados $(x, f(x))$ es una distribución de probabilidad de la variable aleatoria discreta $X$ si para cada resultado $x$ posible:\n",
    "\n",
    "- $f(x) \\geq 0$\n",
    "- $\\sum_{x} f(x) = 1$\n",
    "- $P(X=x) = f(x)$\n",
    "\n",
    "Esto significa que no cualquier función podría ser catalogada como una función de probabilidad"
   ]
  },
  {
   "cell_type": "markdown",
   "metadata": {
    "slideshow": {
     "slide_type": "subslide"
    }
   },
   "source": [
    "**Ejemplo**: La variable $X$ representa el número de caras obtenidas al lanzar 3 veces una moneda. Obtener la distribución de probabilidad para esta variable aleatoria discreta.\n",
    "\n",
    "\\begin{align}\n",
    "    S = \\{ HHH, HHT, HTT, HTH, THH, THT, TTT, TTH \\}\n",
    "\\end{align}\n",
    "\n",
    "Para cada elemento la variable $X$ tomaría respectivamente los valores: $X = \\{ 3, 2, 1, 2, 2, 1, 0, 1 \\}$\n",
    "\n",
    "Entonces la probabilidad de cada valor de $X$ es: \n",
    "\n",
    "<center>\n",
    "    <img src=\"figures/tab-distr.png\" width=\"500\"/>\n",
    "</center>\n"
   ]
  },
  {
   "cell_type": "markdown",
   "metadata": {
    "slideshow": {
     "slide_type": "slide"
    }
   },
   "source": [
    "## Función de distribución acumulativa\n",
    "En muchos problemas es deseable calcular la probabilidad con que la variable aleatoria tenga un valor menor o igual a un número fijo. \n",
    "\n",
    "Para estos casos se define la **función de distribución acumulativa** $F(x)$ de una variable discreta $X$ con distribución de probabilidad $f(x)$ como:\n",
    "\n",
    "\\begin{align}\n",
    "    F(x) = P(X \\leq x) = \\sum_{t \\leq x} f(t)\n",
    "\\end{align}\n",
    "\n",
    "<center>\n",
    "    <img src=\"figures/cum-distr-1.jpg\" width=\"250\"/>\n",
    "</center>"
   ]
  },
  {
   "cell_type": "markdown",
   "metadata": {
    "slideshow": {
     "slide_type": "subslide"
    }
   },
   "source": [
    "**Ejemplo**: En el mismo ejemplo de lanzar 3 monedas y siendo $X$ la cantidad de caras, obtener la función de distribución acumulativa.\n",
    "\n",
    "Tenemos que la distribución de probabilidad es:\n",
    "\n",
    "<center>\n",
    "    <img src=\"figures/tab-distr.png\" width=\"500\"/>\n",
    "</center>\n",
    "\n",
    "Entonces para la función de distribución acumulativa se tiene:\n",
    "\n",
    "<center>\n",
    "    <img src=\"figures/tab-distr-acum.png\" width=\"500\"/>\n",
    "</center>"
   ]
  },
  {
   "cell_type": "markdown",
   "metadata": {
    "slideshow": {
     "slide_type": "slide"
    }
   },
   "source": [
    "# Distribuciones de probabilidad continuas"
   ]
  },
  {
   "cell_type": "markdown",
   "metadata": {
    "slideshow": {
     "slide_type": "slide"
    }
   },
   "source": [
    "## Distribución de probabilidad continua\n",
    "\n",
    "**Una variable continua tiene una probabilidad 0 de adoptar exactamente un valor específico.**\n",
    "\n",
    "Esto se debe a que siempre hay un número infinito de valores que la variable continua puede adoptar en cualquier rango de valores.\n",
    "\n",
    "<center>\n",
    "    <img src=\"figures/pdf-2.png\" width=\"400\"/>\n",
    "</center>\n",
    "\n",
    "Debido a esto, la distribución de probabilidad para variables continuas no se puede expresar de forma tabular, si no que mediante una fórmula $f(x)$"
   ]
  },
  {
   "cell_type": "markdown",
   "metadata": {
    "slideshow": {
     "slide_type": "subslide"
    }
   },
   "source": [
    "Esta función $f(x)$ se conoce como **función de densidad de probabilidad** o simplemente como **función de densidad** de $X$.\n",
    "\n",
    "Esta función tiene por objetivo cuantificar la probabilidad de que la variable continua adopte un valor dentro de un rango determinado.\n",
    "\n",
    "<br><center>\n",
    "    <img src=\"figures/pdf-1.jpg\" width=\"500\"/>\n",
    "</center>"
   ]
  },
  {
   "cell_type": "markdown",
   "metadata": {
    "slideshow": {
     "slide_type": "subslide"
    }
   },
   "source": [
    "Formalmente, la función $f(x)$ es una función de densidad de probabilidad para la variable continua $X$ definida en $\\mathbb{R}$ si:\n",
    "\n",
    "- $f(x) \\geq 0 \\quad \\forall x \\in \\mathbb{R}$\n",
    "- $\\int_{-\\infty}^{\\infty} f(x) dx = 1$\n",
    "- $P(a < X < b ) = \\int_{a}^{b} f(x) dx$\n",
    "    \n",
    "Nuevamente no cualquier función puede ser una función de densidad de probabilidad."
   ]
  },
  {
   "cell_type": "markdown",
   "metadata": {
    "slideshow": {
     "slide_type": "subslide"
    }
   },
   "source": [
    "**Ejemplo**: Suponga que el error en una medición viene dada por la variable aleatoria continua $X$ que tiene función de densidad de probabilidad:\n",
    "\n",
    "\\begin{split}\n",
    "    f(x) = \\Bigg\\{\n",
    "    \\begin{array}{ c c }\n",
    "    \\frac{x^2}{3},  & \\quad \\textrm{if } -1 < x < 2 \\\\\n",
    "    0,                & \\quad \\textrm{elsewhere}\n",
    "  \\end{array}\n",
    "\\end{split}\n",
    "\n",
    "a) Verificar que $f(x)$ es una función de densidad.\n",
    "Evidentemente $f(x) \\geq 0$. Además se cumple que:\n",
    "\n",
    "\\begin{align}\n",
    "    \\int_{-\\infty}^{\\infty} f(x) dx = \\int_{-1}^{2} \\frac{x^2}{3} dx = \\frac{x^3}{9} \\Big|_{-1}^{2} = \\frac{8}{9} + \\frac{1}{9} = 1\n",
    "\\end{align}\n",
    "\n",
    "b) Calcular la probabilidad de que el error esté entre 0 y 1.\n",
    "\n",
    "\\begin{align}\n",
    "    P(0 < X < 1) = \\int_{0}^{1} \\frac{x^2}{3} dx = \\frac{x^3}{9} \\Big|_{0}^{1} = \\frac{1}{9}\n",
    "\\end{align}"
   ]
  },
  {
   "cell_type": "markdown",
   "metadata": {
    "slideshow": {
     "slide_type": "slide"
    }
   },
   "source": [
    "## Función de distribución acumulativa\n",
    "Para las variables aleatorias continuas se define la función de distribución acumulativa como sigue:\n",
    "\n",
    "\\begin{align}\n",
    "    F(x) = P(X \\leq x) = \\int_{-\\infty}^{x} f(t) dt\n",
    "\\end{align}\n",
    "\n",
    "<center>\n",
    "    <img src=\"figures/cdf-1.png\" width=\"350\"/>\n",
    "</center>\n",
    "\n",
    "Como consecuencia de esta definición se cumple que:\n",
    "\n",
    "\\begin{align}\n",
    "    P(a < X < b) & = F(b) - F(a)\n",
    "    & f(x) & = \\frac{d F(x)}{dx}\n",
    "\\end{align}\n",
    "\n"
   ]
  },
  {
   "cell_type": "markdown",
   "metadata": {
    "slideshow": {
     "slide_type": "subslide"
    }
   },
   "source": [
    "**Ejemplo**: En el ejemplo anterior calcule $F(x)$ y use el resultado para evaluar $P(0<X<1)$\n",
    "\n",
    "\\begin{split}\n",
    "    f(t) = \\Bigg\\{\n",
    "    \\begin{array}{ c c }\n",
    "    \\frac{t^2}{3},  & \\quad \\textrm{if } -1 < t < 2 \\\\\n",
    "    0,                & \\quad \\textrm{elsewhere}\n",
    "  \\end{array}\n",
    "\\end{split}\n",
    "\n",
    "Para $x \\leq -1$:\n",
    "\n",
    "\\begin{align}\n",
    "    F(x) = \\int_{-\\infty}^{x} f(t) dt = \\int_{-\\infty}^{-1} 0 dt = 0\n",
    "\\end{align}\n",
    "\n",
    "Para $-1 < x  <2$:\n",
    "\n",
    "\\begin{align}\n",
    "    F(x) = \\int_{-\\infty}^{x} f(t) dt = \\int_{-\\infty}^{-1} 0 dt +  \\int_{-1}^{x} \\frac{t^2}{3} dt = \\frac{t^3}{9} \\Big|_{-1}^{x} = \\frac{x^3 + 1}{9}\n",
    "\\end{align}"
   ]
  },
  {
   "cell_type": "markdown",
   "metadata": {
    "slideshow": {
     "slide_type": "subslide"
    }
   },
   "source": [
    "Para $ x \\geq 2$:\n",
    "\n",
    "\\begin{align}\n",
    "    F(x) = \\int_{-\\infty}^{x} f(t) dt = \\int_{-\\infty}^{-1} 0 dt +  \\int_{-1}^{2} \\frac{t^2}{3} dt + \\int_{2}^{x} 0 dt = 1\n",
    "\\end{align}\n",
    "\n",
    "Por lo tanto se tiene que:\n",
    "\n",
    "\\begin{split}\n",
    "    F(x) = \\Bigg\\{\n",
    "    \\begin{array}{ c c }\n",
    "    0,  & \\quad \\textrm{if } x \\leq -1 \\\\\n",
    "    \\frac{x^3 + 1}{9},  & \\quad \\textrm{if } -1 < x < 2 \\\\\n",
    "    1,                & \\quad \\textrm{if } x \\geq 2\n",
    "  \\end{array}\n",
    "\\end{split}\n",
    "\n",
    "La probabilidad $P(0<X<1)$ se calcula como:\n",
    "\n",
    "\\begin{align}\n",
    "    P(0<X<1) = F(1) - F(0) = \\frac{2}{9} - \\frac{1}{9} = \\frac{1}{9}\n",
    "\\end{align}"
   ]
  },
  {
   "cell_type": "markdown",
   "metadata": {
    "slideshow": {
     "slide_type": "slide"
    }
   },
   "source": [
    "# Sumario\n",
    "- Las variables aleatorias se pueden dividir en discretas o continuas. Generalmente las discretas se asocian a conteos y las continuas a mediciones.\n",
    "- La distribución de probabilidad representa las probabilidades con que una variable aleatoria adopta sus posibles valores.\n",
    "- Dado las características de las variables continuas, sus distribuciones de probabilidades se expresan en fórmulas y se llaman función de densidad de probabilidad.\n",
    "- La distribución acumulativa de probabilidad representa las probabilidades con que una variable aleatoria adopta un valor menor a un valor específico."
   ]
  }
 ],
 "metadata": {
  "celltoolbar": "Slideshow",
  "kernelspec": {
   "display_name": "Python 3",
   "language": "python",
   "name": "python3"
  },
  "language_info": {
   "codemirror_mode": {
    "name": "ipython",
    "version": 3
   },
   "file_extension": ".py",
   "mimetype": "text/x-python",
   "name": "python",
   "nbconvert_exporter": "python",
   "pygments_lexer": "ipython3",
   "version": "3.8.5"
  }
 },
 "nbformat": 4,
 "nbformat_minor": 5
}
