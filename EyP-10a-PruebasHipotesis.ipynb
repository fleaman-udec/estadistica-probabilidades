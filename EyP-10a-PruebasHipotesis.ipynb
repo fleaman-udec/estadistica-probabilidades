{
 "cells": [
  {
   "cell_type": "markdown",
   "id": "67aceda7",
   "metadata": {
    "slideshow": {
     "slide_type": "slide"
    }
   },
   "source": [
    "# Módulo: Inferencia Estadística\n",
    "## T10a: Pruebas de hipótesis"
   ]
  },
  {
   "cell_type": "markdown",
   "id": "a138acbe",
   "metadata": {
    "slideshow": {
     "slide_type": "slide"
    }
   },
   "source": [
    "# Objetivos de la clase\n",
    "- Comprender el concepto de hipótesis estadística y aprender la formulación de una prueba de hipótesis\n",
    "- Realizar pruebas de hipótesis sobre la media\n",
    "- Realizar pruebas de hipótesis sobre la varianza\n"
   ]
  },
  {
   "cell_type": "markdown",
   "id": "b2bd722e",
   "metadata": {
    "slideshow": {
     "slide_type": "slide"
    }
   },
   "source": [
    "# Hipótesis estadísticas\n"
   ]
  },
  {
   "cell_type": "markdown",
   "id": "4f6dbcba",
   "metadata": {
    "slideshow": {
     "slide_type": "slide"
    }
   },
   "source": [
    "## Definiciones y fundamentos\n",
    "\n",
    "Una **hipótesis estadística** es una aseveración o conjetura respecto de una o más poblaciones.\n",
    "\n",
    "*Ejemplos*:\n",
    "- \"La altura media de los estudiantes es mayor a 1.65 m\"\n",
    "- \"No hay relación entre el consumo de café y calidad del sueño\"\n",
    "- \"Escuchar música de rock mejora el rendimiento escolar\"\n",
    "\n",
    "<center>\n",
    "    <img src=\"figures/hypo-1.jpg\" width=\"600\"/>\n",
    "</center>"
   ]
  },
  {
   "cell_type": "markdown",
   "id": "5ac2756e",
   "metadata": {
    "slideshow": {
     "slide_type": "subslide"
    }
   },
   "source": [
    "La verdad o falsedad de la hipótesis nunca se sabe con **absoluta certeza**, ya que es muy difícil analizar a toda la población.\n",
    "\n",
    "En cambio, solo se analiza una muestra aleatoria. Esto lleva a que el aceptar o rechazar una hipótesis ocurra con **cierto grado de probabilidad**.\n",
    "\n",
    "<br><center>\n",
    "    <img src=\"figures/hypo-2.png\" width=\"700\"/>\n",
    "</center>"
   ]
  },
  {
   "cell_type": "markdown",
   "id": "8bf5ea71",
   "metadata": {
    "slideshow": {
     "slide_type": "subslide"
    }
   },
   "source": [
    "Si la **evidencia** de la muestra es inconsistente con la hipótesis, entonces la hipótesis se rechaza.\n",
    "\n",
    "*Ejemplo*:\n",
    "<dl>\n",
    "<dt>Hipótesis estadística</dt>\n",
    "<dd>\"La altura media de los estudiantes es mayor a 1.65 m\"</dd>\n",
    "<dt>Muestra aleatoria</dt>\n",
    "<dd>Al medir 100 estudiantes resulta una altura promedio de 1.61 m con probabilidad 0.95</dd>\n",
    "<dt>Decisión</dt>\n",
    "<dd>Se rechaza la hipótesis planteada en base a la evidencia</dd>\n",
    "</dl>\n",
    "\n",
    "\n",
    "Este rechazo solo deja una pequeña probabilidad de que la hipótesis sea verdadera.\n",
    "\n"
   ]
  },
  {
   "cell_type": "markdown",
   "id": "e2c9b439",
   "metadata": {
    "slideshow": {
     "slide_type": "subslide"
    }
   },
   "source": [
    "Ya que es más sencillo encontrar evidencia en contra de algo que a favor de algo, la formulación de la hipótesis debe ser tal que **su rechazo proporcione información respecto del fenómeno** a analizar.\n",
    "\n",
    "<center>\n",
    "    <img src=\"figures/hypo-4.png\" width=\"500\"/>\n",
    "</center>\n",
    "\n",
    "*Ejemplo*:\n",
    "\n",
    "Se quiere apoyar la afirmación que el sensor A es más preciso que el sensor B\n",
    "\n",
    "&#10148; Hipótesis: \"No hay diferencia en la precisión de los dos tipos de sensores\"\n",
    "\n",
    "&#10148; Evidencia: En una muestra resultó los sensores A eran 15% más precisos que los sensores B\n",
    "\n",
    "&#10148; Decisión: Procedemos a rechazar la hipótesis, lo que ayuda a reafirmar nuestra afirmación inicial\n",
    "\n"
   ]
  },
  {
   "cell_type": "markdown",
   "id": "b286c875",
   "metadata": {
    "slideshow": {
     "slide_type": "slide"
    }
   },
   "source": [
    "## Prueba de hipótesis\n",
    "\n",
    "Formalmente, en una prueba de hipótesis se define una **hipótesis nula** $H_0$ y una **hipótesis alternativa** $H_1$\n",
    "\n",
    "El rechazo de la hipótesis nula $H_0$ conduce a la aceptación de la hipótesis alternativa $H_1$\n",
    "\n",
    "Entonces, la hipótesis alternativa $H_1$ representa a la pregunta que se responderá en la prueba de hipótesis.\n",
    "\n",
    "<br><center>\n",
    "    <img src=\"figures/hypo-6.png\" width=\"600\"/>\n",
    "</center>"
   ]
  },
  {
   "cell_type": "markdown",
   "id": "0135ba06",
   "metadata": {
    "slideshow": {
     "slide_type": "subslide"
    }
   },
   "source": [
    "Se define el **estadístico de prueba** como la variable estadística que se utiliza para intentar rechazar la hipótesis nula en favor de la hipótesis alternativa.\n",
    "\n",
    "Se llama **región crítica** al rango de valores del estadístico de prueba donde se rechaza la hipótesis nula"
   ]
  },
  {
   "cell_type": "markdown",
   "id": "afe28832",
   "metadata": {
    "slideshow": {
     "slide_type": "subslide"
    }
   },
   "source": [
    "**Ejemplo:** Queremos probar si el fertilizante ayuda al crecimiento de las plantas.\n",
    "\n",
    "<center>\n",
    "    <img src=\"figures/plant.jpg\" width=\"450\"/>\n",
    "</center>\n",
    "\n",
    "<div class=\"well\">\n",
    "<center>\n",
    "$H_0:$ el fertilizante no ayuda al crecimiento de las plantas\n",
    "</center>\n",
    "<center>\n",
    "$H_1:$ el fertilizante sí ayuda al crecimiento de las plantas\n",
    "</center>\n",
    "</div>\n",
    "\n",
    "Se define que la región crítica es una altura media mayor a 10 cm. Este valor sería el **valor crítico**\n",
    "\n",
    "Si en la muestra se obtiene una altura media de 15 cm, entonces se rechaza $H_0$ para favorecer a $H_1$    "
   ]
  },
  {
   "cell_type": "markdown",
   "id": "abd3ab2e",
   "metadata": {
    "slideshow": {
     "slide_type": "slide"
    }
   },
   "source": [
    "## Tipos de error\n",
    "\n",
    "Hay 2 tipos de errores en la toma de una decisión respecto de una hipótesis:\n",
    "\n",
    "<dl>\n",
    "<dt>Error tipo I</dt>\n",
    "<dd>Se rechaza la hipótesis nula cuando esta en realidad es verdadera</dd>\n",
    "<dt>Error tipo II</dt>\n",
    "<dd>No se rechaza la hipótesis nula cuando esta en realidad es falsa</dd>\n",
    "</dl>\n",
    "\n",
    "<center>\n",
    "    <img src=\"figures/hipo-2b.png\" width=\"1000\"/>\n",
    "</center>\n",
    "\n",
    "La probabilidad de cometer un error de tipo I se llama **nivel de significancia** y se denota $\\alpha$.\n"
   ]
  },
  {
   "cell_type": "markdown",
   "id": "a83d96dd",
   "metadata": {
    "slideshow": {
     "slide_type": "slide"
    }
   },
   "source": [
    "# Pruebas respecto de una sola media"
   ]
  },
  {
   "cell_type": "markdown",
   "id": "e4fa9f6b",
   "metadata": {
    "slideshow": {
     "slide_type": "slide"
    }
   },
   "source": [
    "## Pruebas para una media (varianza conocida)\n",
    "Supongamos un experimento del que se extraen $n$ observaciones $X_1$, $X_2$, ..., $X_n$ aleatorias desde una población con media $\\mu$ y varianza $\\sigma^2$.\n",
    "\n",
    "Para probar las hipótesis:\n",
    "\n",
    "\\begin{align}\n",
    "H_0: \\mu = \\mu_0 \\\\\n",
    "H_1: \\mu \\neq \\mu_0\n",
    "\\end{align}\n",
    "\n",
    "usaremos la variable estadística de prueba $\\overline{X}$ que en condiciones del TLC tiene distribución normal con:\n",
    "\n",
    "\\begin{equation}\n",
    "\\mu_{\\overline{X}} = \\mu \\\\\n",
    "\\sigma_{\\overline{X}}^2 = \\sigma^2/n\n",
    "\\end{equation}\n"
   ]
  },
  {
   "cell_type": "markdown",
   "id": "519b60b6",
   "metadata": {
    "slideshow": {
     "slide_type": "subslide"
    }
   },
   "source": [
    "Bajo la hipótesis nula $H_0$ ($\\mu = \\mu_0$), de acuerdo al intervalo de confianza, se cumplirá que:\n",
    "\n",
    "\\begin{align}\n",
    "    P \\left( -z_{\\alpha /2} < \\frac{ \\overline{X} - \\mu_0 }{ \\sigma / \\sqrt{n} } < z_{\\alpha /2} \\right) = 1 - \\alpha\n",
    "\\end{align}\n",
    "\n",
    "donde $\\alpha$ será entonces la probabilidad de cometer un error de tipo I (rechazar una hipótesis verdadera). Es decir, $\\alpha$ es la probabilidad de que el valor estandarizado de $\\overline{X}$ no se encuentre en el rango indicado.\n",
    "\n",
    "<center>\n",
    "    <img src=\"figures/norm-interval-1.png\" width=\"500\"/>\n",
    "</center>\n",
    "\n",
    "Si el valor estandarizado de $\\overline{X}$ no está dentro de ese rango, se procede a rechazar la hipótesis nula en favor de la hipótesis alternativa $H_1$ ($\\mu \\neq \\mu_0$)\n",
    "\n"
   ]
  },
  {
   "cell_type": "markdown",
   "id": "42ec2329",
   "metadata": {
    "slideshow": {
     "slide_type": "subslide"
    }
   },
   "source": [
    "Dado un valor $\\overline{x}$ la prueba de hipótesis implica rechazar $H_0$ si la variable estadística $z$ cae en la región crítica descrita a continuación:\n",
    "\n",
    "<div class=\"well\">\n",
    "\\begin{align}\n",
    "    z & = \\frac{ \\overline{x} - \\mu_0 }{ \\sigma / \\sqrt{n} } > z_{\\alpha/2} &\n",
    "    \\text{o} & &\n",
    "    z & = \\frac{ \\overline{x} - \\mu_0 }{ \\sigma / \\sqrt{n} } < -z_{\\alpha/2}\n",
    "\\end{align}\n",
    "</div>\n",
    "    \n",
    "El rechazo de $H_0$ implica aceptar la hipótesis alternativa $H_1$ que $\\mu \\neq \\mu_0$. La probabilidad de rechazar equivocadamente $H_0$ es $\\alpha$.\n",
    "\n",
    "<center>\n",
    "    <img src=\"figures/norm-x-1.png\" width=\"500\"/>\n",
    "</center>\n",
    "\n",
    "Por otro lado, si $-z_{\\alpha /2} < z < z_{\\alpha /2}$ entonces $H_0$ no se rechaza.\n",
    "\n"
   ]
  },
  {
   "cell_type": "markdown",
   "id": "9b58eefa",
   "metadata": {
    "slideshow": {
     "slide_type": "subslide"
    }
   },
   "source": [
    "La formulación anterior se conoce como **bilateral**, ya que interesaba probar que $z$ estuviera hacia la izquierda o hacia la derecha del rango dado para poder rechazar $H_0$ en favor de $H_1$.\n",
    "\n",
    "En caso que se quiera probar una hipótesis **unilateral** del tipo:\n",
    "\n",
    "\\begin{align}\n",
    "H_0: \\mu = \\mu_0 \\\\\n",
    "H_1: \\mu > \\mu_0\n",
    "\\end{align}\n",
    "\n",
    "se requiere valores grandes de $z$ para favorecer a $H_1$. Entonces el rechazo de $H_0$ resulta solo de probar:\n",
    "\n",
    "\\begin{align}\n",
    "    z = \\frac{ \\overline{x} - \\mu_0 }{ \\sigma / \\sqrt{n} } > z_{\\alpha}\n",
    "\\end{align}\n",
    "\n",
    "<font color=darkred>Note que en este caso la región crítica queda solo en la cola derecha distribución normal </font>"
   ]
  },
  {
   "cell_type": "markdown",
   "id": "c8e16133",
   "metadata": {
    "slideshow": {
     "slide_type": "subslide"
    }
   },
   "source": [
    "De la misma forma, para una hipótesis **unilateral**  del tipo:\n",
    "\n",
    "\\begin{align}\n",
    "H_0: \\mu = \\mu_0 \\\\\n",
    "H_1: \\mu < \\mu_0\n",
    "\\end{align}\n",
    "\n",
    "la región crítica estará en:\n",
    "\n",
    "\\begin{align}\n",
    "    z = \\frac{ \\overline{x} - \\mu_0 }{ \\sigma / \\sqrt{n} } < - z_{\\alpha}\n",
    "\\end{align}\n",
    "\n",
    "<font color=darkred>Note que en este caso la región crítica queda solo en la cola izquierda distribución normal </font>"
   ]
  },
  {
   "cell_type": "markdown",
   "id": "5132a0c9",
   "metadata": {
    "slideshow": {
     "slide_type": "slide"
    }
   },
   "source": [
    "**Ejemplo**: Una muestra aleatoria de **100** fallecimientos arrojó una vida promedio de **71.8 años**. Si la desviación estándar de la población es **8.9 años**, ¿la muestra indica que la vida media actual es mayor a **70 años**? Considerar un nivel de significancia de **0.05**.\n",
    "\n",
    "Se plantean las hipótesis a probar:\n",
    "\n",
    "\\begin{align}\n",
    "H_0: \\mu = 70 \\\\\n",
    "H_1: \\mu > 70\n",
    "\\end{align}\n",
    "\n",
    "Para favorecer $H_1$ intentaremos rechazar $H_0$ usando como región crítica la cola derecha de la distribución normal estándar con una significancia (probabilidad) de $\\alpha = 0.05$\n",
    "\n",
    "<center>\n",
    "    <img src=\"figures/table-norm-1.png\" width=\"1300\"/>\n",
    "</center>\n"
   ]
  },
  {
   "cell_type": "markdown",
   "id": "c36f7da5",
   "metadata": {
    "slideshow": {
     "slide_type": "subslide"
    }
   },
   "source": [
    "Seleccionamos el valor crítico $z_{\\alpha} = 1.64$. Si nuestro valor $z$ está a la derecha de este valor crítico, entonces podemos rechazar la hipótesis nula en favor de la hipótesis alternativa.\n",
    "\n",
    "Para $\\overline{x} = 71.8$, $\\sigma = 8.9$ y $n=100$ se tiene:\n",
    "\n",
    "\\begin{align}\n",
    "    z = \\frac{ 71.8 - 70 }{ 8.9 / \\sqrt{100} } = 2.02\n",
    "\\end{align}\n",
    "\n",
    "✅ Se decide rechazar $H_0$ para concluir que la vida media actual sí es mayor a 70 años.\n",
    "\n",
    "El nivel de significancia de 0.05 significa que tenemos una probabilidad de 0.05 de habernos equivocado en rechazar $H_0$"
   ]
  },
  {
   "cell_type": "markdown",
   "id": "82696715",
   "metadata": {
    "slideshow": {
     "slide_type": "slide"
    }
   },
   "source": [
    "## Pruebas para una media (varianza desconocida)\n",
    "\n",
    "Para una **población normal** de varianza desconocida la formulación es similar, pero usando la distribución $t$ en vez de la distribución normal.\n",
    "\n",
    "\n",
    "Dada la hipótesis bilateral:\n",
    "\n",
    "\\begin{align}\n",
    "H_0: \\mu = \\mu_0 \\\\\n",
    "H_1: \\mu \\neq \\mu_0\n",
    "\\end{align}\n",
    "\n",
    "se rechaza $H_0$ a un nivel de significancia $\\alpha$ cuando la variable estadística de prueba $t$ cumple que:\n",
    "\n",
    "<div class=\"well\">\n",
    "\\begin{align}\n",
    "    t & = \\frac{ \\overline{x} - \\mu_0 }{ s / \\sqrt{n} } > t_{\\alpha/2} &\n",
    "    \\text{o} & &\n",
    "    t & = \\frac{ \\overline{x} - \\mu_0 }{ s / \\sqrt{n} } < -t_{\\alpha/2}\n",
    "\\end{align}\n",
    "</div>\n",
    "\n",
    "con $\\nu = n-1$ grados de libertad\n"
   ]
  },
  {
   "cell_type": "markdown",
   "id": "697f44b2",
   "metadata": {
    "slideshow": {
     "slide_type": "subslide"
    }
   },
   "source": [
    "Para pruebas **unilaterales** (de una cola) las regiones críticas donde se rechaza $H_0$ a favor de $H_1$ son:\n",
    "\n",
    "&#10148; Para $H_1: \\mu > \\mu_0$\n",
    "\n",
    "\\begin{align}\n",
    "    t = \\frac{ \\overline{x} - \\mu_0 }{ s / \\sqrt{n} } > t_{\\alpha}\n",
    "\\end{align}\n",
    "\n",
    "&#10148; Para $H_1: \\mu < \\mu_0$\n",
    "\n",
    "\\begin{align}\n",
    "    t = \\frac{ \\overline{x} - \\mu_0 }{ s / \\sqrt{n} } < -t_{\\alpha}\n",
    "\\end{align}\n",
    "\n",
    "donde $t_{\\alpha}$ es el valor $t$ que deja un área de $\\alpha$ a la derecha de la distribución $t$ con $\\nu = n-1$ grados de libertad"
   ]
  },
  {
   "cell_type": "markdown",
   "id": "e71f10c6",
   "metadata": {
    "slideshow": {
     "slide_type": "slide"
    }
   },
   "source": [
    "**Ejemplo**: Se afirma que cierto componente electrónico consume **46 kWh** de energía al año. En una muestra de **12** componentes se encontró que el consumo promedio fue de **42 kWh** con una desviación estándar de **11.9 kWh**. ¿Se puede concluir que los componentes consumen en promedio **menos de 46 kWh** con un nivel de significancia **0.05**? Suponer una distribución normal.\n",
    "\n",
    "Se plantean las hipótesis a probar:\n",
    "\n",
    "\\begin{align}\n",
    "H_0: \\mu = 46\\\\\n",
    "H_1: \\mu < 46\n",
    "\\end{align}\n",
    "\n",
    "Para favorecer $H_1$ intentaremos rechazar $H_0$ usando como región crítica la cola izquierda de la distribución $t$ con una significancia (probabilidad) de $\\alpha = 0.05$\n",
    "\n",
    "<center>\n",
    "    <img src=\"figures/distr-t-2.png\" width=\"1400\"/>\n",
    "</center>\n",
    "\n"
   ]
  },
  {
   "cell_type": "markdown",
   "id": "c8dc6a34",
   "metadata": {
    "slideshow": {
     "slide_type": "subslide"
    }
   },
   "source": [
    "Dado que la distribución es simétrica, seleccionamos el valor crítico $t_{\\alpha} = -1.796$. \n",
    "\n",
    "\n",
    "Si nuestro valor $t$ está a la izquierda del valor crítico, entonces podemos rechazar $H_0$ en favor de $H_1$\n",
    "\n",
    "Para $\\overline{x} = 42$, $s = 11.9$ y $n=12$ se tiene:\n",
    "\n",
    "\\begin{align}\n",
    "    t = \\frac{ 42 - 46 }{ 11.9 / \\sqrt{12} } = -1.16\n",
    "\\end{align}\n",
    "\n",
    "✅ Se decide no rechazar $H_0$ , es decir, que el consumo promedio de los componentes no es significativamente menor a 46 kWh."
   ]
  },
  {
   "cell_type": "markdown",
   "id": "b95eeed6",
   "metadata": {
    "slideshow": {
     "slide_type": "slide"
    }
   },
   "source": [
    "# Pruebas respecto de una sola varianza\n"
   ]
  },
  {
   "cell_type": "markdown",
   "id": "343fba72",
   "metadata": {
    "slideshow": {
     "slide_type": "slide"
    }
   },
   "source": [
    "Para probar hipótesis respecto de la varianza (o desviación estándar) de una **población normal**, recurrimos a la variable estadística de prueba **chi cuadrada**:\n",
    "\n",
    "\\begin{align}\n",
    "    \\chi^2 = \\frac{(n-1) s^2}{\\sigma_{0}^2}\n",
    "\\end{align}\n",
    "\n",
    "Usando esta variable podemos probar una hipótesis nula del tipo \n",
    "\n",
    "\\begin{align}\n",
    "H_0: \\sigma^{2} = \\sigma_0^{2}\n",
    "\\end{align}\n",
    "\n",
    "contra hipótesis alternativas comunes como:\n",
    "\n",
    "\\begin{align}\n",
    "H_1: \\sigma^{2} & \\neq \\sigma_0^{2} &\n",
    "H_1: \\sigma^{2} & > \\sigma_0^{2} &\n",
    "H_1: \\sigma^{2} & < \\sigma_0^{2}\n",
    "\\end{align}"
   ]
  },
  {
   "cell_type": "markdown",
   "id": "a84ae5bc",
   "metadata": {
    "slideshow": {
     "slide_type": "subslide"
    }
   },
   "source": [
    "Para una prueba **bilateral** (de dos colas) la región crítica donde se rechaza $H_0$ es:\n",
    "\n",
    "&#10148; Para $H_1: \\sigma^{2} \\neq \\sigma_0^{2}$\n",
    "\n",
    "\\begin{align}\n",
    "    \\chi^{2} & < \\chi_{1-\\alpha /2}^2 &\n",
    "    \\text{o} & &\n",
    "    \\chi^{2} & > \\chi_{\\alpha /2}^2 &\n",
    "\\end{align}\n",
    "\n",
    "Para pruebas **unilaterales** (de una cola) las regiones críticas donde se rechaza $H_0$ son:\n",
    "\n",
    "&#10148; Para $H_1: \\sigma^{2} > \\sigma_0^{2}$\n",
    "\n",
    "\\begin{align}\n",
    "    \\chi^{2} > \\chi_{\\alpha }^2\n",
    "\\end{align}\n",
    "\n",
    "&#10148; Para $H_1: \\sigma^{2} < \\sigma_0^{2}$\n",
    "\n",
    "\\begin{align}\n",
    "    \\chi^{2} < \\chi_{1 - \\alpha }^2\n",
    "\\end{align}\n",
    "\n",
    "Todas para una distribución chi cuadrada con $\\nu = n-1$ grados de libertad "
   ]
  },
  {
   "cell_type": "markdown",
   "id": "02794e40",
   "metadata": {
    "slideshow": {
     "slide_type": "slide"
    }
   },
   "source": [
    "**Ejemplo**: Un fabricante de pernos asegura que el largo de sus pernos tiene desviación estándar de **0.9 mm** con una distribución normal. Si una muestra de **10** pernos tiene una desviación estándar de **1.2 mm**, ¿se puede considerar que $\\sigma > 0.9$? Considerar un nivel de significancia **0.05**. \n",
    "\n",
    "Se plantean las hipótesis a probar:\n",
    "\n",
    "\\begin{align}\n",
    "H_0: \\sigma = 0.9\\\\\n",
    "H_1: \\sigma > 0.9\n",
    "\\end{align}\n",
    "\n",
    "Para favorecer $H_1$ intentaremos rechazar $H_0$ usando como región crítica la cola derecha de la distribución chi cuadrada con una significancia (probabilidad) de $\\alpha = 0.05$\n",
    "\n",
    "<center>\n",
    "    <img src=\"figures/distr-chi-1.png\" width=\"1400\"/>\n",
    "</center>\n"
   ]
  },
  {
   "cell_type": "markdown",
   "id": "152458e0",
   "metadata": {
    "slideshow": {
     "slide_type": "subslide"
    }
   },
   "source": [
    "Seleccionamos el valor crítico $\\chi^2_{\\alpha} = 16.919$ para $\\nu = 10 - 1 = 9$\n",
    "\n",
    "Si nuestro valor $\\chi^2$ está a la derecha del valor crítico, entonces podemos rechazar $H_0$ en favor de $H_1$\n",
    "\n",
    "Para $s = 1.2$, $\\sigma_0 = 0.9$ y $n=10$ se tiene:\n",
    "\n",
    "\\begin{align}\n",
    "    \\chi^2 = \\frac{(10-1) (1.2)^2}{(0.9)^2} = 16\n",
    "\\end{align}\n",
    "\n",
    "\n",
    "✅ Se decide no rechazar $H_0$ ya que no hay evidencia con un nivel de significancia 0.05 que $\\sigma > 0.9$"
   ]
  },
  {
   "cell_type": "markdown",
   "id": "794c2b6e",
   "metadata": {
    "slideshow": {
     "slide_type": "slide"
    }
   },
   "source": [
    "# Sumario\n",
    "- La prueba de hipótesis consiste en establecer una hipótesis nula y una alternativa, con el objetivo de rechazar la hipótesis nula en favor de la hipótesis alternativa\n",
    "- Para las pruebas de hipótesis sobre la media usamos la distribución normal si conocemos la varianza de la población o la distribución $t$ si la varianza es desconocida.\n",
    "- Para las pruebas de hipótesis sobre la varianza usamos la distribución chi cuadrada."
   ]
  }
 ],
 "metadata": {
  "celltoolbar": "Slideshow",
  "kernelspec": {
   "display_name": "Python 3 (ipykernel)",
   "language": "python",
   "name": "python3"
  },
  "language_info": {
   "codemirror_mode": {
    "name": "ipython",
    "version": 3
   },
   "file_extension": ".py",
   "mimetype": "text/x-python",
   "name": "python",
   "nbconvert_exporter": "python",
   "pygments_lexer": "ipython3",
   "version": "3.11.4"
  }
 },
 "nbformat": 4,
 "nbformat_minor": 5
}
