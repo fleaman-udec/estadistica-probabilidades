{
 "cells": [
  {
   "cell_type": "markdown",
   "id": "3b11cfd0",
   "metadata": {
    "slideshow": {
     "slide_type": "slide"
    }
   },
   "source": [
    "# Módulo: Distribuciones de Probabilidad\n",
    "## T7: Algunas distribuciones de probabilidad continua"
   ]
  },
  {
   "cell_type": "markdown",
   "id": "6104d2a9",
   "metadata": {
    "slideshow": {
     "slide_type": "slide"
    }
   },
   "source": [
    "# Objetivos de la clase\n",
    "\n",
    "Conocer, comprender y realizar cálculos con algunas distribuciones de probabilidad continua específicas:\n",
    "- Distribución uniforme\n",
    "- Distribución normal\n",
    "- Distribución gamma y exponencial\n"
   ]
  },
  {
   "cell_type": "markdown",
   "id": "4eec4cb7",
   "metadata": {
    "slideshow": {
     "slide_type": "slide"
    }
   },
   "source": [
    "# Distribución de probabilidad continua uniforme\n"
   ]
  },
  {
   "cell_type": "markdown",
   "id": "2bd3761d",
   "metadata": {
    "slideshow": {
     "slide_type": "slide"
    }
   },
   "source": [
    "## Descripción\n",
    "Se trata de una función de densidad \"plana\", es decir, la probabilidad se reparte uniformemente en todo el rango de la variable aleatoria continua\n",
    "\n",
    "<center>\n",
    "    <img src=\"figures/uniform-2.gif\" width=\"500\"/>\n",
    "</center>"
   ]
  },
  {
   "cell_type": "markdown",
   "id": "14f70eef",
   "metadata": {
    "slideshow": {
     "slide_type": "subslide"
    }
   },
   "source": [
    "Sea $X$ una variable aleatoria continua en el intervalo $[A,B]$. Si la variable tiene una distribución uniforme, entonces su función de densidad es:\n",
    "\n",
    "\\begin{split}\n",
    "    f(x) = \\Bigg\\{\n",
    "    \\begin{array}{ c c }\n",
    "    \\frac{1}{B-A},  & \\quad \\textrm{if } A \\leq x \\leq B \\\\\n",
    "    0,                & \\quad \\textrm{elsewhere}\n",
    "  \\end{array}\n",
    "\\end{split}\n",
    "\n",
    "<center>\n",
    "    <img src=\"figures/uniform-1.png\" width=\"500\"/>\n",
    "</center>"
   ]
  },
  {
   "cell_type": "markdown",
   "id": "4e41ac23",
   "metadata": {
    "slideshow": {
     "slide_type": "slide"
    }
   },
   "source": [
    "## Algunas propiedades\n",
    "a) La media de la distribución uniforme es:\n",
    "\n",
    "\\begin{align}\n",
    "    \\mu = \\frac{A+B}{2}\n",
    "\\end{align}\n",
    "\n",
    "b) La varianza de la distribución uniforme es:\n",
    "\n",
    "\\begin{align}\n",
    "    \\sigma^{2} = \\frac{(B-A)^2}{12}\n",
    "\\end{align}"
   ]
  },
  {
   "cell_type": "markdown",
   "id": "fa8016ca",
   "metadata": {
    "slideshow": {
     "slide_type": "slide"
    }
   },
   "source": [
    "# Distribución de probabilidad continua normal\n"
   ]
  },
  {
   "cell_type": "markdown",
   "id": "18880d8a",
   "metadata": {
    "slideshow": {
     "slide_type": "slide"
    }
   },
   "source": [
    "## Motivación\n",
    "Es la distribución de probabilidad más importante en todo el campo de la estadística.\n",
    "\n",
    "La distribución normal describe de manera aproximada muchos fenómenos de la naturaleza, industria e investigación.\n",
    "\n",
    "También se conoce como distribución gaussiana en honor a Karl Friedrich Gauss.\n",
    "\n",
    "<center>\n",
    "    <img src=\"figures/normal-1.png\" width=\"500\"/>\n",
    "</center>\n"
   ]
  },
  {
   "cell_type": "markdown",
   "id": "3dc8a8c2",
   "metadata": {
    "slideshow": {
     "slide_type": "subslide"
    }
   },
   "source": [
    "Algunas variables que siguen (o deberían seguir) aproximadamente una distribución normal:\n",
    "- La altura de la población\n",
    "- Las notas de un grupo de estudiantes\n",
    "- Errores de instrumentos de medición\n",
    "- La presión sanguinea\n",
    "\n",
    "<center>\n",
    "    <img src=\"figures/normal-2.png\" width=\"700\"/>\n",
    "</center>\n",
    "    "
   ]
  },
  {
   "cell_type": "markdown",
   "id": "d558db1e",
   "metadata": {
    "slideshow": {
     "slide_type": "slide"
    }
   },
   "source": [
    "## Distribución normal\n",
    "Una variable aleatoria continua $X$ que sigue una distribución normal se llama variable aleatoria normal.\n",
    "\n",
    "Su distribución de probabilidad depende únicamente de su media $\\mu$ y su desviación estándar $\\sigma$.\n",
    "\n",
    "Su función de densidad se denota $n(x; \\mu, \\sigma)$ y es igual a:\n",
    "\n",
    "\\begin{align}\n",
    "    n(x; \\mu, \\sigma) = \\frac{1}{\\sigma \\sqrt{2 \\pi}} \\text{exp} \\left(- \\frac{1}{2 \\sigma^2} (x-\\mu)^2  \\right), \\quad -\\infty < x < \\infty\n",
    "\\end{align}"
   ]
  },
  {
   "cell_type": "markdown",
   "id": "25fb86da",
   "metadata": {
    "slideshow": {
     "slide_type": "subslide"
    }
   },
   "source": [
    "**Curvas normales para diferentes $\\mu$ y $\\sigma$:**\n",
    "<center>\n",
    "    <img src=\"figures/normal-4.png\" width=\"1000\"/>\n",
    "</center>"
   ]
  },
  {
   "cell_type": "markdown",
   "id": "aeaaa252",
   "metadata": {
    "slideshow": {
     "slide_type": "subslide"
    }
   },
   "source": [
    "**Propiedades de la curva normal**:\n",
    "1. La moda, correspondiente al punto máximo de la curva, ocurre en $x = \\mu$\n",
    "2. La curva es simétrica con respecto a un eje vertical a través de la media $\\mu$\n",
    "3. La curva tiene puntos de inflexión en $x = \\mu \\pm \\sigma$\n",
    "4. Se aproxima de manera asintótica al eje horizontal para ambos lados\n",
    "5. El área entre la curva y el eje horizontal es igual a uno"
   ]
  },
  {
   "cell_type": "markdown",
   "id": "35d8dba9",
   "metadata": {
    "slideshow": {
     "slide_type": "slide"
    }
   },
   "source": [
    "## Cálculo de probabilidades\n",
    "\n",
    "Como para cualquier función de densidad, el área bajo la curva en cierto rango representa la probabilidad que la variable tome un valor dentro de ese rango.\n",
    "\n",
    "\\begin{align}\n",
    "    P(x_1 < X < x_2) = \\int_{x_1}^{x_2} n(x; \\mu, \\sigma) dx = \\frac{1}{\\sqrt{2 \\pi \\sigma}} \\int_{x_1}^{x_2}  \\text{exp} \\left(- \\frac{1}{2 \\sigma^2} (x-\\mu)^2  \\right) dx\n",
    "\\end{align}\n",
    "\n",
    "<center>\n",
    "    <img src=\"figures/normal-5.png\" width=\"500\"/>\n",
    "</center>\n",
    "\n",
    "Ya que la integral no es trivial de resolver, se suelen calcular las probabilidades mediante un cambio de variables y el uso de tablas estandarizadas."
   ]
  },
  {
   "cell_type": "markdown",
   "id": "471e73ea",
   "metadata": {
    "slideshow": {
     "slide_type": "subslide"
    }
   },
   "source": [
    "Se define la variable aleatoria normal $Z$ con media $\\mu=0$ y desviación estándar $\\sigma = 1$ como sigue:\n",
    "\n",
    "\\begin{align}\n",
    "    Z = \\frac{X-\\mu}{\\sigma}\n",
    "\\end{align}\n",
    "\n",
    "La distribución de $Z$ se denota $n(z;0,1)$ y se conoce como **distribución normal estándar**. Sus valores de área bajo la curva (probabilidad) se puede obtener desde tablas.\n",
    "\n",
    "Además, se puede demostrar que:\n",
    "\n",
    "\\begin{align}\n",
    "    P(x_1 < X < x_2) = P(z_1 < Z < z_2)\n",
    "\\end{align}\n"
   ]
  },
  {
   "cell_type": "markdown",
   "id": "d2d9a632",
   "metadata": {
    "slideshow": {
     "slide_type": "slide"
    }
   },
   "source": [
    "**Ejemplo 1**: La siguiente tabla muestra áreas bajo la curva de la distribución normal estándar en el rango $(-\\infty, z)$, donde la columna corresponde a la unidad y décima de $z$ y la fila corresponde a la centésima.\n",
    "\n",
    "<br><center>\n",
    "    <img src=\"figures/norm-table-3.png\" width=\"1000\"/>\n",
    "</center>\n",
    "\n",
    "La probabilidad que $z \\in [0.2, 0.41]$ sería igual a:\n",
    "\n",
    "\\begin{align}\n",
    "    P(0.2 < Z < 0.41) = P(Z < 0.41) - P(Z < 0.2) = 0.6591 - 0.5793 = 0.0798\n",
    "\\end{align}\n",
    "\n",
    "\n"
   ]
  },
  {
   "cell_type": "markdown",
   "id": "2229fb47",
   "metadata": {
    "slideshow": {
     "slide_type": "slide"
    }
   },
   "source": [
    "**Ejemplo 2**: Dada una variable aleatoria $X$ que tiene distribución normal con $\\mu = 50$ y $\\sigma = 10$, calcular la probabilidad que $X$ tome un valor entre $x_1 = 45$ y $x_2 = 62$.\n",
    "\n",
    "Primero expresamos los valores de $X$ en función una variable normal estándar $Z$ como sigue:\n",
    "\n",
    "\\begin{align}\n",
    "    z_1 & = \\frac{45-50}{10}=-0.5 &\n",
    "    z_2 & = \\frac{62-50}{10}=1.2\n",
    "\\end{align}\n",
    "\n",
    "Por lo tanto se cumple que:\n",
    "\n",
    "\\begin{align}\n",
    "    P(45 < X < 62) = P(-0.5 < Z < 1.2)\n",
    "\\end{align}"
   ]
  },
  {
   "cell_type": "markdown",
   "id": "b9b451cc",
   "metadata": {
    "slideshow": {
     "slide_type": "subslide"
    }
   },
   "source": [
    "Vamos a revisar las tablas de valores para los valores de $Z$ que se requieren:\n",
    "\n",
    "<center>\n",
    "    <img src=\"figures/norm-table-5.png\" width=\"900\"/>\n",
    "</center>\n",
    "\n",
    "Observamos que $P(Z<-0.5) = 0.3085$ y que $P(Z<1.2) = 0.8849$\n",
    "\n",
    "Por lo tanto:\n",
    "\n",
    "\\begin{align}\n",
    "    P(-0.5 < Z < 1.2) = P(Z<1.2) - P(Z<-0.5) = 0.8849 - 0.3085 = 0.5764\n",
    "\\end{align}\n",
    "\n",
    "Es decir, para la variable original $X$ se tiene que:\n",
    "\n",
    "\\begin{align}\n",
    "    P(45 < X < 62) = P(-0.5 < Z < 1.2) = 0.5764\n",
    "\\end{align}\n"
   ]
  },
  {
   "cell_type": "markdown",
   "id": "87d521ac",
   "metadata": {
    "slideshow": {
     "slide_type": "slide"
    }
   },
   "source": [
    "**Ejemplo 3**: Dada una variable aleatoria $X$ que tiene distribución normal con $\\mu = 40$ y $\\sigma = 6$, calcular el valor $x$ tal que la probabilidad que $P(X \\leq x)$ sea aproximadamente 0.45.\n",
    "\n",
    "Primero revisamos las tablas para encontrar un valor $z$ tal que $P(Z \\leq z) \\approx 0.45$\n",
    "\n",
    "<center>\n",
    "    <img src=\"figures/norm-table-7.png\" width=\"1100\"/>\n",
    "</center>\n",
    "\n",
    "El valor más cercano que ofrece $P(Z \\leq z) \\approx 0.45$ es $z=-0.13$. \n",
    "\n",
    "Ahora debemos encontrar el valor de $x$ que corresponde a este valor de $z$, ya que se cumple que:\n",
    "\n",
    "\\begin{align}\n",
    "    P(X \\leq x) = P(Z \\leq z)\n",
    "\\end{align}\n"
   ]
  },
  {
   "cell_type": "markdown",
   "id": "800f4651",
   "metadata": {
    "slideshow": {
     "slide_type": "subslide"
    }
   },
   "source": [
    "A partir de la definición para la variable normal estándar $Z$ obtenemos el valor correspondiente para la variable normal original $X$:\n",
    "\n",
    "\\begin{align}\n",
    "    Z & = \\frac{X-\\mu}{\\sigma} &\n",
    "    & \\rightarrow &\n",
    "    X & = \\sigma Z + \\mu\n",
    "\\end{align}\n",
    "\n",
    "Por lo tanto, el valor $x$ para que que $P(X \\leq x)$ sea aproximadamente 0.45 es:\n",
    "\n",
    "\\begin{align}\n",
    "    x = \\sigma z + \\mu = 6 (-0.13) + 40 = 39.22\n",
    "\\end{align}\n"
   ]
  },
  {
   "cell_type": "markdown",
   "id": "dfb288a6",
   "metadata": {
    "slideshow": {
     "slide_type": "slide"
    }
   },
   "source": [
    "## Relación con la distribución binomial\n",
    "\n",
    "La distribución binomial se aproxima a la distribución normal cuando la cantidad $n$ es suficientemente grande. Esto también ocurre para otras distribuciones discretas que adoptan forma de \"campana\".\n",
    "\n",
    "<center>\n",
    "    <img src=\"figures/normal-6.png\" width=\"500\"/>\n",
    "</center>\n",
    "\n",
    "En el **ejemplo** siguiente se estudia el experimento binomial de lanzar $n$ monedas y observar como variable $X$ el número de caras obtenidas (una cara = un éxito)"
   ]
  },
  {
   "cell_type": "code",
   "execution_count": 4,
   "id": "a0d11450",
   "metadata": {
    "slideshow": {
     "slide_type": "subslide"
    }
   },
   "outputs": [
    {
     "data": {
      "image/png": "[encoded data removed]",
      "text/plain": [
       "<Figure size 640x480 with 1 Axes>"
      ]
     },
     "metadata": {},
     "output_type": "display_data"
    }
   ],
   "source": [
    "import numpy as np\n",
    "from math import comb\n",
    "import matplotlib.pyplot as plt\n",
    "\n",
    "p = 0.5\n",
    "n = 100\n",
    "x = np.arange(n+1)\n",
    "\n",
    "b = [ comb(n, x[i])*(p**x[i])*((1- p)**(n-x[i])) for i in range(n+1)]  \n",
    "plt.bar(x, b), plt.xlabel('número caras'), plt.ylabel('probabilidad')\n",
    "plt.show()"
   ]
  },
  {
   "cell_type": "markdown",
   "id": "9aeb68f5",
   "metadata": {
    "slideshow": {
     "slide_type": "slide"
    }
   },
   "source": [
    "# Distribución de probabilidad continua gamma"
   ]
  },
  {
   "cell_type": "markdown",
   "id": "8594882f",
   "metadata": {
    "slideshow": {
     "slide_type": "slide"
    }
   },
   "source": [
    "## Motivación\n",
    "La distribución gamma tiene muchas aplicaciones en ingeniería, especialmente en el tema de confiabilidad de equipos, máquinas o componentes.\n",
    "\n",
    "Su nombre proviene de la **función gamma** definida por:\n",
    "\n",
    "\\begin{align}\n",
    "    \\Gamma(\\alpha) = \\int_{0}^{\\infty} x^{\\alpha - 1} e^{-x} dx, \\quad \\alpha > 0 \n",
    "\\end{align}\n",
    "\n",
    "Algunas propiedades de esta función son:\n",
    "\n",
    "\\begin{align}\n",
    "    \\Gamma(\\alpha) = (\\alpha-1)\\Gamma(\\alpha - 1), \\quad \\alpha > 0 \n",
    "\\end{align}\n",
    "\n",
    "\\begin{align}\n",
    "    \\Gamma(n) = (n-1)!, \\quad n = 1, 2, 3, ...\n",
    "\\end{align}\n",
    "\n",
    "\\begin{align}\n",
    "    \\Gamma(1) & = 1 &\n",
    "    \\Gamma(1/2) & = \\sqrt{\\pi}\n",
    "\\end{align}"
   ]
  },
  {
   "cell_type": "markdown",
   "id": "e1138590",
   "metadata": {
    "slideshow": {
     "slide_type": "slide"
    }
   },
   "source": [
    "## Distribución gamma\n",
    "La variable aleatoria continua $X$ tiene una distribución gamma con parámetros $\\alpha$ y $\\beta$ si su función de densidad está dada por:\n",
    "\n",
    "\\begin{split}\n",
    "    f(x;\\alpha,\\beta) = \\Bigg\\{\n",
    "    \\begin{array}{ c c }\n",
    "    \\beta^{-\\alpha} \\Gamma(\\alpha)^{-1} x^{\\alpha-1} e^{-x/\\beta},  & \\quad x > 0 \\\\\n",
    "    0,                & \\quad \\textrm{elsewhere}\n",
    "  \\end{array}\n",
    "\\end{split}\n",
    "\n",
    "<center>\n",
    "    <img src=\"figures/gamma-2.png\" width=\"600\"/>\n",
    "</center>"
   ]
  },
  {
   "cell_type": "markdown",
   "id": "a6e8e011",
   "metadata": {
    "slideshow": {
     "slide_type": "subslide"
    }
   },
   "source": [
    "## Distribución exponencial\n",
    "\n",
    "Para el caso particular donde $\\alpha = 1$ esta distribución gamma pasa a llamarse **distribución exponencial**:\n",
    "\n",
    "\\begin{split}\n",
    "    f(x;\\beta) = \\Bigg\\{\n",
    "    \\begin{array}{ c c }\n",
    "    \\beta^{-1} e^{-x/\\beta},  & \\quad x > 0 \\\\\n",
    "    0,                & \\quad \\textrm{elsewhere}\n",
    "  \\end{array}\n",
    "\\end{split}\n",
    "\n",
    "Se puede modelar el tiempo $X$ hasta que ocurra determinado evento considerando $\\beta$ como el tiempo promedio entre eventos.\n",
    "\n",
    "En este caso la distribución exponencial se relaciona con la distribución de Poisson al considerar $\\lambda t = 1 / \\beta$."
   ]
  },
  {
   "cell_type": "markdown",
   "id": "d8a67f5f",
   "metadata": {
    "slideshow": {
     "slide_type": "subslide"
    }
   },
   "source": [
    "**Ejemplo**: El tiempo antes de fallar de un componente mecánico está dado por la variable aleatoria $T$. Se modela mediante la distribución exponencial con tiempo medio de operación igual a 5 años. Si hay 4 componentes en diferentes sistemas, ¿cuál es la probabilidad que luego de 8 años al menos 2 aún funcionen?\n",
    "\n",
    "<center>\n",
    "    <img src=\"figures/gears.jpg\" width=\"400\"/>\n",
    "</center>\n",
    "\n",
    "Primero calculamos la probabilidad que un componente siga funcionando luego de 8 años mediante la distribución exponencial con $\\beta = 5$:\n",
    "\n",
    "\\begin{align}\n",
    "    P(T > 8) = \\int_{8}^{\\infty} f(x) dx = \\frac{1}{5} \\int_{8}^{\\infty} e^{-t/5} dt \\approx 0.2\n",
    "\\end{align}"
   ]
  },
  {
   "cell_type": "markdown",
   "id": "eed52b55",
   "metadata": {
    "slideshow": {
     "slide_type": "subslide"
    }
   },
   "source": [
    "La probabilidad que un componente dure más de 8 años es 0.2. Necesitamos que de los 4 componentes, al menos 2 duren más de 8 años.\n",
    "\n",
    "Sea $X$ el número de componentes que aún funcionan luego de 8 años. \n",
    "\n",
    "Modelamos $X$ mediante una distribución binomial, ya que necesitamos al menos 2 éxitos ($X \\geq 2$) de un total de 4 experimentos ($n=4$) para los cuales hay probabilidad de éxito 0.2 ($p=0.2$)\n",
    "\n",
    "La distribución binomial viene dada por:\n",
    "\n",
    "\\begin{align}\n",
    "    P(X \\geq 2) = \\sum_{x=2}^{4} b(x;4,0.2) = \\sum_{x=2}^{4} {}_{n}C_{x} (0.2)^{x} (0.8)^{4-x}\n",
    "\\end{align}\n",
    "\n",
    "\\begin{align}\n",
    "    P(X \\geq 2) = {}_{4}C_{2} (0.2)^{2} (0.8)^{4-2} + {}_{4}C_{3} (0.2)^{3} (0.8)^{4-3} + {}_{4}C_{4} (0.2)^{4} (0.8)^{4-4} = 0.1808\n",
    "\\end{align}"
   ]
  },
  {
   "cell_type": "markdown",
   "id": "49d0a0a4",
   "metadata": {
    "slideshow": {
     "slide_type": "slide"
    }
   },
   "source": [
    "# Sumario\n",
    "- La distribución uniforme considera que las probabilidades son parejas para todo el rango de la variable aleatoria.\n",
    "- La distribución normal tienen diferentes aplicaciones en la vida cotideana y considera que las probabilidades se reparten en forma de campana alrededor de la media.\n",
    "- Las distribuciones gamma y exponcial tienen aplicación en temas de confiabilidad y considera que las probabilidades van disminuyendo a valores más grandes."
   ]
  }
 ],
 "metadata": {
  "celltoolbar": "Slideshow",
  "kernelspec": {
   "display_name": "Python 3 (ipykernel)",
   "language": "python",
   "name": "python3"
  },
  "language_info": {
   "codemirror_mode": {
    "name": "ipython",
    "version": 3
   },
   "file_extension": ".py",
   "mimetype": "text/x-python",
   "name": "python",
   "nbconvert_exporter": "python",
   "pygments_lexer": "ipython3",
   "version": "3.11.5"
  }
 },
 "nbformat": 4,
 "nbformat_minor": 5
}
