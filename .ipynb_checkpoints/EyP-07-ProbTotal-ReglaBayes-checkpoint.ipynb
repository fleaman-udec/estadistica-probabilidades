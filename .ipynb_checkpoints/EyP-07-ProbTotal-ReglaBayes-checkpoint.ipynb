{
 "cells": [
  {
   "cell_type": "markdown",
   "id": "b7527c96",
   "metadata": {
    "slideshow": {
     "slide_type": "slide"
    }
   },
   "source": [
    "# Módulo: Teoría de Probabilidades\n",
    "## Probabilidad total\n",
    "## Regla de Bayes"
   ]
  },
  {
   "cell_type": "markdown",
   "id": "cef4b922",
   "metadata": {
    "slideshow": {
     "slide_type": "slide"
    }
   },
   "source": [
    "# Objetivos de la clase\n",
    "- Conocer y comprender los teoremas de probabilidad total y de Bayes.\n",
    "- Aplicar estos teoremas a casos prácticos.\n"
   ]
  },
  {
   "cell_type": "markdown",
   "id": "e9f020e3",
   "metadata": {
    "slideshow": {
     "slide_type": "slide"
    }
   },
   "source": [
    "# Ejemplo introductorio\n",
    "Supongamos los siguientes datos respecto de los adultos de un pequeño pueblo:\n",
    "\n",
    "| Edad | Empleado | Desempleado | Total |\n",
    "| --- | --- | --- |  --- |\n",
    "| 30 a 50 | 460 | 40 |  500 |\n",
    "| 50 a 70 | 140 | 260 |  400 |\n",
    "| **Total** | **600** | **300** |  **900** |\n",
    "\n",
    "Ademas suponemos que 36 de los empleados y 12 de los desempleados son miembros del club de caza del pueblo. Queremos encontrar la probabilidad del evento $A$ en que al elegir una persona al azar se elija un miembro del club de caza, pero usaremos un enfoque diferente.\n",
    "\n",
    "Denotando como $E$ al evento de elegir una persona empleada, podemos escribir el evento $A$ como la unión de dos eventos mutuamente excluyentes:\n",
    "\n",
    "\\begin{align}\n",
    "    A = (A \\cap E) \\cup (A \\cap E') \n",
    "\\end{align}\n"
   ]
  },
  {
   "cell_type": "markdown",
   "id": "6a76e0f9",
   "metadata": {
    "slideshow": {
     "slide_type": "subslide"
    }
   },
   "source": [
    "Luego, podemos expresar la probabilidad de $A$ como:\n",
    "\n",
    "\\begin{align}\n",
    "    P(A) = P[(A \\cap E) \\cup (A \\cap E') ] = P(A \\cap E) + P(A \\cap E') = P(E) P(A|E) + P(E') P(A|E')\n",
    "\\end{align}\n",
    "\n",
    "A partir de los datos podemos calcular las probabilidades:\n",
    "\n",
    "\\begin{align}\n",
    "    P(E) & = \\frac{600}{900} = \\frac{2}{3} &\n",
    "    P(A|E) & = \\frac{36}{600} = \\frac{3}{50}\n",
    "\\end{align}\n",
    "\n",
    "Además:\n",
    "\\begin{align}\n",
    "    P(E') & = \\frac{1}{3} &\n",
    "    P(A|E') & = \\frac{12}{300} = \\frac{1}{25}\n",
    "\\end{align}\n",
    "\n",
    "Entonces la probabilidad del evento $A$ es:\n",
    "\n",
    "\\begin{align}\n",
    "    P(A) = \\left(\\frac{2}{3}\\right) \\left(\\frac{3}{50}\\right) + \\left(\\frac{1}{3}\\right)\\left(\\frac{1}{25}\\right) = \\frac{4}{75}\n",
    "\\end{align}"
   ]
  },
  {
   "cell_type": "markdown",
   "id": "8a297fd3",
   "metadata": {
    "slideshow": {
     "slide_type": "slide"
    }
   },
   "source": [
    "# Teorema de probabilidad total\n",
    "- El ejemplo anterior ilustra cómo es posible calcular la probabilidad de un evento a partir de particiones en el espacio muestral.\n",
    "\n",
    "- Una **partición** son todas aquellas divisiones mutuamente excluyentes y colectivamente exhaustivas que se pueden realizar sobre un espacio muestral.\n",
    "\n",
    "<center>\n",
    "    <img src=\"figures/prob-total-2.png\" width=\"400\"/>\n",
    "</center>"
   ]
  },
  {
   "cell_type": "markdown",
   "id": "d58fc28c",
   "metadata": {
    "slideshow": {
     "slide_type": "slide"
    }
   },
   "source": [
    "De manera generalizada, sean $B_1, B_2, ... B_n$ eventos que forman una partición de $S$ tales que $P(B_i) \\neq 0$, entonces para cualquier evento $A$ dentro de $S$ se cumple que:\n",
    "\n",
    "\\begin{align}\n",
    "    P(A) = \\sum_{i=1}^{n} P(A \\cap B_i) = \\sum_{i=1}^{n} P(B_i) P(A|B_i)\n",
    "\\end{align}\n",
    "\n",
    "<center>\n",
    "    <img src=\"figures/prob-total-3.png\" width=\"400\"/>\n",
    "</center>"
   ]
  },
  {
   "cell_type": "markdown",
   "id": "25a3b4ef",
   "metadata": {
    "slideshow": {
     "slide_type": "subslide"
    }
   },
   "source": [
    "**Ejemplo**: Tres máquinas de una planta, llamadas $B_1$, $B_2$ y $B_3$, fabrican el 30\\%, 45\\% y 25\\% de los productos, respectivamente. Por experiencia se sabe que el 2\\%, 3\\% y 2\\% de los productos fabricados por cada máquina, respectivamente, tienen defectos. Suponga que se selecciona al azar un producto terminado. ¿Cuál es la probabilidad de que esté defectuoso?\n",
    "\n",
    "\\begin{align}\n",
    "    P(A) = P(B_1) P(A|B_1) + P(B_2) P(A|B_2) + P(B_3) P(A|B_3) \\\\ \n",
    "    P(A) = (0.3)(0.02) + (0.45)(0.03) + (0.25)(0.02) = 0.0245\n",
    "\\end{align}\n",
    "\n",
    "<br>\n",
    "<center>\n",
    "    <img src=\"figures/machine-1.jpg\" width=\"500\"/>\n",
    "</center>"
   ]
  },
  {
   "cell_type": "markdown",
   "id": "31a4cbbe",
   "metadata": {
    "slideshow": {
     "slide_type": "slide"
    }
   },
   "source": [
    "# Regla de Bayes\n",
    "- Considere el problema de obtener la probabilidad condicional $P(B_r|A)$ en vez de la probabilidad total $P(A)$.\n",
    "\n",
    "- En este caso se aplica la denominada regla de Bayes, siendo $B_1, B_2, ... B_n$ una partición de $S$ y $A$ un evento en $S$:\n",
    "\n",
    "\\begin{align}\n",
    "    P(B_r|A) = \\frac{P(A \\cap B_r)}{\\sum_{i=1}^{n} P(A \\cap B_i) } = \\frac{P(B_r) P(A|B_r)}{\\sum_{i=1}^{n} P(B_i) P(A|B_i) }\n",
    "\\end{align}\n",
    "\n",
    "- Notar que la regla de Bayes \"cambia\" una probabilidad condicional $P(B|A)$ por la otra probabilidad condicional $P(A|B)$\n",
    "\n"
   ]
  },
  {
   "cell_type": "markdown",
   "id": "d0cf88c6",
   "metadata": {
    "slideshow": {
     "slide_type": "subslide"
    }
   },
   "source": [
    "**Ejemplo**: En referencia al ejemplo anterior, se elige un producto al azar y resulta defectuoso. ¿Cuál es la probabilidad que se haya fabricado con la máquina $B_3$?\n",
    "\n",
    "\\begin{align}\n",
    "    P(B_3|A) = \\frac{P(B_3) P(A|B_3)}{ P(B_1) P(A|B_1) + P(B_2) P(A|B_2) + P(B_3) P(A|B_3) } \\\\ \n",
    "    P(B_3|A) = \\frac{(0.25) (0.02)}{ (0.3) (0.02) + (0.45) (0.03) + (0.25) (0.02) } = 0.2041 \\\\ \n",
    "\\end{align}\n",
    "\n",
    "<br>\n",
    "<center>\n",
    "    <img src=\"figures/machine-2.jpg\" width=\"500\"/>\n",
    "</center>"
   ]
  },
  {
   "cell_type": "markdown",
   "id": "82b5976d",
   "metadata": {
    "slideshow": {
     "slide_type": "slide"
    }
   },
   "source": [
    "# Ejercicios"
   ]
  },
  {
   "cell_type": "markdown",
   "id": "2c984bcd",
   "metadata": {
    "slideshow": {
     "slide_type": "slide"
    }
   },
   "source": [
    "**Ejercicio 1**: una tienda de pinturas vende pinturas al agua y al aceite. La probabilidad que un cliente compre pintura al aceite es 0.75. De los que compran pintura al aceite, el 60\\% también compra rodillos. Sin embargo, solo el 30\\% de los que compran pintura al agua compra rodillos. Se selecciona al azar un cliente que compra un rodillo y pintura, ¿cuál es la probabilidad que sea pintura al aceite?\n",
    "\n",
    "<br>\n",
    "<center>\n",
    "    <img src=\"figures/pinturas-1.png\" width=\" 600\"/>\n",
    "</center>"
   ]
  },
  {
   "cell_type": "markdown",
   "id": "c1f56acf",
   "metadata": {
    "slideshow": {
     "slide_type": "subslide"
    }
   },
   "source": [
    "Datos: \n",
    "- Prob. de comprar pintura al aceite: $P(C) = 0.75$\n",
    "- Prob. de comprar pintura al agua: $P(G) = 1 - P(C) = 0.25$\n",
    "- Prob. de comprar rodillo dado que compró pintura al aceite: $P(R|C) = 0.6$\n",
    "- Prob. de comprar rodillo dado que compró pintura al agua: $P(R|G) = 0.3$\n",
    "\n",
    "Se busca:\n",
    "- Prob. de comprar pintura al aceite dado que compró rodillo: $P(C|R) = ? $"
   ]
  },
  {
   "cell_type": "markdown",
   "id": "ffa16087",
   "metadata": {
    "slideshow": {
     "slide_type": "subslide"
    }
   },
   "source": [
    "Regla de Bayes:\n",
    "- Notar que la partición del espacio muestral es: pintura al agua ($G$) o pintura al aceite ($C$)\n",
    "- En este caso el comprar un rodillo ($R$) sería un evento cualquiera dentro de $S$\n",
    "\n",
    "\\begin{align}\n",
    "    P(C|R) = \\frac{P(C) P(R|C)}{ P(G) P(R|G) + P(C) P(R|C) }\n",
    "\\end{align}\n",
    "<br>\n",
    "\n",
    "\\begin{align}\n",
    "    P(C|R) = \\frac{(0.75) (0.6)}{ (0.25) (0.3) + (0.75) (0.6) } = 0.857\n",
    "\\end{align}"
   ]
  },
  {
   "cell_type": "markdown",
   "id": "0e43f5da",
   "metadata": {
    "slideshow": {
     "slide_type": "slide"
    }
   },
   "source": [
    "**Ejercicio 2**: En un concurso se elige una de tres puertas para intentar ganar el premio que está detrás de una de ellas. Inicialmente usted elige la puerta A. El presentador del concurso abre la puerta B y muestra que allí no está el premio. Ahora, usted tiene la opción de quedarse con la puerta A o cambiarse a la puerta C. Fundamente su decisión\n",
    "\n",
    "<br>\n",
    "<center>\n",
    "    <img src=\"figures/monty-1.png\" width=\"800\"/>\n",
    "</center>"
   ]
  },
  {
   "cell_type": "markdown",
   "id": "aa4fe8a8",
   "metadata": {
    "slideshow": {
     "slide_type": "subslide"
    }
   },
   "source": [
    "Eventos:\n",
    "- A: el jugador elige inicialmente la puerta que tiene el premio\n",
    "- B: el jugador elige inicialmente la puerta que no tiene el premio\n",
    "- G: el jugador gana el premio\n",
    "\n",
    "\\begin{align}\n",
    "    P(G) = P(G \\cap A) + P(G \\cap B)\n",
    "\\end{align}\n",
    "\n",
    "\\begin{align}\n",
    "    P(G) = P(A) P(G|A) + P(B) P(G|B)\n",
    "\\end{align}\n",
    "\n",
    "\\begin{align}\n",
    "    P(G) = \\frac{1}{3} P(G|A) + \\frac{2}{3} P(G|B)\n",
    "\\end{align}"
   ]
  },
  {
   "cell_type": "markdown",
   "id": "6f5aa94f",
   "metadata": {
    "slideshow": {
     "slide_type": "subslide"
    }
   },
   "source": [
    "Si el jugador **nunca** se cambia de puerta:\n",
    "\n",
    "\\begin{align}\n",
    "    P(G|A) & = 1 & \n",
    "    P(G|B) & = 0\n",
    "\\end{align}\n",
    "\n",
    "Entonces: \n",
    "\n",
    "\\begin{align}\n",
    "    P(G) = \\frac{1}{3} P(G|A) + \\frac{2}{3} P(G|B)\n",
    "\\end{align}\n",
    "\n",
    "\\begin{align}\n",
    "    P(G) = \\frac{1}{3} (1) + \\frac{2}{3} (0) = \\frac{1}{3}\n",
    "\\end{align}"
   ]
  },
  {
   "cell_type": "markdown",
   "id": "0db7b839",
   "metadata": {
    "slideshow": {
     "slide_type": "subslide"
    }
   },
   "source": [
    "Si el jugador **siempre** se cambia de puerta:\n",
    "\n",
    "\\begin{align}\n",
    "    P(G|A) & = 0 & \n",
    "    P(G|B) & = 1\n",
    "\\end{align}\n",
    "\n",
    "Entonces:\n",
    "\n",
    "\\begin{align}\n",
    "    P(G) = \\frac{1}{3} P(G|A) + \\frac{2}{3} P(G|B)\n",
    "\\end{align}\n",
    "\n",
    "\\begin{align}\n",
    "    P(G) = \\frac{1}{3} (0) + \\frac{2}{3} (1) = \\frac{2}{3}\n",
    "\\end{align}\n",
    "\n",
    "¡Entonces es mejor siempre cambiarse de puerta!"
   ]
  },
  {
   "cell_type": "code",
   "execution_count": 14,
   "id": "9955953b",
   "metadata": {
    "slideshow": {
     "slide_type": "subslide"
    }
   },
   "outputs": [
    {
     "name": "stdout",
     "output_type": "stream",
     "text": [
      "Proporción de ganar sin cambiarse de puerta =  0.4\n",
      "Proporción de ganar con cambiarse de puerta =  0.72\n"
     ]
    }
   ],
   "source": [
    "import random\n",
    "\n",
    "def run_trial(switch_doors):    \n",
    "    chosen_door = random.randint(1, 3) # elige una de tres puertas\n",
    "    if switch_doors:\n",
    "        revealed_door = 3 if chosen_door==2 else 2\n",
    "        available_doors = [dnum for dnum in range(1,4) if dnum not in (chosen_door, revealed_door)]                \n",
    "        chosen_door = random.choice(available_doors)\n",
    "    return chosen_door == 1 # se gana al elegir la puerta 1\n",
    "\n",
    "def run_trials(ntrials, switch_doors):\n",
    "    nwins = 0\n",
    "    for i in range(ntrials):\n",
    "        if run_trial(switch_doors):\n",
    "            nwins += 1\n",
    "    return nwins\n",
    " \n",
    "ntrials = 100\n",
    "nwins_without_switch = run_trials(ntrials, False)\n",
    "nwins_with_switch = run_trials(ntrials, True)\n",
    "\n",
    "print('Proporción de ganar sin cambiarse de puerta = ', nwins_without_switch/ntrials)\n",
    "print('Proporción de ganar con cambiarse de puerta = ', nwins_with_switch/ntrials)"
   ]
  },
  {
   "cell_type": "markdown",
   "id": "b9c886d4",
   "metadata": {
    "slideshow": {
     "slide_type": "slide"
    }
   },
   "source": [
    "**Ejercicio 3**: En una región de Chile se sabe que la probabilidad de seleccionar una persona con cáncer es 0.05. Si la probabilidad que un médico diagnostique correctamente a una persona con cáncer es 0.78 y la probabilidad que diagnostique incorrectamente a una persona sin cáncer es 0.06, ¿cuál es la probabilidad de que a una persona se le diagnostique cáncer?\n",
    "\n",
    "<br>\n",
    "<center>\n",
    "    <img src=\"figures/diagnostic-1.jpg\" width=\"500\"/>\n",
    "</center>"
   ]
  },
  {
   "cell_type": "markdown",
   "id": "de99befc",
   "metadata": {
    "slideshow": {
     "slide_type": "subslide"
    }
   },
   "source": [
    "Datos:\n",
    "- Prob. de tener cáncer $P(C)$ = 0.05\n",
    "\n",
    "- Prob. de ser diagnosticado con cáncer teniéndolo $P(D|C)$ = 0.78\n",
    "\n",
    "- Prob. de ser diagnosticado con cáncer sin tenerlo $P(D|N)$ = 0.06\n",
    "\n",
    "Se busca:\n",
    "- Prob. de un diagnóstico de cáncer $P(D)$ = ?"
   ]
  },
  {
   "cell_type": "markdown",
   "id": "d5a07782",
   "metadata": {
    "slideshow": {
     "slide_type": "subslide"
    }
   },
   "source": [
    "Expresamos la probabilidad de un diagnóstico de cáncer ($D$) mediante la partición de eventos mutuamente excluyentes de tener cáncer ($C$) y no tener cáncer ($N$):\n",
    "\n",
    "\\begin{align}\n",
    "    P(D) = P(D \\cap C) +  P(D \\cap N)\n",
    "\\end{align}\n",
    "\n",
    "\\begin{align}\n",
    "    P(D) = P(C)P(D|C) +  P(N) P(D|N)\n",
    "\\end{align}\n",
    "\n",
    "\\begin{align}\n",
    "    P(D) = (0.05) (0.78) +  (0.95) (0.06) = 0.096\n",
    "\\end{align}"
   ]
  },
  {
   "cell_type": "markdown",
   "id": "b6ade3e5",
   "metadata": {
    "slideshow": {
     "slide_type": "slide"
    }
   },
   "source": [
    "# Sumario\n",
    "- El teorema de probabilidad total permite calcular la probabilidad de un evento a partir de particiones en el espacio muestral\n",
    "- La regla de Bayes permite vincular la probabilidad condicional de un evento A dado un evento B, al la probabilidad condicional de un evento B dado el evento A.\n",
    "- La regla de Bayes también tiene gran relevancia en estadística inferencial, tema que trataremos más adelante en el curso."
   ]
  }
 ],
 "metadata": {
  "celltoolbar": "Slideshow",
  "kernelspec": {
   "display_name": "Python 3 (ipykernel)",
   "language": "python",
   "name": "python3"
  },
  "language_info": {
   "codemirror_mode": {
    "name": "ipython",
    "version": 3
   },
   "file_extension": ".py",
   "mimetype": "text/x-python",
   "name": "python",
   "nbconvert_exporter": "python",
   "pygments_lexer": "ipython3",
   "version": "3.9.7"
  }
 },
 "nbformat": 4,
 "nbformat_minor": 5
}
