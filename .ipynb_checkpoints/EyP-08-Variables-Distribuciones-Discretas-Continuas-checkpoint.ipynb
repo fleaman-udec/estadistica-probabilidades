{
 "cells": [
  {
   "cell_type": "markdown",
   "id": "46214b38",
   "metadata": {
    "slideshow": {
     "slide_type": "slide"
    }
   },
   "source": [
    "# Módulo: Distribuciones de Probabilidad\n",
    "## Variables discretas y continuas\n",
    "## Distribuciones de probabilidad discretas y continuas\n",
    "## Distribuciones de probabilidad conjunta"
   ]
  },
  {
   "cell_type": "markdown",
   "id": "66373a33",
   "metadata": {
    "slideshow": {
     "slide_type": "slide"
    }
   },
   "source": [
    "# Objetivos de la clase\n",
    "- Comprender los conceptos de variables aleatorias discretas y continuas.\n",
    "- Definir y comprender la distribuciones de probabilidades discretas y continuas.\n",
    "- Realizar cálculos con funciones de densidad de probabilidad.\n",
    "- Conocer y comprender las distribuciones de probabilidad conjunta."
   ]
  },
  {
   "cell_type": "markdown",
   "id": "494e124d",
   "metadata": {
    "slideshow": {
     "slide_type": "slide"
    }
   },
   "source": [
    "# Variables aleatorias discretas y continuas"
   ]
  },
  {
   "cell_type": "markdown",
   "id": "244d1ad5",
   "metadata": {
    "slideshow": {
     "slide_type": "slide"
    }
   },
   "source": [
    "## Variables aleatorias\n",
    "- Una **variable aleatoria** es una función que asocia un número real con cada elemento del espacio muestral.\n",
    "\n",
    "<center>\n",
    "    <img src=\"figures/random-variable-1.png\" width=\"400\"/>\n",
    "</center>\n",
    "\n",
    "- En el caso que la variable aleatoria tome valores binarios (0 ó 1) se denomina variable aleatoria de **Bernoulli**."
   ]
  },
  {
   "cell_type": "markdown",
   "id": "64d598a4",
   "metadata": {
    "slideshow": {
     "slide_type": "subslide"
    }
   },
   "source": [
    "**Ejemplo**: Se inspeccionan 3 piñones para verificar si presentan alguna falla o no. Si $N$ denota que no hay falla y $F$ denota que hay falla, entonces el espacio muestral corresponde a:\n",
    "\n",
    "\\begin{align}\n",
    "    S = \\{ NNN, NNF, NFF, NFN, FNN, FNF, FFF, FFN \\}\n",
    "\\end{align}\n",
    "\n",
    "Una variable aleatoria $X$ podría corresponder a la cantidad de piñones que presentan falla. En este caso los valores de $X$ podrían ser 0, 1, 2 ó 3.\n",
    "\n",
    "Por ejemplo, para el siguiente evento $E$ la variable $X$ tomará el valor 2 para cada elemento:\n",
    "\n",
    "\\begin{align}\n",
    "    E = \\{ NFF, FNF, FFN \\}\n",
    "\\end{align}\n",
    "\n",
    "<center>\n",
    "    <img src=\"figures/faults-gear-1.png\" width=\"400\"/>\n",
    "</center>\n"
   ]
  },
  {
   "cell_type": "markdown",
   "id": "ebf1949c",
   "metadata": {
    "slideshow": {
     "slide_type": "slide"
    }
   },
   "source": [
    "## Espacio muestral discreto y continuo\n",
    "Un **espacio muestral discreto** tiene un número finito de elementos, o bien un número infinito numerable de elementos.\n",
    "- Ej.: el número que sale al tirar un dado representa a un espacio muestral discreto finito. En este caso: $S = \\{1, 2, 3, 4, 5, 6 \\}$\n",
    "- Ej.: el número veces que se tira un dado hasta sacar 5 es un espacio muestral discreto infinito. En este caso: $S = \\{1, 2, 3 ... 100, 101, ... \\}$\n",
    "    \n",
    "    \n",
    "Un **espacio muestral continuo** contiene un número infinito y no numerable de elementos.\n",
    "- Ej.: los metros que recorren distintos modelos de autos con 5 L de combustible"
   ]
  },
  {
   "cell_type": "markdown",
   "id": "46af6c26",
   "metadata": {
    "slideshow": {
     "slide_type": "slide"
    }
   },
   "source": [
    "## Variables discretas y continuas\n",
    "- Una variable aleatoria es **discreta** si se puede contar su conjunto de resultados posibles.\n",
    "- Una variable aleatoria es **continua** si puede tomar valores a escala continua.\n",
    "- En muchos casos las variables aleatorias representan datos **medidos**, mientras que las variables discretas representan datos **por conteo**.\n",
    "\n",
    "<center>\n",
    "    <img src=\"figures/discrete-continuous-data-1.jpg\" width=\"400\"/>\n",
    "</center>\n",
    "\n"
   ]
  },
  {
   "cell_type": "markdown",
   "id": "f0f06fe6",
   "metadata": {
    "slideshow": {
     "slide_type": "slide"
    }
   },
   "source": [
    "# Distribuciones de probabilidad discretas"
   ]
  },
  {
   "cell_type": "markdown",
   "id": "ea2f49d2",
   "metadata": {
    "slideshow": {
     "slide_type": "slide"
    }
   },
   "source": [
    "## Distribución discreta de probabilidad\n",
    "- La variable aleatoria discreta toma cada uno de sus valores con una cierta probabilidad.\n",
    "- Por ejemplo, al lanzar un dado el valor $x=1$ tiene una probabilidad de $P(X=1) = 1/6$, el valor $x=2$ también tiene probabilidad $P(X=2) = 1/6$, y así sucesivamente.\n",
    "\n",
    "<br><center>\n",
    "    <img src=\"figures/prob-distr-2.png\" width=\"400\"/>\n",
    "</center>"
   ]
  },
  {
   "cell_type": "markdown",
   "id": "38261aa5",
   "metadata": {
    "slideshow": {
     "slide_type": "subslide"
    }
   },
   "source": [
    "El conjunto de pares ordenados $(x, P(X=x))$ se conoce como **función de probabilidad**, **función de masa de probabilidad**, o bien **distribución de probabilidad**.\n",
    "\n",
    "La distribución de probabilidad en un gráfico de barras se denomina histograma de probabilidad.\n",
    "\n",
    "<br><center>\n",
    "    <img src=\"figures/prob-distr-3.png\" width=\"500\"/>\n",
    "</center>"
   ]
  },
  {
   "cell_type": "markdown",
   "id": "95cce7f6",
   "metadata": {
    "slideshow": {
     "slide_type": "subslide"
    }
   },
   "source": [
    "Formalmente, un conjunto de pares ordenados $(x, f(x))$ es una distribución de probabilidad de la variable aleatoria discreta $X$ si para cada resultado $x$ posible:\n",
    "\n",
    "- $f(x) \\geq 0$\n",
    "- $\\sum_{x} f(x) = 1$\n",
    "- $P(X=x) = f(x)$\n",
    "\n",
    "Esto significa que no cualquier función podría ser catalogada como una función de probabilidad"
   ]
  },
  {
   "cell_type": "markdown",
   "id": "512ec92f",
   "metadata": {
    "slideshow": {
     "slide_type": "subslide"
    }
   },
   "source": [
    "**Ejemplo**: La variable $X$ representa el número de caras obtenidas al lanzar 3 veces una moneda. Obtener la distribución de probabilidad para esta variable aleatoria discreta.\n",
    "\n",
    "\\begin{align}\n",
    "    S = \\{ HHH, HHT, HTT, HTH, THH, THT, TTT, TTH \\}\n",
    "\\end{align}\n",
    "\n",
    "Para cada elemento la variable $X$ tomaría respectivamente los valores: $X = \\{ 3, 2, 1, 2, 2, 1, 0, 1 \\}$\n",
    "\n",
    "Entonces la probabilidad de cada valor de $X$ es: \n",
    "\n",
    "| x | f(x) |\n",
    "| --- | --- |\n",
    "| 0 | 1/8 |\n",
    "| 1 | 3/8 |\n",
    "| 2 | 3/8 |\n",
    "| 3 | 1/8 |\n"
   ]
  },
  {
   "cell_type": "markdown",
   "id": "2748da12",
   "metadata": {
    "slideshow": {
     "slide_type": "slide"
    }
   },
   "source": [
    "## Función de distribución acumulativa\n",
    "- En muchos problemas es deseable calcular la probabilidad con que la variable aleatoria tenga un valor menor o igual a un número fijo. \n",
    "- Para estos casos se define la **función de distribución acumulativa** $F(x)$ de una variable discreta $X$ con distribución de probabilidad $f(x)$ como:\n",
    "\n",
    "\\begin{align}\n",
    "    F(x) = P(X \\leq x) = \\sum_{t \\leq x} f(t)\n",
    "\\end{align}\n",
    "\n",
    "<center>\n",
    "    <img src=\"figures/cum-distr-1.jpg\" width=\"300\"/>\n",
    "</center>"
   ]
  },
  {
   "cell_type": "markdown",
   "id": "5690e942",
   "metadata": {
    "slideshow": {
     "slide_type": "subslide"
    }
   },
   "source": [
    "**Ejemplo**: En el mismo ejemplo de lanzar 3 monedas y siendo $X$ la cantidad de caras, obtener la función de distribución acumulativa.\n",
    "\n",
    "Tenemos que la distribución de probabilidad es:\n",
    "\n",
    "| x | f(x) |\n",
    "| --- | --- |\n",
    "| 0 | 1/8 |\n",
    "| 1 | 3/8 |\n",
    "| 2 | 3/8 |\n",
    "| 3 | 1/8 |\n",
    "\n",
    "Entonces para la función de distribución acumulativa se tiene:\n",
    "\n",
    "| x | F(x) |\n",
    "| --- | --- |\n",
    "| 0 | 1/8 |\n",
    "| 1 | 4/8 |\n",
    "| 2 | 7/8 |\n",
    "| 3 | 1 |"
   ]
  },
  {
   "cell_type": "markdown",
   "id": "1993106c",
   "metadata": {
    "slideshow": {
     "slide_type": "slide"
    }
   },
   "source": [
    "# Distribuciones de probabilidad continuas"
   ]
  },
  {
   "cell_type": "markdown",
   "id": "b7d9c155",
   "metadata": {
    "slideshow": {
     "slide_type": "slide"
    }
   },
   "source": [
    "## Distribución de probabilidad continua\n",
    "- Una variable continua tiene una probabilidad 0 de adoptar *exactamente* un valor específico.\n",
    "- Esto se debe a que siempre hay un número infinito de valores que la variable continua puede adoptar en cualquier rango de valores.\n",
    "- Debido a esto, la distribución de probabilidad para variables continuas no se puede expresar de forma tabular, si no que mediante una fórmula $f(x)$\n",
    "\n",
    "<center>\n",
    "    <img src=\"figures/pdf-2.png\" width=\"400\"/>\n",
    "</center>\n"
   ]
  },
  {
   "cell_type": "markdown",
   "id": "09112d9f",
   "metadata": {
    "slideshow": {
     "slide_type": "subslide"
    }
   },
   "source": [
    "- Esta función $f(x)$ se conoce como **función de densidad de probabilidad** o simplemente como **función de densidad** de $X$.\n",
    "- Esta función tiene por objetivo cuantificar la probabilidad de que la variable continua adopte un valor dentro de un rango determinado.\n",
    "\n",
    "<br><center>\n",
    "    <img src=\"figures/pdf-1.jpg\" width=\"500\"/>\n",
    "</center>"
   ]
  },
  {
   "cell_type": "markdown",
   "id": "18254a1e",
   "metadata": {
    "slideshow": {
     "slide_type": "subslide"
    }
   },
   "source": [
    "Formalmente, la función $f(x)$ es una función de densidad de probabilidad para la variable continua $X$ definida en $\\mathbb{R}$ si:\n",
    "\n",
    "- $f(x) \\geq 0 \\quad \\forall x \\in \\mathbb{R}$\n",
    "- $\\int_{-\\infty}^{\\infty} f(x) dx = 1$\n",
    "- $P(a < X < b ) = \\int_{a}^{b} f(x) dx$\n",
    "    \n",
    "Nuevamente no cualquier función puede ser una función de densidad de probabilidad."
   ]
  },
  {
   "cell_type": "markdown",
   "id": "a72b9e01",
   "metadata": {
    "slideshow": {
     "slide_type": "subslide"
    }
   },
   "source": [
    "**Ejemplo**: Suponga que el error en una medición viene dada por la variable aleatoria continua $X$ que tiene función de densidad de probabilidad:\n",
    "\n",
    "\\begin{split}\n",
    "    f(x) = \\Bigg\\{\n",
    "    \\begin{array}{ c c }\n",
    "    \\frac{x^2}{3},  & \\quad \\textrm{if } -1 < x < 2 \\\\\n",
    "    0,                & \\quad \\textrm{elsewhere}\n",
    "  \\end{array}\n",
    "\\end{split}\n",
    "\n",
    "a) Verificar que $f(x)$ es una función de densidad.\n",
    "Evidentemente $f(x) \\geq 0$. Además se cumple que:\n",
    "\n",
    "\\begin{align}\n",
    "    \\int_{-\\infty}^{\\infty} f(x) dx = \\int_{-1}^{2} \\frac{x^2}{3} dx = \\frac{x^3}{9} \\Big|_{-1}^{2} = \\frac{8}{9} + \\frac{1}{9} = 1\n",
    "\\end{align}\n",
    "\n",
    "b) Calcular la probabilidad de que el error esté entre 0 y 1.\n",
    "\n",
    "\\begin{align}\n",
    "    P(0 < X < 1) = \\int_{0}^{1} \\frac{x^2}{3} dx = \\frac{x^3}{9} \\Big|_{0}^{1} = \\frac{1}{9}\n",
    "\\end{align}"
   ]
  },
  {
   "cell_type": "markdown",
   "id": "1ecc0050",
   "metadata": {
    "slideshow": {
     "slide_type": "slide"
    }
   },
   "source": [
    "## Función de distribución acumulativa\n",
    "Para las variables aleatorias continuas se define la función de distribución acumulativa como sigue:\n",
    "\n",
    "\\begin{align}\n",
    "    F(x) = P(X \\leq x) = \\int_{-\\infty}^{x} f(t) dt\n",
    "\\end{align}\n",
    "\n",
    "<center>\n",
    "    <img src=\"figures/cdf-1.png\" width=\"350\"/>\n",
    "</center>\n",
    "\n",
    "Como consecuencia de esta definición se cumple que:\n",
    "\n",
    "\\begin{align}\n",
    "    P(a < X < b) & = F(a) - F(a)\n",
    "    & f(x) & = \\frac{d F(x)}{dx}\n",
    "\\end{align}\n",
    "\n"
   ]
  },
  {
   "cell_type": "markdown",
   "id": "e09417a0",
   "metadata": {
    "slideshow": {
     "slide_type": "subslide"
    }
   },
   "source": [
    "**Ejemplo**: En el ejemplo anterior calcule $F(x)$ y use el resultado para evaluar $P(0<X<1)$\n",
    "\n",
    "\\begin{split}\n",
    "    f(t) = \\Bigg\\{\n",
    "    \\begin{array}{ c c }\n",
    "    \\frac{t^2}{3},  & \\quad \\textrm{if } -1 < t < 2 \\\\\n",
    "    0,                & \\quad \\textrm{elsewhere}\n",
    "  \\end{array}\n",
    "\\end{split}\n",
    "\n",
    "Para $x \\leq -1$:\n",
    "\n",
    "\\begin{align}\n",
    "    F(x) = \\int_{-\\infty}^{x} f(t) dt = \\int_{-\\infty}^{-1} 0 dt = 0\n",
    "\\end{align}\n",
    "\n",
    "Para $-1 < x  <2$:\n",
    "\n",
    "\\begin{align}\n",
    "    F(x) = \\int_{-\\infty}^{x} f(t) dt = \\int_{-\\infty}^{-1} 0 dt +  \\int_{-1}^{x} \\frac{t^2}{3} dt = \\frac{t^3}{9} \\Big|_{-1}^{x} = \\frac{x^3 + 1}{9}\n",
    "\\end{align}"
   ]
  },
  {
   "cell_type": "markdown",
   "id": "2968e4e8",
   "metadata": {
    "slideshow": {
     "slide_type": "subslide"
    }
   },
   "source": [
    "Para $ x \\geq 2$:\n",
    "\n",
    "\\begin{align}\n",
    "    F(x) = \\int_{-\\infty}^{x} f(t) dt = \\int_{-\\infty}^{-1} 0 dt +  \\int_{-1}^{2} \\frac{t^2}{3} dt + \\int_{2}^{x} 0 dt = 1\n",
    "\\end{align}\n",
    "\n",
    "Por lo tanto se tiene que:\n",
    "\n",
    "\\begin{split}\n",
    "    F(x) = \\Bigg\\{\n",
    "    \\begin{array}{ c c }\n",
    "    0,  & \\quad \\textrm{if } x \\leq -1 \\\\\n",
    "    \\frac{x^3 + 1}{9},  & \\quad \\textrm{if } -1 < x < 2 \\\\\n",
    "    1,                & \\quad \\textrm{if } x \\geq 2\n",
    "  \\end{array}\n",
    "\\end{split}\n",
    "\n",
    "La probabilidad $P(0<X<1)$ se calcula como:\n",
    "\n",
    "\\begin{align}\n",
    "    P(0<X<1) = F(1) - F(0) = \\frac{2}{9} - \\frac{1}{9} = \\frac{1}{9}\n",
    "\\end{align}"
   ]
  },
  {
   "cell_type": "markdown",
   "id": "9b822ef8",
   "metadata": {
    "slideshow": {
     "slide_type": "slide"
    }
   },
   "source": [
    "# Distribuciones de probabilidad conjunta"
   ]
  },
  {
   "cell_type": "markdown",
   "id": "1222dae6",
   "metadata": {
    "slideshow": {
     "slide_type": "slide"
    }
   },
   "source": [
    "## Motivación\n",
    "En un experimento estadístico podríamos estar interesados en los resultados de un espacio muestral bidimensional con dos variables.\n",
    "\n",
    "**Ejemplo**: Nos interesa conocer simultáneamente cómo se distribuyen los valores de dureza y resistencia a la tracción en la fabricación de acero laminado\n",
    "\n",
    "<br><center>\n",
    "    <img src=\"figures/steel-1.jpg\" width=\"500\"/>\n",
    "</center>\n"
   ]
  },
  {
   "cell_type": "markdown",
   "id": "05ba2e64",
   "metadata": {
    "slideshow": {
     "slide_type": "slide"
    }
   },
   "source": [
    "## Definición para variables discretas\n",
    "Si $X$ e $Y$ son dos variables aleatorias discretas, la **distribución de probabilidad conjunta** para sus ocurrencias simultáneas se representa con la función:\n",
    "\n",
    "\\begin{align}\n",
    "    f(x,y) = P(X=x, Y=y)\n",
    "\\end{align}\n",
    "\n",
    "**Ejemplo**:\n",
    "\n",
    "| Dureza (HB) | Resistencia (MPa) | Probabilidad f(x,y) |\n",
    "| --- | --- | --- |\n",
    "| 100 | 560 | 0.11 |\n",
    "| 120 | 510 | 0.09 |\n",
    "| 110 | 580 | 0.07 |\n",
    "| 135 | 550 | 0.13 |"
   ]
  },
  {
   "cell_type": "markdown",
   "id": "2293825f",
   "metadata": {
    "slideshow": {
     "slide_type": "subslide"
    }
   },
   "source": [
    "Formalmente, la función $f(x,y)$ es una **distribución de probabilidad conjunta** para las variables discretas $X$ e $Y$ si:\n",
    "\n",
    "\\begin{align}\n",
    "    f(x,y) \\geq 0 \\quad \\forall (x,y)\n",
    "\\end{align}\n",
    "\n",
    "\\begin{align}\n",
    "    \\sum_{x} \\sum_{y} f(x,y) = 1$\n",
    "\\end{align}\n",
    "\n",
    "\\begin{align}\n",
    "    P(X=x, Y=y) = f(x,y)\n",
    "\\end{align}\n",
    "    \n",
    "Nuevamente no cualquier función puede ser una función probabilidad conjunta"
   ]
  },
  {
   "cell_type": "markdown",
   "id": "3c0a21bd",
   "metadata": {
    "slideshow": {
     "slide_type": "slide"
    }
   },
   "source": [
    "## Definición para variables continuas\n",
    "Si $X$ e $Y$ son variables aleatorias continuas, la **función de densidad conjunta** $f(x,y)$ es una superficie sobre el plano $XY$ y $P[(X,Y) \\in A]$, donde $A$ es una región del plano $XY$, se calcula como el volumen entre la región y la superficie.\n",
    "\n",
    "<center>\n",
    "    <img src=\"figures/joint-prob-1.jpg\" width=\"600\"/>\n",
    "</center>"
   ]
  },
  {
   "cell_type": "markdown",
   "id": "4fd1b0dc",
   "metadata": {
    "slideshow": {
     "slide_type": "subslide"
    }
   },
   "source": [
    "Formalmente, la función $f(x,y)$ es una **función de densidad conjunta** para las variables discretas $X$ e $Y$ si:\n",
    "\n",
    "\\begin{align}\n",
    "    f(x,y) \\geq 0 \\quad \\forall (x,y)\n",
    "\\end{align}\n",
    "\n",
    "\\begin{align}\n",
    "    \\int_{-\\infty}^{\\infty} \\int_{-\\infty}^{\\infty} f(x,y) dx dy = 1\n",
    "\\end{align}\n",
    "\n",
    "\\begin{align}\n",
    "    P[(X,Y) \\in A] = \\int \\int_{A} f(x,y) dx dy\n",
    "\\end{align}\n",
    "    \n",
    "Nuevamente no cualquier función puede ser una función probabilidad conjunta"
   ]
  },
  {
   "cell_type": "markdown",
   "id": "0ec0d3b1",
   "metadata": {
    "slideshow": {
     "slide_type": "slide"
    }
   },
   "source": [
    "## Distribuciones marginales\n",
    "Supongamos que dado una distribución de probabilidad conjunta $f(x,y)$ para las variables discretas $X$ e $Y$, nos interesa conocer la distribución de probabilidad solamente para una de ellas.\n",
    "\n",
    "Estas distribuciones se llaman **distribuciones marginales** y se calculan así para el caso discreto:\n",
    "\n",
    "\\begin{align}\n",
    "    g(x) & = \\sum_{y} f(x,y) &\n",
    "    h(y) & = \\sum_{x} f(x,y)\n",
    "\\end{align}\n",
    "\n",
    "Y así para el caso de variables continuas $X$ e $Y$:\n",
    "\n",
    "\\begin{align}\n",
    "    g(x) & = \\int_{-\\infty}^{\\infty} f(x,y) dy &\n",
    "    h(y) & = \\int_{-\\infty}^{\\infty} f(x,y) dx\n",
    "\\end{align}\n"
   ]
  },
  {
   "cell_type": "markdown",
   "id": "b338f62b",
   "metadata": {
    "slideshow": {
     "slide_type": "slide"
    }
   },
   "source": [
    "## Distribuciones condicionales\n",
    "Supongamos que dado una distribución de probabilidad conjunta $f(x,y)$, queremos conocer la probabilidad de que el valor de $X$ esté entre $a$ y $b$ dado algún valor fijo para la variable $Y$.\n",
    "\n",
    "Para esto se definen las distribución condicional de la variable $X$ dado que $Y=y$ como sigue:\n",
    "\n",
    "\\begin{align}\n",
    "   f(x|y) = \\frac{f(x,y)}{h(y)} \\quad \\forall h(y) > 0\n",
    "\\end{align}\n",
    "\n",
    "**Ejemplo**: el la fabricación de aceros, ¿cómo calcular la probabilidad de que la dureza esté entre 100 y 125 HB dado que la resistencia a la tracción es 560 MPa?\n"
   ]
  },
  {
   "cell_type": "markdown",
   "id": "5324cd8f",
   "metadata": {
    "slideshow": {
     "slide_type": "subslide"
    }
   },
   "source": [
    "Usando la definición de distribución condicional, se calcula la probabilidad de que $X \\in [a,b]$ dado que $Y=y$ para el caso discreto como sigue:\n",
    "\n",
    "\\begin{align}\n",
    "   P(a<X<b | Y=y) = \\sum_{x=a}^{b} f(x|y)\n",
    "\\end{align}\n",
    "\n",
    "Y para el caso continuo como sigue:\n",
    "\n",
    "\\begin{align}\n",
    "   P(a<X<b | Y=y) = \\int_{a}^{b} f(x|y) dx\n",
    "\\end{align}\n",
    "\n",
    "Evidentemente estas ecuaciones pueden adaptarse para dejar la variable $X$ fija y calcular la probabilidad que $Y \\in [a,b]$. Para esto se usaría la función marginal $g(x)$ en vez de $h(y)$"
   ]
  },
  {
   "cell_type": "markdown",
   "id": "abf05eb8",
   "metadata": {
    "slideshow": {
     "slide_type": "slide"
    }
   },
   "source": [
    "## Independencia estadística\n",
    "Para el caso de variables independientes se cumple que $f(x|y) = f(x)$ y que  $f(y|x) = f(y)$. Es decir, el resultado de una variable no repercute en la otra y viceversa.\n",
    "\n",
    "Supongamos dos variables aleatorias $X$ e $Y$ (discretas o continuas) con distribución de probabilidad conjunta $f(x,y)$ y distribuciones marginales $g(x)$ y $h(y)$, respectivamente. Ambas variables con estadísticamente independientes si y solo si:\n",
    "\n",
    "\\begin{align}\n",
    "   f(x,y) = g(x) h(y)\n",
    "\\end{align}"
   ]
  },
  {
   "cell_type": "markdown",
   "id": "5fa666fc",
   "metadata": {
    "slideshow": {
     "slide_type": "slide"
    }
   },
   "source": [
    "# Sumario\n",
    "- Las variables aleatorias se pueden dividir en discretas o continuas. Generalmente las discretas se asocian a conteos y las continuas a mediciones.\n",
    "- La distribución de probabilidad representa las probabilidades con que una variable aleatoria adopta sus posibles valores.\n",
    "- Dado las características de las variables continuas, sus distribuciones de probabilidades se expresan en fórmulas y se llaman función de densidad de probabilidad.\n",
    "- La distribución acumulativa de probabilidad representa las probabilidades con que una variable aleatoria adopta un valor menor a un valor específico.\n",
    "- Las distribuciones de probabilidad conjunta expresan cómo simultáneamente varían dos variables aleatorias."
   ]
  }
 ],
 "metadata": {
  "celltoolbar": "Slideshow",
  "kernelspec": {
   "display_name": "Python 3 (ipykernel)",
   "language": "python",
   "name": "python3"
  },
  "language_info": {
   "codemirror_mode": {
    "name": "ipython",
    "version": 3
   },
   "file_extension": ".py",
   "mimetype": "text/x-python",
   "name": "python",
   "nbconvert_exporter": "python",
   "pygments_lexer": "ipython3",
   "version": "3.9.7"
  }
 },
 "nbformat": 4,
 "nbformat_minor": 5
}
