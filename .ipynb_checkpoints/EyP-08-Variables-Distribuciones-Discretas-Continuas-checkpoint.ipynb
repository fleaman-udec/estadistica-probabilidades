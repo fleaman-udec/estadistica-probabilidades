{
 "cells": [
  {
   "cell_type": "markdown",
   "id": "b7443203",
   "metadata": {
    "slideshow": {
     "slide_type": "slide"
    }
   },
   "source": [
    "# Módulo: Distribuciones de Probabilidad\n",
    "## Variables discretas y continuas\n",
    "## Distribuciones de probabilidad discretas y continuas\n",
    "## Distribuciones de probabilidad conjunta"
   ]
  },
  {
   "cell_type": "markdown",
   "id": "3ed06825",
   "metadata": {
    "slideshow": {
     "slide_type": "slide"
    }
   },
   "source": [
    "# Objetivos de la clase\n",
    "- Comprender los conceptos de variables aleatorias discretas y continuas.\n",
    "- Definir y comprender la distribuciones de probabilidades discretas y continuas.\n",
    "- Realizar cálculos con funciones de densidad de probabilidad.\n",
    "- Conocer y comprender las distribuciones de probabilidad conjunta."
   ]
  },
  {
   "cell_type": "markdown",
   "id": "f0be132a",
   "metadata": {
    "slideshow": {
     "slide_type": "slide"
    }
   },
   "source": [
    "# Variables aleatorias discretas y continuas"
   ]
  },
  {
   "cell_type": "markdown",
   "id": "0410b693",
   "metadata": {
    "slideshow": {
     "slide_type": "slide"
    }
   },
   "source": [
    "## Variables aleatorias\n",
    "Una **variable aleatoria** es una función que asocia un número real con cada elemento del espacio muestral.\n",
    "\n",
    "<center>\n",
    "    <img src=\"figures/random-variable-1.png\" width=\"400\"/>\n",
    "</center>\n",
    "\n",
    "En el caso que la variable aleatoria tome valores binarios (0 ó 1) se denomina variable aleatoria de **Bernoulli**."
   ]
  },
  {
   "cell_type": "markdown",
   "id": "144b12ea",
   "metadata": {
    "slideshow": {
     "slide_type": "subslide"
    }
   },
   "source": [
    "**Ejemplo**: Se inspeccionan 3 piñones para verificar si presentan alguna falla o no. Si $N$ denota que no hay falla y $F$ denota que hay falla, entonces el espacio muestral corresponde a:\n",
    "\n",
    "\\begin{align}\n",
    "    S = \\{ NNN, NNF, NFF, NFN, FNN, FNF, FFF, FFN \\}\n",
    "\\end{align}\n",
    "\n",
    "Una variable aleatoria $X$ podría corresponder a la cantidad de piñones que presentan falla. En este caso los valores de $X$ podrían ser 0, 1, 2 ó 3.\n",
    "\n",
    "Por ejemplo, para el siguiente evento $E$ la variable $X$ tomará el valor 2 para cada elemento:\n",
    "\n",
    "\\begin{align}\n",
    "    E = \\{ NFF, FNF, FFN \\}\n",
    "\\end{align}\n",
    "\n",
    "<center>\n",
    "    <img src=\"figures/faults-gear-1.png\" width=\"400\"/>\n",
    "</center>\n"
   ]
  },
  {
   "cell_type": "markdown",
   "id": "242bc357",
   "metadata": {
    "slideshow": {
     "slide_type": "slide"
    }
   },
   "source": [
    "## Espacio muestral discreto y continuo\n",
    "Un **espacio muestral discreto** tiene un número finito de elementos, o bien un número infinito numerable de elementos.\n",
    "- Ej.: el número que sale al tirar un dado representa a un espacio muestral discreto finito. En este caso: $S = \\{1, 2, 3, 4, 5, 6 \\}$\n",
    "- Ej.: el número veces que se tira un dado hasta sacar 5 es un espacio muestral discreto infinito. En este caso: $S = \\{1, 2, 3 ... 100, 101, ... \\}$\n",
    "    \n",
    "    \n",
    "Un **espacio muestral continuo** contiene un número infinito y no numerable de elementos.\n",
    "- Ej.: los metros que recorren distintos modelos de autos con 5 L de combustible"
   ]
  },
  {
   "cell_type": "markdown",
   "id": "0a5cd7fe",
   "metadata": {
    "slideshow": {
     "slide_type": "slide"
    }
   },
   "source": [
    "## Variables discretas y continuas\n",
    "- Una variable aleatoria es **discreta** si se puede contar su conjunto de resultados posibles.\n",
    "- Una variable aleatoria es **continua** si puede tomar valores a escala continua.\n",
    "- En muchos casos las variables aleatorias continuas representan datos **medidos**, mientras que las variables discretas representan datos **por conteo**.\n",
    "\n",
    "<center>\n",
    "    <img src=\"figures/discrete-continuous-data-1.jpg\" width=\"400\"/>\n",
    "</center>\n",
    "\n"
   ]
  },
  {
   "cell_type": "markdown",
   "id": "7b818881",
   "metadata": {
    "slideshow": {
     "slide_type": "slide"
    }
   },
   "source": [
    "# Distribuciones de probabilidad discretas"
   ]
  },
  {
   "cell_type": "markdown",
   "id": "73cfba90",
   "metadata": {
    "slideshow": {
     "slide_type": "slide"
    }
   },
   "source": [
    "## Distribución discreta de probabilidad\n",
    "La variable aleatoria discreta toma cada uno de sus valores con una cierta probabilidad.\n",
    "\n",
    "**Ejemplo**: Al lanzar un dado el valor $x=1$ tiene una probabilidad de $P(X=1) = 1/6$, el valor $x=2$ también tiene probabilidad $P(X=2) = 1/6$, y así sucesivamente.\n",
    "\n",
    "<br><center>\n",
    "    <img src=\"figures/prob-distr-2.png\" width=\"400\"/>\n",
    "</center>"
   ]
  },
  {
   "cell_type": "markdown",
   "id": "f36aea8d",
   "metadata": {
    "slideshow": {
     "slide_type": "subslide"
    }
   },
   "source": [
    "El conjunto de pares ordenados $(x, P(X=x))$ se conoce como **función de probabilidad**, **función de masa de probabilidad**, o bien **distribución de probabilidad**.\n",
    "\n",
    "La distribución de probabilidad en un gráfico de barras se denomina histograma de probabilidad.\n",
    "\n",
    "<br><center>\n",
    "    <img src=\"figures/prob-distr-3.png\" width=\"500\"/>\n",
    "</center>"
   ]
  },
  {
   "cell_type": "markdown",
   "id": "c86966dc",
   "metadata": {
    "slideshow": {
     "slide_type": "subslide"
    }
   },
   "source": [
    "Formalmente, un conjunto de pares ordenados $(x, f(x))$ es una distribución de probabilidad de la variable aleatoria discreta $X$ si para cada resultado $x$ posible:\n",
    "\n",
    "- $f(x) \\geq 0$\n",
    "- $\\sum_{x} f(x) = 1$\n",
    "- $P(X=x) = f(x)$\n",
    "\n",
    "Esto significa que no cualquier función podría ser catalogada como una función de probabilidad"
   ]
  },
  {
   "cell_type": "markdown",
   "id": "79023683",
   "metadata": {
    "slideshow": {
     "slide_type": "subslide"
    }
   },
   "source": [
    "**Ejemplo**: La variable $X$ representa el número de caras obtenidas al lanzar 3 veces una moneda. Obtener la distribución de probabilidad para esta variable aleatoria discreta.\n",
    "\n",
    "\\begin{align}\n",
    "    S = \\{ HHH, HHT, HTT, HTH, THH, THT, TTT, TTH \\}\n",
    "\\end{align}\n",
    "\n",
    "Para cada elemento la variable $X$ tomaría respectivamente los valores: $X = \\{ 3, 2, 1, 2, 2, 1, 0, 1 \\}$\n",
    "\n",
    "Entonces la probabilidad de cada valor de $X$ es: \n",
    "\n",
    "| x | f(x) |\n",
    "| --- | --- |\n",
    "| 0 | 1/8 |\n",
    "| 1 | 3/8 |\n",
    "| 2 | 3/8 |\n",
    "| 3 | 1/8 |\n"
   ]
  },
  {
   "cell_type": "markdown",
   "id": "4696d943",
   "metadata": {
    "slideshow": {
     "slide_type": "slide"
    }
   },
   "source": [
    "## Función de distribución acumulativa\n",
    "En muchos problemas es deseable calcular la probabilidad con que la variable aleatoria tenga un valor menor o igual a un número fijo. \n",
    "\n",
    "Para estos casos se define la **función de distribución acumulativa** $F(x)$ de una variable discreta $X$ con distribución de probabilidad $f(x)$ como:\n",
    "\n",
    "\\begin{align}\n",
    "    F(x) = P(X \\leq x) = \\sum_{t \\leq x} f(t)\n",
    "\\end{align}\n",
    "\n",
    "<center>\n",
    "    <img src=\"figures/cum-distr-1.jpg\" width=\"250\"/>\n",
    "</center>"
   ]
  },
  {
   "cell_type": "markdown",
   "id": "9b60328c",
   "metadata": {
    "slideshow": {
     "slide_type": "subslide"
    }
   },
   "source": [
    "**Ejemplo**: En el mismo ejemplo de lanzar 3 monedas y siendo $X$ la cantidad de caras, obtener la función de distribución acumulativa.\n",
    "\n",
    "Tenemos que la distribución de probabilidad es:\n",
    "\n",
    "| x | f(x) |\n",
    "| --- | --- |\n",
    "| 0 | 1/8 |\n",
    "| 1 | 3/8 |\n",
    "| 2 | 3/8 |\n",
    "| 3 | 1/8 |\n",
    "\n",
    "Entonces para la función de distribución acumulativa se tiene:\n",
    "\n",
    "| x | F(x) |\n",
    "| --- | --- |\n",
    "| 0 | 1/8 |\n",
    "| 1 | 4/8 |\n",
    "| 2 | 7/8 |\n",
    "| 3 | 1 |"
   ]
  },
  {
   "cell_type": "markdown",
   "id": "ca252d82",
   "metadata": {
    "slideshow": {
     "slide_type": "slide"
    }
   },
   "source": [
    "# Distribuciones de probabilidad continuas"
   ]
  },
  {
   "cell_type": "markdown",
   "id": "cf3b2f6f",
   "metadata": {
    "slideshow": {
     "slide_type": "slide"
    }
   },
   "source": [
    "## Distribución de probabilidad continua\n",
    "*Una variable continua tiene una probabilidad 0 de adoptar exactamente un valor específico.*\n",
    "\n",
    "Esto se debe a que siempre hay un número infinito de valores que la variable continua puede adoptar en cualquier rango de valores.\n",
    "\n",
    "Debido a esto, la distribución de probabilidad para variables continuas no se puede expresar de forma tabular, si no que mediante una fórmula $f(x)$\n",
    "\n",
    "<center>\n",
    "    <img src=\"figures/pdf-2.png\" width=\"400\"/>\n",
    "</center>\n"
   ]
  },
  {
   "cell_type": "markdown",
   "id": "f4ff6508",
   "metadata": {
    "slideshow": {
     "slide_type": "subslide"
    }
   },
   "source": [
    "Esta función $f(x)$ se conoce como **función de densidad de probabilidad** o simplemente como **función de densidad** de $X$.\n",
    "\n",
    "Esta función tiene por objetivo cuantificar la probabilidad de que la variable continua adopte un valor dentro de un rango determinado.\n",
    "\n",
    "<br><center>\n",
    "    <img src=\"figures/pdf-1.jpg\" width=\"500\"/>\n",
    "</center>"
   ]
  },
  {
   "cell_type": "markdown",
   "id": "23e11f39",
   "metadata": {
    "slideshow": {
     "slide_type": "subslide"
    }
   },
   "source": [
    "Formalmente, la función $f(x)$ es una función de densidad de probabilidad para la variable continua $X$ definida en $\\mathbb{R}$ si:\n",
    "\n",
    "- $f(x) \\geq 0 \\quad \\forall x \\in \\mathbb{R}$\n",
    "- $\\int_{-\\infty}^{\\infty} f(x) dx = 1$\n",
    "- $P(a < X < b ) = \\int_{a}^{b} f(x) dx$\n",
    "    \n",
    "Nuevamente no cualquier función puede ser una función de densidad de probabilidad."
   ]
  },
  {
   "cell_type": "markdown",
   "id": "fb030479",
   "metadata": {
    "slideshow": {
     "slide_type": "subslide"
    }
   },
   "source": [
    "**Ejemplo**: Suponga que el error en una medición viene dada por la variable aleatoria continua $X$ que tiene función de densidad de probabilidad:\n",
    "\n",
    "\\begin{split}\n",
    "    f(x) = \\Bigg\\{\n",
    "    \\begin{array}{ c c }\n",
    "    \\frac{x^2}{3},  & \\quad \\textrm{if } -1 < x < 2 \\\\\n",
    "    0,                & \\quad \\textrm{elsewhere}\n",
    "  \\end{array}\n",
    "\\end{split}\n",
    "\n",
    "a) Verificar que $f(x)$ es una función de densidad.\n",
    "Evidentemente $f(x) \\geq 0$. Además se cumple que:\n",
    "\n",
    "\\begin{align}\n",
    "    \\int_{-\\infty}^{\\infty} f(x) dx = \\int_{-1}^{2} \\frac{x^2}{3} dx = \\frac{x^3}{9} \\Big|_{-1}^{2} = \\frac{8}{9} + \\frac{1}{9} = 1\n",
    "\\end{align}\n",
    "\n",
    "b) Calcular la probabilidad de que el error esté entre 0 y 1.\n",
    "\n",
    "\\begin{align}\n",
    "    P(0 < X < 1) = \\int_{0}^{1} \\frac{x^2}{3} dx = \\frac{x^3}{9} \\Big|_{0}^{1} = \\frac{1}{9}\n",
    "\\end{align}"
   ]
  },
  {
   "cell_type": "markdown",
   "id": "57af1903",
   "metadata": {
    "slideshow": {
     "slide_type": "slide"
    }
   },
   "source": [
    "## Función de distribución acumulativa\n",
    "Para las variables aleatorias continuas se define la función de distribución acumulativa como sigue:\n",
    "\n",
    "\\begin{align}\n",
    "    F(x) = P(X \\leq x) = \\int_{-\\infty}^{x} f(t) dt\n",
    "\\end{align}\n",
    "\n",
    "<center>\n",
    "    <img src=\"figures/cdf-1.png\" width=\"350\"/>\n",
    "</center>\n",
    "\n",
    "Como consecuencia de esta definición se cumple que:\n",
    "\n",
    "\\begin{align}\n",
    "    P(a < X < b) & = F(b) - F(a)\n",
    "    & f(x) & = \\frac{d F(x)}{dx}\n",
    "\\end{align}\n",
    "\n"
   ]
  },
  {
   "cell_type": "markdown",
   "id": "d50bc18b",
   "metadata": {
    "slideshow": {
     "slide_type": "subslide"
    }
   },
   "source": [
    "**Ejemplo**: En el ejemplo anterior calcule $F(x)$ y use el resultado para evaluar $P(0<X<1)$\n",
    "\n",
    "\\begin{split}\n",
    "    f(t) = \\Bigg\\{\n",
    "    \\begin{array}{ c c }\n",
    "    \\frac{t^2}{3},  & \\quad \\textrm{if } -1 < t < 2 \\\\\n",
    "    0,                & \\quad \\textrm{elsewhere}\n",
    "  \\end{array}\n",
    "\\end{split}\n",
    "\n",
    "Para $x \\leq -1$:\n",
    "\n",
    "\\begin{align}\n",
    "    F(x) = \\int_{-\\infty}^{x} f(t) dt = \\int_{-\\infty}^{-1} 0 dt = 0\n",
    "\\end{align}\n",
    "\n",
    "Para $-1 < x  <2$:\n",
    "\n",
    "\\begin{align}\n",
    "    F(x) = \\int_{-\\infty}^{x} f(t) dt = \\int_{-\\infty}^{-1} 0 dt +  \\int_{-1}^{x} \\frac{t^2}{3} dt = \\frac{t^3}{9} \\Big|_{-1}^{x} = \\frac{x^3 + 1}{9}\n",
    "\\end{align}"
   ]
  },
  {
   "cell_type": "markdown",
   "id": "0f5dba92",
   "metadata": {
    "slideshow": {
     "slide_type": "subslide"
    }
   },
   "source": [
    "Para $ x \\geq 2$:\n",
    "\n",
    "\\begin{align}\n",
    "    F(x) = \\int_{-\\infty}^{x} f(t) dt = \\int_{-\\infty}^{-1} 0 dt +  \\int_{-1}^{2} \\frac{t^2}{3} dt + \\int_{2}^{x} 0 dt = 1\n",
    "\\end{align}\n",
    "\n",
    "Por lo tanto se tiene que:\n",
    "\n",
    "\\begin{split}\n",
    "    F(x) = \\Bigg\\{\n",
    "    \\begin{array}{ c c }\n",
    "    0,  & \\quad \\textrm{if } x \\leq -1 \\\\\n",
    "    \\frac{x^3 + 1}{9},  & \\quad \\textrm{if } -1 < x < 2 \\\\\n",
    "    1,                & \\quad \\textrm{if } x \\geq 2\n",
    "  \\end{array}\n",
    "\\end{split}\n",
    "\n",
    "La probabilidad $P(0<X<1)$ se calcula como:\n",
    "\n",
    "\\begin{align}\n",
    "    P(0<X<1) = F(1) - F(0) = \\frac{2}{9} - \\frac{1}{9} = \\frac{1}{9}\n",
    "\\end{align}"
   ]
  },
  {
   "cell_type": "markdown",
   "id": "4f6acd63",
   "metadata": {
    "slideshow": {
     "slide_type": "slide"
    }
   },
   "source": [
    "# Distribuciones de probabilidad conjunta"
   ]
  },
  {
   "cell_type": "markdown",
   "id": "6dbc41c6",
   "metadata": {
    "slideshow": {
     "slide_type": "slide"
    }
   },
   "source": [
    "## Motivación\n",
    "En un experimento estadístico podríamos estar interesados en los resultados de un espacio muestral bidimensional con dos variables.\n",
    "\n",
    "**Ejemplo**: Nos interesa conocer simultáneamente cómo se distribuyen los valores de dureza y resistencia a la tracción en la fabricación de acero laminado\n",
    "\n",
    "<br><center>\n",
    "    <img src=\"figures/steel-1.jpg\" width=\"500\"/>\n",
    "</center>\n"
   ]
  },
  {
   "cell_type": "markdown",
   "id": "e34434fb",
   "metadata": {
    "slideshow": {
     "slide_type": "slide"
    }
   },
   "source": [
    "## Definición para variables discretas\n",
    "Si $X$ e $Y$ son dos variables aleatorias discretas, la **distribución de probabilidad conjunta** para sus ocurrencias simultáneas se representa con la función:\n",
    "\n",
    "\\begin{align}\n",
    "    f(x,y) = P(X=x, Y=y)\n",
    "\\end{align}\n",
    "\n",
    "**Ejemplo**:\n",
    "\n",
    "| Dureza (HB) | Resistencia (MPa) | Probabilidad f(x,y) |\n",
    "| --- | --- | --- |\n",
    "| 100 | 560 | 0.11 |\n",
    "| 120 | 510 | 0.09 |\n",
    "| 110 | 580 | 0.07 |\n",
    "| 135 | 550 | 0.13 |"
   ]
  },
  {
   "cell_type": "markdown",
   "id": "14bc6e97",
   "metadata": {
    "slideshow": {
     "slide_type": "subslide"
    }
   },
   "source": [
    "Formalmente, la función $f(x,y)$ es una **distribución de probabilidad conjunta** para las variables discretas $X$ e $Y$ si:\n",
    "\n",
    "\\begin{align}\n",
    "    f(x,y) \\geq 0 \\quad \\forall (x,y)\n",
    "\\end{align}\n",
    "\n",
    "\\begin{align}\n",
    "    \\sum_{x} \\sum_{y} f(x,y) = 1\n",
    "\\end{align}\n",
    "\n",
    "\\begin{align}\n",
    "    P(X=x, Y=y) = f(x,y)\n",
    "\\end{align}\n",
    "    \n",
    "Nuevamente no cualquier función puede ser una función probabilidad conjunta"
   ]
  },
  {
   "cell_type": "markdown",
   "id": "d3fd7b03",
   "metadata": {
    "slideshow": {
     "slide_type": "slide"
    }
   },
   "source": [
    "**Ejemplo**: Se seleccionan al azar dos esferas desde una caja que tiene 3 esferas azules, 2 rojas y 3 verdes. Si $X$ es el número de esferas azules y $Y$ de esferas rojas, calcular la distribución de probabilidad conjunta $f(x,y)$\n",
    "\n",
    "<center>\n",
    "    <img src=\"figures/spheres-1.png\" width=\"350\"/>\n",
    "</center>\n",
    "\n",
    "El número de formas de seleccionar 2 de 8 esferas cualesquiera es: $_{8}C_{2} = 28$\n",
    "\n",
    "Calculamos un valor cualquiera, por ejemplo $f(0,1)$. Este corresponde a la probabilidad de seleccionar una esfera roja ($y=1$) y una esfera verde ($x=0$)\n",
    "\n",
    "El número de formas de seleccionar 1 de 2 esferas rojas y 1 de 3 esferas verdes es: 6\n",
    "\n",
    "Por lo tanto: $f(0,1) = \\frac{6}{28} = \\frac{3}{14}$\n"
   ]
  },
  {
   "cell_type": "markdown",
   "id": "0d4cce93",
   "metadata": {
    "slideshow": {
     "slide_type": "subslide"
    }
   },
   "source": [
    "De la misma forma se pueden repetir los cálculos para todas las posibles combinaciones de $X$ e $Y$. Por ejemplo, $f(2,1)$ es automáticamente 0, ya que en el experimento solo se seleccionan 2 esferas. \n",
    "\n",
    "Finalmente resulta:\n",
    "\n",
    "<center>\n",
    "    <img src=\"figures/spheres-2.png\" width=\"500\"/>\n",
    "</center>\n",
    "\n",
    "Notar que la suma de todas estas probabilidades es igual a 1."
   ]
  },
  {
   "cell_type": "markdown",
   "id": "8af5e0ca",
   "metadata": {
    "slideshow": {
     "slide_type": "slide"
    }
   },
   "source": [
    "## Definición para variables continuas\n",
    "Si $X$ e $Y$ son variables aleatorias continuas, la **función de densidad conjunta** $f(x,y)$ es una superficie sobre el plano $XY$ y $P[(X,Y) \\in A]$, donde $A$ es una región del plano $XY$, se calcula como el volumen entre la región y la superficie.\n",
    "\n",
    "<center>\n",
    "    <img src=\"figures/joint-prob-1.jpg\" width=\"600\"/>\n",
    "</center>"
   ]
  },
  {
   "cell_type": "markdown",
   "id": "59800c1b",
   "metadata": {
    "slideshow": {
     "slide_type": "subslide"
    }
   },
   "source": [
    "Formalmente, la función $f(x,y)$ es una **función de densidad conjunta** para las variables continuas $X$ e $Y$ si:\n",
    "\n",
    "\\begin{align}\n",
    "    f(x,y) \\geq 0 \\quad \\forall (x,y)\n",
    "\\end{align}\n",
    "\n",
    "\\begin{align}\n",
    "    \\int_{-\\infty}^{\\infty} \\int_{-\\infty}^{\\infty} f(x,y) dx dy = 1\n",
    "\\end{align}\n",
    "\n",
    "\\begin{align}\n",
    "    P[(X,Y) \\in A] = \\int \\int_{A} f(x,y) dx dy\n",
    "\\end{align}\n",
    "    \n",
    "Nuevamente no cualquier función puede ser una función de densidad conjunta"
   ]
  },
  {
   "cell_type": "markdown",
   "id": "fa5416a6",
   "metadata": {
    "slideshow": {
     "slide_type": "slide"
    }
   },
   "source": [
    "**Ejemplo**: En una lavandería hay máquinas lavadoras y secadoras disponibles. En un día cualquiera, $X$ e $Y$ representan las proporciones de tiempo que están ocupadas todas las lavadoras y secadoras, respectivamente. La función de densidad conjunta de estas variables es:\n",
    "\n",
    "\\begin{split}\n",
    "    f(x,y) = \\Bigg\\{\n",
    "    \\begin{array}{ c c }\n",
    "    \\frac{2}{5} (2x+3y),  & \\quad 0 \\leq x \\leq 1, 0 \\leq y \\leq 1 \\\\\n",
    "    0,                & \\quad \\textrm{elsewhere}\n",
    "  \\end{array}\n",
    "\\end{split}\n",
    "\n",
    "Se pide calcular la probabilidad del evento $A = \\{ (x,y) | x \\in [0,0.5], y \\in [0.25, 0.5]  \\}$\n",
    "\n",
    "Esta probabilidad se calcula como:\n",
    "\n",
    "\\begin{align}\n",
    "    P[(X,Y) \\in A] = \\int_{0.25}^{0.5} \\int_{0}^{0.5} \\frac{2}{5} (2x+3y) dx dy\n",
    "\\end{align}"
   ]
  },
  {
   "cell_type": "markdown",
   "id": "737bb79e",
   "metadata": {
    "slideshow": {
     "slide_type": "subslide"
    }
   },
   "source": [
    "Primero se resuelve la integral con respecto a $x$:\n",
    "\n",
    "\\begin{align}\n",
    "    P[(X,Y) \\in A] = \\int_{0.25}^{0.5} \\int_{0}^{0.5} \\frac{2}{5} (2x+3y) dx dy = \\int_{0.25}^{0.5} \\left( \\frac{2x^2}{5} + \\frac{6xy}{5} \\right) \\Big|_{x=0}^{x=0.5} dy\n",
    "\\end{align}\n",
    "\n",
    "\\begin{align}\n",
    "    P[(X,Y) \\in A] = \\int_{0.25}^{0.5} \\left( \\frac{1}{10} + \\frac{3y}{5} \\right) dy\n",
    "\\end{align}\n",
    "\n",
    "Luego se resuelve la integral con respecto a $y$:\n",
    "\n",
    "\\begin{align}\n",
    "    P[(X,Y) \\in A] = \\left( \\frac{y}{10} + \\frac{3y^2}{10} \\right) \\Big|_{0.25}^{0.5} = \\frac{13}{160}\n",
    "\\end{align}"
   ]
  },
  {
   "cell_type": "markdown",
   "id": "6c223cfb",
   "metadata": {
    "slideshow": {
     "slide_type": "slide"
    }
   },
   "source": [
    "## Distribuciones marginales\n",
    "Supongamos que dado una distribución de probabilidad conjunta $f(x,y)$ para las variables discretas $X$ e $Y$, nos interesa conocer la distribución de probabilidad solamente para una de ellas.\n",
    "\n",
    "Estas distribuciones se llaman **distribuciones marginales** y se calculan así para el caso discreto:\n",
    "\n",
    "\\begin{align}\n",
    "    g(x) & = \\sum_{y} f(x,y) &\n",
    "    h(y) & = \\sum_{x} f(x,y)\n",
    "\\end{align}\n",
    "\n",
    "Y así para el caso de variables continuas $X$ e $Y$:\n",
    "\n",
    "\\begin{align}\n",
    "    g(x) & = \\int_{-\\infty}^{\\infty} f(x,y) dy &\n",
    "    h(y) & = \\int_{-\\infty}^{\\infty} f(x,y) dx\n",
    "\\end{align}\n"
   ]
  },
  {
   "cell_type": "markdown",
   "id": "a6ed669c",
   "metadata": {
    "slideshow": {
     "slide_type": "slide"
    }
   },
   "source": [
    "**Ejemplo**: Para el caso de la caja con esferas de colores, calcular la distribución de probabilidad marginal para la variable $X$, es decir, para el número de esferas azules seleccionadas.\n",
    "\n",
    "Primero recordamos la distribución de probabilidad conjunta del ejemplo:\n",
    "\n",
    "<center>\n",
    "    <img src=\"figures/spheres-2.png\" width=\"500\"/>\n",
    "</center>\n",
    "\n",
    "La distribución marginal para la variable $X$ es de forma general: $g(x) = \\sum_{y} f(x,y)$, por lo tanto:\n",
    "\n",
    "\\begin{align}\n",
    "    g(0) = \\sum_{y=0}^{2} f(0,y) = f(0,0) + f(0,1) + f(0,2) = \\frac{3}{28} + \\frac{3}{14} + \\frac{1}{28} = \\frac{5}{14}\n",
    "\\end{align}\n"
   ]
  },
  {
   "cell_type": "markdown",
   "id": "2ffa21c0",
   "metadata": {
    "slideshow": {
     "slide_type": "subslide"
    }
   },
   "source": [
    "Para los otros valores:\n",
    "\n",
    "\\begin{align}\n",
    "    g(1) = \\sum_{y=0}^{2} f(1,y) = f(1,0) + f(1,1) + f(1,2) = \\frac{9}{28} + \\frac{3}{14} + 0 = \\frac{15}{28}\n",
    "\\end{align}\n",
    "\n",
    "\\begin{align}\n",
    "    g(2) = \\sum_{y=0}^{2} f(2,y) = f(2,0) + f(2,1) + f(2,2) = \\frac{3}{28} + 0 + 0 = \\frac{3}{28}\n",
    "\\end{align}\n",
    "\n",
    "Finalmente resulta la siguiente distribución de probabilidad marginal de $X$, es decir, del número de esferas azules que se pueden obtener en el experimento de sacar 2 esferas de la cajas:\n",
    "\n",
    "<center>\n",
    "    <img src=\"figures/sphere-3.png\" width=\"400\"/>\n",
    "</center>\n"
   ]
  },
  {
   "cell_type": "markdown",
   "id": "dc248481",
   "metadata": {
    "slideshow": {
     "slide_type": "slide"
    }
   },
   "source": [
    "**Ejemplo**: Para el caso de la lavandería, calcular la densidad de probabilidad marginal para la variable $Y$, es decir, la proporción de tiempo que están todas las secadoras ocupadas.\n",
    "\n",
    "Primero recordamos la función de densidad conjunta del ejemplo:\n",
    "\n",
    "\\begin{split}\n",
    "    f(x,y) = \\Bigg\\{\n",
    "    \\begin{array}{ c c }\n",
    "    \\frac{2}{5} (2x+3y),  & \\quad 0 \\leq x \\leq 1, 0 \\leq y \\leq 1 \\\\\n",
    "    0,                & \\quad \\textrm{elsewhere}\n",
    "  \\end{array}\n",
    "\\end{split}\n",
    "\n",
    "Por definición, la densidad de probabilidad marginal para $Y$ es:\n",
    "\n",
    "\\begin{align}\n",
    "    h(y) = \\int_{-\\infty}^{\\infty} f(x,y) dx = \\int_{0}^{1} \\frac{2}{5} (2x+3y) dx = \\left( \\frac{4x^2}{10} + \\frac{6xy}{5} \\right) \\Big|_{x=0}^{x=1} = \\frac{2(1+3y)}{5}\n",
    "\\end{align}\n",
    "\n",
    "\n"
   ]
  },
  {
   "cell_type": "markdown",
   "id": "7df9809b",
   "metadata": {
    "slideshow": {
     "slide_type": "subslide"
    }
   },
   "source": [
    "Por lo tanto, la densidad de probabilidad marginal para $Y$ es:\n",
    "\n",
    "\\begin{split}\n",
    "    h(y) = \\Bigg\\{\n",
    "    \\begin{array}{ c c }\n",
    "    \\frac{2(1+3y)}{5},  & \\quad 0 \\leq y \\leq 1 \\\\\n",
    "    0,                & \\quad \\textrm{elsewhere}\n",
    "  \\end{array}\n",
    "\\end{split}\n",
    "\n",
    "Por ejemplo, la probabilidad que las secadoras estén ocupadas menos de 12 horas al día (independiente de las lavadoras) es:\n",
    "\n",
    "\\begin{align}\n",
    "    P[Y<0.5] = \\int_{-\\infty}^{0.5} h(y) dy = \\int_{0}^{0.5} \\frac{2(1+3y)}{5} dy = \\frac{2}{5} \\left( y + \\frac{3y^2}{2} \\right) \\Big|_{0}^{0.5} = \\frac{7}{20}\n",
    "\\end{align}"
   ]
  },
  {
   "cell_type": "markdown",
   "id": "4efde832",
   "metadata": {
    "slideshow": {
     "slide_type": "slide"
    }
   },
   "source": [
    "## Distribuciones condicionales\n",
    "Supongamos que dado una distribución de probabilidad conjunta $f(x,y)$, queremos conocer la probabilidad de que el valor de $X$ esté entre $a$ y $b$ dado algún valor fijo para la variable $Y$.\n",
    "\n",
    "Para esto se definen la distribución condicional de la variable $X$ dado que $Y=y$ como sigue:\n",
    "\n",
    "\\begin{align}\n",
    "   f(x|y) = \\frac{f(x,y)}{h(y)} \\quad \\forall h(y) > 0\n",
    "\\end{align}\n",
    "\n",
    "**Ejemplo**: el la fabricación de aceros, ¿cómo calcular la probabilidad de que la dureza esté entre 100 y 125 HB dado que la resistencia a la tracción es 560 MPa?\n"
   ]
  },
  {
   "cell_type": "markdown",
   "id": "40378556",
   "metadata": {
    "slideshow": {
     "slide_type": "subslide"
    }
   },
   "source": [
    "Usando la definición de distribución condicional, se calcula la probabilidad de que $X \\in [a,b]$ dado que $Y=y$ para el caso discreto como sigue:\n",
    "\n",
    "\\begin{align}\n",
    "   P(a<X<b | Y=y) = \\sum_{x=a}^{b} f(x|y)\n",
    "\\end{align}\n",
    "\n",
    "Y para el caso continuo como sigue:\n",
    "\n",
    "\\begin{align}\n",
    "   P(a<X<b | Y=y) = \\int_{a}^{b} f(x|y) dx\n",
    "\\end{align}\n",
    "\n",
    "Evidentemente estas ecuaciones pueden adaptarse para dejar la variable $X$ fija y calcular la probabilidad que $Y \\in [a,b]$. Para esto se usaría la función marginal $g(x)$ en vez de $h(y)$"
   ]
  },
  {
   "cell_type": "markdown",
   "id": "10b82c97",
   "metadata": {
    "slideshow": {
     "slide_type": "slide"
    }
   },
   "source": [
    "**Ejemplo**: Para el caso de la caja con esferas de colores, calcular la distribución condicional para la variable $Y$, es decir, para el número de esferas rojas seleccionadas dado que no se selecciona ninguna esfera azul, es decir, que $X=0$\n",
    "\n",
    "En este caso tenemos la variable $X$ fija, por lo que la distribución condicional para $Y$ es:\n",
    "\n",
    "\\begin{align}\n",
    "   f(y|x=0) = \\frac{f(0,y)}{g(0)} = \\frac{14}{5} f(0,y)\n",
    "\\end{align}\n",
    "\n",
    "Tenemos que calcular el valor $f(0,y)$ para cada valor posible de $y$. Para ellos nos remitimos a la distribución de probabilidad conjunta original:\n",
    "\n",
    "<center>\n",
    "    <img src=\"figures/spheres-2.png\" width=\"400\"/>\n",
    "</center>"
   ]
  },
  {
   "cell_type": "markdown",
   "id": "80f86661",
   "metadata": {
    "slideshow": {
     "slide_type": "subslide"
    }
   },
   "source": [
    "Entonces tenemos lo siguiente:\n",
    "    \n",
    "\\begin{align}\n",
    "    f(0|0) & = \\left(\\frac{14}{5}\\right) \\left(\\frac{3}{28}\\right) &\n",
    "    f(1|0) & = \\left(\\frac{14}{5}\\right) \\left(\\frac{3}{14}\\right) &\n",
    "    f(2|0) & = \\left(\\frac{14}{5}\\right) \\left(\\frac{1}{28}\\right)\n",
    "\\end{align}\n",
    "\n",
    "\\begin{align}\n",
    "    f(0|0) & = \\frac{3}{10} &\n",
    "    f(1|0) & = \\frac{3}{5} &\n",
    "    f(2|0) & = \\frac{1}{10} &\n",
    "\\end{align}\n",
    "\n",
    "En forma tabular presentamos la distribución condicional para la variable $Y$ (el número de esferas rojas) dado que $X=0$ (el número de esferas azules):\n",
    "\n",
    "| y | f(y/x=0) |\n",
    "| --- | --- |\n",
    "| 0 | 3/10 |\n",
    "| 1 | 3/5 |\n",
    "| 2 | 1/10 |"
   ]
  },
  {
   "cell_type": "markdown",
   "id": "87e37e89",
   "metadata": {
    "slideshow": {
     "slide_type": "slide"
    }
   },
   "source": [
    "**Ejemplo**: Para el caso de la lavandería, calcular la probabilidad que $0.5 \\leq X \\leq 1$ (la proporción de uso de lavadoras) dado que $Y=0.5$ (proporción de uso de secadoras).\n",
    "\n",
    "Primero evaluamos la función de densidad condicional $f(x|y)$ como sigue:\n",
    "\n",
    "\\begin{align}\n",
    "   f(x|y) = \\frac{f(x,y)}{h(y)} = \\frac{2x+3y}{1+3y}\n",
    "\\end{align}\n",
    "\n",
    "Ahora calculamos la probabilidad que $0.5 \\leq X \\leq 1$ como sigue:\n",
    "\n",
    "\\begin{align}\n",
    "   P(0.5 \\leq X \\leq 1 | Y = 0.5) = \\int_{0.5}^{1} \\frac{2x+3\\cdot 0.5}{1+3\\cdot 0.5} dx = \\frac{1}{2.5} (x^2 + 1.5x) \\Big|_{0.5}^{1} = 0.6\n",
    "\\end{align}"
   ]
  },
  {
   "cell_type": "markdown",
   "id": "79f781cb",
   "metadata": {
    "slideshow": {
     "slide_type": "slide"
    }
   },
   "source": [
    "## Independencia estadística\n",
    "Para el caso de variables independientes se cumple que $f(x|y) = f(x)$ y que  $f(y|x) = f(y)$. Es decir, el resultado de una variable no repercute en la otra y viceversa.\n",
    "\n",
    "Supongamos dos variables aleatorias $X$ e $Y$ (discretas o continuas) con distribución de probabilidad conjunta $f(x,y)$ y distribuciones marginales $g(x)$ y $h(y)$, respectivamente. Ambas variables con estadísticamente independientes si y solo si:\n",
    "\n",
    "\\begin{align}\n",
    "   f(x,y) = g(x) h(y)\n",
    "\\end{align}"
   ]
  },
  {
   "cell_type": "markdown",
   "id": "347965b3",
   "metadata": {
    "slideshow": {
     "slide_type": "slide"
    }
   },
   "source": [
    "# Sumario\n",
    "- Las variables aleatorias se pueden dividir en discretas o continuas. Generalmente las discretas se asocian a conteos y las continuas a mediciones.\n",
    "- La distribución de probabilidad representa las probabilidades con que una variable aleatoria adopta sus posibles valores.\n",
    "- Dado las características de las variables continuas, sus distribuciones de probabilidades se expresan en fórmulas y se llaman función de densidad de probabilidad.\n",
    "- La distribución acumulativa de probabilidad representa las probabilidades con que una variable aleatoria adopta un valor menor a un valor específico.\n",
    "- Las distribuciones de probabilidad conjunta expresan cómo simultáneamente varían dos variables aleatorias."
   ]
  }
 ],
 "metadata": {
  "celltoolbar": "Slideshow",
  "kernelspec": {
   "display_name": "Python 3 (ipykernel)",
   "language": "python",
   "name": "python3"
  },
  "language_info": {
   "codemirror_mode": {
    "name": "ipython",
    "version": 3
   },
   "file_extension": ".py",
   "mimetype": "text/x-python",
   "name": "python",
   "nbconvert_exporter": "python",
   "pygments_lexer": "ipython3",
   "version": "3.9.7"
  }
 },
 "nbformat": 4,
 "nbformat_minor": 5
}
