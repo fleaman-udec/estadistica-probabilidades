{
 "cells": [
  {
   "cell_type": "markdown",
   "id": "cc0237ce",
   "metadata": {
    "slideshow": {
     "slide_type": "slide"
    }
   },
   "source": [
    "# Módulo: Diseño de experimentos\n",
    "## T12b: Análisis de varianza de un factor"
   ]
  },
  {
   "cell_type": "markdown",
   "id": "75b8150a",
   "metadata": {
    "slideshow": {
     "slide_type": "slide"
    }
   },
   "source": [
    "# Objetivos de la clase\n",
    "\n",
    "- Aprender y aplicar la técnica de análisis de varianza para verificar la validez de resultados experimentales."
   ]
  },
  {
   "cell_type": "markdown",
   "id": "a910d2c3",
   "metadata": {
    "slideshow": {
     "slide_type": "slide"
    }
   },
   "source": [
    "# Motivación"
   ]
  },
  {
   "cell_type": "markdown",
   "id": "70796126",
   "metadata": {
    "slideshow": {
     "slide_type": "slide"
    }
   },
   "source": [
    "Se analiza la resistencia a la tracción de 5 nuevos tipos de aleaciones de acero en que solo se cambia el contenido de carbono. Se hacen 6 ensayos para cada tipo, obteniéndose los siguientes resultados (MPa):\n",
    "\n",
    "<center>\n",
    "    <img src=\"figures/disexp-0.png\" width=\"900\"/>\n",
    "</center>\n",
    "\n",
    "¿Cómo poder comparar significativamente las medias muestrales obtenidas de las distintas poblaciones?"
   ]
  },
  {
   "cell_type": "markdown",
   "id": "683babe0",
   "metadata": {
    "slideshow": {
     "slide_type": "subslide"
    }
   },
   "source": [
    "<center>\n",
    "    <img src=\"figures/disexp-1.png\" width=\"900\"/>\n",
    "</center>"
   ]
  },
  {
   "cell_type": "markdown",
   "id": "bcd2c000",
   "metadata": {
    "slideshow": {
     "slide_type": "subslide"
    }
   },
   "source": [
    "<center>\n",
    "    ¿Cómo poder distinguir si las medias obtenidas son significativamente distintas o solo son producto de la aleatoriedad natural del proceso de fabricación?\n",
    "</center>\n",
    "<br><center>\n",
    "    <img src=\"figures/tensile-1.gif\" width=\"600\"/>\n",
    "</center>"
   ]
  },
  {
   "cell_type": "markdown",
   "id": "cfff9e80",
   "metadata": {
    "slideshow": {
     "slide_type": "slide"
    }
   },
   "source": [
    "# ANOVA de un factor"
   ]
  },
  {
   "cell_type": "markdown",
   "id": "17c6ab50",
   "metadata": {
    "slideshow": {
     "slide_type": "slide"
    }
   },
   "source": [
    "## Definiciones\n",
    "\n",
    "Los análisis de varianza (**ANOVA**) son modelos estadísticos y procedimientos asociados en los cuales se explica los distintos componentes de la varianza.\n",
    "\n",
    "<center>\n",
    "    <img src=\"figures/anova-1.png\" width=\"500\"/>\n",
    "</center>\n",
    "\n",
    "Se usa para evaluar el efecto de **tratamientos** o **factores** en la variabilidad de la variable respuesta.\n",
    "\n",
    "En el caso del ANOVA de un factor se evalúa el efecto de un único tratamiento o factor, pero con distintos niveles.\n",
    "\n"
   ]
  },
  {
   "cell_type": "markdown",
   "id": "957d1f28",
   "metadata": {
    "slideshow": {
     "slide_type": "subslide"
    }
   },
   "source": [
    "## Diferencias entre medias\n",
    "\n",
    "Dadas $k$ poblaciones independientes y normales con medias $\\mu_1$, $\\mu_2$, ... $\\mu_k$ y varianza común $\\sigma^2$, se desea obtener un procedimiento para probar la hipótesis:\n",
    "\n",
    "\\begin{equation}\n",
    "H_0: \\mu_1 = \\mu_2 = ... = \\mu_k \\\\\n",
    "H_1: \\text{Al menos dos medias no son iguales}\n",
    "\\end{equation}\n",
    "\n",
    "Las estimaciones de las medias $\\mu_i$ se realizan a través de las medias muestrales $\\overline{y}_i$\n",
    "\n",
    "**Ejemplo**: Para el caso de las aleaciones de acero, rechazar $H_0$ implica que hay diferencias estadísticamente significativas entre al menos dos de las muestras.\n",
    "\n"
   ]
  },
  {
   "cell_type": "markdown",
   "id": "5fb34238",
   "metadata": {
    "slideshow": {
     "slide_type": "slide"
    }
   },
   "source": [
    "## Modelo\n",
    "\n",
    "Suponemos que hay un total de $k$ poblaciones, para cada una de las cuales se toma una muestra de tamaño $n$.\n",
    "\n",
    "Para el ejemplo de las aleaciones de acero hay $k=5$ muestras, cada una con $n=6$ observaciones:\n",
    "\n",
    "<center>\n",
    "    <img src=\"figures/tab-aceros.png\" width=\"800\"/>\n",
    "</center>"
   ]
  },
  {
   "cell_type": "markdown",
   "id": "41902582",
   "metadata": {
    "slideshow": {
     "slide_type": "subslide"
    }
   },
   "source": [
    "Cualquier $j$-ésima observación de la $i$-ésima muestra se puede escribir de la forma:\n",
    "\n",
    "\\begin{align}\n",
    "    y_{ij} = \\mu_i + \\epsilon_{ij}\n",
    "\\end{align}\n",
    "\n",
    "donde $\\epsilon_{ij}$ mide la desviación de la observación $j$ de la muestra $i$ con respecto a la media del nivel correspondiente.\n",
    "\n",
    "<center>\n",
    "    <img src=\"figures/tab-niveles.png\" width=\"900\"/>\n",
    "</center>"
   ]
  },
  {
   "cell_type": "markdown",
   "id": "0cb6d60e",
   "metadata": {
    "slideshow": {
     "slide_type": "subslide"
    }
   },
   "source": [
    "Podemos establecer que cada media $\\mu_i$ es igual a una media global $\\mu$ más el efecto del nivel del tratamiento $\\alpha_i$ sujeto a la restricción que $\\sum \\alpha_i = 0$.\n",
    "\n",
    "Por lo tanto:\n",
    "\n",
    "\\begin{align}\n",
    "    y_{ij} = \\mu + \\alpha_i + \\epsilon_{ij}\n",
    "\\end{align}\n",
    "\n",
    "donde la media global es:\n",
    "\n",
    "\\begin{align}\n",
    "    \\mu = \\frac{1}{k} \\sum_{i=1}^{k} \\mu_i\n",
    "\\end{align}\n",
    "\n",
    "y $\\alpha_i$ es el efecto del $i$-esimo nivel del tratamiento.\n"
   ]
  },
  {
   "cell_type": "markdown",
   "id": "87ef4e2f",
   "metadata": {
    "slideshow": {
     "slide_type": "subslide"
    }
   },
   "source": [
    "Entonces la prueba de hipótesis anteriormente formulada puede expresarse de la siguiente forma:\n",
    "\n",
    "\\begin{equation}\n",
    "H_0: \\alpha_1 = \\alpha_2 = ... = \\alpha_k = 0 \\\\\n",
    "H_1: \\text{Al menos una de las $\\alpha_i$ no es igual a cero}\n",
    "\\end{equation}\n",
    "\n",
    "Esta hipótesis nula se puede rechazar con un nivel de significancia $\\alpha$ cuando:\n",
    "\n",
    "\\begin{align}\n",
    "    f > f_{\\alpha} \\left[k-1, k(n-1) \\right]\n",
    "\\end{align}\n",
    "\n",
    "donde $f_{\\alpha}$ es el valor crítico de la distribución $F$ con $k-1$ y $k(n-1)$ grados de libertad para el nivel de significancia $\\alpha$, respectivamente\n",
    "\n",
    "En este caso la variable $f$ adopta el valor del cuociente entre los siguientes valores:\n",
    "\n",
    "\\begin{align}\n",
    "    f = \\frac{s_1^2}{s^2}\n",
    "\\end{align}\n"
   ]
  },
  {
   "cell_type": "markdown",
   "id": "9941701f",
   "metadata": {
    "slideshow": {
     "slide_type": "subslide"
    }
   },
   "source": [
    "Los valores $s_1^2$ y $s^2$ son:\n",
    "\n",
    "\\begin{align}\n",
    "    s_1^2 = \\frac{SCT}{k-1} = \\frac{n \\sum_{i=1}^{k} (\\overline{y_i} - \\overline{y})^2 }{k-1}\n",
    "\\end{align}\n",
    "\n",
    "En palabras: para cada nivel, se suma la diferencia entre el promedio del nivel y el promedio global al cuadrado. También conocida como varianza entre grupos.\n",
    "\n",
    "\\begin{align}\n",
    "    s^2 = \\frac{SCE}{k(n-1)} = \\frac{ \\sum_{i=1}^{k} \\sum_{j=1}^{n} (y_{ij} - \\overline{y}_i)^2 }{k(n-1)}\n",
    "\\end{align}\n",
    "\n",
    "En palabras: para cada nivel, se suma la diferencia entre cada dato y el promedio del nivel al cuadrado. Luego, se suman todos los niveles. También conocida como varianza dentro de los grupos."
   ]
  },
  {
   "cell_type": "markdown",
   "id": "f1ff1b02",
   "metadata": {
    "slideshow": {
     "slide_type": "slide"
    }
   },
   "source": [
    "## Ejemplo\n",
    "Volviendo al ejemplo de las aleaciones de acero tenemos que: $s_1^2 = 21339$ y $s^2 = 4961$\n",
    "\n",
    "Entonces resulta que el estadístico de prueba es: $f = 4.3$\n",
    "\n",
    "Suponiendo un nivel de significancia $\\alpha = 0.05$ buscamos el valor crítico $f_{0.05}[5-1, 5(6-1)] = f_{0.05}[4, 25] = 2.76$\n",
    "\n",
    "Como $f > f_{\\alpha}$ podemos rechazar que todas las medias son iguales. Es decir, el tratamiento de agregar diferentes niveles de carbono sí influye significativamente en la resistencia a la tracción"
   ]
  },
  {
   "cell_type": "markdown",
   "id": "a4f3243d",
   "metadata": {
    "slideshow": {
     "slide_type": "slide"
    }
   },
   "source": [
    "# Sumario\n",
    "\n",
    "- El análisis de varianza (ANOVA) de un factor es una técnica para detectar diferencias significativas entre las medias de varias muestras provenientes de un tratamiento o factor a varios niveles."
   ]
  }
 ],
 "metadata": {
  "celltoolbar": "Slideshow",
  "kernelspec": {
   "display_name": "Python 3 (ipykernel)",
   "language": "python",
   "name": "python3"
  },
  "language_info": {
   "codemirror_mode": {
    "name": "ipython",
    "version": 3
   },
   "file_extension": ".py",
   "mimetype": "text/x-python",
   "name": "python",
   "nbconvert_exporter": "python",
   "pygments_lexer": "ipython3",
   "version": "3.9.7"
  }
 },
 "nbformat": 4,
 "nbformat_minor": 5
}
