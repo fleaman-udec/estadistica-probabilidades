{
 "cells": [
  {
   "cell_type": "markdown",
   "metadata": {
    "slideshow": {
     "slide_type": "slide"
    }
   },
   "source": [
    "# Estadística y Probabilidades: Introducción"
   ]
  },
  {
   "cell_type": "markdown",
   "metadata": {
    "slideshow": {
     "slide_type": "slide"
    }
   },
   "source": [
    "# Objetivos clase de hoy\n",
    "\n",
    "- Activar nociones sobre los conocimientos previos de EyP\n",
    "- Definir algunos conceptos fundamentales de la EyP\n",
    "- Comprender la motivación detrás del estudio de EyP para ingeniería\n"
   ]
  },
  {
   "cell_type": "markdown",
   "metadata": {
    "slideshow": {
     "slide_type": "slide"
    }
   },
   "source": [
    "# Ejercicio interactivo\n",
    "\n",
    "<center>\n",
    "    <img src=\"figures/qr-survey-2023.png\" width=\"400\"/>\n",
    "</center>\n",
    "\n",
    "https://questionpro.com/t/AVr7rZzMbn"
   ]
  },
  {
   "cell_type": "markdown",
   "metadata": {
    "slideshow": {
     "slide_type": "slide"
    }
   },
   "source": [
    "# Ejemplo introductorio (1)\n",
    "\n",
    "La fabricación de cadenas pesadas consiste en una serie de procesos hasta llegar al producto final.\n",
    "\n",
    "**Ej.**: preparación materia prima, proceso de doblado, proceso de soldadura, tratamiento térmico, etc.\n",
    "\n",
    "<center>\n",
    "    <img src=\"figures/chains-1.png\" width=\"700\"/>\n",
    "</center>\n",
    "\n",
    "¿Por qué sería necesario aplicar elementos de EyP en esta aplicación?\n",
    "\n"
   ]
  },
  {
   "cell_type": "markdown",
   "metadata": {
    "slideshow": {
     "slide_type": "subslide"
    }
   },
   "source": [
    "## Variabilidad de los datos\n",
    "\n",
    "Al medir distintas propiedades de eslabones, se obtendrán **resultados no siempre iguales**, a pesar de que el proceso (nominalmente) se mantenga constante.\n",
    "\n",
    "**Ej.**: densidad, dureza, resistencia tracción, curvatura, etc.\n",
    "\n",
    "<center>\n",
    "    <img src=\"figures/mech-prop.jpg\" width=\"400\"/>\n",
    "</center>\n",
    "\n",
    "Siempre hay **variabilidad en los procesos**: factor humano, condiciones ambientales, descalibración instrumentos, etc."
   ]
  },
  {
   "cell_type": "markdown",
   "metadata": {
    "slideshow": {
     "slide_type": "subslide"
    }
   },
   "source": [
    "## Incertidumbre inherente\n",
    "\n",
    "No es posible conocer exáctamente cómo miles de **posibles factores** influyen en las propiedades de los eslabones.\n",
    "\n",
    "<center>\n",
    "    <img src=\"figures/question-1.jpg\" width=\"400\"/>\n",
    "</center>\n",
    "\n",
    "Habría que tener muchos modelos físicos complejos para entender las variaciones que distintos factores producen en los eslabones.\n",
    "\n",
    "Aquí es donde los modelos matemáticos, y en particular de EyP, ayudan a **comprender mejor** estas variaciones."
   ]
  },
  {
   "cell_type": "markdown",
   "metadata": {
    "slideshow": {
     "slide_type": "slide"
    }
   },
   "source": [
    "# Estadística\n",
    "\n",
    "Es la **rama de las matemáticas** que estudia la variabilidad, colección, organización, análisis, interpretación y presentación de los datos.\n",
    "\n",
    "<center>\n",
    "    <img src=\"figures/intro-1.png\" width=\"500\"/>\n",
    "</center>\n",
    "\n",
    "Además, trata con los **procesos aleatorios** que generan esos datos a través de la teoría de probabilidad.\n",
    "\n",
    "Aplicación para buscar **correlaciones y dependencias** en un fenómeno aleatorio o condicional.\n",
    "\n"
   ]
  },
  {
   "cell_type": "markdown",
   "metadata": {
    "slideshow": {
     "slide_type": "subslide"
    }
   },
   "source": [
    "## Estadística descriptiva\n",
    "\n",
    "Se dedica a describir, visualizar y resumir datos sobre un fenómeno.\n",
    "\n",
    "## Estadística inferencial\n",
    "\n",
    "Se dedida a generar modelos, inferencias y predicciones asociadas a un fenómeno considerando la aleatoriedad de las observaciones. "
   ]
  },
  {
   "cell_type": "code",
   "execution_count": 6,
   "metadata": {
    "slideshow": {
     "slide_type": "subslide"
    }
   },
   "outputs": [
    {
     "data": {
      "image/png": "[encoded data removed]",
      "text/plain": [
       "<Figure size 432x288 with 1 Axes>"
      ]
     },
     "metadata": {
      "needs_background": "light"
     },
     "output_type": "display_data"
    }
   ],
   "source": [
    "import numpy as np\n",
    "import matplotlib.pyplot as plt\n",
    "stress = 700*(1+(np.random.randn(100)-0.5)/10)\n",
    "plt.hist(stress, edgecolor='black'), plt.xlabel('Resistencia tracción [MPa]')\n",
    "plt.ylabel('Eslabones'), plt.title('Histograma')\n",
    "plt.show()"
   ]
  },
  {
   "cell_type": "code",
   "execution_count": 8,
   "metadata": {
    "slideshow": {
     "slide_type": "subslide"
    }
   },
   "outputs": [
    {
     "data": {
      "image/png": "[encoded data removed]",
      "text/plain": [
       "<Figure size 432x288 with 1 Axes>"
      ]
     },
     "metadata": {
      "needs_background": "light"
     },
     "output_type": "display_data"
    }
   ],
   "source": [
    "temp = (1+(np.random.randn(100)-0.5)/10)*stress*1300/700\n",
    "A = np.vstack([temp, np.ones(len(temp))]).T\n",
    "m, c = np.linalg.lstsq(A, stress, rcond=None)[0]\n",
    "plt.plot(temp, m*temp + c, color='r', label='modelo')\n",
    "plt.scatter(temp, stress, label='datos')\n",
    "plt.xlabel('Temperatura soldado [ºC]'), plt.ylabel('Resistencia tracción [MPa]'), plt.legend()\n",
    "plt.show()"
   ]
  },
  {
   "cell_type": "markdown",
   "metadata": {
    "slideshow": {
     "slide_type": "slide"
    }
   },
   "source": [
    "# Probabilidades\n",
    "\n",
    "Rama de las matemáticas que estudia **fenómenos aleatorios o estocásticos**\n",
    "\n",
    "En ellos se obtienen **resultados distintos** al realizar experimentos bajo las mismas condiciones (ej.: tirar un dado). Son contrarios a fenómenos deterministas.\n",
    "\n",
    "Las probabilidades pueden cuantificar los resultados que puedan surgir de un fenómeno aleatorio.\n",
    "\n",
    "<center>\n",
    "    <img src=\"figures/sponge-1.png\" width=\"300\"/>\n",
    "</center>\n",
    "\n"
   ]
  },
  {
   "cell_type": "code",
   "execution_count": 2,
   "metadata": {
    "slideshow": {
     "slide_type": "subslide"
    }
   },
   "outputs": [
    {
     "name": "stdout",
     "output_type": "stream",
     "text": [
      "0.5\n"
     ]
    }
   ],
   "source": [
    "import random\n",
    "\n",
    "def coin_trial(): #simula el lanzamiento de un dado\n",
    "    return 0 if random.random() <= 0.5 else 1\n",
    "\n",
    "def simulate(n): #simula el lanzamiento de n dados y calcula el promedio\n",
    "    trials = [coin_trial() for i in range(n)]\n",
    "    return print(sum(trials)/n)\n",
    "\n",
    "simulate(10)"
   ]
  },
  {
   "cell_type": "markdown",
   "metadata": {
    "slideshow": {
     "slide_type": "slide"
    }
   },
   "source": [
    "# Ejemplo introductorio (2)\n",
    "\n",
    "En la fábrica de cadenas se determina que económicamente solo se puede aceptar un 5% de eslabones defectuosos en el proceso de soldadura. \n",
    "\n",
    "El personal realiza una **muestra** de 100 eslabones y encuentra que hay 10 defectuosos. \n",
    "\n",
    "<center>\n",
    "    <img src=\"figures/chain-3.jpg\" width=\"400\"/>\n",
    "</center>\n",
    "\n",
    "¿Es esta información **concluyente** para determinar que el proceso no es aceptable?"
   ]
  },
  {
   "cell_type": "markdown",
   "metadata": {
    "slideshow": {
     "slide_type": "subslide"
    }
   },
   "source": [
    "Con técnicas de inferencia, se puede estimar la probabilidad de obtener 10 eslabones defectuosos en una muestra de 100 unidades.\n",
    "\n",
    "**Escenario**: si el proceso es aceptable, entonces hay una probabilidad de 0.02 de que esto ocurra.\n",
    "\n",
    "<center>\n",
    "    <img src=\"figures/chains-1.png\" width=\"700\"/>\n",
    "</center>\n",
    "\n",
    "Por lo tanto, es muy probable que el proceso no sea aceptable, ya que para un proceso aceptable era muy difícil obtener 10 eslabones defectuosos desde una muestra de 100 unidades.\n",
    "\n"
   ]
  },
  {
   "cell_type": "markdown",
   "metadata": {
    "slideshow": {
     "slide_type": "slide"
    }
   },
   "source": [
    "# Inferencia, Muestreo y Diseño Experimental"
   ]
  },
  {
   "cell_type": "markdown",
   "metadata": {
    "slideshow": {
     "slide_type": "slide"
    }
   },
   "source": [
    "## Relación entre inferencia estadística y probabilidades\n",
    "\n",
    "La **muestra** junto con la **inferencia** permiten obtener conclusiones acerca de una **población**.\n",
    "\n",
    "<center>\n",
    "    <img src=\"figures/inference-prob-1.png\" width=\"1000\"/>\n",
    "</center>\n",
    "\n",
    "Las probabilidades permiten **sacar conclusiones acerca de las muestras** con base en características conocidas de la población.\n",
    "\n"
   ]
  },
  {
   "cell_type": "markdown",
   "metadata": {
    "slideshow": {
     "slide_type": "slide"
    }
   },
   "source": [
    "## Población y muestreo\n",
    "\n",
    "La muestra es el **subconjunto** de una población que se estudia para obtener información sobre ella.\n",
    "\n",
    "El proceso de **muestreo** es crucial para obtener información fidedigna y evitar muestras sesgadas\n",
    "\n",
    "**Ej.:** Muestreo aleatorio VS muestreo aleatorio estratificado:\n",
    "<center>\n",
    "    <img src=\"figures/sampling-1.png\" width=\"800\"/>\n",
    "</center>"
   ]
  },
  {
   "cell_type": "markdown",
   "metadata": {
    "slideshow": {
     "slide_type": "slide"
    }
   },
   "source": [
    "## Diseño experimental\n",
    "\n",
    "El proceso de muestreo también es crucial a la hora de realizar un **diseño experimental**.\n",
    "\n",
    "Aquí se busca **identificar y cuantificar** las causas de algún efecto dentro de un estudio experimental.\n",
    "\n",
    "<center>\n",
    "    <img src=\"figures/design-1.png\" width=\"600\"/>\n",
    "</center>\n",
    "\n",
    "La idea es poder establecer un grado de confianza de una presunta relación **causa-efecto**."
   ]
  },
  {
   "cell_type": "markdown",
   "metadata": {
    "slideshow": {
     "slide_type": "slide"
    }
   },
   "source": [
    "# Ejemplo introductorio (3)\n",
    "\n",
    "Se quiere investigar si un recubrimiento de cromo ayuda a disminuir la corrosión de los eslabones.\n",
    "\n",
    "Se toma una muestra aleatoria de eslabones y se experimenta con 4 condiciones resultando lo siguiente:\n",
    "\n",
    "<center>\n",
    "    <img src=\"figures/chain-table.png\" width=\"600\"/>\n",
    "</center>\n",
    "\n",
    "A pesar que los datos permiten concluir sobre los efectos del recubrimiento y de la humedad, no es posible evaluar con exactitud los resultados sin considerar la **variabilidad del promedio**.\n"
   ]
  },
  {
   "cell_type": "markdown",
   "metadata": {
    "slideshow": {
     "slide_type": "subslide"
    }
   },
   "source": [
    "**¿Los datos con los que se llegó a cada promedio, estaban cercanos o lejanos entre sí?**\n",
    "- Ciclos promedio corrosión 1550 viene de valores 1500 y 1600\n",
    "- Ciclos promedio corrosión 1550 viene de valores 1250 y 1850\n",
    "\n",
    "**¿La muestra de eslabones permite asegurar la validez del experimento?**\n",
    "- Todos los eslabones fueron soldados en el mismo turno\n",
    "- La mitad de los eslabones fueron soldados en el turno día, mientras que los otros fueron soldados en el turno noche"
   ]
  },
  {
   "cell_type": "markdown",
   "metadata": {
    "slideshow": {
     "slide_type": "slide"
    }
   },
   "source": [
    "# Reglas del juego y ética\n",
    "\n",
    "Siempre aplica el reglamento de docencia pregrado de la Universidad y de la Facultad de Ingeniería.\n",
    "\n",
    "La asistencia a clases y prácticas es voluntaria y no será registrada.\n",
    "\n",
    "Las evaluaciones ya están fijadas y no serán reagendadas excepto por motivos de fuerza mayor."
   ]
  },
  {
   "cell_type": "markdown",
   "metadata": {
    "slideshow": {
     "slide_type": "subslide"
    }
   },
   "source": [
    "Compromisos del docente:\n",
    "- Atender y responder cualquier duda o consulta de estudiantes en un plazo razonable.\n",
    "- Realizar evaluaciones conformes al nivel de los contenidos en las clases y prácticas.\n",
    "- Tratar a estudiantes con respeto procurando una retroalimentación constructiva."
   ]
  },
  {
   "cell_type": "markdown",
   "metadata": {
    "slideshow": {
     "slide_type": "subslide"
    }
   },
   "source": [
    "Se espera de estudiantes:\n",
    "- Tener una actitud de respeto con el docente y compañeros en la sala de clases.\n",
    "- No realizar acciones ilícitas durante evaluaciones (obtener información externa)."
   ]
  },
  {
   "cell_type": "markdown",
   "metadata": {
    "slideshow": {
     "slide_type": "slide"
    }
   },
   "source": [
    "# Sumario\n",
    "\n",
    "- La estadística estudia principalmente la variabilidad inherente de los datos de algún fenómeno.\n",
    "- Hay una estadística descriptiva y una inferencial.\n",
    "- Las probabilidades tratan con los fenómenos aleatorios y estocásticos.\n",
    "- El muestreo de una población es clave para el análisis estadístico."
   ]
  }
 ],
 "metadata": {
  "celltoolbar": "Slideshow",
  "kernelspec": {
   "display_name": "Python 3",
   "language": "python",
   "name": "python3"
  },
  "language_info": {
   "codemirror_mode": {
    "name": "ipython",
    "version": 3
   },
   "file_extension": ".py",
   "mimetype": "text/x-python",
   "name": "python",
   "nbconvert_exporter": "python",
   "pygments_lexer": "ipython3",
   "version": "3.8.5"
  }
 },
 "nbformat": 4,
 "nbformat_minor": 5
}
