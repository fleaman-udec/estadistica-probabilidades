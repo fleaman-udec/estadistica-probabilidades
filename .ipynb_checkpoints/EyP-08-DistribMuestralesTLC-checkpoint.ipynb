{
 "cells": [
  {
   "cell_type": "markdown",
   "id": "189d5572",
   "metadata": {
    "slideshow": {
     "slide_type": "slide"
    }
   },
   "source": [
    "# Módulo: Inferencia Estadística\n",
    "## Distribuciones muestrales\n",
    "## Teorema del límite central\n"
   ]
  },
  {
   "cell_type": "markdown",
   "id": "f7aea9f2",
   "metadata": {
    "slideshow": {
     "slide_type": "slide"
    }
   },
   "source": [
    "# Objetivos de la clase\n",
    "- Comprender el concepto de distribución muestral\n",
    "- Conocer y aplicar el teorema del límite central para comparar la media muestral con la media poblacional.\n",
    "- Conocer y aplicar la distribución muestral de la varianza.\n"
   ]
  },
  {
   "cell_type": "markdown",
   "id": "053ed374",
   "metadata": {
    "slideshow": {
     "slide_type": "slide"
    }
   },
   "source": [
    "# Introducción\n"
   ]
  },
  {
   "cell_type": "markdown",
   "id": "2b14e899",
   "metadata": {
    "slideshow": {
     "slide_type": "slide"
    }
   },
   "source": [
    "## Motivación\n",
    "En una industria se fabrican bolas de molienda forjadas. El proceso de fabricación está automatizado de tal forma que nominalmente las bolas tienen una dureza promedio de **62 HRC**.\n",
    "\n",
    "<center>\n",
    "    <img src=\"figures/bolas-1.png\" width=\"600\"/>\n",
    "</center>\n",
    "\n",
    "El departamento de control de calidad selecciona aleatoriamente 5 bolas y obtienen que en promedio tienen una dureza de **64 HRC**. ¿A qué se debe esto?\n",
    "\n"
   ]
  },
  {
   "cell_type": "markdown",
   "id": "ee610e08",
   "metadata": {
    "slideshow": {
     "slide_type": "subslide"
    }
   },
   "source": [
    "La industria contrata a tres empresas externas para realizar la misma evaluación y se obtienen los siguientes promedios de dureza: **63 HRC**, **62 HRC** y **60 HRC**\n",
    "\n",
    "<center>\n",
    "    <img src=\"figures/bolas-2.png\" width=\"700\"/>\n",
    "</center>\n",
    "\n",
    "¿El proceso de fabricación requiere de ajustes o estos promedios obtenidos desde las muestras están dentro de rangos normales?"
   ]
  },
  {
   "cell_type": "markdown",
   "id": "041b2350",
   "metadata": {
    "slideshow": {
     "slide_type": "slide"
    }
   },
   "source": [
    "## Definiciones\n",
    "<br>\n",
    "\n",
    "<dl>\n",
    "<dt>Población</dt>\n",
    "<dd>Consiste en la totalidad de observaciones en las que estamos interesados.</dd>\n",
    "<dd>Cada observación es un valor de una variable aleatoria $X$ con alguna distribución de probabilidad $f(x)$</dd>\n",
    "<dt>Muestra</dt>\n",
    "<dd>Es un subconjunto de la población que se selecciona de ella para estudiarla. </dd>\n",
    "<dt>Inferencia estadística</dt>\n",
    "<dd>Busca caracterizar una población a través de analizar una o varias muestras. </dd>\n",
    "<dt>Muestreo</dt>\n",
    "<dd>Procedimiento mediante el cual se selecciona una muestra de la población.</dd>\n",
    "</dl>"
   ]
  },
  {
   "cell_type": "markdown",
   "id": "1f8f7929",
   "metadata": {
    "slideshow": {
     "slide_type": "slide"
    }
   },
   "source": [
    "## Muestreo \n",
    "\n",
    "Las inferencias sobre la población serán válidas solo si las muestras son **representativas** de ella.\n",
    "\n",
    "Un muestreo que sobreestime o subestime consistentemente alguna característica de la población estará **sesgado**\n",
    "\n",
    "Para reducir la posibilidad de sesgo, es deseable elegir una **muestra aleatoria** (o estratificada).\n",
    "\n",
    "<center>\n",
    "    <img src=\"figures/random-samp-1.jpg\" width=\"400\"/>\n",
    "</center>\n",
    "\n"
   ]
  },
  {
   "cell_type": "markdown",
   "id": "4292a8a7",
   "metadata": {
    "slideshow": {
     "slide_type": "subslide"
    }
   },
   "source": [
    "Para las bolas de molienda se obtuvieron las siguientes muestras para estudiar las durezas HRC:\n",
    "\n",
    "| Empresa | Bola 1 | Bola 2 | Bola 3 | Bola 4 | Bola 5 |\n",
    "| - | - | - | - | - | - |\n",
    "| 0 (int.) | 65 | 63 | 64 | 60 | 68 |\n",
    "| A | 65 | 62 | 63 | 61 | 64 |\n",
    "| B | 61 | 61 | 64 | 62 | 60 |\n",
    "| C | 60 | 55 | 64 | 60 | 61 |\n",
    "\n",
    "Las durezas HRC para cada bola seleccionada son variables aleatorias en sí. \n",
    "\n",
    "Debido al **muestreo independiente y al azar**, cada variable será independiente y tendrá la misma distribución de probabilidad $f(x)$\n",
    "\n",
    "Entonces la distribución de probabilidad conjunta de la muestra será en general:\n",
    "\n",
    "\\begin{align}\n",
    "    f(x_1, x_2, x_3, ... x_n) = f(x_1) f(x_2) f(x_3) ... f(x_n) \n",
    "\\end{align}"
   ]
  },
  {
   "cell_type": "markdown",
   "id": "4dfb7eca",
   "metadata": {
    "slideshow": {
     "slide_type": "slide"
    }
   },
   "source": [
    "# Distribuciones muestrales"
   ]
  },
  {
   "cell_type": "markdown",
   "id": "cec23420",
   "metadata": {
    "slideshow": {
     "slide_type": "slide"
    }
   },
   "source": [
    "Distribución muestral: es la distribución de probabilidad de un estadístico (media, varianza, etc.)\n",
    "\n",
    "| Empresa | Media HRC | Desv. Est. HRC |\n",
    "| - | - | - |\n",
    "| 0 (int.) | 64 | 2.92 |\n",
    "| A | 63 | 1.58 |\n",
    "| B | 62 | 1.52 |\n",
    "| C | 60 | 3.24 |\n",
    "\n",
    "La distribución muestral dependerá de:\n",
    "- Distribución de probabilidad de la población $f(x)$\n",
    "- Tamaño $n$ de las muestras\n",
    "- Método de selección de las muestras"
   ]
  },
  {
   "cell_type": "markdown",
   "id": "97d2e36e",
   "metadata": {
    "slideshow": {
     "slide_type": "subslide"
    }
   },
   "source": [
    "Las distribuciones muestrales de $\\overline{X}$ y $S^2$ (media y varianza de la muestra) sirven como mecanismos para hacer inferencias respecto de $\\mu$ y $\\sigma^{2}$ (media y varianza de la población)\n",
    "\n",
    "<center>\n",
    "    <img src=\"figures/sample-popu-4.png\" width=\"900\"/>\n",
    "</center>\n",
    "\n",
    "Las distribuciones muestrales sirven para analizar si las medias y/o varianzas obtenidas de una muestra tienen una discrepancia \"típica\" con los valores reales de la población."
   ]
  },
  {
   "cell_type": "code",
   "execution_count": 1,
   "id": "c775a762",
   "metadata": {
    "slideshow": {
     "slide_type": "slide"
    }
   },
   "outputs": [
    {
     "data": {
      "image/png": "[encoded data removed]",
      "text/plain": [
       "<Figure size 432x288 with 1 Axes>"
      ]
     },
     "metadata": {
      "needs_background": "light"
     },
     "output_type": "display_data"
    }
   ],
   "source": [
    "import numpy as np\n",
    "import matplotlib.pyplot as plt\n",
    "np.random.seed(8)\n",
    "N = 10000 #tamano de la poblacion\n",
    "population = np.random.random_sample(N)*100 #genera datos\n",
    "#population = np.random.normal(0.5, 0.1, N)*100 #genera datos\n",
    "plt.hist(population, edgecolor='black', label='Media: {:.3f}'.format(population.mean()))\n",
    "plt.xlabel('Datos Población', fontsize=12), plt.ylabel('Frecuencia', fontsize=12)\n",
    "plt.axvline(population.mean(), color='red', linestyle='dashed', linewidth=3)\n",
    "plt.legend(handlelength=0., handletextpad=0., fontsize=12)\n",
    "plt.show()"
   ]
  },
  {
   "cell_type": "code",
   "execution_count": 44,
   "id": "d7c5ee59",
   "metadata": {
    "slideshow": {
     "slide_type": "subslide"
    }
   },
   "outputs": [
    {
     "data": {
      "image/png": "[encoded data removed]",
      "text/plain": [
       "<Figure size 432x288 with 1 Axes>"
      ]
     },
     "metadata": {
      "needs_background": "light"
     },
     "output_type": "display_data"
    }
   ],
   "source": [
    "n = 200#tamano de muestra\n",
    "s = 100 #cantidad de muestras\n",
    "\n",
    "means = np.array([np.mean(population[np.random.randint(low=0, high=N, size=n)]) for i in range(s)])\n",
    "plt.hist(means, edgecolor='black', color='green', label='Media: {:.3f}'.format(means.mean()))\n",
    "plt.xlabel('Media de las muestras', fontsize=12), plt.ylabel('Frecuencia', fontsize=12)\n",
    "plt.axvline(means.mean(), color='orange', linestyle='dashed', linewidth=3)\n",
    "plt.legend(handlelength=0, handletextpad=0, fontsize=12)\n",
    "plt.show()"
   ]
  },
  {
   "cell_type": "markdown",
   "id": "5114157a",
   "metadata": {
    "slideshow": {
     "slide_type": "slide"
    }
   },
   "source": [
    "# Distribución muestral de la media"
   ]
  },
  {
   "cell_type": "markdown",
   "id": "5089e719",
   "metadata": {
    "slideshow": {
     "slide_type": "slide"
    }
   },
   "source": [
    "## Teorema del límite central\n",
    "\n",
    "Sea $\\overline{X}$ la media de una muestra aleatoria de tamaño $n$ tomada de una población con media $\\mu$ y varianza $\\sigma^2$. Entonces a medida que $n \\rightarrow \\infty$, la distribución de:\n",
    "\n",
    "<div class=\"well\">\n",
    "\\begin{align}\n",
    "    Z = \\frac{ \\overline{X} - \\mu }{ \\sigma / \\sqrt{n} }\n",
    "\\end{align}\n",
    "</div>\n",
    "\n",
    "es la distribución normal estándar $n(z; 0, 1)$\n",
    "\n",
    "Esto se cumple independiente de la distribución de la población."
   ]
  },
  {
   "cell_type": "markdown",
   "id": "c1f02609",
   "metadata": {
    "slideshow": {
     "slide_type": "subslide"
    }
   },
   "source": [
    "**Observaciones**\n",
    "\n",
    "✅ En general si $n \\geq 30$ la distribución muestral de $\\overline{X}$ será normal si la distribución de la población no es muy asimétrica.\n",
    "\n",
    "✅ Si $n < 30$ la distribución muestral de $\\overline{X}$ será normal solo si la distribución de la población es aproximadamente normal.\n",
    "\n",
    "✅ Si la distribución de la población es normal, independiente del valor de $n$, la distribución muestral de $\\overline{X}$ será normal."
   ]
  },
  {
   "cell_type": "markdown",
   "id": "bb0d9ff4",
   "metadata": {
    "slideshow": {
     "slide_type": "slide"
    }
   },
   "source": [
    "## Ejemplo\n",
    "Un determinado viaje en bus demora en promedio 28 minutos con una desviación estándar de 5 minutos. En cierta semana el bus hizo el recorrido 40 veces. ¿Cuál es la probabilidad que el tiempo promedio de viaje sea mayor a 30 minutos?\n",
    "\n",
    "<center>\n",
    "    <img src=\"figures/bus-1.png\" width=\"300\"/>\n",
    "</center>\n",
    "\n",
    "La población tiene en este caso: $\\mu = 28$ y $\\sigma = 5$. \n",
    "\n",
    "Queremos calcular $P(\\overline{X} > 30 )$ para una muestra de $n=40$. "
   ]
  },
  {
   "cell_type": "markdown",
   "id": "489e88a8",
   "metadata": {
    "slideshow": {
     "slide_type": "subslide"
    }
   },
   "source": [
    "La variable $Z$ que tomará una distribución normal estándar es:\n",
    "\n",
    "\\begin{align}\n",
    "    Z = \\frac{ \\overline{X} - \\mu }{ \\sigma / \\sqrt{n} } = \\frac{ \\overline{X} - 28 }{ 5 / \\sqrt{40} }\n",
    "\\end{align}\n",
    "\n",
    "El valor $z$ equivalente al valor $\\overline{x}=30$ es:\n",
    "\n",
    "\\begin{align}\n",
    "    Z =  \\frac{ 30 - 28 }{ 5 / \\sqrt{40} } = 2.53\n",
    "\\end{align}\n",
    "\n",
    "Por lo tanto:\n",
    "\n",
    "\\begin{align}\n",
    "    P(\\overline{X} > 30 ) = P(Z > 2.53)\n",
    "\\end{align}"
   ]
  },
  {
   "cell_type": "markdown",
   "id": "0a9a236d",
   "metadata": {
    "slideshow": {
     "slide_type": "subslide"
    }
   },
   "source": [
    "✅ Recordar que las tablas entregan los datos de la distribución normal estándar acumulada\n",
    "\n",
    "<center>\n",
    "    <img src=\"figures/norm-table-11.png\" width=\"1300\"/>\n",
    "</center>\n",
    "\n",
    "\\begin{align}\n",
    "    P(Z > 2.53) = 1 - P(Z \\leq 2.53) = 1 - 0.9943 = 0.0057\n",
    "\\end{align}\n",
    "\n",
    "Es decir, en la muestra de los 40 viajes hay una probabilidad de 0.0057 que el bus demore más de 30 minutos."
   ]
  },
  {
   "cell_type": "markdown",
   "id": "8ca3e16d",
   "metadata": {
    "slideshow": {
     "slide_type": "subslide"
    }
   },
   "source": [
    "Si ahora el viaje se hace **100 veces**, ¿bajo qué duración promedio estará el **90% de los viajes**?\n",
    "\n",
    "Debemos encontrar el valor $z$ tal que $P(Z<z)=0.9$. Esto ocurre para $z \\approx 1.28$.\n",
    "\n",
    "<center>\n",
    "    <img src=\"figures/norm-table-12.png\" width=\"1300\"/>\n",
    "</center>\n",
    "\n",
    "Calculamos el valor $\\overline{x}$ equivalente:\n",
    "\n",
    "\\begin{align}\n",
    "    x = \\frac{\\sigma z}{\\sqrt{n}} + \\mu = \\frac{5 \\cdot 1.28}{\\sqrt{100}} + 28 = 28.6\n",
    "\\end{align}\n",
    "\n",
    "Es decir, el 90% de los 100 viajes durará menos de 28.6 minutos❕"
   ]
  },
  {
   "cell_type": "markdown",
   "id": "d9848610",
   "metadata": {
    "slideshow": {
     "slide_type": "slide"
    }
   },
   "source": [
    "# Distribución muestral de la varianza\n"
   ]
  },
  {
   "cell_type": "markdown",
   "id": "2fd1a190",
   "metadata": {
    "slideshow": {
     "slide_type": "slide"
    }
   },
   "source": [
    "## Teorema\n",
    "\n",
    "Si $S^{2}$ es la varianza de una muestra aleatoria de tamaño $n$ tomada de una población normal con varianza $\\sigma^{2}$, entonces la variable estadística:\n",
    "\n",
    "\\begin{align}\n",
    "    \\frac{(n-1) S^2}{\\sigma^2}\n",
    "\\end{align}\n",
    "\n",
    "tiene distribución gamma con $\\alpha = \\nu / 2$ y $\\beta = 2$, donde $\\nu$ representa los **grados de libertad**.\n",
    "\n",
    "Este caso especial de la distribución gamma se conoce como distribución **chi cuadrada**.\n",
    "\n",
    "\n"
   ]
  },
  {
   "cell_type": "markdown",
   "id": "2692d3c4",
   "metadata": {
    "slideshow": {
     "slide_type": "subslide"
    }
   },
   "source": [
    "Debido a esto, la variable estadística anterior se denomina chi cuadrada y es igual a:\n",
    "\n",
    "\\begin{align}\n",
    "    \\chi^2 = \\frac{(n-1) S^2}{\\sigma^2} = \\sum_{i=1}^{n} \\frac{ ( X_i - \\overline{X} )^2 }{\\sigma^2}\n",
    "\\end{align}\n",
    "\n",
    "Esta variable sigue una distribución chi cuadrada con $\\nu = n - 1$ grados de libertad.\n",
    "\n",
    "<center>\n",
    "    <img src=\"figures/chi-sq-1.png\" width=\"400\"/>\n",
    "</center>"
   ]
  },
  {
   "cell_type": "markdown",
   "id": "4e3a13b1",
   "metadata": {
    "slideshow": {
     "slide_type": "subslide"
    }
   },
   "source": [
    "La probabilidad que una muestra aleatoria genere un valor $\\chi^2$ mayor a un valor específico es igual al área $\\alpha$ bajo la curva a la derecha de este valor.\n",
    "\n",
    "<center>\n",
    "    <img src=\"figures/chi2-1.png\" width=\"500\"/>\n",
    "</center>\n",
    "\n",
    "El valor $\\chi^2$ por arriba del cual se encuentra un área (probabilidad) de $\\alpha$ se representa por $\\chi_{\\alpha}^2$. \n",
    "\n",
    "Estos valores se pueden obtener desde tablas específicas."
   ]
  },
  {
   "cell_type": "markdown",
   "id": "f0b5b769",
   "metadata": {
    "slideshow": {
     "slide_type": "slide"
    }
   },
   "source": [
    "## Ejemplo \n",
    "Una fábrica de baterías garantiza que su producto dura en promedio 3 años con una varianza de 1 año$^2$ y distribución normal. Si 5 baterías tuvieron las siguientes duraciones, ¿se cumple realmente que la varianza de la población es 1 año$^2$?\n",
    " \n",
    "| Batería | Duración |\n",
    "| --- | ---- |\n",
    "| Nº1 | 1.9 años |\n",
    "| Nº2 | 2.4 años |\n",
    "| Nº3 | 3.0 años |\n",
    "| Nº4 | 3.5 años |\n",
    "| Nº5 | 4.2 años |\n",
    "\n",
    "Tenemos que $\\mu = 3$ y $\\sigma^2 = 1$. Para la muestra de $n=5$ queremos comparar $S^2$ con $\\sigma^2$"
   ]
  },
  {
   "cell_type": "markdown",
   "id": "ef8ff0cb",
   "metadata": {
    "slideshow": {
     "slide_type": "subslide"
    }
   },
   "source": [
    "Primero calculamos la media y varianza muestrales:\n",
    "\n",
    "\\begin{align}\n",
    "    \\overline{X} = \\frac{1.9 + 2.4 + 3.0 + 3.5 + 4.2}{5} = 3.0\n",
    "\\end{align}\n",
    "\n",
    "\\begin{align}\n",
    "    S^{2} = \\frac{ (1.9-\\overline{X})^2 + (2.4-\\overline{X})^2 + (3.0-\\overline{X})^2 + (3.5-\\overline{X})^2 + (4.2-\\overline{X})^2 }{4} = 0.815\n",
    "\\end{align}\n",
    "\n",
    "Dado que $\\sigma^2 = 1$, ¿es el valor de $S^2 = 0.815$ razonable? 🤨"
   ]
  },
  {
   "cell_type": "markdown",
   "id": "a2d40309",
   "metadata": {
    "slideshow": {
     "slide_type": "subslide"
    }
   },
   "source": [
    "Calculamos el valor respectivo de $\\chi^2$ a partir de $S^2$:\n",
    "\n",
    "\\begin{align}\n",
    "    \\chi^2 = \\frac{(n-1) S^2}{\\sigma^2} = \\frac{(5-1) 0.815}{1.0^2} = 3.26\n",
    "\\end{align}\n",
    "\n",
    "Ahora estimaremos la probabilidad de obtener el valor $\\chi^2 = 3.26$ para distintos rangos.\n",
    "\n",
    "<font color=darkblue>**Algunos casos**:</font>\n",
    "\n",
    "- *Si el 90% de los valores de $\\chi^2$ estuvieran entre 1 y 4.5, ¿sería $\\chi^2 = 3.26$ un valor razonable?*\n",
    "- *Si el 90% de los valores de $\\chi^2$ estuvieran entre 3.5 y 8, ¿sería $\\chi^2 = 3.26$ un valor razonable?*\n",
    "\n",
    "\n",
    "\n"
   ]
  },
  {
   "cell_type": "markdown",
   "id": "bd31fa65",
   "metadata": {
    "slideshow": {
     "slide_type": "subslide"
    }
   },
   "source": [
    "Las tablas de la distribución chi cuadrada expresan con qué probabilidad $\\alpha$ ocurren valores de $\\chi^2$ mayores que determinados valores $\\chi^2_{\\alpha}$ para distintos grados de libertad $\\nu$.\n",
    "\n",
    "Para $\\nu = 5-1 = 4$:\n",
    "\n",
    "<center>\n",
    "    <img src=\"figures/chi2-nu4-2.png\" width=\"1500\"/>\n",
    "</center>\n",
    "\n",
    "<font color=darkblue>**Algunos casos**:</font>\n",
    " \n",
    "\\begin{align}\n",
    "    P(\\chi^2 > 0.297) & = 0.99 &\n",
    "    P(\\chi^2 > 1.064) & = 0.90 &\n",
    "    P(\\chi^2 > 7.779) & = 0.10 &\n",
    "\\end{align}\n"
   ]
  },
  {
   "cell_type": "markdown",
   "id": "c5c1798f",
   "metadata": {
    "slideshow": {
     "slide_type": "subslide"
    }
   },
   "source": [
    "Se propone estimar el rango de $\\chi^2$ en que ocurre el 90% de los valores de $\\chi^2$\n",
    "\n",
    "<center>\n",
    "    <img src=\"figures/chisq-ex-2.png\" width=\"400\"/>\n",
    "</center>\n",
    "\n",
    "Entonces debemos determinar $\\chi^2_{0.95}$ y $\\chi^2_{0.05}$:\n",
    "\n",
    "<center>\n",
    "    <img src=\"figures/chi-sq-2.png\" width=\"1200\"/>\n",
    "</center>"
   ]
  },
  {
   "cell_type": "markdown",
   "id": "6ca5559a",
   "metadata": {
    "slideshow": {
     "slide_type": "subslide"
    }
   },
   "source": [
    "Es decir, con un 90% de probabilidad los valores de $\\chi^2$ están entre 0.711 y 9.488\n",
    "\n",
    "<div class=\"well\">\n",
    "\\begin{align}\n",
    "    P(0.711 < \\chi^2 < 9.488) = P(\\chi^2 > 0.711) - P(\\chi^2 > 9.488) = 0.95 - 0.05 = 0.9\n",
    "\\end{align}\n",
    "</div>\n",
    "\n",
    "\n",
    "<br><br>\n",
    "¿Entonces es un valor de $\\chi^2 = 3.26$ razonable?\n",
    "\n",
    "\n",
    "✅ La varianza de la muestra de 5 baterías con $S^2 = 0.815$ **sí es razonable** para un proceso que debe cumplir con que $\\sigma^2 = 1.0$"
   ]
  },
  {
   "cell_type": "markdown",
   "id": "4f18bfab",
   "metadata": {
    "slideshow": {
     "slide_type": "slide"
    }
   },
   "source": [
    "# Distribución $t$"
   ]
  },
  {
   "cell_type": "markdown",
   "id": "a3e068a0",
   "metadata": {
    "slideshow": {
     "slide_type": "slide"
    }
   },
   "source": [
    "## Motivación\n",
    "El teorema del límite central aplica en casos que se conoce la media $\\mu$ y varianza $\\sigma^2$ de la población.\n",
    "\n",
    "Si la varianza $\\sigma^2$ no es conocida, se puede aproximar mediante la varianza de la muestra $S^2$\n",
    "\n",
    "En este caso, se reemplaza:\n",
    "\n",
    "<div class=\"well\">\n",
    "\\begin{align}\n",
    "    \\frac{ \\overline{X} - \\mu }{ \\sigma / \\sqrt{n} } \\rightarrow \\frac{ \\overline{X} - \\mu }{ S / \\sqrt{n} }\n",
    "\\end{align}\n",
    "</div>\n",
    "\n",
    "Este valor sigue una distribución aproximadamente normal solo para valores $n$ grandes."
   ]
  },
  {
   "cell_type": "markdown",
   "id": "cce89365",
   "metadata": {
    "slideshow": {
     "slide_type": "slide"
    }
   },
   "source": [
    "## Teorema\n",
    "Para una población normal con media $\\mu$ y desviación estándar no conocida, el estadístico\n",
    "\n",
    "<div class=\"well\">\n",
    "\\begin{align}\n",
    "    T = \\frac{ \\overline{X} - \\mu }{ S / \\sqrt{n} }\n",
    "\\end{align}\n",
    "</div>\n",
    "\n",
    "tendrá una distribución $t$ con $\\nu = n - 1$ grados de libertad que es simétrica alrededor de 0."
   ]
  },
  {
   "cell_type": "markdown",
   "id": "3e8fb3ca",
   "metadata": {
    "slideshow": {
     "slide_type": "slide"
    }
   },
   "source": [
    "## Ejemplo\n",
    "Una población normal tiene media de 20. ¿Qué tan probable es obtener una muestra de tamaño 9 con media de 24 y desviación estándar de 4.1?\n",
    "\n",
    "\\begin{align}\n",
    "    t = \\frac{ \\overline{x} - \\mu }{ S / \\sqrt{n} } = \\frac{ 24 - 20 }{ 4.1 / \\sqrt{9} } = 2.93\n",
    "\\end{align}\n",
    "\n",
    "<center>\n",
    "    <img src=\"figures/table-t-2.png\" width=\"1100\"/>\n",
    "</center>\n",
    "\n",
    "La probabilidad $P(t>2.93) \\approx 0.01$\n",
    "\n",
    "Se concluye que es muy poco probable tener la muestra con las características señaladas."
   ]
  },
  {
   "cell_type": "markdown",
   "id": "0dfb07fc",
   "metadata": {
    "slideshow": {
     "slide_type": "slide"
    }
   },
   "source": [
    "# Sumario\n",
    "- Las distribuciones muestrales son las distribuciones de probabilidad que adoptan estadísticos (media, mediana, varianza, etc.) tomados desde una muestra aleatoria.\n",
    "- La distribución muestral de la media es siempre normal si el tamaño de la muestra es grande, independiente de la distribución de probabilidad de la población.\n",
    "- La distribución muestral de la varianza tiene una distribución chi cuadrada si la población tiene una distribución normal."
   ]
  }
 ],
 "metadata": {
  "celltoolbar": "Slideshow",
  "kernelspec": {
   "display_name": "Python 3 (ipykernel)",
   "language": "python",
   "name": "python3"
  },
  "language_info": {
   "codemirror_mode": {
    "name": "ipython",
    "version": 3
   },
   "file_extension": ".py",
   "mimetype": "text/x-python",
   "name": "python",
   "nbconvert_exporter": "python",
   "pygments_lexer": "ipython3",
   "version": "3.9.7"
  }
 },
 "nbformat": 4,
 "nbformat_minor": 5
}
