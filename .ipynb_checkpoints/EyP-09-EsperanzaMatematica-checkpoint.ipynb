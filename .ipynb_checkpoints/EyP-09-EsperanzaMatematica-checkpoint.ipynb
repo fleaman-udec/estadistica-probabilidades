{
 "cells": [
  {
   "cell_type": "markdown",
   "id": "2400b2ef",
   "metadata": {
    "slideshow": {
     "slide_type": "slide"
    }
   },
   "source": [
    "# Módulo: Distribuciones de Probabilidad\n",
    "## Esperanza matemática\n",
    "## Cálculo de valores esperados y varianzas"
   ]
  },
  {
   "cell_type": "markdown",
   "id": "782d7385",
   "metadata": {
    "slideshow": {
     "slide_type": "slide"
    }
   },
   "source": [
    "# Objetivos de la clase\n",
    "- Comprender el concepto de esperanza matemática.\n",
    "- Aplicar este concepto al cálculo de los valores esperados y varianzas.\n",
    "- Aplicar el mismo concepto al cálculo bivariado de covarianzas y coeficiente de correlación."
   ]
  },
  {
   "cell_type": "markdown",
   "id": "ee2b18f1",
   "metadata": {
    "slideshow": {
     "slide_type": "slide"
    }
   },
   "source": [
    "# Valor esperado"
   ]
  },
  {
   "cell_type": "markdown",
   "id": "11f07ecd",
   "metadata": {
    "slideshow": {
     "slide_type": "slide"
    }
   },
   "source": [
    "## Motivación\n",
    "\n",
    "Consideramos el experimento de lanzar un dado. ¿Cuál sería el promedio de los números obtenidos luego de infinitos lanzamientos?\n",
    "\n",
    "<center>\n",
    "    <img src=\"figures/dice-roll-3.jpg\" width=\"300\"/>\n",
    "</center>\n",
    "\n",
    "El espacio muestral es: $S = \\{1, 2, 3, 4, 5, 6 \\}$\n",
    "\n",
    "Intuitivamente podríamos predecir que el promedio de infinitos lanzamientos es:\n",
    "\n",
    "\\begin{align}\n",
    "    \\frac{1+2+3+4+5+6}{6} = 3.5\n",
    "\\end{align}\n",
    "\n"
   ]
  },
  {
   "cell_type": "markdown",
   "id": "e2735012",
   "metadata": {
    "slideshow": {
     "slide_type": "subslide"
    }
   },
   "source": [
    "¿Cambiaría este valor si el dado estuviera cargado y tuviera el doble de probabilidad de salir 6 en vez de los otros números?\n",
    "\n",
    "<center>\n",
    "    <img src=\"figures/trick-dice-1.jpg\" width=\"200\"/>\n",
    "</center>\n",
    "\n",
    "El espacio muestral se mantiene, pero las distintas probabilidades harían que el promedio cambie luego de infinitos lanzamientos"
   ]
  },
  {
   "cell_type": "markdown",
   "id": "2fe7a7ae",
   "metadata": {
    "slideshow": {
     "slide_type": "slide"
    }
   },
   "source": [
    "## Definición\n",
    "La **esperanza matemática**, también llamada **valor esperado** o **media poblacional** de una variable aleatoria $X$ es el concepto que generaliza la idea de valor medio (o promedio) de un fenómeno aleatorio.\n",
    "\n",
    "Matemáticamente, el valor esperado de la variable discreta $X$ es:\n",
    "\n",
    "\\begin{align}\n",
    "    \\mu = E[X] = \\sum_{x} x f(x)\n",
    "\\end{align}\n",
    "\n",
    "Y para el caso de una variable continua $X$ es:\n",
    "\n",
    "\\begin{align}\n",
    "    \\mu = E[X] = \\int_{-\\infty}^{\\infty} x f(x) dx\n",
    "\\end{align}"
   ]
  },
  {
   "cell_type": "markdown",
   "id": "5073f5ee",
   "metadata": {
    "slideshow": {
     "slide_type": "slide"
    }
   },
   "source": [
    "**Ejemplo**: ¿Cuál sería el valor esperado de lanzar el dado cargado anterior un número infinito de veces?\n",
    "\n",
    "Las probabilidades deben sumar 1 y hay el doble de probabilidad de lanzar 6 que los otros números. Entonces:\n",
    "\n",
    "\\begin{align}\n",
    "    w + w + w + w + w + 2w = 1\n",
    "\\end{align}\n",
    "\n",
    "\\begin{align}\n",
    "    w = \\frac{1}{7}\n",
    "\\end{align}\n",
    "\n",
    "El valor esperado sería:\n",
    "\n",
    "\\begin{align}\n",
    "    \\mu = E[X] = 1 \\left( \\frac{1}{7} \\right) + 2 \\left( \\frac{1}{7} \\right) + 3 \\left( \\frac{1}{7} \\right) + 4 \\left( \\frac{1}{7} \\right) + 5 \\left( \\frac{1}{7} \\right) + 6 \\left( \\frac{2}{7} \\right) \\approx 3.86\n",
    "\\end{align}"
   ]
  },
  {
   "cell_type": "code",
   "execution_count": 1,
   "id": "5363a51e",
   "metadata": {
    "slideshow": {
     "slide_type": "subslide"
    }
   },
   "outputs": [
    {
     "name": "stdout",
     "output_type": "stream",
     "text": [
      "3.55\n"
     ]
    }
   ],
   "source": [
    "import numpy as np\n",
    "\n",
    "def roll(prob):    \n",
    "    return np.random.choice(a=[1, 2, 3, 4, 5, 6], p=prob)\n",
    "\n",
    "def simulate(n, prob):\n",
    "    trials = [roll(prob) for i in range(n)]\n",
    "    return print( np.sum(trials)/n )\n",
    "\n",
    "simulate(100, [1/6, 1/6, 1/6, 1/6, 1/6, 1/6])\n",
    "\n",
    "#simulate(100, [1/7, 1/7, 1/7, 1/7, 1/7, 2/7])"
   ]
  },
  {
   "cell_type": "markdown",
   "id": "d8b9e3b3",
   "metadata": {
    "slideshow": {
     "slide_type": "slide"
    }
   },
   "source": [
    "**Ejemplo**: Sea $X$ la variable aleatoria que denota la vida en horas de un dispositivo electrónico. Suponga que tiene la siguiente función de densidad:\n",
    "\n",
    "\\begin{split}\n",
    "    f(x) = \\Bigg\\{\n",
    "    \\begin{array}{ c c }\n",
    "    \\frac{20000}{x^3},  & \\quad \\textrm{if } x > 100 \\\\\n",
    "    0,                & \\quad \\textrm{elsewhere}\n",
    "  \\end{array}\n",
    "\\end{split}\n",
    "\n",
    "¿Cuál sería la vida esperada (o media poblacional) para este dispositivo electrónico?\n",
    "\n",
    "\\begin{align}\n",
    "    \\mu = E[X] = \\int_{100}^{\\infty} x \\frac{20000}{x^3} dx = \\frac{-20000}{x} = \\Big|_{100}^{\\infty} = 200\n",
    "\\end{align}"
   ]
  },
  {
   "cell_type": "markdown",
   "id": "93341483",
   "metadata": {
    "slideshow": {
     "slide_type": "slide"
    }
   },
   "source": [
    "# Varianza y Covarianza"
   ]
  },
  {
   "cell_type": "markdown",
   "id": "04176dea",
   "metadata": {
    "slideshow": {
     "slide_type": "slide"
    }
   },
   "source": [
    "## Cálculo varianza\n",
    "Así como el valor esperado representa una generalización de la media para una variable aleatoria, también es posible introducir el concepto de probabilidad para los cálculos de medidas de variabilidad.\n",
    "\n",
    "De esta forma, se define la varianza de la variable discreta $X$ como:\n",
    "\n",
    "\\begin{align}\n",
    "    \\sigma^{2} = E[(X-\\mu)^2] = \\sum_{x} (x-\\mu)^2 f(x)\n",
    "\\end{align}\n",
    "\n",
    "Y la varianza para la variable continua $X$ como:\n",
    "\n",
    "\\begin{align}\n",
    "    \\sigma^{2} = E[(X-\\mu)^2] = \\int_{-\\infty}^{\\infty} (x-\\mu)^2 f(x) dx\n",
    "\\end{align}"
   ]
  },
  {
   "cell_type": "markdown",
   "id": "914cce63",
   "metadata": {
    "slideshow": {
     "slide_type": "subslide"
    }
   },
   "source": [
    "La desviación estándar ($\\sigma$) corresponde a la raiz cuadrada positiva de la varianza.\n",
    "\n",
    "\\begin{align}\n",
    "    \\sigma = +\\sqrt{ \\sigma^2 }\n",
    "\\end{align}\n",
    "\n",
    "Además, se puede demostrar el siguiente teorema para la variable aleatoria $X$:\n",
    "\n",
    "\\begin{align}\n",
    "    \\sigma^2 = E[X^2] - \\mu^2 \n",
    "\\end{align}"
   ]
  },
  {
   "cell_type": "markdown",
   "id": "23d2dd25",
   "metadata": {
    "slideshow": {
     "slide_type": "slide"
    }
   },
   "source": [
    "## Cálculo covarianza\n",
    "\n",
    "Para el caso del análisis bivariado, supongamos que estudiamos la variación conjunta de 2 variables aleatorias $X$ e $Y$ con distribución conjunta $f(x,y)$.\n",
    "\n",
    "Se puede generalizar el cálculo de la covarianza de la siguiente forma para el caso discreto:\n",
    "\n",
    "\\begin{align}\n",
    "    \\sigma_{XY} = E[(X-\\mu_{X})(Y-\\mu_{Y})] = \\sum_{x} \\sum_{y} (x-\\mu_{X}) (y-\\mu_{Y}) f(x,y)\n",
    "\\end{align}\n",
    "\n",
    "Y de la siguiente forma para el caso continuo:\n",
    "\n",
    "\\begin{align}\n",
    "    \\sigma_{XY} = E[(X-\\mu_{X})(Y-\\mu_{Y})] = \\int_{-\\infty}^{\\infty} \\int_{-\\infty}^{\\infty} (x-\\mu_{X}) (y-\\mu_{Y}) f(x,y) dx dy\n",
    "\\end{align}"
   ]
  },
  {
   "cell_type": "markdown",
   "id": "8d6845e6",
   "metadata": {
    "slideshow": {
     "slide_type": "subslide"
    }
   },
   "source": [
    "Análogo al caso unidimensional, se puede demostrar el siguiente teorema para las variables aleatorias $X$ e $Y$:\n",
    "\n",
    "\\begin{align}\n",
    "    \\sigma_{XY} = E[XY] - \\mu_{X}\\mu_{Y}\n",
    "\\end{align}\n",
    "\n",
    "Además, se define el **coeficiente de correlación** (Pearson) entre las variables aleatorias $X$ e $Y$ como sigue:\n",
    "\n",
    "\\begin{align}\n",
    "    \\rho_{XY} = \\frac{\\sigma_{XY}}{\\sigma_{X} \\sigma_{Y}}\n",
    "\\end{align}\n",
    "\n",
    "Este coeficiente mide el grado de correlación lineal entre ambas variables y toma valores entre -1 y 1 (cómo vimos anteriormente en clases)"
   ]
  },
  {
   "cell_type": "markdown",
   "id": "115e9b0d",
   "metadata": {
    "slideshow": {
     "slide_type": "subslide"
    }
   },
   "source": [
    "Para el cálculo del valor esperado $E[XY]$ podemos usar la siguiente propiedad:\n",
    "\n",
    "Siendo $X$ e $Y$ variables aleatorias discretas con distribución de probabilidad conjunta $f(x,y)$, el valor esperado de la variable aleatoria $Z = r(x,y)$ es:\n",
    "\n",
    "\\begin{align}\n",
    "    E[Z] = E[r(x,y)] = \\sum_{x} \\sum_{y} r(x,y) f(x,y)\n",
    "\\end{align}\n",
    "\n",
    "Y para el caso de variables aleatorias continuas:\n",
    "\n",
    "\\begin{align}\n",
    "    E[Z] = E[r(x,y)] = \\int_{-\\infty}^{\\infty} \\int_{-\\infty}^{\\infty} r(x,y) f(x,y) dx dy\n",
    "\\end{align}\n"
   ]
  },
  {
   "cell_type": "markdown",
   "id": "9b7f6d4e",
   "metadata": {
    "slideshow": {
     "slide_type": "slide"
    }
   },
   "source": [
    "# Ejercicio\n",
    "La fracción $X$ de corredores y la fracción $Y$ de corredoras que compiten en un maratón vienen dadas por la función de densidad conjunta $f(x,y)$. Se pide calcular la covarianza de $X$ e $Y$.\n",
    "\n",
    "\\begin{split}\n",
    "    f(x) = \\Bigg\\{\n",
    "    \\begin{array}{ c c }\n",
    "    8xy,  & \\quad \\textrm{if } 0 \\leq y \\leq x \\leq 1 \\\\\n",
    "    0,                & \\quad \\textrm{elsewhere}\n",
    "  \\end{array}\n",
    "\\end{split}\n",
    "\n",
    "Primero calculamos las funciones de densidad marginal:\n",
    "\n",
    "\\begin{split}\n",
    "    g(x) = \\int_{-\\infty}^{\\infty} f(x,y) dy =  \\Bigg\\{\n",
    "    \\begin{array}{ c c }\n",
    "    4x^3,  & \\quad \\textrm{if } 0 \\leq x \\leq 1 \\\\\n",
    "    0,                & \\quad \\textrm{elsewhere}\n",
    "  \\end{array}\n",
    "\\end{split}\n",
    "\n"
   ]
  },
  {
   "cell_type": "markdown",
   "id": "8a337bc7",
   "metadata": {
    "slideshow": {
     "slide_type": "subslide"
    }
   },
   "source": [
    "\\begin{split}\n",
    "    h(y) = \\int_{-\\infty}^{\\infty} f(x,y) dx =  \\Bigg\\{\n",
    "    \\begin{array}{ c c }\n",
    "    4y(1-y^2),  & \\quad \\textrm{if } 0 \\leq y \\leq 1 \\\\\n",
    "    0,                & \\quad \\textrm{elsewhere}\n",
    "  \\end{array}\n",
    "\\end{split}\n",
    "\n",
    "Ahora podemos calcular los valores esperados para cada variable:\n",
    "\n",
    "\\begin{align}\n",
    "    \\mu_{X} = E[X] = \\int_{-\\infty}^{\\infty} x g(x) dx = \\int_{0}^{1} 4x^4 dx = \\frac{4}{5}\n",
    "\\end{align}\n",
    "\n",
    "\\begin{align}\n",
    "    \\mu_{Y} = E[Y] = \\int_{-\\infty}^{\\infty} y h(y) dy = \\int_{0}^{1} 4y(1-y^2) dy = \\frac{8}{15}\n",
    "\\end{align}\n",
    "\n",
    "\n"
   ]
  },
  {
   "cell_type": "markdown",
   "id": "340c2e32",
   "metadata": {
    "slideshow": {
     "slide_type": "subslide"
    }
   },
   "source": [
    "Para el cálculo de la covarianza podemos emplear el valor esperado de la variable conjunta $r(x,y) = XY$:\n",
    "\n",
    "\\begin{align}\n",
    "    E[XY] = \\int_{-\\infty}^{\\infty} \\int_{-\\infty}^{\\infty} r(x,y) f(x,y) dx dy = \\int_{0}^{1} \\int_{y}^{1} xy \\cdot 8xy \\cdot dx dy = \\frac{4}{9}\n",
    "\\end{align}\n",
    "\n",
    "Finalmente la covarianza entre las variables $X$ e $Y$ se calcula de la siguiente forma:\n",
    "\n",
    "\\begin{align}\n",
    "    \\sigma_{XY} = E[XY] - \\mu_{X}\\mu_{Y} = \\frac{4}{9} - \\left( \\frac{4}{5} \\right) \\left( \\frac{8}{15} \\right)= \\frac{4}{225}\n",
    "\\end{align}"
   ]
  },
  {
   "cell_type": "markdown",
   "id": "4ef0aa1a",
   "metadata": {
    "slideshow": {
     "slide_type": "slide"
    }
   },
   "source": [
    "# Sumario\n",
    "- La esperanza matemática es el concepto que ayuda a generalizar los cálculos de media y varianza considerando las distribuciones de probabilidad.\n",
    "- Usando esto, podemos aproximar de mejor manera las medidas de tendencia central y variabilidad para una población si conocemos las distribuciones de probabilidad."
   ]
  }
 ],
 "metadata": {
  "celltoolbar": "Slideshow",
  "kernelspec": {
   "display_name": "Python 3 (ipykernel)",
   "language": "python",
   "name": "python3"
  },
  "language_info": {
   "codemirror_mode": {
    "name": "ipython",
    "version": 3
   },
   "file_extension": ".py",
   "mimetype": "text/x-python",
   "name": "python",
   "nbconvert_exporter": "python",
   "pygments_lexer": "ipython3",
   "version": "3.9.7"
  }
 },
 "nbformat": 4,
 "nbformat_minor": 5
}
