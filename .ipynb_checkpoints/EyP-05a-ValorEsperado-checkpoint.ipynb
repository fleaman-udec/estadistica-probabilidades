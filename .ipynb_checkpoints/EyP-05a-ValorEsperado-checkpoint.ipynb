{
 "cells": [
  {
   "cell_type": "markdown",
   "id": "138020d2",
   "metadata": {
    "slideshow": {
     "slide_type": "slide"
    }
   },
   "source": [
    "# Módulo: Distribuciones de Probabilidad\n",
    "## T5a: Valor esperado"
   ]
  },
  {
   "cell_type": "markdown",
   "id": "6922bcbe",
   "metadata": {
    "slideshow": {
     "slide_type": "slide"
    }
   },
   "source": [
    "# Objetivos de la clase\n",
    "- Comprender el concepto de valor esperado o esperanza matemática.\n",
    "- Aplicar este concepto al cálculo de medias y varianzas.\n"
   ]
  },
  {
   "cell_type": "markdown",
   "id": "568ccd69",
   "metadata": {
    "slideshow": {
     "slide_type": "slide"
    }
   },
   "source": [
    "# Valor esperado"
   ]
  },
  {
   "cell_type": "markdown",
   "id": "4f43b889",
   "metadata": {
    "slideshow": {
     "slide_type": "slide"
    }
   },
   "source": [
    "## Motivación\n",
    "\n",
    "Consideramos el experimento de lanzar un dado. ¿Cuál sería el promedio de los números obtenidos luego de infinitos lanzamientos?\n",
    "\n",
    "<center>\n",
    "    <img src=\"figures/dice-roll-3.jpg\" width=\"300\"/>\n",
    "</center>\n",
    "\n",
    "El espacio muestral es: $S = \\{1, 2, 3, 4, 5, 6 \\}$\n",
    "\n",
    "Intuitivamente podríamos predecir que el promedio de infinitos lanzamientos es:\n",
    "\n",
    "\\begin{align}\n",
    "    \\frac{1+2+3+4+5+6}{6} = 3.5\n",
    "\\end{align}\n",
    "\n"
   ]
  },
  {
   "cell_type": "markdown",
   "id": "768a6048",
   "metadata": {
    "slideshow": {
     "slide_type": "subslide"
    }
   },
   "source": [
    "¿Cambiaría este valor si el dado estuviera cargado y tuviera el doble de probabilidad de salir 6 en vez de los otros números?\n",
    "\n",
    "<center>\n",
    "    <img src=\"figures/trick-dice-1.jpg\" width=\"200\"/>\n",
    "</center>\n",
    "\n",
    "El espacio muestral se mantiene, pero las distintas probabilidades harían que el promedio cambie luego de infinitos lanzamientos"
   ]
  },
  {
   "cell_type": "markdown",
   "id": "bfd8768b",
   "metadata": {
    "slideshow": {
     "slide_type": "slide"
    }
   },
   "source": [
    "## Definición\n",
    "La **esperanza matemática**, también llamada **valor esperado** o **media poblacional** de una variable aleatoria $X$ es el concepto que generaliza la idea de valor medio (o promedio) de un fenómeno aleatorio.\n",
    "\n",
    "Matemáticamente, el valor esperado de la variable discreta $X$ es:\n",
    "\n",
    "\\begin{align}\n",
    "    \\mu = E[X] = \\sum_{x} x f(x)\n",
    "\\end{align}\n",
    "\n",
    "Y para el caso de una variable continua $X$ es:\n",
    "\n",
    "\\begin{align}\n",
    "    \\mu = E[X] = \\int_{-\\infty}^{\\infty} x f(x) dx\n",
    "\\end{align}"
   ]
  },
  {
   "cell_type": "markdown",
   "id": "d3afb792",
   "metadata": {
    "slideshow": {
     "slide_type": "slide"
    }
   },
   "source": [
    "**Ejemplo**: ¿Cuál sería el valor esperado de lanzar el dado cargado anterior un número infinito de veces?\n",
    "\n",
    "Las probabilidades deben sumar 1 y hay el doble de probabilidad de lanzar 6 que los otros números. Entonces:\n",
    "\n",
    "\\begin{align}\n",
    "    w + w + w + w + w + 2w = 1\n",
    "\\end{align}\n",
    "\n",
    "\\begin{align}\n",
    "    w = \\frac{1}{7}\n",
    "\\end{align}\n",
    "\n",
    "El valor esperado sería:\n",
    "\n",
    "\\begin{align}\n",
    "    \\mu = E[X] = 1 \\left( \\frac{1}{7} \\right) + 2 \\left( \\frac{1}{7} \\right) + 3 \\left( \\frac{1}{7} \\right) + 4 \\left( \\frac{1}{7} \\right) + 5 \\left( \\frac{1}{7} \\right) + 6 \\left( \\frac{2}{7} \\right) \\approx 3.86\n",
    "\\end{align}"
   ]
  },
  {
   "cell_type": "code",
   "execution_count": 7,
   "id": "74acf338",
   "metadata": {
    "slideshow": {
     "slide_type": "subslide"
    }
   },
   "outputs": [
    {
     "name": "stdout",
     "output_type": "stream",
     "text": [
      "3.5\n"
     ]
    }
   ],
   "source": [
    "import numpy as np\n",
    "\n",
    "def roll(prob):    \n",
    "    return np.random.choice(a=[1, 2, 3, 4, 5, 6], p=prob)\n",
    "\n",
    "def simulate(n, prob):\n",
    "    trials = [roll(prob) for i in range(n)]\n",
    "    return print( np.mean(trials) )\n",
    "\n",
    "simulate(100, [1/6, 1/6, 1/6, 1/6, 1/6, 1/6])\n",
    "\n",
    "#simulate(100, [1/7, 1/7, 1/7, 1/7, 1/7, 2/7])"
   ]
  },
  {
   "cell_type": "markdown",
   "id": "3c710270",
   "metadata": {
    "slideshow": {
     "slide_type": "slide"
    }
   },
   "source": [
    "**Ejemplo**: Sea $X$ la variable aleatoria que denota la vida en horas de un dispositivo electrónico. Suponga que tiene la siguiente función de densidad:\n",
    "\n",
    "\\begin{split}\n",
    "    f(x) = \\Bigg\\{\n",
    "    \\begin{array}{ c c }\n",
    "    \\frac{20000}{x^3},  & \\quad \\textrm{if } x > 100 \\\\\n",
    "    0,                & \\quad \\textrm{elsewhere}\n",
    "  \\end{array}\n",
    "\\end{split}\n",
    "\n",
    "¿Cuál sería la vida esperada (o media poblacional) para este dispositivo electrónico?\n",
    "\n",
    "\\begin{align}\n",
    "    \\mu = E[X] = \\int_{100}^{\\infty} x \\frac{20000}{x^3} dx = \\frac{-20000}{x} = \\Big|_{100}^{\\infty} = 200\n",
    "\\end{align}"
   ]
  },
  {
   "cell_type": "markdown",
   "id": "0d347581",
   "metadata": {
    "slideshow": {
     "slide_type": "slide"
    }
   },
   "source": [
    "# Varianza generalizada"
   ]
  },
  {
   "cell_type": "markdown",
   "id": "9dd9c3a5",
   "metadata": {
    "slideshow": {
     "slide_type": "slide"
    }
   },
   "source": [
    "## Cálculo varianza\n",
    "Así como el valor esperado representa una generalización de la media para una variable aleatoria, también es posible introducir el concepto de probabilidad para los cálculos de medidas de variabilidad.\n",
    "\n",
    "De esta forma, se define la varianza de la variable discreta $X$ como:\n",
    "\n",
    "\\begin{align}\n",
    "    \\sigma^{2} = E[(X-\\mu)^2] = \\sum_{x} (x-\\mu)^2 f(x)\n",
    "\\end{align}\n",
    "\n",
    "Y la varianza para la variable continua $X$ como:\n",
    "\n",
    "\\begin{align}\n",
    "    \\sigma^{2} = E[(X-\\mu)^2] = \\int_{-\\infty}^{\\infty} (x-\\mu)^2 f(x) dx\n",
    "\\end{align}"
   ]
  },
  {
   "cell_type": "markdown",
   "id": "61b42570",
   "metadata": {
    "slideshow": {
     "slide_type": "subslide"
    }
   },
   "source": [
    "La desviación estándar ($\\sigma$) corresponde a la raiz cuadrada positiva de la varianza.\n",
    "\n",
    "\\begin{align}\n",
    "    \\sigma = +\\sqrt{ \\sigma^2 }\n",
    "\\end{align}\n",
    "\n",
    "Además, se puede demostrar el siguiente teorema para la variable aleatoria $X$:\n",
    "\n",
    "\\begin{align}\n",
    "    \\sigma^2 = E[X^2] - \\mu^2 \n",
    "\\end{align}"
   ]
  },
  {
   "cell_type": "markdown",
   "id": "be677834",
   "metadata": {
    "slideshow": {
     "slide_type": "slide"
    }
   },
   "source": [
    "# Ejercicio\n",
    "La tasa de aprobación $X$ de un examen viene dada por la función de densidad $f(x)$. Se pide calcular la desviación estándar de $X$.\n",
    "\n",
    "\\begin{split}\n",
    "    f(x) = \\Bigg\\{\n",
    "    \\begin{array}{ c c }\n",
    "    2x,  & \\quad \\textrm{if } 0 \\leq x \\leq 1 \\\\\n",
    "    0,                & \\quad \\textrm{elsewhere}\n",
    "  \\end{array}\n",
    "\\end{split}\n",
    "\n",
    "Primero calculamos el valor esperado:\n",
    "\n",
    "\\begin{align}\n",
    "    \\mu = E[X] = \\int_{-\\infty}^{\\infty} x f(x) dx = \\int_{0}^{1} 2x^2 dx = \\frac{2}{3} \\approx 0.667\n",
    "\\end{align}\n",
    "\n"
   ]
  },
  {
   "cell_type": "markdown",
   "id": "d8afad5d",
   "metadata": {
    "slideshow": {
     "slide_type": "subslide"
    }
   },
   "source": [
    "Ahora calculamos la varianza:\n",
    "\n",
    "\\begin{align}\n",
    "    \\sigma^{2} = E[(X-\\mu)^2] = \\int_{0}^{1} (x- \\frac{2}{3} )^2 2x dx = \\frac{1}{18}\n",
    "\\end{align}\n",
    "\n",
    "Finalmente la desviación estándar es:\n",
    "\n",
    "\\begin{align}\n",
    "    \\sigma = \\sqrt{\\frac{1}{18}} \\approx 0.236\n",
    "\\end{align}\n"
   ]
  },
  {
   "cell_type": "markdown",
   "id": "3fc274b0",
   "metadata": {
    "slideshow": {
     "slide_type": "slide"
    }
   },
   "source": [
    "# Sumario\n",
    "- La esperanza matemática es el concepto que ayuda a generalizar los cálculos de media y varianza considerando las distribuciones de probabilidad.\n",
    "- Usando esto, podemos aproximar de mejor manera las medidas de tendencia central y variabilidad para una población si conocemos las distribuciones de probabilidad."
   ]
  }
 ],
 "metadata": {
  "celltoolbar": "Slideshow",
  "kernelspec": {
   "display_name": "Python 3 (ipykernel)",
   "language": "python",
   "name": "python3"
  },
  "language_info": {
   "codemirror_mode": {
    "name": "ipython",
    "version": 3
   },
   "file_extension": ".py",
   "mimetype": "text/x-python",
   "name": "python",
   "nbconvert_exporter": "python",
   "pygments_lexer": "ipython3",
   "version": "3.9.7"
  }
 },
 "nbformat": 4,
 "nbformat_minor": 5
}
