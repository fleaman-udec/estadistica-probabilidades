{
 "cells": [
  {
   "cell_type": "markdown",
   "id": "5f6765ed",
   "metadata": {
    "slideshow": {
     "slide_type": "slide"
    }
   },
   "source": [
    "# Módulo: Inferencia Estadística\n",
    "## Problemas de estimación\n",
    "## Intervalos de confianza y tolerancia"
   ]
  },
  {
   "cell_type": "markdown",
   "id": "fe293007",
   "metadata": {
    "slideshow": {
     "slide_type": "slide"
    }
   },
   "source": [
    "# Objetivos de la clase\n",
    "- Calcular intervalos de confianza para la estimación de la media con una muestra\n",
    "- Calcular intervalos de tolerancia para estimar proporciones de una población\n",
    "- Calcular intervalos de confianza para la estimación de la varianza con una muestra\n"
   ]
  },
  {
   "cell_type": "markdown",
   "id": "5ebfb730",
   "metadata": {
    "slideshow": {
     "slide_type": "slide"
    }
   },
   "source": [
    "# Introducción\n"
   ]
  },
  {
   "cell_type": "markdown",
   "id": "252256b6",
   "metadata": {
    "slideshow": {
     "slide_type": "slide"
    }
   },
   "source": [
    "La inferencia estadística se divide en dos áreas: estimación y pruebas de hipótesis\n",
    "\n",
    "*Ejemplos:*\n",
    "<dl>\n",
    "<dt>Estimación</dt>\n",
    "<dd>Se quiere estimar la resistencia de un material dada una muestra</dd>\n",
    "<dt>Prueba de hipótesis</dt>\n",
    "<dd>Se quiere conocer si el material A es más resistente que el material B </dd>\n",
    "</dl>\n",
    "\n",
    "<center>\n",
    "    <img src=\"figures/stats-2.jpg\" width=\"500\"/>\n",
    "</center>"
   ]
  },
  {
   "cell_type": "markdown",
   "id": "66dd1f9c",
   "metadata": {
    "slideshow": {
     "slide_type": "slide"
    }
   },
   "source": [
    "# Estimación de la media con una sola muestra\n"
   ]
  },
  {
   "cell_type": "markdown",
   "id": "c84a2ae0",
   "metadata": {
    "slideshow": {
     "slide_type": "slide"
    }
   },
   "source": [
    "## Teorema límite central\n",
    "Del TLC se puede concluir que la distribución muestral de $\\overline{X}$ tiene:\n",
    "\n",
    "- Una media $\\mu_{\\overline{X}} = \\mu$ \n",
    "- Una varianza $\\sigma_{\\overline{X}}^2 = \\sigma^2/n$ \n",
    "- Distribución normal si $n$ es grande o la población es normal\n",
    "\n",
    "<center>\n",
    "    <img src=\"figures/tlc-2.png\" width=\"600\"/>\n",
    "</center>"
   ]
  },
  {
   "cell_type": "markdown",
   "id": "7b1fba1b",
   "metadata": {
    "slideshow": {
     "slide_type": "subslide"
    }
   },
   "source": [
    "Por lo tanto, el valor puntual de una muestra $\\overline{x}$ será muy cercano a $\\mu$ si $n$ es grande.\n",
    "\n",
    "<center>\n",
    "    <img src=\"figures/tlc-1.png\" width=\"900\"/>\n",
    "</center>\n",
    "\n",
    "Todo lo anterior permite establecer intervalos de probabilidad (confianza) para $\\mu$ a partir de la distribución normal de $\\overline{X}$"
   ]
  },
  {
   "cell_type": "markdown",
   "id": "ee3043d9",
   "metadata": {
    "slideshow": {
     "slide_type": "slide"
    }
   },
   "source": [
    "## Intervalos de confianza\n",
    "Formamos la variable $Z$ relativa a la distribución normal estandar de la siguiente forma:\n",
    "\n",
    "\\begin{align}\n",
    "    Z = \\frac{ \\overline{X} - \\mu }{ \\sigma / \\sqrt{n} }\n",
    "\\end{align}\n",
    "\n",
    "Al definir como $z_{\\alpha /2}$ al valor $z$ por sobre el cual encontramos un área de $\\alpha /2$ bajo la curva normal\n",
    "\n",
    "\\begin{align}\n",
    "    P \\left( -z_{\\alpha /2} < Z < z_{\\alpha /2} \\right) = 1 - \\alpha\n",
    "\\end{align}\n",
    "\n",
    "<center>\n",
    "    <img src=\"figures/norm-interval-1.png\" width=\"500\"/>\n",
    "</center>\n",
    "\n",
    "\n"
   ]
  },
  {
   "cell_type": "markdown",
   "id": "5c755af6",
   "metadata": {
    "slideshow": {
     "slide_type": "subslide"
    }
   },
   "source": [
    "*Sea $\\overline{x}$ la media de una muestra aleatoria de tamaño $n$ de una población con varianza $\\sigma^2$ conocida:*\n",
    "\n",
    "El intervalo de confianza de $100(1 - \\alpha)\\%$ para la estimación de la media poblacional $\\mu$ es:\n",
    "\n",
    "<div class=\"well\">\n",
    "    \\begin{align}\n",
    "        \\mu \\in \\left[  \\overline{x} - z_{\\alpha /2} \\frac{\\sigma}{\\sqrt{n}} , \\overline{x} + z_{\\alpha /2} \\frac{\\sigma}{\\sqrt{n}} \\right]\n",
    "    \\end{align}\n",
    "</div>\n",
    "\n",
    "donde $z_{\\alpha /2}$ es el valor $z$ que deja un área de $\\alpha /2$ a la derecha.\n",
    "\n",
    "**Ejemplo:** Si quieremos una confianza del $95\\%$ entonces:\n",
    " \n",
    "\\begin{equation}\n",
    "    95 = 100(1 - \\alpha) \\\\\n",
    "    \\alpha = 1 - 0.95 = 0.05\n",
    "\\end{equation}"
   ]
  },
  {
   "cell_type": "markdown",
   "id": "880fafa1",
   "metadata": {
    "slideshow": {
     "slide_type": "slide"
    }
   },
   "source": [
    "**Ejemplo**: La concentración media de Zinc en **36 puntos** de medición en un lago es de **2.6 g/mL**. Calcular el intervalo de confianza del **95%** para la concentración media de zinc en el lago. Suponer una desviación estándar de la población de **0.3 g/mL**.\n",
    "\n",
    "&#10148; La estimación puntual de $\\mu$ es: <font color=darkblue>$\\overline{x} = 2.6$</font>\n",
    "\n",
    "&#10148;  Para una confianza del 95%: <font color=darkblue>$\\alpha = 1 - 0.95 = 0.05$</font>\n",
    "\n",
    "&#10148; Debemos buscar el valor $z$ que deja un área de $\\alpha /2 = 0.025$ a la derecha (y por lo tanto un área de $0.975$ a la izquierda).\n",
    "\n",
    "<center>\n",
    "    <img src=\"figures/norm-table-9.png\" width=\"1300\"/>\n",
    "</center>\n",
    "\n",
    "&#10148; Esto se cumple para: <font color=darkblue>$z_{\\alpha / 2} = 1.96$</font>"
   ]
  },
  {
   "cell_type": "markdown",
   "id": "8d771571",
   "metadata": {
    "slideshow": {
     "slide_type": "subslide"
    }
   },
   "source": [
    "&#10148; Tenemos que la muestra es de tamaño $n = 36$ para una población con $\\sigma = 0.3$\n",
    "\n",
    "&#10148; Entonces el intervalo de confianza del 95% es:\n",
    "\n",
    "<div class=\"well\">\n",
    "    \\begin{align}\n",
    "        \\mu \\in \\left[  \\overline{x} - z_{\\alpha /2} \\frac{\\sigma}{\\sqrt{n}} , \\overline{x} + z_{\\alpha /2} \\frac{\\sigma}{\\sqrt{n}} \\right]\n",
    "    \\end{align}\n",
    "</div>\n",
    "\n",
    "\\begin{align}\n",
    "        \\mu \\in \\left[  2.6 - 1.96 \\frac{0.3}{\\sqrt{36}} , 2.6 + 1.96 \\frac{0.3}{\\sqrt{36}} \\right]\n",
    "\\end{align}\n",
    "\n",
    "\\begin{align}\n",
    "    \\mu \\in \\left[ 2.5 , 2.7 \\right]\n",
    "\\end{align}\n",
    "\n",
    "&#10148; Esto significa que con una confianza del 95\\% la media poblacional $\\mu$ estará entre 2.5 y 2.7."
   ]
  },
  {
   "cell_type": "markdown",
   "id": "fab3d21c",
   "metadata": {
    "slideshow": {
     "slide_type": "slide"
    }
   },
   "source": [
    "## Error en la estimación\n",
    "\n",
    "La magnitud del error en la estimación de la media poblacional es la diferencia entre $\\mu$ y la estimación puntual de la muestra $\\overline{x}$\n",
    "\n",
    "<center>\n",
    "    <img src=\"figures/error-2.png\" width=\"700\"/>\n",
    "</center>\n",
    "\n",
    "Para un intervalo dado, tenemos una confianza de $100(1 - \\alpha)\\%$ que el error no superará el valor:\n",
    "\n",
    "\\begin{align}\n",
    "    e < z_{\\alpha /2} \\frac{\\sigma}{\\sqrt{n}}\n",
    "\\end{align}"
   ]
  },
  {
   "cell_type": "markdown",
   "id": "d6d3a67a",
   "metadata": {
    "slideshow": {
     "slide_type": "subslide"
    }
   },
   "source": [
    "*Además se puede demostrar que:*\n",
    "\n",
    "Si usamos $\\overline{x}$ para estimar $\\mu$, tenemos un $100(1 - \\alpha)\\%$ de confianza que el error será inferior a $e$ si el tamaño de la muestra es al menos:\n",
    "\n",
    "<div class=\"well\">\n",
    "\\begin{align}\n",
    "    n \\geq \\left( \\frac{z_{\\alpha /2} \\sigma}{e} \\right)^2\n",
    "\\end{align}\n",
    "</div>\n",
    "\n",
    "*Ejemplo para $\\sigma = 1$:*\n",
    "<center>\n",
    "    <img src=\"figures/ex-samples-1.png\" width=\"400\"/>\n",
    "</center>"
   ]
  },
  {
   "cell_type": "markdown",
   "id": "42141aa9",
   "metadata": {
    "slideshow": {
     "slide_type": "slide"
    }
   },
   "source": [
    "**Ejemplo**: ¿Qué tan grande debe ser la muestra del ejemplo del zinc en el lago si queremos un 99% de confianza en que la estimación de $\\mu$ tendrá un error inferior a 0.05?\n",
    "\n",
    "&#10148; El tamaño de la muestra viene dado por:\n",
    "\n",
    "<div class=\"well\">\n",
    "\\begin{align}\n",
    "    n \\geq \\left( \\frac{z_{\\alpha /2} \\sigma}{e} \\right)^2\n",
    "\\end{align}\n",
    "</div>\n",
    "\n",
    "&#10148;  Para una confianza del 99%: <font color=darkblue>$\\alpha = 1 - 0.99 = 0.01$</font>\n",
    "\n",
    "&#10148; Debemos buscar el valor $z$ que deja un área de $\\alpha /2 = 0.005$ a la derecha (y por lo tanto un área de $0.995$ a la izquierda).\n",
    "\n",
    "<center>\n",
    "    <img src=\"figures/norm-table-10.png\" width=\"1300\"/>\n",
    "</center>\n"
   ]
  },
  {
   "cell_type": "markdown",
   "id": "1a1914ea",
   "metadata": {
    "slideshow": {
     "slide_type": "subslide"
    }
   },
   "source": [
    "&#10148; Elegimos un valor: <font color=darkblue>$z_{\\alpha / 2} = 2.575$</font>\n",
    "\n",
    "&#10148; La población tiene $\\sigma = 0.3$ y se requiere un error inferior a $e=0.05$\n",
    "\n",
    "&#10148; Por lo tanto:\n",
    "\n",
    "\\begin{align}\n",
    "    n \\geq \\left( \\frac{z_{\\alpha /2} \\sigma}{e} \\right)^2 = \\left( \\frac{2.575 \\cdot 0.3}{0.05} \\right)^2 \\approx 239\n",
    "\\end{align}\n",
    "\n",
    "&#10148; Es decir, necesitamos al menos 239 muestras para tener un error inferior a 0.05 en la estimación de la media poblacional con una confianza de 99%.\n",
    "\n"
   ]
  },
  {
   "cell_type": "markdown",
   "id": "dbd27b8f",
   "metadata": {
    "slideshow": {
     "slide_type": "slide"
    }
   },
   "source": [
    "## Estimación con varianza de la población desconocida\n",
    "\n",
    "Las formulaciones anteriores son aplicables si la varianza $\\sigma^2$ de la población es conocida.\n",
    "\n",
    "Si esto no ocurre hay 2 opciones:\n",
    "\n",
    "1. Tomar una muestra grande ($n\\geq30$) para estimar $\\sigma$ a partir del valor obtenido de $s$. Esto funciona bien si la distribución de la población no es tan asimétrica.\n",
    "\n",
    "2. **Si la población es normal**, de puede aplicar el hecho que la variable $T$ sigue una distribución $t$ con $n-1$ grados de libertad:\n",
    "\n",
    "\\begin{align}\n",
    "    T = \\frac{ \\overline{X} - \\mu }{ S / \\sqrt{n} }\n",
    "\\end{align}\n",
    "\n"
   ]
  },
  {
   "cell_type": "markdown",
   "id": "1bea3613",
   "metadata": {
    "slideshow": {
     "slide_type": "subslide"
    }
   },
   "source": [
    "*Se puede demostrar que para una población normal con varianza desconocida:*\n",
    "\n",
    "Dado una media muestral $\\overline{x}$ y desviación muestral $s$, la media poblacional estará en el intervalo:\n",
    "\n",
    "<div class=\"well\">\n",
    "    \\begin{align}\n",
    "        \\mu \\in \\left[  \\overline{x} - t_{\\alpha /2} \\frac{s}{\\sqrt{n}} , \\overline{x} + z_{\\alpha /2} \\frac{s}{\\sqrt{n}} \\right]\n",
    "    \\end{align}\n",
    "</div>\n",
    "\n",
    "con una confianza del $100(1-\\alpha)\\%$\n",
    "\n",
    "<font color=darkred>**Nota**: el intervalo anterior basado en el valor $Z$ era válido para cualquier distribución de la población, pero con varianza conocida. </font>\n",
    "\n"
   ]
  },
  {
   "cell_type": "markdown",
   "id": "041c6e70",
   "metadata": {
    "slideshow": {
     "slide_type": "slide"
    }
   },
   "source": [
    "## Intervalos de tolerancia\n",
    "\n",
    "En ciertos casos es de interés conocer dónde se ubican la mayoría de observaciones de una población más que estimar con exactitud su media poblacional.\n",
    "\n",
    "Para una distribución normal:\n",
    "\n",
    "<center>\n",
    "    <img src=\"figures/norm-limits-1.png\" width=\"800\"/>\n",
    "</center>\n",
    "\n"
   ]
  },
  {
   "cell_type": "markdown",
   "id": "c55aa118",
   "metadata": {
    "slideshow": {
     "slide_type": "subslide"
    }
   },
   "source": [
    "En la práctica pocas veces se conocen $\\mu$ y $\\sigma$, por lo que los intervalos de tolerancia se estiman con:\n",
    "\n",
    "<div class=\"well\">\n",
    "\\begin{align}\n",
    "    \\overline{x} \\pm k s\n",
    "\\end{align}\n",
    "</div>\n",
    "\n",
    "donde $k$ es un entero que se determina de tal manera que con un $100(1-\\gamma)\\%$ de confianza los límites dados contengan al menos la proporción de $1 - \\alpha$ de las observaciones.\n",
    "\n",
    "<font color=darkblue>*Ejemplo: Para una confianza del 95% en que el 99% de los valores estará dentro de un rango para una muestra de tamaño 3 usamos $k=$12.861*</font>\n",
    "\n",
    "<center>\n",
    "    <img src=\"figures/table-tol-1.png\" width=\"600\"/>\n",
    "</center>\n"
   ]
  },
  {
   "cell_type": "markdown",
   "id": "57f68c6c",
   "metadata": {
    "slideshow": {
     "slide_type": "slide"
    }
   },
   "source": [
    "**Ejemplo**: Considere una muestra de tamaño $n=30$ de una población normal con media $\\mu = 95$. La muestra tuvo una media $\\overline{x} = 96.2$ y desviación estándar $s=0.8$. Calcular un intervalo de tolerancia que proporcione límites del 95% de confianza sobre el 90% de la población.\n",
    "\n",
    "Se requiere una confianza de $(1-\\gamma) = 0.95$ para una proporción de $(1-\\alpha) = 0.9$\n",
    "\n",
    "<center>\n",
    "    <img src=\"figures/table-tol-3.png\" width=\"800\"/>\n",
    "</center>\n",
    "\n",
    "De la tabla vemos que se requiere un $k = 2.14$. El intervalo de tolerancia es:\n",
    "\n",
    "\\begin{align}\n",
    "    \\left[ \\overline{x} - k s , \\overline{x} + k s \\right] = [94.5 , 97.9]\n",
    "\\end{align}\n",
    "\n",
    "<font color=darkblue>*Tenemos 95% de confianza que este rango cubre el 90% central de la distribución de valores de la población.*</font>"
   ]
  },
  {
   "cell_type": "markdown",
   "id": "6e162e0d",
   "metadata": {
    "slideshow": {
     "slide_type": "slide"
    }
   },
   "source": [
    "# Estimación de la varianza con una sola muestra"
   ]
  },
  {
   "cell_type": "markdown",
   "id": "e4a9a009",
   "metadata": {
    "slideshow": {
     "slide_type": "slide"
    }
   },
   "source": [
    "## Variable chi cuadrada\n",
    "\n",
    "La estimación por intervalos de la varianza $\\sigma^2$ de una población normal se logra a través de la variable estadística:\n",
    "\n",
    "\\begin{align}\n",
    "    \\chi^2 = \\frac{(n-1) S^2}{\\sigma^2}\n",
    "\\end{align}\n",
    "\n",
    "Esta variable sigue una distribución chi cuadrada con $n-1$ grados de libertad.\n",
    "\n",
    "Denotamos como $\\chi^2_{\\alpha}$ al valor de $\\chi^2$ que deja un área bajo la curva (probabilidad) a su derecha igual a $\\alpha$"
   ]
  },
  {
   "cell_type": "markdown",
   "id": "00b8bdb2",
   "metadata": {
    "slideshow": {
     "slide_type": "slide"
    }
   },
   "source": [
    "## Intervalos de confianza\n",
    "\n",
    "Existe una confianza de $(1-\\alpha)$ que el valor de $\\chi^2$ se encuentre dentro del siguiente intervalo:\n",
    "\n",
    "\\begin{align}\n",
    "    P \\left( \\chi^2_{1 - \\alpha /2} < \\chi^2 < \\chi^2_{\\alpha /2}  \\right) = 1 - \\alpha\n",
    "\\end{align}\n",
    "\n",
    "<center>\n",
    "    <img src=\"figures/int-chi2-1.png\" width=\"700\"/>\n",
    "</center>\n",
    "\n",
    "A partir de esta observación se puede establecer un intervalo de confianza para la varianza poblacional"
   ]
  },
  {
   "cell_type": "markdown",
   "id": "afc58926",
   "metadata": {
    "slideshow": {
     "slide_type": "subslide"
    }
   },
   "source": [
    "*Sea $s^2$ la varianza de una muestra aleatoria de tamaño $n$ de una población normal:*\n",
    "\n",
    "El intervalo de confianza de $100(1 - \\alpha)\\%$ para estimar la varianza poblacional $\\sigma^2$ es:\n",
    "\n",
    "<div class=\"well\">\n",
    "    \\begin{align}\n",
    "        \\sigma^2 \\in \\left[ \\frac{(n-1)s^2}{ \\chi^2_{\\alpha /2} }  , \\frac{(n-1)s^2}{ \\chi^2_{1 - \\alpha /2} } \\right]\n",
    "    \\end{align}\n",
    "</div>\n",
    "\n",
    "donde $\\chi^2_{\\alpha /2}$ y $\\chi^2_{1 - \\alpha /2}$ son los valores de $\\chi^2$ con $\\nu = n-1$ grados de libertad que dejan áreas $\\alpha/2$ y $1 - \\alpha/2$ a la derecha, respectivamente.\n",
    "\n",
    "<font color=darkred>**Nota**: El intervalo para la desviación estándar $\\sigma$ se obtiene tomando la raíz cuadrada para los extremos del intervalo anterior. </font>"
   ]
  },
  {
   "cell_type": "markdown",
   "id": "9b7d5079",
   "metadata": {
    "slideshow": {
     "slide_type": "slide"
    }
   },
   "source": [
    "**Ejemplo**: Se mide la temperatura promedio de una estructura expuesta al sol a lo largo de **10 días**. Calcular el intervalo de **confianza del 95%** para la **varianza** de la temperatura promedio medida. Suponer una distribución normal. Datos:\n",
    "\n",
    "\\begin{equation}\n",
    "    \\{46.4, 46.1, 45.8, 47.0, 46.1, 45.9, 45.8, 46.9, 45.2, 46.0 \\}\n",
    "\\end{equation}\n",
    "\n",
    "&#10148; Calculamos la varianza muestral, resultando: $s^2 = 0.286$\n",
    "\n",
    "&#10148; Para una confianza del 95% elegimos: $\\alpha = 0.05$\n",
    "\n",
    "&#10148; Debemos encontrar los valores $\\chi^2_{0.025}$ y $\\chi^2_{0.975}$ para $\\nu = 10 - 1 = 9$\n",
    "\n",
    "<center>\n",
    "    <img src=\"figures/ex-chi2-1.png\" width=\"1000\"/>\n",
    "</center>"
   ]
  },
  {
   "cell_type": "markdown",
   "id": "96201876",
   "metadata": {
    "slideshow": {
     "slide_type": "subslide"
    }
   },
   "source": [
    "&#10148; Obtenemos valores $\\chi^2_{0.025} = 19.023$ y $\\chi^2_{0.975} = 2.700$\n",
    "\n",
    "&#10148; Entonces el intervalo de confianza del 95% para $\\sigma^2$ es:\n",
    "\n",
    "\\begin{equation}\n",
    "    \\sigma^2 \\in \\left[ \\frac{(n-1)s^2}{ \\chi^2_{\\alpha /2} }  , \\frac{(n-1)s^2}{ \\chi^2_{1 - \\alpha /2} } \\right]\n",
    "\\end{equation}\n",
    "\n",
    "\\begin{equation}\n",
    "    \\sigma^2 \\in \\left[ \\frac{(10-1)(0.286)^2}{ 19.023 }  , \\frac{(10-1)(0.286)^2}{ 2.700 } \\right] = [0.135, 0.953]\n",
    "\\end{equation}\n",
    "\n",
    "<font color=darkblue> A partir de la muestra recopilada, tenemos una confianza del 95% que la varianza estará entre 0.135 y 0.953.</font>\n"
   ]
  },
  {
   "cell_type": "markdown",
   "id": "716a8912",
   "metadata": {
    "slideshow": {
     "slide_type": "slide"
    }
   },
   "source": [
    "# Sumario\n",
    "- A partir de una muestra es posible calcular intervalos de confianza para estimar la media y varianza de la población.\n",
    "- Si la varianza poblacional es conocida, podemos usar la distribución normal para calcular los intervalos de confianza de la media.\n",
    "- Si la varianza poblacional es deconocida, podemos usar la distribución $t$ o tomar una muestra grande para calcular los intervalos de confianza de la media.\n",
    "- Si la población es normal, podemos usar la distribución chi cuadrada para calcular intervalos de confianza para la varianza."
   ]
  }
 ],
 "metadata": {
  "celltoolbar": "Slideshow",
  "kernelspec": {
   "display_name": "Python 3 (ipykernel)",
   "language": "python",
   "name": "python3"
  },
  "language_info": {
   "codemirror_mode": {
    "name": "ipython",
    "version": 3
   },
   "file_extension": ".py",
   "mimetype": "text/x-python",
   "name": "python",
   "nbconvert_exporter": "python",
   "pygments_lexer": "ipython3",
   "version": "3.9.7"
  }
 },
 "nbformat": 4,
 "nbformat_minor": 5
}
