{
 "cells": [
  {
   "cell_type": "markdown",
   "id": "be5224df",
   "metadata": {
    "slideshow": {
     "slide_type": "slide"
    }
   },
   "source": [
    "# EyP: Teoría de Probabilidades\n",
    "## Cálculo de Probabilidades"
   ]
  },
  {
   "cell_type": "markdown",
   "id": "5063567f",
   "metadata": {
    "slideshow": {
     "slide_type": "slide"
    }
   },
   "source": [
    "### Objetivos de la clase\n",
    "- Comprender el concepto de probabilidad y cómo se cuantifica.\n",
    "- Conocer reglas para el cálculo de probabilidad  de eventos.\n",
    "- Aprender sobre probabilidad condicional e independencia de eventos."
   ]
  },
  {
   "cell_type": "markdown",
   "id": "468fd078",
   "metadata": {
    "slideshow": {
     "slide_type": "slide"
    }
   },
   "source": [
    "### Concepto de probabilidad\n",
    "- \"Juan probablemente ganará el torneo de karate\"\n",
    "- \"Hay 50% de probabilidades de obtener cara al lanzar una moneda\"\n",
    "- \"No hay posibilidades de ganar el juego\"\n",
    "- \"La mayoría de los aviones son probablemente blancos\"\n",
    "\n",
    "<center>\n",
    "    <img src=\"figures/bitcoin-1.gif\" width=\"500\"/>\n",
    "</center>"
   ]
  },
  {
   "cell_type": "markdown",
   "id": "7136baf0",
   "metadata": {
    "slideshow": {
     "slide_type": "subslide"
    }
   },
   "source": [
    "- La probabilidad expresa un resultado del cual no estamos seguros, pero del que hasta cierto punto confiamos que ocurrirá.\n",
    "- Esta confianza puede venir desde la experiencia o de la comprensión del experimento.\n",
    "\n",
    "<center>\n",
    "    <img src=\"figures/prob-2.png\" width=\"700\"/>\n",
    "</center>\n"
   ]
  },
  {
   "cell_type": "markdown",
   "id": "86fd129b",
   "metadata": {
    "slideshow": {
     "slide_type": "slide"
    }
   },
   "source": [
    "### Cuantificación de la probabilidad\n",
    "- La probabilidad de expresa mediante números reales entre 0 y 1.\n",
    "- A cada elemento del espacio muestral se le asigna una probabilidad tal que la suma de todas las probabilidades sea 1.\n",
    "- La mayor (menor) confianza en obtener cierto resultado se asocia a una mayor (menor) probabilidad.\n",
    "- La probabilidad de un evento $A$ se obtiene sumando las probabilidades de todos los elementos en $A$ y se denota como $P(A)$\n",
    "\n",
    "<center>\n",
    "    <img src=\"figures/prob-3.png\" width=\"700\"/>\n",
    "</center>"
   ]
  },
  {
   "cell_type": "markdown",
   "id": "94cc321c",
   "metadata": {
    "slideshow": {
     "slide_type": "subslide"
    }
   },
   "source": [
    "- Por su definición, se cumplen los siguientes axiomas:\n",
    "\n",
    "\\begin{align}\n",
    "    0 & <P(A)<1 &\n",
    "    P(\\phi) & = 0 &\n",
    "    P(S) & = 1\n",
    "\\end{align}\n",
    "\n",
    "- Además se cumple que si $A_1, A_2, ... A_n$ es una serie de eventos mutuamente excluyentes, entonces:\n",
    "\n",
    "\\begin{align}\n",
    "    P(A_1 \\cup A_2 \\cup ... A_n) = P(A_1) + P(A_2) + ... P(A_n)\n",
    "\\end{align}\n",
    "\n",
    "- Si de un experimento se pueden obtener $N$ resultados con las mismas probabilidades de ocurrir y si $n$ de esos resultados corresponden al evento $A$, entonces la probabilidad del evento $A$ es: \n",
    "\n",
    "\\begin{align}\n",
    "    P(A) = \\frac{n}{N}\n",
    "\\end{align}"
   ]
  },
  {
   "cell_type": "markdown",
   "id": "ae553610",
   "metadata": {
    "slideshow": {
     "slide_type": "subslide"
    }
   },
   "source": [
    "**Ejemplo**: Se lanza una moneda 2 veces. ¿Cuál es la probabilidad de que salga al menos una cara?\n",
    "\n",
    "\\begin{align}\n",
    "    S = \\{ HH, HT, TH, TT \\}\n",
    "\\end{align}\n",
    "\n",
    "- Si la moneda está balanceada, entonces cada resultado tiene la misma probabilidad de ocurrir, por lo que la probabilidad se reparte igual en los 4 elementos de $S$.\n",
    "\n",
    "- En este caso:\n",
    "\n",
    "\\begin{align}\n",
    "    P(A) = \\frac{1}{4} + \\frac{1}{4} + \\frac{1}{4} = \\frac{3}{4} = 0.75\n",
    "\\end{align}\n",
    "\n",
    "<br>\n",
    "<center>\n",
    "    <img src=\"figures/dogecoin-2.gif\" width=\"200\"/>\n",
    "</center>\n",
    "\n"
   ]
  },
  {
   "cell_type": "markdown",
   "id": "69165b3e",
   "metadata": {
    "slideshow": {
     "slide_type": "subslide"
    }
   },
   "source": [
    "**Ejemplo**: Se altera un dado para que exista el doble de probabilidad de obtener un número par que uno impar. ¿Cuál es la probabilidad que en un lanzamiento se obtenga un número menor a 4?\n",
    "\n",
    "\\begin{align}\n",
    "    S & = \\{ 1, 2, 3, 4, 5, 6 \\} &\n",
    "    A & = \\{ 1, 2, 3 \\}\n",
    "\\end{align}\n",
    "\n",
    "- Las probabilidades de cada elemento de $S$ deben ser tal que:\n",
    "\n",
    "\\begin{align}\n",
    "    w + 2w + w + 2w + w + 2w = 9w =  1\n",
    "\\end{align}\n",
    "\n",
    "- Es decir, cada número impar tiene probabilidad 1/9 y cada número par tiene probabilidad de 2/9\n",
    "\n",
    "- Por lo tanto la probabilidad de que ocurra el evento $A$ es:\n",
    "\n",
    "\\begin{align}\n",
    "    P(A) = \\frac{1}{9} + \\frac{2}{9} + \\frac{1}{9} = \\frac{4}{9}\n",
    "\\end{align}\n",
    "\n"
   ]
  },
  {
   "cell_type": "markdown",
   "id": "b1ee2056",
   "metadata": {
    "slideshow": {
     "slide_type": "subslide"
    }
   },
   "source": [
    "**Ejemplo**: En una bolsa hay 3 naranjas, 2 manzanas, 5 kiwis y 3 plátanos\n",
    "\n",
    "- ¿Cuál es la probabilidad de escoger al azar una manzana?\n",
    "\n",
    "\\begin{align}\n",
    "    P(M) = \\frac{2}{13}\n",
    "\\end{align}\n",
    "\n",
    "- ¿Cuál es la probabilidad de escoger al azar un plátano o un kiwi?\n",
    "\n",
    "\\begin{align}\n",
    "    P(P \\cup K) = P(P) + P(K) = \\frac{3}{13} + \\frac{5}{13} = \\frac{8}{13}\n",
    "\\end{align}\n",
    "\n",
    "<br>\n",
    "<center>\n",
    "    <img src=\"figures/fruits-1.gif\" width=\"300\"/>\n",
    "</center>\n"
   ]
  },
  {
   "cell_type": "markdown",
   "id": "829459c7",
   "metadata": {
    "slideshow": {
     "slide_type": "slide"
    }
   },
   "source": [
    "### Reglas aditivas de probabilidad\n",
    "\n",
    "- Si $A$ y $B$ son eventos no necesariamente mutuamente excluyentes, entonces:\n",
    "\n",
    "\\begin{align}\n",
    "    P(A \\cup B) = P(A) + P(B) - P(A \\cap B)\n",
    "\\end{align}\n",
    "\n",
    "- Si $A$, $B$ y $C$ son eventos no necesariamente mutuamente excluyentes, entonces:\n",
    "\n",
    "\\begin{align}\n",
    "    P(A \\cup B \\cup C) = P(A) + P(B) + P(C) - P(A \\cap B) - P(A \\cap C) - P(B \\cap C) + P(A \\cap B \\cap C)\n",
    "\\end{align}\n",
    "\n",
    "- Si $A$ y $A'$ son eventos complementarios, entonces:\n",
    "\n",
    "\\begin{align}\n",
    "    P(A) + P(A') = 1\n",
    "\\end{align}"
   ]
  },
  {
   "cell_type": "markdown",
   "id": "65d090ca",
   "metadata": {
    "slideshow": {
     "slide_type": "slide"
    }
   },
   "source": [
    "### Probabilidad condicional\n",
    "\n",
    "- Es la probabilidad que ocurra un evento $A$ dado que ya ocurrió un evento $B$\n",
    "\n",
    "- Esta probabilidad se denota como $P(A|B)$ y se define como:\n",
    "\n",
    "\\begin{align}\n",
    "    P(A|B) = \\frac{ P(A \\cap B) }{ P(B) }\n",
    "\\end{align}\n",
    "\n",
    "- Brinda la capacidad de reevaluar o actualizar la probabilidad del evento $A$ a la luz de información adicional sobre el evento $B$.\n",
    "\n",
    "- Observar que se cumple la siguiente propiedad:\n",
    "\n",
    "\\begin{align}\n",
    "    P(A|B) + P(A'|B) = 1\n",
    "\\end{align}"
   ]
  },
  {
   "cell_type": "markdown",
   "id": "2fb8b90d",
   "metadata": {
    "slideshow": {
     "slide_type": "subslide"
    }
   },
   "source": [
    "**Ejemplo**: La probabilidad de que un vuelo salga a tiempo es $P(D) = 0,83$, la probabilidad de que llegue a tiempo es $P(A) = 0,82$ y la probabilidad de que salga y llegue a tiempo es $P(D \\cap A) = 0,78$.\n",
    "\n",
    "- ¿Cuál es la probabilidad de que el avión llegue a tiempo dado que salió a tiempo?\n",
    "\n",
    "\\begin{align}\n",
    "    P(A|D) = \\frac{ P(A \\cap D) }{ P(D)} = \\frac{ P(D \\cap A) }{ P(D)} =  \\frac{ 0,78}{ 0,83 } = 0,94\n",
    "\\end{align}\n",
    "\n",
    "- ¿Cuál es la probabilidad de que el avión llegue a tiempo dado que no salió a tiempo?\n",
    "\n",
    "\\begin{align}\n",
    "    P(A|D') = \\frac{ P(A \\cap D') }{ P(D')} = \\frac{ P(A) - P(A \\cap D) }{ P(D')} =  \\frac{ 0,82 - 0,78}{ 1 - 0.83 } = 0,24\n",
    "\\end{align}\n",
    "\n"
   ]
  },
  {
   "cell_type": "markdown",
   "id": "85fcf3bb",
   "metadata": {
    "slideshow": {
     "slide_type": "slide"
    }
   },
   "source": [
    "### Eventos independientes\n",
    "\n",
    "- Dos eventos pueden ser completamente independientes el uno del otro. \n",
    "- En este caso la probabilidad condicional no ayuda a actualizar la probabilidad de un nuevo evento.\n",
    "\n",
    "- Dos eventos $A$ y $B$ son independientes si y solo si:\n",
    "\n",
    "\\begin{align}\n",
    "    P(A|B) &= P(A)&\n",
    "    \\lor &\n",
    "    &P(B|A) &= P(B)\n",
    "\\end{align}\n",
    "\n",
    "- Ambas condiciones anteriores son equivalentes.\n",
    "\n",
    "<br>\n",
    "<center>\n",
    "    <img src=\"figures/prob-5.png\" width=\"300\"/>\n",
    "</center>"
   ]
  },
  {
   "cell_type": "markdown",
   "id": "ddab7c1d",
   "metadata": {
    "slideshow": {
     "slide_type": "slide"
    }
   },
   "source": [
    "### Regla multiplicativa\n",
    "- Si en un experimento pueden ocurrir los eventos $A$ y $B$, entonces:\n",
    "\n",
    "\\begin{align}\n",
    "    P(A \\cap B) = P(A) P(B|A)\n",
    "\\end{align}\n",
    "\n",
    "- Dado que $P(A \\cap B) = P(B \\cap A)$, la regla anterior también se puede expresar:\n",
    "\n",
    "\\begin{align}\n",
    "    P(A \\cap B) = P(B \\cap A) = P(B) P(A|B)\n",
    "\\end{align}\n",
    "\n",
    "- Dos eventos son independientes si y solo si:\n",
    "\n",
    "\\begin{align}\n",
    "    P(A \\cap B) = P(A) P(B)\n",
    "\\end{align}\n"
   ]
  },
  {
   "cell_type": "markdown",
   "id": "16652221",
   "metadata": {
    "slideshow": {
     "slide_type": "subslide"
    }
   },
   "source": [
    "**Ejemplo**: En una bolsa hay 20 fusibles de los cuales hay 5 defectuosos. ¿Cuál es la probabilidad de sacar dos fusibles al azar, uno después del otro, y que ambos estén defectuosos? \n",
    "\n",
    "- Consideramos $A$ el evento del primer fusible defectuoso y $B$ el evento del segundo fusible defectuoso.\n",
    "\n",
    "- Las probabilidades de ambos eventos son respectivamente:\n",
    "\n",
    "\\begin{align}\n",
    "    P(A) &= \\frac{5}{20} = \\frac{1}{4}&\n",
    "    P(B) &= \\frac{4}{19}\n",
    "\\end{align}\n",
    "\n",
    "- Entonces $A \\cap B$ es el evento en que ocurre $A$  y $B$ y se calcula como:\n",
    "\n",
    "\\begin{align}\n",
    "    P(A \\cap B) = \\left( \\frac{1}{4} \\right) \\left( \\frac{4}{19} \\right) = \\frac{1}{19}\n",
    "\\end{align}\n",
    " "
   ]
  },
  {
   "cell_type": "markdown",
   "id": "571b7aef",
   "metadata": {
    "slideshow": {
     "slide_type": "slide"
    }
   },
   "source": [
    "### Sumario\n",
    "- La probabilidad expresa la mayor o menor confianza de obtener cierto resultado.\n",
    "- Las reglas aditivas sirven para calcular probabilidades de uniones de eventos, mientras que las reglas multiplicativas para las intersecciones de eventos.\n",
    "- La probabilidad condicional representa la probabilidad de que ocurra un evento dado que ya ocurrió otro.\n",
    "- Dos eventos son independientes, si su probabilidad condicional es igual a su probabilidad regular.\n"
   ]
  },
  {
   "cell_type": "markdown",
   "id": "153c8139",
   "metadata": {
    "slideshow": {
     "slide_type": "slide"
    }
   },
   "source": [
    "<center>\n",
    "    <img src=\"figures/prob-4.png\" width=\"800\"/>\n",
    "</center>"
   ]
  }
 ],
 "metadata": {
  "celltoolbar": "Slideshow",
  "kernelspec": {
   "display_name": "Python 3 (ipykernel)",
   "language": "python",
   "name": "python3"
  },
  "language_info": {
   "codemirror_mode": {
    "name": "ipython",
    "version": 3
   },
   "file_extension": ".py",
   "mimetype": "text/x-python",
   "name": "python",
   "nbconvert_exporter": "python",
   "pygments_lexer": "ipython3",
   "version": "3.9.7"
  }
 },
 "nbformat": 4,
 "nbformat_minor": 5
}
