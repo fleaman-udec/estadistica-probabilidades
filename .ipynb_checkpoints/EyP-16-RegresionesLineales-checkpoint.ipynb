{
 "cells": [
  {
   "cell_type": "markdown",
   "metadata": {
    "slideshow": {
     "slide_type": "slide"
    }
   },
   "source": [
    "# Módulo: Otros Tópicos\n",
    "## Regresiones lineales"
   ]
  },
  {
   "cell_type": "markdown",
   "metadata": {
    "slideshow": {
     "slide_type": "slide"
    }
   },
   "source": [
    "# Objetivos de la clase\n",
    "- Aprender los fundamentos sobre regresiones lineales simples y múltiples\n",
    "- Calcular coeficientes de modelos de regresión lineal\n",
    "- Calcular intervalos de confianza y predicción de modelos de regresión lineal\n",
    "- Conocer medidas de evaluación de los modelos de regresión lineal"
   ]
  },
  {
   "cell_type": "markdown",
   "metadata": {
    "slideshow": {
     "slide_type": "slide"
    }
   },
   "source": [
    "# Introducción"
   ]
  },
  {
   "cell_type": "markdown",
   "metadata": {
    "slideshow": {
     "slide_type": "slide"
    }
   },
   "source": [
    "Dada una recopilación histórica de datos, ¿cómo poder estimar o predecir la probabilidad que se genere un incendio forestal según la temperatura ambiental?\n",
    "\n",
    "<center>\n",
    "    <img src=\"figures/forest-2.png\" width=\"1200\"/>\n",
    "</center>"
   ]
  },
  {
   "cell_type": "markdown",
   "metadata": {
    "slideshow": {
     "slide_type": "subslide"
    }
   },
   "source": [
    "Una opción sería generar un modelo lineal del tipo:\n",
    "\n",
    "\\begin{align}\n",
    "    y = \\beta_0 + \\beta_1 x\n",
    "\\end{align}\n",
    "\n",
    "donde:\n",
    "\n",
    "$x$ : es la variable independiente o *regresor* (la temperatura ambiental)\n",
    "\n",
    "$y$ : es la variable dependiente o *respuesta* (la probabilidad de incendio)\n",
    "\n",
    "$\\beta_0$: es el parámetro *intersección*\n",
    "\n",
    "$\\beta_1$: es el parámetro *pendiente*\n",
    "\n",
    "&#10148; Este tipo de modelo se llama de **regresión lineal simple**"
   ]
  },
  {
   "cell_type": "markdown",
   "metadata": {
    "slideshow": {
     "slide_type": "subslide"
    }
   },
   "source": [
    "Sabemos que muchos fenómenos dependen de más de una variable.\n",
    "\n",
    "Para el caso del incendio forestal, ¿cómo incorporar otras variables al modelo de regresión lineal?\n",
    "\n",
    "<center>\n",
    "    <img src=\"figures/forest-3.png\" width=\"1500\"/>\n",
    "</center>"
   ]
  },
  {
   "cell_type": "markdown",
   "metadata": {
    "slideshow": {
     "slide_type": "subslide"
    }
   },
   "source": [
    "Esto se logra mediante un modelo de **regresión lineal múltiple** del tipo:\n",
    "\n",
    "\\begin{align}\n",
    "    y = \\beta_0 + \\beta_1 x_1 + \\beta_2 x_2 + \\beta_3 x_3 + ... + \\beta_n x_n\n",
    "\\end{align}\n",
    "\n",
    "donde para $i \\in \\{1, 2, 3, ... , n\\}$:\n",
    "\n",
    "$x_i$ : son las variables independientes (temperatura, humedad, viento)\n",
    "\n",
    "$y$ : es la variable dependiente (la probabilidad de incendio)\n",
    "\n",
    "$\\beta_0$: es el parámetro *intersección*\n",
    "\n",
    "$\\beta_i$: son los coeficientes de regresión o *pesos* de cada variable independiente"
   ]
  },
  {
   "cell_type": "markdown",
   "metadata": {
    "slideshow": {
     "slide_type": "slide"
    }
   },
   "source": [
    "# Regresión lineal simple"
   ]
  },
  {
   "cell_type": "markdown",
   "metadata": {
    "slideshow": {
     "slide_type": "slide"
    }
   },
   "source": [
    "## Error de aproximación\n",
    "\n",
    "Un modelo de regresión lineal simple es solo una aproximación de la relación entre dos variables:\n",
    "- Simplificación de que la relación es perfectamente lineal.\n",
    "- Naturaleza aleatoria de las variables medidas.\n",
    "- Naturaleza empírica del modelo y sus parámetros.\n",
    "- Factores desconocidos que alteran la relación entre las variables.\n",
    "\n",
    "Es decir, en general tenemos que:\n",
    "\n",
    "\\begin{align}\n",
    "    y \\approx \\beta_0 + \\beta_1 x\n",
    "\\end{align}"
   ]
  },
  {
   "cell_type": "markdown",
   "metadata": {
    "slideshow": {
     "slide_type": "subslide"
    }
   },
   "source": [
    "Para establecer correctamente la relación entre $x$ e $y$ se requiere de un planteamiento estadístico que incluya el error en la aproximación:\n",
    "\n",
    "\\begin{align}\n",
    "    y = \\beta_0 + \\beta_1 x + \\epsilon\n",
    "\\end{align}\n",
    "\n",
    "donde $\\epsilon$ es la variable de error aleatorio que se supone cumple con los siguientes requisitos:\n",
    "- Su media poblacional o *valor esperado* es igual 0\n",
    "- Su varianza es constante e igual a $\\sigma^2$\n",
    "\n",
    "<center>\n",
    "    <img src=\"figures/regre-1.png\" width=\"500\"/>\n",
    "</center>"
   ]
  },
  {
   "cell_type": "markdown",
   "metadata": {
    "slideshow": {
     "slide_type": "slide"
    }
   },
   "source": [
    "## Recta de regresión ajustada\n",
    "\n",
    "El principal **desafío** de un análisis de regresión es determinar los coeficientes de regresión $\\beta_0$ y $\\beta_1$\n",
    "\n",
    "Una estimación de estos coeficientes serán los valores $b_0$ y $b_1$ que se pueden calcular **a partir de una muestra**, de modo que:\n",
    "\n",
    "\\begin{align}\n",
    "    \\hat{y} = b_0 + b_1 x\n",
    "\\end{align}\n",
    "\n",
    "donde $\\hat{y}$ es el valor estimado o ajustado por el modelo de regresión.\n",
    "\n",
    "Se observa que:\n",
    "- El valor estimado $\\hat{y}$ es una aproximación del valor real $y$.\n",
    "- La recta ajustada será más cercana a la recta real a medida que el tamaño de la muestra crezca"
   ]
  },
  {
   "cell_type": "markdown",
   "metadata": {
    "slideshow": {
     "slide_type": "subslide"
    }
   },
   "source": [
    "<center>\n",
    "    <img src=\"figures/regre-2.png\" width=\"1000\"/>\n",
    "</center>"
   ]
  },
  {
   "cell_type": "markdown",
   "metadata": {
    "slideshow": {
     "slide_type": "subslide"
    }
   },
   "source": [
    "Se define el $i$-ésimo **error residual** $e_i$ como la diferencia entre el valor verdadero $y$ y la estimación del modelo ajustado $y_i$:\n",
    "\n",
    "\\begin{align}\n",
    "    e_i = y_i - \\hat{y_i}, \\quad i = 1, 2, ..., n \n",
    "\\end{align}\n",
    "\n",
    "Los errores residuales $e_i$ difieren de los errores del modelo conceptual $\\epsilon_i$ en que estos últimos no se observan ya que el modelo de regresión \"real\" no es conocido.\n",
    "\n",
    "<center>\n",
    "    <img src=\"figures/regre-3.png\" width=\"700\"/>\n",
    "</center>"
   ]
  },
  {
   "cell_type": "markdown",
   "metadata": {
    "slideshow": {
     "slide_type": "slide"
    }
   },
   "source": [
    "## Mínimos cuadrados\n",
    "\n",
    "Para estimar $b_0$ y $b_1$ haremos que la suma de los errores residuales $e_i$ al cuadrado (SCE) sea mínima. \n",
    "\n",
    "Es decir:\n",
    "\n",
    "\\begin{align}\n",
    "    \\text{SCE} = \\sum_{i=1}^n e_i^2\n",
    "\\end{align}\n",
    "\n",
    "\\begin{align}\n",
    "    \\text{SCE} =  \\sum_{i=1}^n \\left( y_i - \\hat{y_i} \\right)^2 = \\sum_{i=1}^n \\left( y_i - b_0 - b_1 x_i \\right)^2\n",
    "\\end{align}\n",
    "\n",
    "\\begin{align}\n",
    "    b_0, b_1 = \\text{argmin} \\{ \\text{SCE}(b_0, b_1) \\}\n",
    "\\end{align}\n"
   ]
  },
  {
   "cell_type": "markdown",
   "metadata": {
    "slideshow": {
     "slide_type": "subslide"
    }
   },
   "source": [
    "El mínimo absoluto de la función SCE se obtiene mediante:\n",
    "\n",
    "\\begin{align}\n",
    "    \\frac{\\partial \\text{SCE}}{\\partial b_0} & = 0 &\n",
    "    \\frac{\\partial \\text{SCE}}{\\partial b_1} & = 0\n",
    "\\end{align}\n",
    "\n",
    "\n",
    "Resolviendo se obtiene lo siguiente:\n",
    "\n",
    "&#10148; Para la pendiente:\n",
    "\\begin{align}\n",
    "    b_1 = \\frac{ \\sum_{i=1}^{n} (x_i - \\overline{x})( y_i - \\overline{y} ) }{ \\sum_{i=1}^{n} (x_i - \\overline{x})^2 }\n",
    "\\end{align}\n",
    "\n",
    "&#10148; Para la intersección:\n",
    "\\begin{align}\n",
    "    b_0 = \\frac{ \\sum_{i=1}^{n} y_i - b_1 \\sum_{i=1}^{n} x_i }{ n }\n",
    "\\end{align}"
   ]
  },
  {
   "cell_type": "markdown",
   "metadata": {
    "slideshow": {
     "slide_type": "slide"
    }
   },
   "source": [
    "**Ejemplo**: Para el conjunto de datos, estimar los coeficientes de regresión $b_1$ y $b_0$ de la recta ajustada.\n",
    "\n",
    "\\begin{align}\n",
    "    x = \\{10, 18, 16, 20, 31, 29, 38\\}\n",
    "\\end{align}\n",
    "\\begin{align}\n",
    "    y = \\{0.5, 0.12, 0.14, 0.21, 0.17, 0.68, 0.95\\}\n",
    "\\end{align}\n",
    "\n",
    "&#10148; Calculamos los promedios muestrales:\n",
    "\n",
    "\\begin{align}\n",
    "    \\overline{x} & = 23.14 &\n",
    "    \\overline{y} & = 0.396\n",
    "\\end{align}\n",
    "\n",
    "&#10148; Calculamos la sumatoria del numerador para $b_1$:\n",
    "\n",
    "\\begin{align}\n",
    "    \\sum_{i=1}^{n=7} (x_i - \\overline{x})( y_i - \\overline{y} ) = (10 - 23.14)( 0.5 - 0.396 ) + ... + (38 - 23.14)( 0.95 -0.396 ) = 10.58\n",
    "\\end{align}"
   ]
  },
  {
   "cell_type": "markdown",
   "metadata": {
    "slideshow": {
     "slide_type": "subslide"
    }
   },
   "source": [
    "&#10148; Calculamos la sumatoria del denominador para $b_1$:\n",
    "\n",
    "\\begin{align}\n",
    "    \\sum_{i=1}^{n=7} (x_i - \\overline{x})^2 = (10 - 23.14)^2 + ... + (38 - 23.14)^2 = 576.86\n",
    "\\end{align}\n",
    "\n",
    "&#10148; Calculamos $b_1$:\n",
    "\\begin{align}\n",
    "    b_1 = \\frac{10.58}{576.86} = 0.01834\n",
    "\\end{align}\n",
    "\n",
    "&#10148; De forma similar calculamos $b_0$ que resulta:\n",
    "\n",
    "\\begin{align}\n",
    "    b_0 = -0.02892\n",
    "\\end{align}\n",
    "\n",
    "&#10148; Por lo tanto el modelo de regresión ajustado es:\n",
    "\n",
    "\\begin{align}\n",
    "    \\hat{y} = 0.01834 x - 0.02892\n",
    "\\end{align}"
   ]
  },
  {
   "cell_type": "code",
   "execution_count": 1,
   "metadata": {
    "slideshow": {
     "slide_type": "slide"
    }
   },
   "outputs": [
    {
     "data": {
      "image/png": "[encoded data removed]",
      "text/plain": [
       "<Figure size 432x288 with 1 Axes>"
      ]
     },
     "metadata": {
      "needs_background": "light"
     },
     "output_type": "display_data"
    },
    {
     "name": "stdout",
     "output_type": "stream",
     "text": [
      "los coeficientes de regresión son b0  -0.028915304606240762 y b1 0.018348192174343733\n"
     ]
    }
   ],
   "source": [
    "import numpy as np\n",
    "import matplotlib.pyplot as plt\n",
    "\n",
    "x = np.array([10, 18, 16, 20, 31, 29, 38])\n",
    "y = np.array([0.5, 0.12, 0.14, 0.21, 0.17, 0.68, 0.95])\n",
    "\n",
    "plt.scatter(x, y, color='red')\n",
    "plt.xlim(5, 40), plt.ylim(0, 1), plt.grid()\n",
    "plt.xlabel('Temperatura ºC'), plt.ylabel('Prob. Incendio')\n",
    "plt.show()\n",
    "\n",
    "b1 = np.sum( (x-np.mean(x))*(y-np.mean(y)) ) / np.sum( (x-np.mean(x))**2 )\n",
    "b0 = (np.sum(y) - b1*np.sum(x)) / len(x)\n",
    "\n",
    "print('los coeficientes de regresión son b0 ', b0, 'y b1', b1)"
   ]
  },
  {
   "cell_type": "code",
   "execution_count": 2,
   "metadata": {
    "slideshow": {
     "slide_type": "subslide"
    }
   },
   "outputs": [
    {
     "name": "stdout",
     "output_type": "stream",
     "text": [
      "los coeficientes de regresión son b0  -0.028915304606240547 y b1 0.018348192174343733\n"
     ]
    },
    {
     "data": {
      "image/png": "[encoded data removed]",
      "text/plain": [
       "<Figure size 432x288 with 1 Axes>"
      ]
     },
     "metadata": {
      "needs_background": "light"
     },
     "output_type": "display_data"
    }
   ],
   "source": [
    "b1, b0 = np.polyfit(x, y, 1) #regresion lineal en numpy\n",
    "\n",
    "print('los coeficientes de regresión son b0 ', b0, 'y b1', b1)\n",
    "\n",
    "yp = b0 + b1*x #calculo de variable dependiente con modelo de regresion\n",
    "\n",
    "plt.scatter(x, y, label='datos reales', color='red')\n",
    "plt.plot(x, yp, label='recta ajustada', color='blue')\n",
    "plt.xlim(5, 40), plt.ylim(0, 1), plt.legend(), plt.grid()\n",
    "plt.xlabel('Temperatura ºC'), plt.ylabel('Prob. Incendio')\n",
    "plt.show()"
   ]
  },
  {
   "cell_type": "markdown",
   "metadata": {
    "slideshow": {
     "slide_type": "slide"
    }
   },
   "source": [
    "# Inferencias a partir del modelo ajustado"
   ]
  },
  {
   "cell_type": "markdown",
   "metadata": {
    "slideshow": {
     "slide_type": "slide"
    }
   },
   "source": [
    "## Inferencias sobre coeficientes de regresión\n",
    "\n",
    "Para realizar inferencias sobre los parámetros $\\beta_0$ y $\\beta_1$ se requiere de una estimación para $\\sigma^2$.\n",
    "\n",
    "En este caso $\\sigma^2$ representa la varianza entre todos los valores $(x_i, y_i)$ de la población y el modelo de regresión real $y = \\beta_0 + \\beta_1 x_1 + \\epsilon$\n",
    "\n",
    "Primero se definen:\n",
    "\n",
    "\\begin{align}\n",
    "    S_{xx} & = \\sum_{i=1}^{n} (x_i - \\overline{x})^2 &\n",
    "    S_{yy} & = \\sum_{i=1}^{n} (y_i - \\overline{y})^2\n",
    "\\end{align}\n",
    "\n",
    "\\begin{align}\n",
    "    S_{xy} = \\sum_{i=1}^{n} (x_i - \\overline{x}) (y_i - \\overline{y})\n",
    "\\end{align}"
   ]
  },
  {
   "cell_type": "markdown",
   "metadata": {
    "slideshow": {
     "slide_type": "subslide"
    }
   },
   "source": [
    "Un estimador para $\\sigma^2$ corresponde a $s^2$, que es igual a:\n",
    "\n",
    "\\begin{align}\n",
    "    s^2 = \\frac{\\text{SCE}}{n-2} = \\sum_{i=1}^n \\frac{ ( y_i - \\hat{y_i})^2 }{n-2} \n",
    "\\end{align}\n",
    "\n",
    "Este valor $s^2$ se conoce como **error cuadrático medio**. \n",
    "\n",
    "Además se puede demostrar que:\n",
    "\n",
    "\\begin{align}\n",
    "    s^2 = \\frac{S_{yy} - b_1 S_{xy} }{n-2}\n",
    "\\end{align}"
   ]
  },
  {
   "cell_type": "markdown",
   "metadata": {
    "slideshow": {
     "slide_type": "subslide"
    }
   },
   "source": [
    "Usando la distribución $t$ con $s^2$ como un estimador de $\\sigma^2$ se puede demostrar que:\n",
    "\n",
    "Los **intervalos de confianza** del $100(1-\\alpha)\\%$ para los parámetros $\\beta_1$ y $\\beta_0$ son respectivamente:\n",
    "\n",
    "<div class=\"well\">\n",
    "\\begin{align}\n",
    "    \\beta_1 \\in \\left[  b_1 - t_{\\alpha /2} \\frac{s}{\\sqrt{S_{xx}}} , b_1 + t_{\\alpha /2} \\frac{s}{\\sqrt{S_{xx}}} \\right]\n",
    "\\end{align}\n",
    "</div>\n",
    "\n",
    "<div class=\"well\">\n",
    "\\begin{align}\n",
    "    \\beta_0 \\in \\left[  b_0 - t_{\\alpha /2} \\frac{s}{\\sqrt{n S_{xx}}} \\sqrt{\\sum_{i=1}^{n} x_{i}^{2} } \\hspace{0.5em} , \\hspace{0.5em} b_0 + t_{\\alpha /2} \\frac{s}{\\sqrt{n S_{xx}}} \\sqrt{\\sum_{i=1}^{n} x_{i}^{2} }  \\right]\n",
    "\\end{align}\n",
    "</div>\n",
    "\n",
    "donde $t_{\\alpha /2}$ es el valor que deja un área de $\\alpha /2$ a la derecha de la distribución $t$ con $n-2$ grados de libertad\n",
    "\n"
   ]
  },
  {
   "cell_type": "markdown",
   "metadata": {
    "slideshow": {
     "slide_type": "slide"
    }
   },
   "source": [
    "**Ejemplo**: Para el mismo conjunto de datos anterior, calcular los intervalos de confianza del 90% para $\\beta_1$ y $\\beta_0$\n",
    "\n",
    "&#10148; Calculamos $t_{\\alpha /2}$ para $n-2$ grados de libertad, donde $n=7$:\n",
    "\n",
    "\\begin{align}\n",
    "    \\nu & = 5 &\n",
    "    \\alpha & =  0.1\n",
    "\\end{align}\n",
    "\n",
    "\\begin{align}\n",
    "    t_{\\alpha /2} =  t_{0.05} = 2.015\n",
    "\\end{align}\n",
    "\n",
    "&#10148; Calculamos $S_{xx}$, $S_{yy}$ y $S_{xy}$:\n",
    "\n",
    "\\begin{align}\n",
    "     S_{xx} & = \\sum_{i=1}^{n} (x_i - \\overline{x})^2 = 576.86 &\n",
    "     S_{xy} & = \\sum_{i=1}^{n} (x_i - \\overline{x}) (y_i - \\overline{y}) = 10.58\n",
    "\\end{align}\n",
    "\n",
    "\\begin{align}\n",
    "     S_{yy} = \\sum_{i=1}^{n} (y_i - \\overline{y})^2 = 0.62577\n",
    "\\end{align}\n"
   ]
  },
  {
   "cell_type": "markdown",
   "metadata": {
    "slideshow": {
     "slide_type": "subslide"
    }
   },
   "source": [
    "&#10148; Calculamos el error cuadrático medio $s^2$:\n",
    "\n",
    "\\begin{align}\n",
    "    s^2 = \\frac{S_{yy} - b_1 S_{xy} }{n-2} = \\frac{0.62577 - 0.01834 \\cdot 10.58 }{7-2} = 0.08635 \\rightarrow s = 0.29385\n",
    "\\end{align}\n",
    "\n",
    "&#10148; Calculamos el intervalo de confianza para $\\beta_1$:\n",
    "\n",
    "\\begin{align}\n",
    "    \\beta_1 \\in \\left[  b_1 - t_{\\alpha /2} \\frac{s}{\\sqrt{S_{xx}}} , b_1 + t_{\\alpha /2} \\frac{s}{\\sqrt{S_{xx}}} \\right]\n",
    "\\end{align}\n",
    "\n",
    "\\begin{align}\n",
    "    \\beta_1 \\in \\left[  0.01834 - 2.015 \\frac{9.29385}{\\sqrt{576.86}} , 0.01834 + 2.015 \\frac{9.29385}{\\sqrt{576.86}} \\right]\n",
    "\\end{align}\n",
    "\n",
    "\\begin{align}\n",
    "    \\beta_1 \\in \\left[  -0.006, 0.043 \\right]\n",
    "\\end{align}"
   ]
  },
  {
   "cell_type": "markdown",
   "metadata": {
    "slideshow": {
     "slide_type": "subslide"
    }
   },
   "source": [
    "&#10148; Calculamos el intervalo de confianza para $\\beta_0$:\n",
    "\n",
    "\\begin{align}\n",
    "    \\beta_0 \\in \\left[  b_0 - t_{\\alpha /2} \\frac{s}{\\sqrt{n S_{xx}}} \\sqrt{\\sum_{i=1}^{n} x_{i}^{2} } \\hspace{0.5em} , \\hspace{0.5em} b_0 + t_{\\alpha /2} \\frac{s}{\\sqrt{n S_{xx}}} \\sqrt{\\sum_{i=1}^{n} x_{i}^{2} }  \\right]\n",
    "\\end{align}\n",
    "\n",
    "\\begin{align}\n",
    "    \\beta_0 \\in \\left[  -0.02892 - 2.015 \\frac{0.29385}{\\sqrt{7 \\cdot 576.86}} 65.7723 \\hspace{0.5em} , \\hspace{0.5em} -0.02892 + 2.015 \\frac{0.29385}{\\sqrt{7 \\cdot 576.86}} 65.7723  \\right]\n",
    "\\end{align}\n",
    "\n",
    "\\begin{align}\n",
    "    \\beta_0 \\in \\left[  -0.642 , 0.584  \\right]\n",
    "\\end{align}"
   ]
  },
  {
   "cell_type": "markdown",
   "metadata": {
    "slideshow": {
     "slide_type": "slide"
    }
   },
   "source": [
    "## Intervalos de confianza y predicción\n",
    "\n",
    "Dado un valor puntual $x_0$, es posible estimar un intervalo de confianza para la respuesta media de $y_0$ o un intervalo de predicción para el valor futuro de $y_0$\n",
    "\n",
    "<center>\n",
    "    <img src=\"figures/regre-5.jpg\" width=\"500\"/>\n",
    "</center>"
   ]
  },
  {
   "cell_type": "markdown",
   "metadata": {
    "slideshow": {
     "slide_type": "subslide"
    }
   },
   "source": [
    "Dado $x_0$, el intervalo de confianza para la media $\\mu_{y_0}$ es:\n",
    "\n",
    "<div class=\"well\">\n",
    "\\begin{align}\n",
    "    \\mu_{y_0} \\in \\left[ \\hat{y_0} - t_{\\alpha /2} s \\sqrt{ \\frac{1}{n} + \\frac{(x_0 - \\overline{x})^2}{S_{xx}}  } \\hspace{0.5em} , \\hspace{0.5em} \\hat{y_0} + t_{\\alpha /2} s \\sqrt{ \\frac{1}{n} + \\frac{(x_0 - \\overline{x})^2}{S_{xx}}  } \\right]\n",
    "\\end{align}\n",
    "</div>\n",
    "\n",
    "donde $t_{\\alpha /2}$ es el valor que deja un área de $\\alpha /2$ a la derecha de la distribución $t$ con $n-2$ grados de libertad\n",
    "\n",
    "\n",
    "\n"
   ]
  },
  {
   "cell_type": "markdown",
   "metadata": {
    "slideshow": {
     "slide_type": "subslide"
    }
   },
   "source": [
    "Dado $x_0$, el intervalo de predicción para el valor $y_0$ es:\n",
    "\n",
    "<div class=\"well\">\n",
    "\\begin{align}\n",
    "    y_0 \\in \\left[ \\hat{y_0} - t_{\\alpha /2} s \\sqrt{1 + \\frac{1}{n} + \\frac{(x_0 - \\overline{x})^2}{S_{xx}}  } \\hspace{0.5em} , \\hspace{0.5em} \\hat{y_0} + t_{\\alpha /2} s \\sqrt{1 + \\frac{1}{n} + \\frac{(x_0 - \\overline{x})^2}{S_{xx}}  } \\right]\n",
    "\\end{align}\n",
    "</div>\n",
    "\n",
    "donde $t_{\\alpha /2}$ es el valor que deja un área de $\\alpha /2$ a la derecha de la distribución $t$ con $n-2$ grados de libertad\n",
    "\n"
   ]
  },
  {
   "cell_type": "code",
   "execution_count": 3,
   "metadata": {
    "slideshow": {
     "slide_type": "slide"
    }
   },
   "outputs": [
    {
     "data": {
      "image/png": "[encoded data removed]",
      "text/plain": [
       "<Figure size 432x288 with 1 Axes>"
      ]
     },
     "metadata": {
      "needs_background": "light"
     },
     "output_type": "display_data"
    }
   ],
   "source": [
    "t_a2 = 2.015\n",
    "sxx = 576.86\n",
    "s = 0.29385\n",
    "n = 7\n",
    "\n",
    "mu_min = np.array([y0 - t_a2*s*np.sqrt(1./n + ((x0-np.mean(x))**2)/sxx ) for x0, y0 in zip(x, yp)])\n",
    "mu_max = np.array([y0 + t_a2*s*np.sqrt(1./n + ((x0-np.mean(x))**2)/sxx ) for x0, y0 in zip(x, yp)])\n",
    "\n",
    "plt.scatter(x, y, label='datos reales', color='red')\n",
    "plt.plot(x, yp, label='recta ajustada', color='blue')\n",
    "plt.plot(x, mu_min, label='int. confianza', color='black')\n",
    "plt.plot(x, mu_max,color='black')\n",
    "\n",
    "plt.legend(), plt.grid()\n",
    "plt.xlabel('Temperatura ºC'), plt.ylabel('Prob. Incendio')\n",
    "plt.show()"
   ]
  },
  {
   "cell_type": "code",
   "execution_count": 4,
   "metadata": {
    "slideshow": {
     "slide_type": "subslide"
    }
   },
   "outputs": [
    {
     "data": {
      "image/png": "[encoded data removed]",
      "text/plain": [
       "<Figure size 432x288 with 1 Axes>"
      ]
     },
     "metadata": {
      "needs_background": "light"
     },
     "output_type": "display_data"
    }
   ],
   "source": [
    "y_min = np.array([y0 - t_a2*s*np.sqrt(1. + 1./n + ((x0-np.mean(x))**2)/sxx ) for x0, y0 in zip(x, yp)])\n",
    "y_max = np.array([y0 + t_a2*s*np.sqrt(1. + 1./n + ((x0-np.mean(x))**2)/sxx ) for x0, y0 in zip(x, yp)])\n",
    "\n",
    "plt.scatter(x, y, label='datos reales', color='red')\n",
    "plt.plot(x, yp, label='recta ajustada', color='blue')\n",
    "plt.plot(x, y_min, label='int. prediccion', color='darkgreen')\n",
    "plt.plot(x, y_max, color='darkgreen')\n",
    "\n",
    "plt.legend(), plt.grid()\n",
    "plt.xlabel('Temperatura ºC'), plt.ylabel('Prob. Incendio')\n",
    "plt.show()"
   ]
  },
  {
   "cell_type": "markdown",
   "metadata": {
    "slideshow": {
     "slide_type": "slide"
    }
   },
   "source": [
    "# Métricas de desempeño"
   ]
  },
  {
   "cell_type": "markdown",
   "metadata": {
    "slideshow": {
     "slide_type": "slide"
    }
   },
   "source": [
    "## Coeficiente de determinación\n",
    "\n",
    "El **coeficiente de determinación** $R^2$ es una medida de la calidad del ajuste del modelo de regresión lineal.\n",
    "\n",
    "\\begin{align}\n",
    "    R^2 = 1 - \\frac{ \\sum_{i=1}^n \\left( y_i - \\hat{y_i} \\right)^2 }{ \\sum_{i=1}^n \\left( y_i - \\overline{y_i} \\right)^2 }\n",
    "\\end{align}\n",
    "\n",
    "Este coeficiente es una medida de la proporción de la variabilidad explicada por el modelo ajustado.\n",
    "\n",
    "Un valor $R^2 = 1$ indica que el ajuste es muy bueno, mientras que valores $R^2 \\approx 0$ indican un mal ajuste."
   ]
  },
  {
   "cell_type": "markdown",
   "metadata": {
    "slideshow": {
     "slide_type": "subslide"
    }
   },
   "source": [
    "Buen ajuste (a) y mal ajuste (b)\n",
    "\n",
    "<center>\n",
    "    <img src=\"figures/regre-6.png\" width=\"1200\"/>\n",
    "</center>"
   ]
  },
  {
   "cell_type": "code",
   "execution_count": 5,
   "metadata": {
    "slideshow": {
     "slide_type": "slide"
    }
   },
   "outputs": [
    {
     "data": {
      "image/png": "[encoded data removed]",
      "text/plain": [
       "<Figure size 432x288 with 1 Axes>"
      ]
     },
     "metadata": {
      "needs_background": "light"
     },
     "output_type": "display_data"
    },
    {
     "name": "stdout",
     "output_type": "stream",
     "text": [
      "el coeficiente de determinación R2 es =  0.31034096388392063\n"
     ]
    }
   ],
   "source": [
    "from sklearn.metrics import r2_score\n",
    "\n",
    "plt.scatter(x, y, label='datos reales', color='red')\n",
    "plt.plot(x, yp, label='recta ajustada', color='blue')\n",
    "plt.xlim(5, 40), plt.ylim(0, 1), plt.legend(), plt.grid()\n",
    "plt.xlabel('Temperatura ºC'), plt.ylabel('Prob. Incendio')\n",
    "plt.show()\n",
    " \n",
    "print('el coeficiente de determinación R2 es = ', r2_score(y, yp))"
   ]
  },
  {
   "cell_type": "code",
   "execution_count": 6,
   "metadata": {
    "scrolled": true,
    "slideshow": {
     "slide_type": "subslide"
    }
   },
   "outputs": [
    {
     "data": {
      "image/png": "[encoded data removed]",
      "text/plain": [
       "<Figure size 432x288 with 1 Axes>"
      ]
     },
     "metadata": {
      "needs_background": "light"
     },
     "output_type": "display_data"
    },
    {
     "name": "stdout",
     "output_type": "stream",
     "text": [
      "el coeficiente de determinación R2 es =  0.8068788987982255\n"
     ]
    }
   ],
   "source": [
    "z = np.array([0.2, 0.12, 0.18, 0.21, 0.4, 0.55, 0.7])\n",
    "\n",
    "b1z, b0z = np.polyfit(x, z, 1) #regresion lineal en numpy\n",
    "\n",
    "zp = b0z + b1z*x #calculo de variable dependiente con modelo de regresion\n",
    "\n",
    "plt.scatter(x, z, label='datos reales', color='magenta')\n",
    "plt.plot(x, zp, label='recta ajustada', color='blue')\n",
    "plt.xlim(5, 40), plt.ylim(0, 1), plt.legend(loc='upper left'), plt.grid()\n",
    "plt.xlabel('Temperatura ºC'), plt.ylabel('Prob. Incendio')\n",
    "plt.show()\n",
    " \n",
    "print('el coeficiente de determinación R2 es = ', r2_score(z, zp))"
   ]
  },
  {
   "cell_type": "markdown",
   "metadata": {
    "slideshow": {
     "slide_type": "slide"
    }
   },
   "source": [
    "## Diferencia con coeficiente de correlación\n",
    "\n",
    "El **coeficiente de correlación** $\\rho$ es en cambio una medida de la asociación lineal entre dos variables.\n",
    "\n",
    "Se estima a partir del coeficiente de correlación muestral $r$ como sigue:\n",
    "\n",
    "\\begin{align}\n",
    "    r = \\frac{S_{xy}}{ \\sqrt{S_{xx} S_{yy}} }\n",
    "\\end{align}\n",
    "\n",
    "<center>\n",
    "    <img src=\"figures/coefcorr-1.png\" width=\"600\"/>\n",
    "</center>\n",
    "\n",
    "\n"
   ]
  },
  {
   "cell_type": "code",
   "execution_count": 7,
   "metadata": {
    "slideshow": {
     "slide_type": "slide"
    }
   },
   "outputs": [
    {
     "data": {
      "image/png": "[encoded data removed]",
      "text/plain": [
       "<Figure size 432x288 with 1 Axes>"
      ]
     },
     "metadata": {
      "needs_background": "light"
     },
     "output_type": "display_data"
    },
    {
     "name": "stdout",
     "output_type": "stream",
     "text": [
      "El coeficiente de correlación entre X e Y es =  0.5570825467414331\n"
     ]
    }
   ],
   "source": [
    "plt.scatter(x, y, label='datos reales', color='red')\n",
    "plt.xlim(5, 40), plt.ylim(0, 1), plt.legend(), plt.grid()\n",
    "plt.xlabel('Temperatura ºC'), plt.ylabel('Prob. Incendio')\n",
    "plt.show()\n",
    "\n",
    "print('El coeficiente de correlación entre X e Y es = ', np.corrcoef(x, y)[0][1])"
   ]
  },
  {
   "cell_type": "code",
   "execution_count": 8,
   "metadata": {
    "slideshow": {
     "slide_type": "subslide"
    }
   },
   "outputs": [
    {
     "data": {
      "image/png": "[encoded data removed]",
      "text/plain": [
       "<Figure size 432x288 with 1 Axes>"
      ]
     },
     "metadata": {
      "needs_background": "light"
     },
     "output_type": "display_data"
    },
    {
     "name": "stdout",
     "output_type": "stream",
     "text": [
      "El coeficiente de correlación entre X e Y es =  0.8982643813478444\n"
     ]
    }
   ],
   "source": [
    "plt.scatter(x, z, label='datos reales', color='magenta')\n",
    "plt.xlim(5, 40), plt.ylim(0, 1), plt.legend(), plt.grid()\n",
    "plt.xlabel('Temperatura ºC'), plt.ylabel('Prob. Incendio')\n",
    "plt.show()\n",
    "\n",
    "print('El coeficiente de correlación entre X e Y es = ', np.corrcoef(x, z)[0][1])"
   ]
  },
  {
   "cell_type": "markdown",
   "metadata": {
    "slideshow": {
     "slide_type": "slide"
    }
   },
   "source": [
    "# Regresión lineal múltiple"
   ]
  },
  {
   "cell_type": "markdown",
   "metadata": {
    "slideshow": {
     "slide_type": "slide"
    }
   },
   "source": [
    "## Formulación vectorial\n",
    "\n",
    "Una regresión lineal múltiple conecta $m$ variables independientes con una variable dependiente de la forma:\n",
    "\n",
    "\\begin{align}\n",
    "    y = \\beta_0 + \\beta_1 x_1 + \\beta_2 x_2 + \\beta_3 x_3 + ... + \\beta_m x_m + \\epsilon\n",
    "\\end{align}\n",
    "\n",
    "Suponiendo que hay un total de $n$ datos $(x_{1i}, x_{2i}, ..., x_{mi}, y_i)$ con $i = 0, 1, ... n$ se puede escribir:\n",
    "\n",
    "\\begin{align}\n",
    "    y_1 = \\beta_0 + \\beta_1 x_{11} + \\beta_2 x_{21} + \\beta_3 x_{31} + ... + \\beta_m x_{m1} + \\epsilon_1\n",
    "\\end{align}\n",
    "\n",
    "\\begin{align}\n",
    "    y_2 = \\beta_0 + \\beta_1 x_{12} + \\beta_2 x_{22} + \\beta_3 x_{32} + ... + \\beta_m x_{m2} + \\epsilon_2\n",
    "\\end{align}\n",
    "\n",
    "\\begin{align}\n",
    "    ...\n",
    "\\end{align}\n",
    "\n",
    "\\begin{align}\n",
    "    y_n = \\beta_0 + \\beta_1 x_{1n} + \\beta_2 x_{2n} + \\beta_3 x_{3n} + ... + \\beta_m x_{mn} + \\epsilon_n\n",
    "\\end{align}\n",
    "\n"
   ]
  },
  {
   "cell_type": "markdown",
   "metadata": {
    "slideshow": {
     "slide_type": "subslide"
    }
   },
   "source": [
    "Estas ecuaciones se pueden resumir de forma matricial como sigue:\n",
    "\n",
    "\\begin{split}\n",
    "    \\begin{pmatrix} y_{1} \\\\  y_{2} \\\\ ... \\\\ y_{n} \\end{pmatrix} =  \\begin{pmatrix} 1 & x_{11} & x_{21} & ... & x_{m1} \\\\ 1 & x_{12} & x_{22} & ... & x_{m2} \\\\ ... & ... & ... & ... \\\\ 1 & x_{1n} & x_{2n} & ... & x_{mn} \\end{pmatrix} \\begin{pmatrix} \\beta_{0} \\\\ \\beta_{1} \\\\ ... \\\\ \\beta_{m}  \\end{pmatrix} + \\begin{pmatrix} \\epsilon_{1} \\\\  \\epsilon_{2} \\\\ ... \\\\ \\epsilon_{n} \\end{pmatrix}\n",
    "\\end{split}\n",
    "\n",
    "Además, en notación vectorial se pueden resumir como sigue:\n",
    "\n",
    "\\begin{align}\n",
    "    \\mathbf{y} = \\mathbf{X} \\boldsymbol{\\beta} + \\boldsymbol{\\epsilon}\n",
    "\\end{align}\n",
    "\n",
    "Para el caso del modelo ajustado a la muestra se tiene:\n",
    "\n",
    "\\begin{align}\n",
    "    \\mathbf{\\hat{y}} = \\mathbf{X} \\mathbf{b}\n",
    "\\end{align}"
   ]
  },
  {
   "cell_type": "markdown",
   "metadata": {
    "slideshow": {
     "slide_type": "slide"
    }
   },
   "source": [
    "## Resolución por mínimos cuadrados\n",
    "\n",
    "Se puede demostrar que:\n",
    "\n",
    "\\begin{align}\n",
    "    \\text{SCE} = (\\mathbf{y} - \\mathbf{X} \\mathbf{b})^{T} (\\mathbf{y} - \\mathbf{X} \\mathbf{b})\n",
    "\\end{align}\n",
    "\n",
    "En un siguiente paso se debe minimizar la suma de los errores al cuadrado mediante:\n",
    "\n",
    "\\begin{align}\n",
    "    \\frac{\\partial \\text{SCE}}{\\partial \\mathbf{b}} & = \\mathbf{0}\n",
    "\\end{align}\n",
    "\n",
    "Resolviendo esta ecuación se obtiene una expresión para los coeficientes:\n",
    "\n",
    "\\begin{split}\n",
    "    \\mathbf{b} = (\\mathbf{X^{T}} \\mathbf{X)^{-1}} \\mathbf{X^{T}} \\mathbf{y} = \\mathbf{P} \\mathbf{y}\n",
    "\\end{split}\n",
    "\n",
    ", donde $\\mathbf{P} = (\\mathbf{X}^{T} \\mathbf{X})^{-1} \\mathbf{X}^{T}$ se conoce como matriz pseudoinversa"
   ]
  },
  {
   "cell_type": "code",
   "execution_count": 10,
   "metadata": {
    "slideshow": {
     "slide_type": "slide"
    }
   },
   "outputs": [],
   "source": [
    "x1 = np.array([10, 18, 16, 20, 31, 29, 38, 30, 25, 36, 25, 28]) #temperatura\n",
    "x2 = np.array([10, 31, 15, 32, 8, 47, 76, 50, 47, 60, 25, 33]) #viento \n",
    "y = np.array([0.5, 0.12, 0.14, 0.21, 0.17, 0.68, 0.95, 0.4, 0.33, 0.7, 0.5, 0.61]) #prob incendio\n",
    "\n",
    "%matplotlib qt\n",
    "fig = plt.figure(figsize = (10, 7))\n",
    "ax = fig.add_subplot(projection='3d')\n",
    "ax.scatter(x1, x2, y, color='red', marker='o', s=50)\n",
    "ax.set_xlabel('Temperatura ºC'), ax.set_ylabel('Viento km/h'), ax.set_zlabel('Prob. Incendio')\n",
    "plt.show()"
   ]
  },
  {
   "cell_type": "code",
   "execution_count": 11,
   "metadata": {
    "scrolled": true,
    "slideshow": {
     "slide_type": "subslide"
    }
   },
   "outputs": [
    {
     "name": "stdout",
     "output_type": "stream",
     "text": [
      "*Calculo de coeficientes*\n",
      "    Los coeficientes son: b0 =  0.02405775065079019  b1 =  0.006697055225268647  b2 =  0.006847944915341726\n",
      "\n",
      "*Calculo de un caso puntual para x1=32 y x2=47*\n",
      "    Para temperatura de 32º y viento de 47 km/h la probabilidad de incendio es =  0.560216928880448\n"
     ]
    }
   ],
   "source": [
    "print('*Calculo de coeficientes*')\n",
    "xmat = np.column_stack((np.ones(12), x1, x2)) #forma matriz X\n",
    "pinv = np.linalg.pinv(xmat) #calcula pseudoinversa\n",
    "b = np.dot(pinv, y) #calcula coeficientes\n",
    "\n",
    "print('    Los coeficientes son: b0 = ', b[0], ' b1 = ', b[1], ' b2 = ', b[2])\n",
    "\n",
    "print('\\n*Calculo de un caso puntual para x1=32 y x2=47*')\n",
    "yp_puntual = b[0] + b[1]*32 + b[2]*47\n",
    "\n",
    "print('    Para temperatura de 32º y viento de 47 km/h la probabilidad de incendio es = ', yp_puntual)"
   ]
  },
  {
   "cell_type": "code",
   "execution_count": 12,
   "metadata": {
    "slideshow": {
     "slide_type": "subslide"
    }
   },
   "outputs": [],
   "source": [
    "x1m, x2m = np.meshgrid(np.arange(5, 40, 1), np.arange(5, 80, 1))\n",
    "ypm = b[0] + b[1]*x1m + b[2]*x2m\n",
    "\n",
    "#%matplotlib qt\n",
    "fig = plt.figure(figsize = (10, 7))\n",
    "ax = fig.add_subplot(projection='3d')\n",
    "ax.scatter(x1, x2, y, color='red', marker='o', s=50)\n",
    "ax.plot_surface(x1m, x2m, ypm, alpha=0.5)\n",
    "ax.set_xlabel('Temperatura ºC'), ax.set_ylabel('Viento km/h'), ax.set_zlabel('Prob. Incendio')\n",
    "plt.show()"
   ]
  },
  {
   "cell_type": "markdown",
   "metadata": {
    "slideshow": {
     "slide_type": "slide"
    }
   },
   "source": [
    "# Sumario\n",
    "- Las regresiones lineales son modelos matemáticos que aproximan una variable dependiente a través de una o varias variables independientes usando combinaciones lineales.\n",
    "- Ya que el modelo se genera a partir de una muestra de los datos, se pueden usar herramientas estadísticas para inferir cómo sería el modelo con todos los datos de la población.\n",
    "- Los coeficientes de un modelo se obtienen mediante el método de los mínimos cuadrados.\n",
    "- La calidad de un modelo ajustado se puede medir mediante el coeficiente de determinación."
   ]
  }
 ],
 "metadata": {
  "celltoolbar": "Slideshow",
  "kernelspec": {
   "display_name": "Python 3",
   "language": "python",
   "name": "python3"
  },
  "language_info": {
   "codemirror_mode": {
    "name": "ipython",
    "version": 3
   },
   "file_extension": ".py",
   "mimetype": "text/x-python",
   "name": "python",
   "nbconvert_exporter": "python",
   "pygments_lexer": "ipython3",
   "version": "3.8.5"
  }
 },
 "nbformat": 4,
 "nbformat_minor": 5
}
