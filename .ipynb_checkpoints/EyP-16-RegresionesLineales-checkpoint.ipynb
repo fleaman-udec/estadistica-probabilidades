{
 "cells": [
  {
   "cell_type": "markdown",
   "id": "e8e9c5e8",
   "metadata": {
    "slideshow": {
     "slide_type": "slide"
    }
   },
   "source": [
    "# Módulo: Inferencia Estadística\n",
    "## Regresiones lineales"
   ]
  },
  {
   "cell_type": "markdown",
   "id": "9b0d37e7",
   "metadata": {
    "slideshow": {
     "slide_type": "slide"
    }
   },
   "source": [
    "# Objetivos de la clase\n",
    "- Objetivos 1\n",
    "- Objetivos 1\n",
    "- Objetivos 1\n"
   ]
  },
  {
   "cell_type": "markdown",
   "id": "9ef8b77e",
   "metadata": {
    "slideshow": {
     "slide_type": "slide"
    }
   },
   "source": [
    "# Introducción"
   ]
  },
  {
   "cell_type": "markdown",
   "id": "7dbbfd22",
   "metadata": {
    "slideshow": {
     "slide_type": "slide"
    }
   },
   "source": [
    "Dada una recopilación histórica de datos, ¿cómo poder estimar o predecir la probabilidad que se genere un incendio forestal según la temperatura ambiental?\n",
    "\n",
    "<center>\n",
    "    <img src=\"figures/forest-2.png\" width=\"1200\"/>\n",
    "</center>"
   ]
  },
  {
   "cell_type": "markdown",
   "id": "c3bb1c12",
   "metadata": {
    "slideshow": {
     "slide_type": "subslide"
    }
   },
   "source": [
    "Una opción sería generar un modelo lineal del tipo:\n",
    "\n",
    "\\begin{align}\n",
    "    y = \\beta_0 + \\beta_1 x\n",
    "\\end{align}\n",
    "\n",
    "donde:\n",
    "\n",
    "$x$ : es la variable independiente o *regresor* (la temperatura ambiental)\n",
    "\n",
    "$y$ : es la variable dependiente o *respuesta* (la probabilidad de incendio)\n",
    "\n",
    "$\\beta_0$: es el parámetro *intersección*\n",
    "\n",
    "$\\beta_1$: es el parámetro *pendiente*\n",
    "\n",
    "&#10148; Este tipo de modelo se llama de **regresión lineal simple**"
   ]
  },
  {
   "cell_type": "markdown",
   "id": "c79557e5",
   "metadata": {
    "slideshow": {
     "slide_type": "subslide"
    }
   },
   "source": [
    "Sabemos que muchos fenómenos dependen de más de una variable.\n",
    "\n",
    "Para el caso del incendio forestal, ¿cómo incorporar otras variables al modelo de regresión lineal?\n",
    "\n",
    "<center>\n",
    "    <img src=\"figures/forest-3.png\" width=\"1500\"/>\n",
    "</center>"
   ]
  },
  {
   "cell_type": "markdown",
   "id": "b1500cb2",
   "metadata": {
    "slideshow": {
     "slide_type": "subslide"
    }
   },
   "source": [
    "Esto se logra mediante un modelo de **regresión lineal múltiple** del tipo:\n",
    "\n",
    "\\begin{align}\n",
    "    y = \\beta_0 + \\beta_1 x_1 + \\beta_2 x_2 + \\beta_3 x_3 + ... + \\beta_n x_n\n",
    "\\end{align}\n",
    "\n",
    "donde para $i \\in \\{1, 2, 3, ... , n\\}$:\n",
    "\n",
    "$x_i$ : son las variables independientes (temperatura, humedad, viento)\n",
    "\n",
    "$y$ : es la variable dependiente (la probabilidad de incendio)\n",
    "\n",
    "$\\beta_0$: es el parámetro *intersección*\n",
    "\n",
    "$\\beta_i$: son los coeficientes de regresión o *pesos* de cada variable independiente"
   ]
  },
  {
   "cell_type": "markdown",
   "id": "a1896b65",
   "metadata": {
    "slideshow": {
     "slide_type": "slide"
    }
   },
   "source": [
    "# Regresión lineal simple"
   ]
  },
  {
   "cell_type": "markdown",
   "id": "b9075b16",
   "metadata": {
    "slideshow": {
     "slide_type": "slide"
    }
   },
   "source": [
    "## Error de aproximación\n",
    "\n",
    "Un modelo de regresión lineal simple es solo una aproximación de la relación entre dos variables por varios motivos:\n",
    "- Simplificación de que la relación es perfectamente lineal.\n",
    "- Naturaleza aleatoria de las variables medidas.\n",
    "- Naturaleza empírica del modelo y sus parámetros.\n",
    "- Factores desconocidos que alteran la relación entre las variables.\n",
    "\n",
    "Es decir, en general tenemos que:\n",
    "\n",
    "\\begin{align}\n",
    "    y \\approx \\beta_0 + \\beta_1 x\n",
    "\\end{align}"
   ]
  },
  {
   "cell_type": "markdown",
   "id": "844d5792",
   "metadata": {
    "slideshow": {
     "slide_type": "subslide"
    }
   },
   "source": [
    "Para establecer correctamente la relación entre $x$ e $y$ se requiere de un planteamiento estadístico que incluya el error en la aproximación:\n",
    "\n",
    "\\begin{align}\n",
    "    y = \\beta_0 + \\beta_1 x + \\epsilon\n",
    "\\end{align}\n",
    "\n",
    "donde $\\epsilon$ es la variable de error aleatorio que se supone cumple con los siguientes requisitos:\n",
    "- Su media poblacional o *valor esperado* es igual 0\n",
    "- Su varianza es constante e igual a $\\sigma^2$\n",
    "\n",
    "<center>\n",
    "    <img src=\"figures/regre-1.png\" width=\"500\"/>\n",
    "</center>"
   ]
  },
  {
   "cell_type": "markdown",
   "id": "374ef0e5",
   "metadata": {
    "slideshow": {
     "slide_type": "slide"
    }
   },
   "source": [
    "## Recta de regresión ajustada\n",
    "\n",
    "El principal **desafío** de un análisis de regresión es determinar los coeficientes de regresión $\\beta_0$ y $\\beta_1$\n",
    "\n",
    "Una estimación de estos coeficientes serán los valores $b_0$ y $b_1$ que se pueden calcular **a partir de una muestra**, de modo que:\n",
    "\n",
    "\\begin{align}\n",
    "    \\hat{y} = b_0 + b_1 x\n",
    "\\end{align}\n",
    "\n",
    "donde $\\hat{y}$ es el valor estimado o ajustado por el modelo de regresión.\n",
    "\n",
    "Se observa que:\n",
    "- El valor estimado $\\hat{y}$ es una aproximación del valor real $y$.\n",
    "- La recta ajustada será más cercana a la recta real a medida que el tamaño de la muestra crezca"
   ]
  },
  {
   "cell_type": "markdown",
   "id": "5e851eb6",
   "metadata": {
    "slideshow": {
     "slide_type": "subslide"
    }
   },
   "source": [
    "<center>\n",
    "    <img src=\"figures/regre-2.png\" width=\"1000\"/>\n",
    "</center>"
   ]
  },
  {
   "cell_type": "markdown",
   "id": "16a4e603",
   "metadata": {
    "slideshow": {
     "slide_type": "subslide"
    }
   },
   "source": [
    "Se define el $i$-ésimo **error residual** $e_i$ como la diferencia entre el valor verdadero $y$ y la estimación del modelo ajustado $y_i$:\n",
    "\n",
    "\\begin{align}\n",
    "    e_i = y_i - \\hat{y_i}, \\quad i = 1, 2, ..., n \n",
    "\\end{align}\n",
    "\n",
    "Los errores residuales $e_i$ difieren de los errores del modelo conceptual $\\epsilon_i$ en que estos últimos no se observan ya que el modelo de regresión \"real\" no es conocido.\n",
    "\n",
    "<center>\n",
    "    <img src=\"figures/regre-3.png\" width=\"700\"/>\n",
    "</center>"
   ]
  },
  {
   "cell_type": "markdown",
   "id": "394b0ee3",
   "metadata": {
    "slideshow": {
     "slide_type": "slide"
    }
   },
   "source": [
    "## Mínimos cuadrados\n",
    "\n",
    "Para estimar $b_0$ y $b_1$ haremos que la suma de los errores residuales $e_i$ al cuadrado (SCE) sea mínima. \n",
    "\n",
    "Es decir:\n",
    "\n",
    "\\begin{align}\n",
    "    \\text{SCE} = \\sum_{i=1}^n e_i^2\n",
    "\\end{align}\n",
    "\n",
    "\\begin{align}\n",
    "    \\text{SCE} =  \\sum_{i=1}^n \\left( y_i - \\hat{y_i} \\right)^2 = \\sum_{i=1}^n \\left( y_i - b_0 - b_1 x_i \\right)^2\n",
    "\\end{align}\n",
    "\n",
    "\\begin{align}\n",
    "    b_0, b_1 = \\text{argmin} \\{ \\text{SCE}(b_0, b_1) \\}\n",
    "\\end{align}\n"
   ]
  },
  {
   "cell_type": "markdown",
   "id": "fc1de8a7",
   "metadata": {
    "slideshow": {
     "slide_type": "subslide"
    }
   },
   "source": [
    "El mínimo absoluto de la función SCE se obtiene mediante:\n",
    "\n",
    "\\begin{align}\n",
    "    \\frac{\\partial SCE}{\\partial b_0} & = 0 &\n",
    "    \\frac{\\partial SCE}{\\partial b_1} & = 0\n",
    "\\end{align}\n",
    "\n",
    "\n",
    "Resolviendo se obtiene lo siguiente:\n",
    "\n",
    "&#10148; Para la pendiente:\n",
    "\\begin{align}\n",
    "    b_1 = \\frac{ \\sum_{i=1}^{n} (x_i - \\overline{x})( y_i - \\overline{y} ) }{ \\sum_{i=1}^{n} (x_i - \\overline{x})^2 }\n",
    "\\end{align}\n",
    "\n",
    "&#10148; Para la intersección:\n",
    "\\begin{align}\n",
    "    b_0 = \\frac{ \\sum_{i=1}^{n} y_i - b_1 \\sum_{i=1}^{n} x_i }{ n }\n",
    "\\end{align}"
   ]
  },
  {
   "cell_type": "code",
   "execution_count": 20,
   "id": "d3fabf01",
   "metadata": {
    "slideshow": {
     "slide_type": "slide"
    }
   },
   "outputs": [
    {
     "data": {
      "image/png": "[encoded data removed]",
      "text/plain": [
       "<Figure size 432x288 with 1 Axes>"
      ]
     },
     "metadata": {
      "needs_background": "light"
     },
     "output_type": "display_data"
    }
   ],
   "source": [
    "import numpy as np\n",
    "import matplotlib.pyplot as plt\n",
    "\n",
    "x = np.array([10, 18, 16, 20, 31, 29, 38])\n",
    "y = np.array([0.9, 0.12, 0.14, 0.21, 0.17, 0.68, 0.95])\n",
    "\n",
    "b1, b0 = np.polyfit(x, y, 1)\n",
    "\n",
    "xp = np.arange(0, 40, 1)\n",
    "yp = b0 + b1*xp\n",
    "\n",
    "plt.scatter(x, y, label='datos reales', color='red')\n",
    "plt.plot(xp, yp, label='recta ajustada', color='blue')\n",
    "plt.xlim(0, 40), plt.ylim(0, 1), plt.legend()\n",
    "plt.show()"
   ]
  },
  {
   "cell_type": "markdown",
   "id": "a81cfd3b",
   "metadata": {
    "slideshow": {
     "slide_type": "slide"
    }
   },
   "source": [
    "## Inferencias sobre coeficientes de regresión\n",
    "\n",
    "Para realizar inferencias sobre los parámetros $\\beta_0$ y $\\beta_1$ se requiere de una estimación para $\\sigma^2$.\n",
    "\n",
    "En este caso $\\sigma^2$ representa la varianza entre todos los valores $(x_i, y_i)$ de la población y el modelo de regresión real $y = \\beta_0 + \\beta_1 x_1 + \\epsilon$\n",
    "\n",
    "Primero se definen:\n",
    "\n",
    "\\begin{align}\n",
    "    S_{xx} & = \\sum_{i=1}^{n} (x_i - \\overline{x})^2 &\n",
    "    S_{yy} & = \\sum_{i=1}^{n} (y_i - \\overline{y})^2\n",
    "\\end{align}\n",
    "\n",
    "\\begin{align}\n",
    "    S_{xy} = \\sum_{i=1}^{n} (x_i - \\overline{x}) (y_i - \\overline{y})\n",
    "\\end{align}"
   ]
  },
  {
   "cell_type": "markdown",
   "id": "45163abb",
   "metadata": {
    "slideshow": {
     "slide_type": "subslide"
    }
   },
   "source": [
    "Un estimador para $\\sigma^2$ corresponde a $s^2$, que es igual a:\n",
    "\n",
    "\\begin{align}\n",
    "    s^2 = \\frac{\\text{SCE}}{n-2} = \\sum_{i=1}^n \\frac{ ( y_i - \\hat{y_i})^2 }{n-2} \n",
    "\\end{align}\n",
    "\n",
    "Este valor $s^2$ se conoce como **error cuadrático medio**. \n",
    "\n",
    "Además se puede demostrar que:\n",
    "\n",
    "\\begin{align}\n",
    "    s^2 = \\frac{S_{yy} - b_1 S_{xy} }{n-2}\n",
    "\\end{align}"
   ]
  },
  {
   "cell_type": "markdown",
   "id": "2a4670bd",
   "metadata": {
    "slideshow": {
     "slide_type": "subslide"
    }
   },
   "source": [
    "Usando la distribución $t$ con $s^2$ como un estimador de $\\sigma^2$ se puede demostrar que:\n",
    "\n",
    "El **intervalo de confianza** del $100(1-\\alpha)\\%$ para el parámetro $\\beta_1$ es:\n",
    "\n",
    "\\begin{align}\n",
    "    \\beta_1 \\in \\left[  b_1 - t_{\\alpha /2} \\frac{s}{\\sqrt{S_{xx}}} , b_1 + t_{\\alpha /2} \\frac{s}{\\sqrt{S_{xx}}} \\right]\n",
    "\\end{align}\n",
    "\n",
    "donde $t_{\\alpha /2}$ es el valor que deja un área de $\\alpha /2$ a la derecha de la distribución $t$ con $n-2$ grados de libertad\n",
    "\n"
   ]
  },
  {
   "cell_type": "markdown",
   "id": "3f2f3fb2",
   "metadata": {
    "slideshow": {
     "slide_type": "subslide"
    }
   },
   "source": [
    "Del mismo modo, el **intervalo de confianza** del $100(1-\\alpha)\\%$ para el parámetro $\\beta_0$ es:\n",
    "\n",
    "\\begin{align}\n",
    "    \\beta_0 \\in \\left[  b_0 - t_{\\alpha /2} \\frac{s}{\\sqrt{n S_{xx}}} \\sqrt{\\sum_{i=1}^{n} x_{i}^{2} } \\hspace{0.5em} , \\hspace{0.5em} b_0 + t_{\\alpha /2} \\frac{s}{\\sqrt{n S_{xx}}} \\sqrt{\\sum_{i=1}^{n} x_{i}^{2} }  \\right]\n",
    "\\end{align}\n",
    "\n",
    "donde $t_{\\alpha /2}$ es el valor que deja un área de $\\alpha /2$ a la derecha de la distribución $t$ con $n-2$ grados de libertad\n",
    "\n",
    "\n",
    "\n",
    "<center>\n",
    "    <img src=\"figures/regre-4.png\" width=\"500\"/>\n",
    "</center>\n"
   ]
  },
  {
   "cell_type": "markdown",
   "id": "3fdcde58",
   "metadata": {
    "slideshow": {
     "slide_type": "slide"
    }
   },
   "source": [
    "## Coeficiente de determinación"
   ]
  },
  {
   "cell_type": "markdown",
   "id": "b090cc5e",
   "metadata": {},
   "source": []
  },
  {
   "cell_type": "markdown",
   "id": "63aafaca",
   "metadata": {},
   "source": []
  },
  {
   "cell_type": "markdown",
   "id": "00838176",
   "metadata": {
    "slideshow": {
     "slide_type": "slide"
    }
   },
   "source": [
    "|Temp. ºC | Humedad % | Viento km/h | Prob. Incendio |\n",
    "| --- | --- | --- | --- |\n",
    "| 10 | 88 | 10 | 0.09 |\n",
    "| 12 | 88 | 31 | 0.12 |\n",
    "| 23 | 90 | 15 | 0.14 |\n",
    "| 19 | 70 | 32 | 0.21 |\n",
    "| ... | ... | ... | ... |\n",
    "| 36 | 99 | 8 | 0.17 |\n",
    "| 25 | 85 | 47 | 0.68 |\n",
    "| 38 | 60 | 76 | 0.95 |"
   ]
  },
  {
   "cell_type": "code",
   "execution_count": null,
   "id": "c6023e77",
   "metadata": {},
   "outputs": [],
   "source": []
  },
  {
   "cell_type": "code",
   "execution_count": null,
   "id": "dc6ae49c",
   "metadata": {},
   "outputs": [],
   "source": []
  }
 ],
 "metadata": {
  "celltoolbar": "Slideshow",
  "kernelspec": {
   "display_name": "Python 3 (ipykernel)",
   "language": "python",
   "name": "python3"
  },
  "language_info": {
   "codemirror_mode": {
    "name": "ipython",
    "version": 3
   },
   "file_extension": ".py",
   "mimetype": "text/x-python",
   "name": "python",
   "nbconvert_exporter": "python",
   "pygments_lexer": "ipython3",
   "version": "3.9.7"
  }
 },
 "nbformat": 4,
 "nbformat_minor": 5
}
