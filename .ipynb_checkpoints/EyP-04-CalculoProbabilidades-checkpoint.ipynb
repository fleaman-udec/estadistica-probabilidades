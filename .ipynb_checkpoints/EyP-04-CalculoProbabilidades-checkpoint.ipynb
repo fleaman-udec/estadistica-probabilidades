{
 "cells": [
  {
   "cell_type": "markdown",
   "id": "954b48ca",
   "metadata": {
    "slideshow": {
     "slide_type": "slide"
    }
   },
   "source": [
    "# Módulo: Fundamentos de Probabilidad\n",
    "## T4: Cálculo de probabilidades\n"
   ]
  },
  {
   "cell_type": "markdown",
   "id": "54ce89c7",
   "metadata": {
    "slideshow": {
     "slide_type": "slide"
    }
   },
   "source": [
    "# Objetivos de la clase\n",
    "- Comprender el concepto de probabilidad y cómo se cuantifica.\n",
    "- Conocer reglas para el cálculo de probabilidad  de eventos.\n",
    "- Aprender sobre probabilidad condicional e independencia de eventos."
   ]
  },
  {
   "cell_type": "markdown",
   "id": "b31575cb",
   "metadata": {
    "slideshow": {
     "slide_type": "slide"
    }
   },
   "source": [
    "# Concepto de probabilidad\n",
    "\n",
    "- \"Juan probablemente ganará el torneo de karate\"\n",
    "- \"Hay 50% de probabilidades de obtener cara al lanzar una moneda\"\n",
    "- \"No hay posibilidades de ganar el juego\"\n",
    "- \"La mayoría de los aviones son probablemente blancos\"\n",
    "\n",
    "<br><center>\n",
    "    <img src=\"figures/bitcoin-1.gif\" width=\"300\"/>\n",
    "</center>\n",
    "\n",
    "\n",
    "\n"
   ]
  },
  {
   "cell_type": "markdown",
   "id": "df70eb7a",
   "metadata": {
    "slideshow": {
     "slide_type": "subslide"
    }
   },
   "source": [
    "La probabilidad expresa un resultado del que **no estamos seguros**, pero que hasta cierto punto creemos que ocurrirá.\n",
    "\n",
    "<center>\n",
    "    <img src=\"figures/prob-2.png\" width=\"500\"/>\n",
    "</center>\n",
    "\n",
    "Esta **confianza** puede venir desde la experiencia o de la comprensión del experimento.\n"
   ]
  },
  {
   "cell_type": "markdown",
   "id": "62932aa7",
   "metadata": {
    "slideshow": {
     "slide_type": "slide"
    }
   },
   "source": [
    "# Cuantificación de la probabilidad"
   ]
  },
  {
   "cell_type": "markdown",
   "id": "7b425a65",
   "metadata": {
    "slideshow": {
     "slide_type": "slide"
    }
   },
   "source": [
    "## Cálculo de probabilidades\n",
    "\n",
    "&#10148; La probabilidad de expresa mediante números reales entre 0 y 1.\n",
    "\n",
    "&#10148; A cada elemento del espacio muestral se le asigna una probabilidad tal que la suma de todas las probabilidades sea 1.\n",
    "\n",
    "<center>\n",
    "    <img src=\"figures/prob-3.png\" width=\"550\"/>\n",
    "</center>\n",
    "&#10148; La mayor (menor) confianza en obtener cierto resultado se asocia a una mayor (menor) probabilidad.\n"
   ]
  },
  {
   "cell_type": "markdown",
   "id": "e94e7502",
   "metadata": {
    "slideshow": {
     "slide_type": "subslide"
    }
   },
   "source": [
    "La probabilidad de un evento $A$ se obtiene sumando las probabilidades de todos los elementos en $A$ y se denota como $P(A)$\n",
    "\n",
    "<br><center>\n",
    "    <img src=\"figures/spinner-1.png\" width=\"200\"/>\n",
    "</center>\n",
    "\n",
    "Por su definición, se cumplen los siguientes **axiomas**:\n",
    "\n",
    "\\begin{align}\n",
    "    0 & \\leq P(A) \\leq 1 &\n",
    "    P(\\phi) & = 0 &\n",
    "    P(S) & = 1\n",
    "\\end{align}\n"
   ]
  },
  {
   "cell_type": "markdown",
   "id": "0dda8ba0",
   "metadata": {
    "slideshow": {
     "slide_type": "subslide"
    }
   },
   "source": [
    "Además se cumple que si $A_1, A_2, ... A_n$ es una serie de eventos **mutuamente excluyentes**, entonces:\n",
    "\n",
    "\\begin{align}\n",
    "    P(A_1 \\cup A_2 \\cup ... A_n) = P(A_1) + P(A_2) + ... P(A_n)\n",
    "\\end{align}\n",
    "\n",
    "<br>\n",
    "\n",
    "Si de un experimento se pueden obtener $N$ resultados con las **mismas probabilidades** de ocurrir y si $n$ de esos resultados corresponden al evento $A$, entonces la probabilidad del evento $A$ es: \n",
    "\n",
    "\\begin{align}\n",
    "    P(A) = \\frac{n}{N}\n",
    "\\end{align}"
   ]
  },
  {
   "cell_type": "markdown",
   "id": "f3657b90",
   "metadata": {
    "slideshow": {
     "slide_type": "subslide"
    }
   },
   "source": [
    "**Ejemplo**: Se lanza una moneda 2 veces. ¿Cuál es la probabilidad de que salga al menos una cara?\n",
    "\\begin{align}\n",
    "    S = \\{ HH, HT, TH, TT \\}\n",
    "\\end{align}\n",
    "\n",
    "Cada resultado tiene la misma probabilidad de ocurrir, por lo que la probabilidad se reparte igual en los 4 elementos de $S$.\n",
    "\n",
    "\\begin{align}\n",
    "    P(A) = \\frac{1}{4} + \\frac{1}{4} + \\frac{1}{4} = \\frac{3}{4} = 0.75\n",
    "\\end{align}\n",
    "\n",
    "<center>\n",
    "    <img src=\"figures/dogecoin-2.gif\" width=\"150\"/>\n",
    "</center>\n",
    "\n"
   ]
  },
  {
   "cell_type": "markdown",
   "id": "c228fffe",
   "metadata": {
    "slideshow": {
     "slide_type": "subslide"
    }
   },
   "source": [
    "**Ejemplo**: Se altera un dado para que exista el doble de probabilidad de obtener un número par que uno impar. ¿Cuál es la probabilidad que en un lanzamiento se obtenga un número menor a 4?\n",
    "\n",
    "\\begin{align}\n",
    "    S & = \\{ 1, 2, 3, 4, 5, 6 \\} &\n",
    "    A & = \\{ 1, 2, 3 \\}\n",
    "\\end{align}\n",
    "\n",
    "&#10148; Las probabilidades de cada elemento de $S$ deben ser tal que:\n",
    "\n",
    "\\begin{align}\n",
    "    w + 2w + w + 2w + w + 2w = 9w =  1\n",
    "\\end{align}\n",
    "\n",
    "&#10148; Es decir, cada número impar tiene probabilidad 1/9 y cada número par tiene probabilidad de 2/9\n",
    "\n",
    "&#10148; Por lo tanto la probabilidad de que ocurra el evento $A$ es:\n",
    "\n",
    "\\begin{align}\n",
    "    P(A) = \\frac{1}{9} + \\frac{2}{9} + \\frac{1}{9} = \\frac{4}{9}\n",
    "\\end{align}\n",
    "\n"
   ]
  },
  {
   "cell_type": "markdown",
   "id": "8d4aaeea",
   "metadata": {
    "slideshow": {
     "slide_type": "subslide"
    }
   },
   "source": [
    "**Ejemplo**: En una bolsa hay 3 naranjas, 2 manzanas, 5 kiwis, 3 plátanos y 1 durazno.\n",
    "\n",
    "&#10148; ¿Cuál es la probabilidad de escoger al azar una manzana?\n",
    "\n",
    "\\begin{align}\n",
    "    P(M) = \\frac{2}{14} = \\frac{1}{7}\n",
    "\\end{align}\n",
    "\n",
    "&#10148; ¿Cuál es la probabilidad de escoger al azar un plátano o un kiwi?\n",
    "\n",
    "\\begin{align}\n",
    "    P(P \\cup K) = P(P) + P(K) = \\frac{3}{14} + \\frac{5}{14} = \\frac{8}{14} = \\frac{4}{7}\n",
    "\\end{align}\n",
    "\n",
    "<center>\n",
    "    <img src=\"figures/fruits-1.gif\" width=\"300\"/>\n",
    "</center>\n"
   ]
  },
  {
   "cell_type": "markdown",
   "id": "a3bf464f",
   "metadata": {
    "slideshow": {
     "slide_type": "slide"
    }
   },
   "source": [
    "## Reglas aditivas de probabilidad\n",
    "\n",
    "&#10148; Si $A$ y $B$ son eventos no necesariamente mutuamente excluyentes:\n",
    "\n",
    "\\begin{align}\n",
    "    P(A \\cup B) = P(A) + P(B) - P(A \\cap B)\n",
    "\\end{align}\n",
    "\n",
    "&#10148; Si $A$, $B$ y $C$ son eventos no necesariamente mutuamente excluyentes:\n",
    "\n",
    "\\begin{align}\n",
    "    P(A \\cup B \\cup C) = P(A) + P(B) + P(C) - P(A \\cap B)... \\\\\n",
    "      ... - P(A \\cap C) - P(B \\cap C) + P(A \\cap B \\cap C)\n",
    "\\end{align}\n",
    "\n",
    "&#10148; Si $A$ y $A'$ son eventos complementarios, entonces:\n",
    "\n",
    "\\begin{align}\n",
    "    P(A) + P(A') = 1\n",
    "\\end{align}"
   ]
  },
  {
   "cell_type": "markdown",
   "id": "d553e6bd",
   "metadata": {
    "slideshow": {
     "slide_type": "subslide"
    }
   },
   "source": [
    "**Ejemplo**: En una bolsa hay 3 naranjas, 2 manzanas, 5 kiwis, 3 plátanos y 1 durazno.\n",
    "\n",
    "¿Cuál es la probabilidad de escoger al azar una fruta anaranjada (A) o cítrica (C)?\n",
    "\n",
    "\\begin{align}\n",
    "    P(A) & = \\frac{4}{14} &\n",
    "    P(C) & = \\frac{8}{14}\n",
    "\\end{align}\n",
    "\n",
    "\\begin{align}\n",
    "    P(A \\cap C) = \\frac{3}{14}\n",
    "\\end{align}\n",
    "\n",
    "\\begin{align}\n",
    "    P(A \\cup C) = P(A) + P(C) - P(A \\cap C)\n",
    "\\end{align}\n",
    "\n",
    "\\begin{align}\n",
    "    P(A \\cup C) = \\frac{4}{14} + \\frac{8}{14} - \\frac{3}{14} = \\frac{9}{14}\n",
    "\\end{align}\n"
   ]
  },
  {
   "cell_type": "markdown",
   "id": "b1761335",
   "metadata": {
    "slideshow": {
     "slide_type": "subslide"
    }
   },
   "source": [
    "**Ejemplo**: En una bolsa hay 3 naranjas, 2 manzanas, 5 kiwis, 3 plátanos y 1 durazno.\n",
    "\n",
    "¿Cuál es la probabilidad de escoger una fruta al azar y que no sea un plátano?\n",
    "\n",
    "\\begin{align}\n",
    "    P(P) = \\frac{3}{14}\n",
    "\\end{align}\n",
    "\n",
    "\\begin{align}\n",
    "    P(P') = 1 - P(P) = \\frac{11}{14}\n",
    "\\end{align}\n",
    "\n",
    "<br>\n",
    "<center>\n",
    "    <img src=\"figures/fruits-1.gif\" width=\"300\"/>\n",
    "</center>"
   ]
  },
  {
   "cell_type": "markdown",
   "id": "1283e9d2",
   "metadata": {
    "slideshow": {
     "slide_type": "slide"
    }
   },
   "source": [
    "# Probabilidad condicional"
   ]
  },
  {
   "cell_type": "markdown",
   "id": "98745564",
   "metadata": {
    "slideshow": {
     "slide_type": "slide"
    }
   },
   "source": [
    "## Concepto de probabilidad condicional\n",
    "\n",
    "&#10148; Es la probabilidad que ocurra un evento $A$ dado que ya ocurrió un evento $B$\n",
    "\n",
    "&#10148; Brinda la capacidad de reevaluar o actualizar la probabilidad del evento $A$ a la luz de información adicional sobre el evento $B$.\n",
    "\n",
    "<center>\n",
    "    <img src=\"figures/cond-prob-1.jpg\" width=\"700\"/>\n",
    "</center>"
   ]
  },
  {
   "cell_type": "markdown",
   "id": "5f7e94cc",
   "metadata": {
    "slideshow": {
     "slide_type": "slide"
    }
   },
   "source": [
    "## Cálculo de probabilidad condicional\n",
    "\n",
    "&#10148; Matemáticamente se define la probabilidad condicional que ocurra $A$ dado $B$:\n",
    "\n",
    "\\begin{align}\n",
    "    P(A|B) = \\frac{ P(A \\cap B) }{ P(B) }\n",
    "\\end{align}\n",
    "\n",
    "&#10148; Observar que se cumple la siguiente propiedad:\n",
    "\n",
    "\\begin{align}\n",
    "    P(A|B) + P(A'|B) = 1\n",
    "\\end{align}"
   ]
  },
  {
   "cell_type": "markdown",
   "id": "0c99a1f8",
   "metadata": {
    "slideshow": {
     "slide_type": "subslide"
    }
   },
   "source": [
    "**Ejemplo**: La probabilidad de que un vuelo despegue a a tiempo es $P(D) = 0.83$, la probabilidad de que aterrice a tiempo es $P(A) = 0.82$ y la probabilidad de que despegue y aterrice a tiempo es $P(D \\cap A) = 0.78$.\n",
    "\n",
    "¿Cuál es la probabilidad de que el avión aterrice a tiempo dado que despegó a tiempo?\n",
    "\n",
    "\\begin{align}\n",
    "    P(A|D) = \\frac{ P(A \\cap D) }{ P(D)} = \\frac{ P(D \\cap A) }{ P(D)} =  \\frac{ 0.78}{ 0.83 } = 0.94\n",
    "\\end{align}\n",
    "\n",
    "<br><center>\n",
    "    <img src=\"figures/plane-time.jpg\" width=\"400\"/>\n",
    "</center>"
   ]
  },
  {
   "cell_type": "markdown",
   "id": "3624d8f4",
   "metadata": {
    "slideshow": {
     "slide_type": "subslide"
    }
   },
   "source": [
    "**Ejemplo (cont.)**: La probabilidad de que un vuelo despegue a a tiempo es $P(D) = 0.83$, la probabilidad de que aterrice a tiempo es $P(A) = 0.82$ y la probabilidad de que despegue y aterrice a tiempo es $P(D \\cap A) = 0.78$.\n",
    "\n",
    "¿Cuál es la probabilidad de que el avión aterrice a tiempo dado que no despegó a tiempo?\n",
    "\n",
    "\\begin{align}\n",
    "    P(A|D') = \\frac{ P(A \\cap D') }{ P(D')} = \\frac{ P(A) - P(A \\cap D) }{ P(D')} =  \\frac{ 0.82 - 0.78}{ 1 - 0.83 } = 0.24\n",
    "\\end{align}\n",
    "\n",
    "<br><center>\n",
    "    <img src=\"figures/plane-delay.jpg\" width=\"400\"/>\n",
    "</center>"
   ]
  },
  {
   "cell_type": "markdown",
   "id": "173c5b5e",
   "metadata": {
    "slideshow": {
     "slide_type": "slide"
    }
   },
   "source": [
    "## Eventos independientes\n",
    "\n",
    "&#10148; Dos eventos pueden ser completamente independientes el uno del otro. \n",
    "\n",
    "&#10148;  En este caso la probabilidad condicional no ayuda a actualizar la probabilidad de un nuevo evento.\n",
    "\n",
    "&#10148;  Dos eventos $A$ y $B$ son independientes si y solo si:\n",
    "\n",
    "\\begin{align}\n",
    "    P(A|B) &= P(A)&\n",
    "    \\lor &\n",
    "    &P(B|A) &= P(B)\n",
    "\\end{align}\n",
    "\n",
    "&#10148;  Ambas condiciones anteriores son equivalentes."
   ]
  },
  {
   "cell_type": "markdown",
   "id": "55bb6ccc",
   "metadata": {
    "slideshow": {
     "slide_type": "slide"
    }
   },
   "source": [
    "## Regla multiplicativa\n",
    "&#10148; Si en un experimento pueden ocurrir los eventos $A$ y $B$, entonces:\n",
    "\n",
    "\\begin{align}\n",
    "    P(A \\cap B) = P(A) P(B|A)\n",
    "\\end{align}\n",
    "\n",
    "&#10148; Dado que $P(A \\cap B) = P(B \\cap A)$, la regla anterior también se puede expresar:\n",
    "\n",
    "\\begin{align}\n",
    "    P(A \\cap B) = P(B \\cap A) = P(B) P(A|B)\n",
    "\\end{align}\n",
    "\n",
    "&#10148; Dos eventos son independientes si y solo si:\n",
    "\n",
    "\\begin{align}\n",
    "    P(A \\cap B) = P(A) P(B)\n",
    "\\end{align}\n"
   ]
  },
  {
   "cell_type": "markdown",
   "id": "117faccc",
   "metadata": {
    "slideshow": {
     "slide_type": "subslide"
    }
   },
   "source": [
    "**Ejemplo**: En una bolsa hay 20 fusibles de los que 5 están defectuosos. ¿Cuál es la probabilidad de sacar dos fusibles defectuosos al azar, uno después del otro? \n",
    "\n",
    "&#10148; Consideramos $A$ el evento del primer fusible defectuoso y $B$ el evento del segundo fusible defectuoso.\n",
    "\n",
    "&#10148; Las probabilidades de ambos eventos son respectivamente:\n",
    "\n",
    "\\begin{align}\n",
    "    P(A) &= \\frac{5}{20} = \\frac{1}{4}&\n",
    "    P(B) &= \\frac{4}{19}\n",
    "\\end{align}\n",
    "\n",
    "&#10148; Entonces $A \\cap B$ es el evento en que ocurre $A$  y $B$ y se calcula como:\n",
    "\n",
    "\\begin{align}\n",
    "    P(A \\cap B) = \\left( \\frac{1}{4} \\right) \\left( \\frac{4}{19} \\right) = \\frac{1}{19}\n",
    "\\end{align}\n",
    " "
   ]
  },
  {
   "cell_type": "markdown",
   "id": "adb79cd7",
   "metadata": {
    "slideshow": {
     "slide_type": "subslide"
    }
   },
   "source": [
    "**Ejemplo**: Si la probabilidad de lanzar una flecha y acertar a un blanco es 0.3, calcule la probabilidad de ganar al realizar dos tiros y acertar al menos una vez al blanco.\n",
    "\n",
    "<br><center>\n",
    "    <img src=\"figures/archery-gif.gif\" width=\"600\"/>\n",
    "</center>"
   ]
  },
  {
   "cell_type": "markdown",
   "id": "a23371ce",
   "metadata": {
    "slideshow": {
     "slide_type": "subslide"
    }
   },
   "source": [
    "&#10148; El espacio muestral $S$ del experimento sería: \n",
    "\n",
    "\\begin{align}\n",
    "    S = \\{ AA, AN, NA, NN \\}\n",
    "\\end{align}\n",
    "\n",
    "&#10148; Asumiendo que los eventos son independientes, las probabilidades de cada elemento son:\n",
    "\n",
    "\\begin{align}\n",
    "    P(AA) & = 0.3 \\cdot 0.3 = 0.09 &\n",
    "    P(AN) & = 0.3 \\cdot 0.7 = 0.21 \n",
    "\\end{align}\n",
    "\n",
    "\\begin{align}\n",
    "    P(NA) & = 0.7 \\cdot 0.3 = 0.21 & \n",
    "    P(NN) & = 0.7 \\cdot 0.7 = 0.49\n",
    "\\end{align}\n",
    "\n",
    "&#10148; Por lo tanto, la probabilidad del evento ganar $G = \\{ AA, AN, NA \\}$ sería igual a:\n",
    "\n",
    "\\begin{align}\n",
    "    P(G) = P(AA) + P(AN) + P(NA) = 0.09 + 0.21 + 0.21 = 0.51\n",
    "\\end{align}"
   ]
  },
  {
   "cell_type": "markdown",
   "id": "1610b377",
   "metadata": {
    "slideshow": {
     "slide_type": "slide"
    }
   },
   "source": [
    "# Sumario\n",
    "- La probabilidad expresa la mayor o menor confianza de obtener cierto resultado.\n",
    "- Las reglas aditivas sirven para calcular probabilidades de uniones de eventos, mientras que las reglas multiplicativas para las intersecciones de eventos.\n",
    "- La probabilidad condicional representa la probabilidad de que ocurra un evento dado que ya ocurrió otro.\n",
    "- Dos eventos son independientes, si su probabilidad condicional es igual a su probabilidad regular.\n"
   ]
  }
 ],
 "metadata": {
  "celltoolbar": "Slideshow",
  "kernelspec": {
   "display_name": "Python 3 (ipykernel)",
   "language": "python",
   "name": "python3"
  },
  "language_info": {
   "codemirror_mode": {
    "name": "ipython",
    "version": 3
   },
   "file_extension": ".py",
   "mimetype": "text/x-python",
   "name": "python",
   "nbconvert_exporter": "python",
   "pygments_lexer": "ipython3",
   "version": "3.9.7"
  }
 },
 "nbformat": 4,
 "nbformat_minor": 5
}
