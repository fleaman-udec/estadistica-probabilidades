{
 "cells": [
  {
   "cell_type": "markdown",
   "id": "6c6d3465",
   "metadata": {
    "slideshow": {
     "slide_type": "slide"
    }
   },
   "source": [
    "# Módulo: Otros Tópicos\n",
    "## Diseño de experimentos"
   ]
  },
  {
   "cell_type": "markdown",
   "id": "78b76eb1",
   "metadata": {
    "slideshow": {
     "slide_type": "slide"
    }
   },
   "source": [
    "# Objetivos de la clase\n",
    "- Conocer algunas definiciones y principios fundamentales del diseño de experimentos\n",
    "- Aprender algunas técnicas de análisis de varianza para verificar la validez de resultados experimentales."
   ]
  },
  {
   "cell_type": "markdown",
   "id": "dc3543a6",
   "metadata": {
    "slideshow": {
     "slide_type": "slide"
    }
   },
   "source": [
    "# Introducción al diseño experimental\n"
   ]
  },
  {
   "cell_type": "markdown",
   "id": "0d74eda1",
   "metadata": {
    "slideshow": {
     "slide_type": "slide"
    }
   },
   "source": [
    "## Fundamentos\n",
    "\n",
    "<br><dl>\n",
    "<dt>Experimento</dt>\n",
    "<dd>Observación de un fenómeno o variable respuesta bajo determinadas condiciones </dd>\n",
    "<dt>Objetivo</dt>\n",
    "<dd>Aprendizaje por medio de la observación como complemento al aprendizaje teórico</dd>\n",
    "<dt>Análisis estadístico</dt>\n",
    "<dd>Determina qué variables o factores influyen en la variable respuesta </dd>\n",
    "</dl>"
   ]
  },
  {
   "cell_type": "markdown",
   "id": "e53dfa22",
   "metadata": {
    "slideshow": {
     "slide_type": "subslide"
    }
   },
   "source": [
    "En un **diseño experimental** se manipula intencionalmente los valores o niveles de los factores (variable independiente) y se observa cómo cambia la variable respuesta (variable dependiente).\n",
    "\n",
    "<center>\n",
    "    <img src=\"figures/expd-1.png\" width=\"500\"/>\n",
    "</center>"
   ]
  },
  {
   "cell_type": "markdown",
   "id": "c9857504",
   "metadata": {
    "slideshow": {
     "slide_type": "slide"
    }
   },
   "source": [
    "## Clasificación de experimentos\n",
    "\n",
    "<br><dl>\n",
    "<dt>Selección de factores</dt>\n",
    "<dd>A partir de un gran número de factores, se busca encontrar los que más influyen en la variable respuesta </dd>\n",
    "<dt>Comparación de tratamientos</dt>\n",
    "<dd>Se busca detectar diferencias entre distintos valores o niveles de uno o más factores</dd>\n",
    "<dt>Superficies de respuesta</dt>\n",
    "<dd>Se determina cómo o en qué grado un factor influye en la variable respuesta </dd>\n",
    "</dl>"
   ]
  },
  {
   "cell_type": "markdown",
   "id": "ab853e41",
   "metadata": {
    "slideshow": {
     "slide_type": "subslide"
    }
   },
   "source": [
    "<center>\n",
    "    <img src=\"figures/expd-2.png\" width=\"700\"/>\n",
    "</center>"
   ]
  },
  {
   "cell_type": "markdown",
   "id": "b0abc753",
   "metadata": {
    "slideshow": {
     "slide_type": "slide"
    }
   },
   "source": [
    "## Ejecución de un experimento\n",
    "\n",
    "Se busca identificar una relación causa-efecto entre uno o más factores y la variable respuesta.\n",
    "\n",
    "<center>\n",
    "    <img src=\"figures/expd-3.jpg\" width=\"500\"/>\n",
    "</center>\n",
    "\n",
    "Idealmente, todos los otros factores (salvo el que está bajo estudio) deben permanecer constantes o controlados durante el experimento.\n",
    "\n",
    "Mientras mejor pueda cumplirse esto, mejor será la calidad del experimento."
   ]
  },
  {
   "cell_type": "markdown",
   "id": "083e630e",
   "metadata": {
    "slideshow": {
     "slide_type": "subslide"
    }
   },
   "source": [
    "**Dos principios fundamentales:**\n",
    "\n",
    "**Replicación:** corresponde a aplicar el mismo tratamiento a unidades experimentales diferentes. Unidad experimental se refiere al sujeto de estudio.\n",
    "\n",
    "*Ejemplo*: aplicar el mismo medicamento a distintas personas para ver su eficacia.\n",
    "\n",
    "**Aleatorización:** se refiere a aplicar aleatoriamente los tratamientos a distintas unidades experimentales.\n",
    "\n",
    "*Ejemplo*: cuáles personas reciben qué medicamento se define al azar."
   ]
  },
  {
   "cell_type": "markdown",
   "id": "84ef9039",
   "metadata": {
    "slideshow": {
     "slide_type": "slide"
    }
   },
   "source": [
    "# Método del análisis de varianza"
   ]
  },
  {
   "cell_type": "markdown",
   "id": "b3d71f3c",
   "metadata": {
    "slideshow": {
     "slide_type": "slide"
    }
   },
   "source": [
    "Suponemos que intentamos explicar el comportamiento de la variable dependiente $y$ con respecto a la variable independiente  $x$ mediante una regresión lineal. En este caso tenemos que: $\\hat{y} = b_0 + b_1 x$\n",
    "\n",
    "**Ejemplo**: se prueban distintos contenidos de cromo en una aleación de acero para ver su influencia en la resitencia a la corrosión.\n",
    "\n",
    "<center>\n",
    "    <img src=\"figures/expd-5.png\" width=\"500\"/>\n",
    "</center>"
   ]
  },
  {
   "cell_type": "markdown",
   "id": "69ab957a",
   "metadata": {
    "slideshow": {
     "slide_type": "subslide"
    }
   },
   "source": [
    "Se puede demostrar que:\n",
    "\n",
    "\\begin{align}\n",
    "    \\sum_{i=1}^{n} (y_i - \\overline{y})^2 = \\sum_{i=1}^{n} (\\hat{y}_i - \\overline{y})^2 + \\sum_{i=1}^{n} (y_i - \\hat{y}_i)^2\n",
    "\\end{align}\n",
    "\n",
    "\\begin{align}\n",
    "    STCC = SCR + SCE\n",
    "\\end{align}\n",
    "\n",
    "Es decir, la suma total de los cuadrados corregida (STCC) se puede expresar como la suma de los cuadrados de la regresión (SCR) más la suma de los cuadrados del error (SCE).\n",
    "\n",
    "Interpretación: \"*la varianza de los datos se puede explicar por una componente sistemática que se puede explicar con el modelo de regresión y por una componente aleatoria que no se puede explicar con el modelo de regresión*\""
   ]
  },
  {
   "cell_type": "markdown",
   "id": "a0c9cee7",
   "metadata": {
    "slideshow": {
     "slide_type": "subslide"
    }
   },
   "source": [
    "En el **ejemplo**, para demostrar que efectivamente el contenido de cromo (factor) tiene influencia en la resistencia a la corrosión (variable respuesta) y que los resultados no se deben solo al azar se debe probar la hipótesis:\n",
    "\n",
    "\\begin{equation}\n",
    "H_0: \\beta_1 = 0 \\\\\n",
    "H_1: \\beta_1 \\neq 0\n",
    "\\end{equation}\n",
    "\n",
    "Es decir, la hipótesis nula indica que la variable respuesta no depende del factor en estudio:\n",
    "\n",
    "\\begin{equation}\n",
    "H_0: \\hat{y} = \\beta_0 \\\\\n",
    "H_1: \\hat{y} \\neq \\beta_0\n",
    "\\end{equation}"
   ]
  },
  {
   "cell_type": "markdown",
   "id": "e197201e",
   "metadata": {
    "slideshow": {
     "slide_type": "subslide"
    }
   },
   "source": [
    "La hipótesis anterior se puede rechazar cuando el estadístico de prueba:\n",
    "\n",
    "\\begin{equation}\n",
    "    f = \\frac{SCR}{SCE/(n-2)} = \\frac{SCR}{s^2}\n",
    "\\end{equation}\n",
    "\n",
    "es mayor al valor crítico $f_\\alpha (1, n-2)$ para el nivel de significancia $\\alpha$. \n",
    "\n",
    "El valor crítico $f_\\alpha (1, n-2)$ se obtiene desde las tablas de la distribución F para 1 y $(n-2)$ grados de libertad, respectivamente.\n",
    "\n",
    "Al rechazar $H_0$ se concluye que una parte significativa de la variación en la respuesta se justifica por el modelo de regresión lineal."
   ]
  },
  {
   "cell_type": "markdown",
   "id": "7dfd2800",
   "metadata": {
    "slideshow": {
     "slide_type": "slide"
    }
   },
   "source": [
    "# Análisis de varianza en experimentos de un factor"
   ]
  },
  {
   "cell_type": "markdown",
   "id": "cb6ec794",
   "metadata": {
    "slideshow": {
     "slide_type": "slide"
    }
   },
   "source": [
    "# Motivación\n",
    "\n",
    "Se analiza la resistencia a la tracción de 5 nuevos tipos de aleaciones de acero. Se hacen 6 ensayos para cada tipo, obteniéndose los siguientes resultados (MPa):\n",
    "\n",
    "<center>\n",
    "    <img src=\"figures/disexp-0.png\" width=\"900\"/>\n",
    "</center>\n",
    "\n",
    "¿Cómo poder comparar significativamente las medias muestrales obtenidas de las distintas poblaciones?"
   ]
  },
  {
   "cell_type": "markdown",
   "id": "d9cf36ef",
   "metadata": {
    "slideshow": {
     "slide_type": "subslide"
    }
   },
   "source": [
    "<center>\n",
    "    <img src=\"figures/disexp-1.png\" width=\"900\"/>\n",
    "</center>"
   ]
  },
  {
   "cell_type": "markdown",
   "id": "a8044af0",
   "metadata": {
    "slideshow": {
     "slide_type": "subslide"
    }
   },
   "source": [
    "<center>\n",
    "    ¿Cómo poder distinguir si las medias obtenidas son significativamente distintas o solo son producto de la aleatoriedad natural del proceso de fabricación?\n",
    "</center>\n",
    "<br><center>\n",
    "    <img src=\"figures/tensile-1.gif\" width=\"600\"/>\n",
    "</center>"
   ]
  },
  {
   "cell_type": "markdown",
   "id": "73f217d8",
   "metadata": {
    "slideshow": {
     "slide_type": "slide"
    }
   },
   "source": [
    "## Fundamentos\n",
    "\n",
    "Los análisis de varianza (**ANOVA**) son modelos estadísticos y procedimientos asociados en los cuales se explica los distintos componentes de la varianza.\n",
    "\n",
    "<center>\n",
    "    <img src=\"figures/anova-1.png\" width=\"500\"/>\n",
    "</center>\n",
    "\n",
    "Se usa para evaluar el efecto de **tratamientos** en la variabilidad de la variable respuesta.\n",
    "\n",
    "Tratamiento es un término general para designar distintas clasificaciones de las poblaciones bajo estudio.\n",
    "\n",
    "\n"
   ]
  },
  {
   "cell_type": "markdown",
   "id": "bc285892",
   "metadata": {
    "slideshow": {
     "slide_type": "subslide"
    }
   },
   "source": [
    "Dadas $k$ poblaciones independientes y normales con medias $\\mu_1$, $\\mu_2$, ... $\\mu_k$ y varianza común $\\sigma^2$, se desea obtener un procedimiento para probar la hipótesis:\n",
    "\n",
    "\\begin{equation}\n",
    "H_0: \\mu_1 = \\mu_2 = ... = \\mu_k \\\\\n",
    "H_1: \\text{Al menos dos medias no son iguales}\n",
    "\\end{equation}\n",
    "\n",
    "Las estimaciones de las medias $\\mu_i$ se realizan a través de las medias muestrales $\\overline{y}_i$\n",
    "\n",
    "**Ejemplo**: Para el caso de las aleaciones de acero, rechazar $H_0$ implica que hay diferencias estadísticamente significativas entre al menos dos de las muestras.\n",
    "\n",
    "<center>\n",
    "    <img src=\"figures/disexp-0.png\" width=\"700\"/>\n",
    "</center>\n",
    "\n"
   ]
  },
  {
   "cell_type": "markdown",
   "id": "5b7945a1",
   "metadata": {
    "slideshow": {
     "slide_type": "slide"
    }
   },
   "source": [
    "## Modelo\n",
    "\n",
    "Suponemos que hay un total de $k$ poblaciones, para cada una de las cuales se toma una muestra de tamaño $n$.\n",
    "\n",
    "Para el ejemplo de las aleaciones de acero hay $k=5$ muestras, cada una con $n=6$ observaciones:<\n",
    "\n",
    "| Aleación | 1 | 2 | 3 | 4 | 5 |\n",
    "| --- | --- | --- | --- | --- | --- |\n",
    "| Obs. 1 | 551 | 595 | 639 | 417 | 563 |\n",
    "| Obs. 2 | 457 | 580 | 615 | 449 | 631 |\n",
    "| Obs. 3 | 450 | 508 | 511 | 517 | 522 |\n",
    "| Obs. 4 | 731 | 583 | 573 | 438 | 613 |\n",
    "| Obs. 5 | 499 | 633 | 648 | 415 | 656 |\n",
    "| Obs. 6 | 632 | 517 | 677 | 555 | 679 |\n",
    "|  **Media** |  **553.33** | **569.33** |  **610.50** |  **465.17** |  **610.67** |"
   ]
  },
  {
   "cell_type": "markdown",
   "id": "155842cb",
   "metadata": {
    "slideshow": {
     "slide_type": "subslide"
    }
   },
   "source": [
    "Cualquier $j$-ésima observación de la $i$-ésima muestra se puede escribir de la forma:\n",
    "\n",
    "\\begin{align}\n",
    "    y_{ij} = \\mu_i + \\epsilon_{ij}\n",
    "\\end{align}\n",
    "\n",
    "donde $\\epsilon_{ij}$ mide la desviación de la observación $j$ de la muestra $i$ con respecto a la media del tratamiento correspondiente.\n",
    "\n",
    "| Tratamiento | 1 | ... | $i$ | ... | $k$ |\n",
    "| --- | --- | --- | --- | --- | --- |\n",
    "| Obs. 1 | $y_{11}$ | ... | $y_{i1}$ | ... | $y_{k1}$ |\n",
    "| Obs. 2 | $y_{12}$ | ... | $y_{i2}$ | ... | $y_{k2}$ |\n",
    "| ... | ... | ... | ... | ... | ... |\n",
    "| Obs. $j$ | $y_{1j}$ | ... | $y_{ij}$ | ... | $y_{kj}$ |\n",
    "| ... | ... | ... | ... | ... | ... |\n",
    "| Obs. $n$ | $y_{1n}$ | ... | $y_{in}$ | ... | $y_{kn}$ |\n",
    "|  Media | Media 1 | ... | Media $i$ | ... | Media $k$ |"
   ]
  },
  {
   "cell_type": "markdown",
   "id": "32c3b8c5",
   "metadata": {
    "slideshow": {
     "slide_type": "subslide"
    }
   },
   "source": [
    "Podemos establecer que cada media $\\mu_i$ es igual a una media global $\\mu$ más el efecto del tratamiento $\\alpha_i$ sujeto a la restricción que $\\sum \\alpha_i = 0$.\n",
    "\n",
    "Por lo tanto:\n",
    "\n",
    "\\begin{align}\n",
    "    y_{ij} = \\mu + \\alpha_i + \\epsilon_{ij}\n",
    "\\end{align}\n",
    "\n",
    "donde la media global es:\n",
    "\n",
    "\\begin{align}\n",
    "    \\mu = \\frac{1}{k} \\sum_{i=1}^{k} \\mu_i\n",
    "\\end{align}\n",
    "\n",
    "y $\\alpha_i$ es el efecto del $i$-esimo tratamiento.\n"
   ]
  },
  {
   "cell_type": "markdown",
   "id": "f266ef15",
   "metadata": {
    "slideshow": {
     "slide_type": "subslide"
    }
   },
   "source": [
    "Entonces la prueba de hipótesis anteriormente formulada puede expresarse de la siguiente forma:\n",
    "\n",
    "\\begin{equation}\n",
    "H_0: \\alpha_1 = \\alpha_2 = ... = \\alpha_k = 0 \\\\\n",
    "H_1: \\text{Al menos una de las $\\alpha_i$ no es igual a cero}\n",
    "\\end{equation}\n",
    "\n",
    "Esta hipótesis nula se puede rechazar con un nivel de significancia $\\alpha$ cuando:\n",
    "\n",
    "\\begin{align}\n",
    "    f > f_{\\alpha} \\left[k-1, k(n-1) \\right]\n",
    "\\end{align}\n",
    "\n",
    "donde $f_{\\alpha}$ es el valor crítico de la distribución $F$ con $k-1$ y $k(n-1)$ grados de libertad para el nivel de significancia $\\alpha$\n",
    "\n",
    "En este caso la variable $f$ adopta el valor del cuociente entre los siguientes valores:\n",
    "\n",
    "\\begin{align}\n",
    "    f = \\frac{s_1^2}{s^2}\n",
    "\\end{align}\n"
   ]
  },
  {
   "cell_type": "markdown",
   "id": "cd1a261d",
   "metadata": {
    "slideshow": {
     "slide_type": "subslide"
    }
   },
   "source": [
    "Los valores $s_1^2$ y $s^2$ son:\n",
    "\n",
    "\\begin{align}\n",
    "    s_1^2 = \\frac{SCT}{k-1} = \\frac{n \\sum_{i=1}^{k} (\\overline{y_i} - \\overline{y})^2 }{k-1}\n",
    "\\end{align}\n",
    "\n",
    "\\begin{align}\n",
    "    s^2 = \\frac{SCE}{k(n-1)} = \\frac{ \\sum_{i=1}^{k} \\sum_{j=1}^{n} (y_{ij} - \\overline{y}_i)^2 }{k(n-1)}\n",
    "\\end{align}\n",
    "\n",
    "Las tablas de la distribución F son de la siguiente forma:\n",
    "\n",
    "<center>\n",
    "    <img src=\"figures/distr-f-1.png\" width=\"700\"/>\n",
    "</center>\n",
    "\n"
   ]
  },
  {
   "cell_type": "markdown",
   "id": "55acde57",
   "metadata": {
    "slideshow": {
     "slide_type": "slide"
    }
   },
   "source": [
    "# Sumario\n",
    "- Los experimentos para aprender sobre un fenómeno deben ejecutarse de forma correcta y el análisis estadístico debe verificar que los resultados obtenidos sean significativos.\n",
    "- Los métodos de análisis de varianza entregan herramientas para distintos casos en donde podemos establecer que la variabilidad de los resultados es significativa."
   ]
  }
 ],
 "metadata": {
  "celltoolbar": "Slideshow",
  "kernelspec": {
   "display_name": "Python 3 (ipykernel)",
   "language": "python",
   "name": "python3"
  },
  "language_info": {
   "codemirror_mode": {
    "name": "ipython",
    "version": 3
   },
   "file_extension": ".py",
   "mimetype": "text/x-python",
   "name": "python",
   "nbconvert_exporter": "python",
   "pygments_lexer": "ipython3",
   "version": "3.9.7"
  }
 },
 "nbformat": 4,
 "nbformat_minor": 5
}
