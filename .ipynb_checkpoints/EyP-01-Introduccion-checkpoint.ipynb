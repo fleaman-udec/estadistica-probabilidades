{
 "cells": [
  {
   "cell_type": "markdown",
   "id": "c873b309",
   "metadata": {
    "slideshow": {
     "slide_type": "slide"
    }
   },
   "source": [
    "# Estadística y Probabilidades: Introducción"
   ]
  },
  {
   "cell_type": "markdown",
   "id": "547be7e1",
   "metadata": {
    "slideshow": {
     "slide_type": "slide"
    }
   },
   "source": [
    "# Objetivos\n",
    "- Presentar al docente a cargo de la asignatura\n",
    "- Presentar la asignatura y los resultados de aprendizaje\n",
    "- Presentar los contenidos y el tipo de evaluación\n",
    "- Comprender la motivación detrás del estudio de EyP para ingeniería\n",
    "- Definir conceptos fundamentales de la EyP"
   ]
  },
  {
   "cell_type": "markdown",
   "id": "e5566eb4",
   "metadata": {
    "slideshow": {
     "slide_type": "slide"
    }
   },
   "source": [
    "# Docente\n",
    "- **Prof. Félix Leaman W.**\n",
    "- Ingeniero Civil Mecánico, M.Sc. Ingeniería Mecánica (UdeC)\n",
    "- Dr.-Ing. (RWTH-Aachen, Alemania)\n",
    "- Líneas de investigación y desarrollo:\n",
    "    - Mantenimiento predictivo\n",
    "    - Análisis de emisiones acústicas en materiales\n",
    "    - Aprendizaje automático aplicado\n",
    "    - Sistemas de medición y sensores\n",
    "- Experiencia en proyectos de la industria\n",
    "- Correo: fleaman@udec.cl; Oficina: 340 Facultad Ingeniería"
   ]
  },
  {
   "cell_type": "markdown",
   "id": "bda74279",
   "metadata": {
    "slideshow": {
     "slide_type": "slide"
    }
   },
   "source": [
    "# Formalidades asignatura\n",
    "- **Estadística y Probabilidades (541257)**\n",
    "- Calidad = obligatoria; Créditos UdeC = 4; Créditos SCT = 4\n",
    "- Horas académicas (45 min)\n",
    "    - Teóricas = 3 h; Prácticas = 2 h; Laboratorio = 0 h\n",
    "    - Total = 5 h académicas / 3,75 h cronológicas\n",
    "- Dedicación individual/grupal semanal promedio adicional de 3,5 horas.\n",
    "- Pre-requisito = Cálculo II"
   ]
  },
  {
   "cell_type": "markdown",
   "id": "8dada6a3",
   "metadata": {
    "slideshow": {
     "slide_type": "slide"
    }
   },
   "source": [
    "# Ejercicio interactivo\n",
    "<center>\n",
    "    <img src=\"figures/qr-survey.png\" width=\"600\"/>\n",
    "</center>\n",
    "https://questionpro.com/t/AVr7rZtIuo"
   ]
  },
  {
   "cell_type": "markdown",
   "id": "19795f0a",
   "metadata": {
    "slideshow": {
     "slide_type": "slide"
    }
   },
   "source": [
    "# Resultados de aprendizaje\n",
    "Quienes aprueben satisfactoriamente la asignatura podrán:\n",
    "\n",
    "1. Organizar conjuntos de datos a partir de herramientas y métodos estadísticos pertinentes para cada caso.\n",
    "2. Interpretar conjuntos de datos a partir de herramientas y métodos estadísticos pertinentes para cada caso.\n",
    "3. Aplicar los conceptos de probabilidad, variables aleatorias y distribuciones de probabilidades.\n",
    "4. Aplicar herramientas de estadística inferencial y diseño de experimentos.\n",
    "5. Utilizar modelos de regresión en problemas prácticos de ingeniería.\n"
   ]
  },
  {
   "cell_type": "markdown",
   "id": "4d89873f",
   "metadata": {
    "slideshow": {
     "slide_type": "slide"
    }
   },
   "source": [
    "# Contenidos y Evaluaciones"
   ]
  },
  {
   "cell_type": "markdown",
   "id": "c33d78e6",
   "metadata": {
    "slideshow": {
     "slide_type": "slide"
    }
   },
   "source": [
    "## Módulos del curso\n",
    "1. Estadística descriptiva. Medidas estadísticas de tendencia central y de dispersión. Gráficos estadísticos.\n",
    "2. Probabilidades, variables aleatorias y distribuciones de probabilidades discretas y continuas.\n",
    "3. Teorema central del límite y ley de los grandes números.\n",
    "4. Inferencia estadística. Intervalos de confianza. Pruebas de hipótesis.\n",
    "5. Diseño de experimentos.\n",
    "6. Regresión lineal simple y múltiple.\n"
   ]
  },
  {
   "cell_type": "markdown",
   "id": "18ee1d31",
   "metadata": {
    "slideshow": {
     "slide_type": "slide"
    }
   },
   "source": [
    "## Evaluaciones y ponderación\n",
    "- Primer certamen escrito (35%)\n",
    "- Segundo certamen escrito (35%)\n",
    "- Proyecto (30%)"
   ]
  },
  {
   "cell_type": "markdown",
   "id": "978471e0",
   "metadata": {
    "slideshow": {
     "slide_type": "slide"
    }
   },
   "source": [
    "## Descripción proyecto\n",
    "- El objetivo del proyecto es realizar el análisis estadístico de algún tema en particular aplicando los contenidos que veremos a lo largo del curso.\n",
    "- Se realiza en grupos, quienes hacia el final del curso deberán presentar su proyecto frente al curso.\n",
    "- El tema a tratar será elegido libremente por cada grupo, pero con el visto bueno del docente.\n",
    "- La presentación del proyecto se evaluará con una nota 30% grupal y 70% individual.\n",
    "- Mayores detalles sobre la inscripción del grupo y tema, y sobre los criterios de evaluación se presentarán más adelante en el curso."
   ]
  },
  {
   "cell_type": "markdown",
   "id": "138f6225",
   "metadata": {
    "slideshow": {
     "slide_type": "slide"
    }
   },
   "source": [
    "# Ejemplo introductorio (1)\n",
    "\n",
    "- La fabricación de cadenas para trabajos pesados consiste en una serie de procesos hasta llegar al producto final.\n",
    "- Algunos son: preparación materia prima, proceso de doblado, proceso de soldadura, tratamiento térmico, etc.\n",
    "- ¿Por qué sería necesario aplicar elementos de EyP en esta aplicación?\n",
    "\n",
    "<br>\n",
    "<center>\n",
    "<table><tr>\n",
    "<td> <img src=\"figures/chain-1.jfif\" width=\"400\"/> </td>\n",
    "<td> <img src=\"figures/chain-2.jfif\" width=\"600\"/> </td>\n",
    "</tr></table>\n",
    "</center>"
   ]
  },
  {
   "cell_type": "markdown",
   "id": "ecf391f5",
   "metadata": {
    "slideshow": {
     "slide_type": "subslide"
    }
   },
   "source": [
    "## Variabilidad de los datos\n",
    "- Al medir distintas propiedades de los eslabones se obtendrán que no son siempre iguales, a pesar de que el proceso (nominalmente) se mantenga constante.\n",
    "- Algunas propiedades: densidad, dureza, resistencia tracción, curvatura, etc.\n",
    "- Siempre hay variabilidad en los procesos: factor humano, condiciones ambientales, descalibración instrumentos, etc."
   ]
  },
  {
   "cell_type": "markdown",
   "id": "77f73472",
   "metadata": {
    "slideshow": {
     "slide_type": "subslide"
    }
   },
   "source": [
    "## Incertidumbre inherente\n",
    "- No es posible conocer exáctamente cómo miles de posibles factores influyen en las propiedades de los eslabones.\n",
    "- Habría que tener muchos modelos físicos muy complejos y detallados para poder entender las variaciones que distintos factores producen en los eslabones.\n",
    "- Aquí es donde los modelos matemáticos, y en particular de EyP, ayudan a comprender mejor estas variaciones."
   ]
  },
  {
   "cell_type": "markdown",
   "id": "22abdf8d",
   "metadata": {
    "slideshow": {
     "slide_type": "slide"
    }
   },
   "source": [
    "# Estadística\n",
    "- Es la rama de las matemáticas que estudia la variabilidad, colección, organización, análisis, interpretación y presentación de los datos.\n",
    "- También, trata con los procesos aleatorios que generan esos datos a través de la teoría de probabilidad.\n",
    "- Aplicación en las ciencias empíricas para buscar correlaciones y dependencias en un fenómeno de ocurrencia aleatoria o condicional.\n",
    "\n",
    "<center>\n",
    "    <img src=\"figures/intro-1.png\" width=\"500\"/>\n",
    "</center>"
   ]
  },
  {
   "cell_type": "markdown",
   "id": "6d238ed2",
   "metadata": {
    "slideshow": {
     "slide_type": "subslide"
    }
   },
   "source": [
    "## Estadística descriptiva\n",
    "- Se dedica a describir, visualizar y resumir datos sobre un fenómeno.\n",
    "\n",
    "## Estadística inferencial\n",
    "- Se dedida a generar modelos, inferencias y predicciones asociadas a un fenómeno considerando la aleatoriedad de las observaciones. "
   ]
  },
  {
   "cell_type": "code",
   "execution_count": 2,
   "id": "0c3fc6d6",
   "metadata": {
    "slideshow": {
     "slide_type": "subslide"
    }
   },
   "outputs": [
    {
     "data": {
      "image/png": "[encoded data removed]",
      "text/plain": [
       "<Figure size 432x288 with 1 Axes>"
      ]
     },
     "metadata": {
      "needs_background": "light"
     },
     "output_type": "display_data"
    },
    {
     "data": {
      "text/plain": [
       "(Text(17.200000000000003, 0.5, 'Eslabones'),\n",
       " Text(0.5, 1.0, 'Histograma'),\n",
       " None)"
      ]
     },
     "execution_count": 2,
     "metadata": {},
     "output_type": "execute_result"
    }
   ],
   "source": [
    "import numpy as np\n",
    "import matplotlib.pyplot as plt\n",
    "stress = 700*(1+(np.random.randn(100)-0.5)/10)\n",
    "plt.hist(stress), plt.xlabel('Resistencia tracción [MPa]')\n",
    "plt.ylabel('Eslabones'), plt.title('Histograma'), plt.show()"
   ]
  },
  {
   "cell_type": "code",
   "execution_count": 3,
   "id": "507f46e9",
   "metadata": {
    "slideshow": {
     "slide_type": "subslide"
    }
   },
   "outputs": [
    {
     "data": {
      "image/png": "[encoded data removed]",
      "text/plain": [
       "<Figure size 432x288 with 1 Axes>"
      ]
     },
     "metadata": {
      "needs_background": "light"
     },
     "output_type": "display_data"
    },
    {
     "data": {
      "text/plain": [
       "(<matplotlib.legend.Legend at 0x2784e8eea60>, None)"
      ]
     },
     "execution_count": 3,
     "metadata": {},
     "output_type": "execute_result"
    }
   ],
   "source": [
    "temp = (1+(np.random.randn(100)-0.5)/10)*stress*1300/700\n",
    "A = np.vstack([temp, np.ones(len(temp))]).T\n",
    "m, c = np.linalg.lstsq(A, stress, rcond=None)[0]\n",
    "plt.plot(temp, m*temp + c, color='r', label='modelo')\n",
    "plt.scatter(temp, stress, label='datos')\n",
    "plt.xlabel('Temperatura soldado [ºC]'), plt.ylabel('Resistencia tracción [MPa]')\n",
    "plt.legend(), plt.show()"
   ]
  },
  {
   "cell_type": "markdown",
   "id": "03571c62",
   "metadata": {
    "slideshow": {
     "slide_type": "slide"
    }
   },
   "source": [
    "# Probabilidades\n",
    "- Rama de las matemáticas que estudia fenómenos aleatorios o estocásticos\n",
    "- A diferencia de los fenómenos deterministas, en los fenómenos aleatorios se obtienen resultados distintos al realizar experimentos bajo las mismas condiciones (ej.: tirar un dado)\n",
    "- Las probabilidades se encargan de cuantificar los resultados que puedan surgir de un fenómeno aleatorio.\n",
    "\n",
    "<center>\n",
    "    <img src=\"figures/intro-2.jfif\" width=\"400\"/>\n",
    "</center>"
   ]
  },
  {
   "cell_type": "code",
   "execution_count": 23,
   "id": "a1831f25",
   "metadata": {
    "slideshow": {
     "slide_type": "subslide"
    }
   },
   "outputs": [
    {
     "name": "stdout",
     "output_type": "stream",
     "text": [
      "0.4909\n"
     ]
    }
   ],
   "source": [
    "import random\n",
    "def coin_trial():    \n",
    "    return 0 if random.random() <= 0.5 else 1\n",
    "def simulate(n):\n",
    "    trials = [coin_trial() for i in range(n)]\n",
    "    return print(sum(trials)/n)\n",
    "simulate(10000)"
   ]
  },
  {
   "cell_type": "markdown",
   "id": "fd0a0c4b",
   "metadata": {
    "slideshow": {
     "slide_type": "slide"
    }
   },
   "source": [
    "# Ejemplo introductorio (2)\n",
    "\n",
    "- En la fábrica de cadenas se determina que económicamente solo se puede aceptar un 5% de eslabones defectuosos en el proceso de soldadura. \n",
    "- El personal realiza una muestra de 100 eslabones y encuentra que hay 10 defectuosos. \n",
    "- ¿Es esta información concluyente para determinar que el proceso no es aceptable?\n",
    "\n",
    "<br>\n",
    "<center>\n",
    "<table><tr>\n",
    "<td> <img src=\"figures/chain-1.jfif\" width=\"200\"/> </td>\n",
    "<td> <img src=\"figures/chain-2.jfif\" width=\"300\"/> </td>\n",
    "</tr></table>\n",
    "</center>\n",
    "\n",
    "- **Escenario**: se estima que si el proceso es aceptable, entonces hay una probabilidad de 0.0282 de obtener 10 o más eslabones defectuosos desde una muestra de 100 unidades\n",
    "- Por lo tanto, es muy probable que el proceso no sea aceptable, ya que para un proceso aceptable era muy difícil obtener 10 eslabones defectuosos desde una muestra de 100 unidades."
   ]
  },
  {
   "cell_type": "markdown",
   "id": "b81138a8",
   "metadata": {
    "slideshow": {
     "slide_type": "slide"
    }
   },
   "source": [
    "# Inferencia, Muestreo y Diseño Experimental"
   ]
  },
  {
   "cell_type": "markdown",
   "id": "56811bf9",
   "metadata": {
    "slideshow": {
     "slide_type": "slide"
    }
   },
   "source": [
    "## Relación entre inferencia estadística y probabilidades\n",
    "\n",
    "- La muestra junto con la inferencia permiten obtener conclusiones acerca de una población.\n",
    "- Las probabilidades permiten sacar conclusiones acerca de las muestras con base en características conocidas de la población.\n",
    "<center>\n",
    "    <img src=\"figures/inference-prob-1.png\" width=\"1000\"/>\n",
    "</center>\n"
   ]
  },
  {
   "cell_type": "markdown",
   "id": "b6f4cd48",
   "metadata": {
    "slideshow": {
     "slide_type": "slide"
    }
   },
   "source": [
    "## Población y muestreo\n",
    "- El muestreo es el subconjunto de una población que se estudia para obtener información sobre ella.\n",
    "- El proceso de muestreo es crucial para obtener información fidedigna y evitar muestras sesgadas\n",
    "- Muestreo aleatorio VS muestreo aleatorio estratificado:\n",
    "<center>\n",
    "    <img src=\"figures/sampling-1.png\" width=\"1000\"/>\n",
    "</center>"
   ]
  },
  {
   "cell_type": "markdown",
   "id": "b450eba7",
   "metadata": {
    "slideshow": {
     "slide_type": "slide"
    }
   },
   "source": [
    "## Diseño experimental\n",
    "- El proceso de muestreo también es crucial a la hora de realizar un diseño experimental.\n",
    "- Para este técnica, se busca identificar y cuantificar las causas de algún efecto dentro de un estudio experimental.\n",
    "- La idea es poder establecer un grado de confianza de una presunta relación causa-efecto.\n",
    "<center>\n",
    "    <img src=\"figures/experimental-1.jpg\" width=\"900\"/>\n",
    "</center>"
   ]
  },
  {
   "cell_type": "markdown",
   "id": "60922dcf",
   "metadata": {
    "slideshow": {
     "slide_type": "slide"
    }
   },
   "source": [
    "# Ejemplo introductorio (3)\n",
    "- Se quiere investigar si un recubrimiento de cromo ayuda a disminuir la corrosión de los eslabones.\n",
    "- Para ello, se toma una muestra aleatoria de eslabones y se experimenta con 4 condiciones resultando lo siguiente:\n",
    "| Recubrimiento | Humedad | Ciclos promedio corrosión |\n",
    "| --- | --- | --- |\n",
    "| Sin recubrimiento | 20% | 975 |\n",
    "| Sin recubrimiento | 80% | 350 |\n",
    "| Con recubrimiento | 20% | 1750 |\n",
    "| Con recubrimiento | 80% | 1550 |\n",
    "\n",
    "- A pesar que los datos permiten concluir sobre los efectos del recubrimiento y de la humedad, no es posible evaluar con exactitud los resultados sin considerar la variabilidad del promedio.\n"
   ]
  },
  {
   "cell_type": "markdown",
   "id": "419ff244",
   "metadata": {
    "slideshow": {
     "slide_type": "subslide"
    }
   },
   "source": [
    "- ¿Los datos con los que se llegó a cada promedio, estaban cercanos o lejanos entre sí?\n",
    "    - Ciclos promedio corrosión 1550 viene de valores 1500 y 1600\n",
    "    - Ciclos promedio corrosión 1550 viene de valores 1250 y 1850\n",
    "- La muestra de eslabones permite asegurar la validez del experimento?\n",
    "    - Todos los eslabones fueron soldados en el mismo turno\n",
    "    - La mitad de los eslabones fueron soldados en el turno día, mientras que los otros fueron soldados en el turno noche\n",
    "\n",
    "<center>\n",
    "<table><tr>\n",
    "<td> <img src=\"figures/chain-1.jfif\" width=\"300\"/> </td>\n",
    "<td> <img src=\"figures/chain-2.jfif\" width=\"400\"/> </td>\n",
    "</tr></table>\n",
    "</center>"
   ]
  },
  {
   "cell_type": "markdown",
   "id": "76b7b3f8",
   "metadata": {
    "slideshow": {
     "slide_type": "slide"
    }
   },
   "source": [
    "# Reglas del juego y ética\n",
    "\n",
    "- En todos los casos aplica el reglamento de docencia de pregrado de la Universidad y de la Facultad de Ingeniería.\n",
    "- La asistencia a clases y prácticas es voluntaria y no será registrada por el docente.\n",
    "- Compromisos del docente:\n",
    "    - Atender y responder cualquier duda o consulta de estudiantes en un plazo razonable.\n",
    "    - Realizar evaluaciones conformes al nivel con que se ven los contenidos en las clases y prácticas.\n",
    "    - Tratar a estudiantes con respeto procurando una retroalimentación constructiva.\n",
    "- Se espera de estudiantes:\n",
    "    - Tener una actitud de respeto con el docente y compañeros en la sala de clases.\n",
    "    - No realizar acciones ilícitas durante evaluaciones (obtener información externa).\n",
    "    - Comprometerse con el equipo y trabajar activamente en el desarrollo del proyecto grupal."
   ]
  },
  {
   "cell_type": "markdown",
   "id": "e50dab55",
   "metadata": {
    "slideshow": {
     "slide_type": "slide"
    }
   },
   "source": [
    "# Sumario\n",
    "- La estadística estudia principalmente la variabilidad inherente de los datos de algún fenómeno.\n",
    "- Hay una estadística descriptiva y una inferencial.\n",
    "- Las probabilidades tratan con los fenómenos aleatorios y estocásticos.\n",
    "- El muestreo de una población es clave para el análisis estadístico."
   ]
  }
 ],
 "metadata": {
  "celltoolbar": "Slideshow",
  "kernelspec": {
   "display_name": "Python 3 (ipykernel)",
   "language": "python",
   "name": "python3"
  },
  "language_info": {
   "codemirror_mode": {
    "name": "ipython",
    "version": 3
   },
   "file_extension": ".py",
   "mimetype": "text/x-python",
   "name": "python",
   "nbconvert_exporter": "python",
   "pygments_lexer": "ipython3",
   "version": "3.9.7"
  }
 },
 "nbformat": 4,
 "nbformat_minor": 5
}
