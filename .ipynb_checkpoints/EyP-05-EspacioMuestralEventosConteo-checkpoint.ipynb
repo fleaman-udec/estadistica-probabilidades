{
 "cells": [
  {
   "cell_type": "markdown",
   "id": "e009c33b",
   "metadata": {
    "slideshow": {
     "slide_type": "slide"
    }
   },
   "source": [
    "# EyP: Teoría de Probabilidades\n",
    "## Espacio Muestral, Eventos y Conteo"
   ]
  },
  {
   "cell_type": "markdown",
   "id": "08f4b029",
   "metadata": {
    "slideshow": {
     "slide_type": "slide"
    }
   },
   "source": [
    "### Objetivos de la clase\n",
    "- Comprender los conceptos de espacio muestras y eventos.\n",
    "- Realizar cálculos de combinaciones y permutaciones, entendiendo sus diferencias."
   ]
  },
  {
   "cell_type": "markdown",
   "id": "850b6828",
   "metadata": {
    "slideshow": {
     "slide_type": "slide"
    }
   },
   "source": [
    "### Experimentos y observaciones\n",
    "- En Estadística se denomina **experimento** a cualquier proceso que genere un conjunto de datos.\n",
    "- El registro de cada uno de estos datos, ya sean numéricos o categóricos, se denomina **observación**.\n",
    "\n",
    "<center>\n",
    "    <img src=\"figures/dice-rolling-1.gif\" width=\"600\"/>\n",
    "</center>"
   ]
  },
  {
   "cell_type": "markdown",
   "id": "ddb01967",
   "metadata": {
    "slideshow": {
     "slide_type": "subslide"
    }
   },
   "source": [
    "Se puede diferenciar entre los siguientes tipos de estudios estadísticos:\n",
    "- Diseño experimental: se varían factores de manera sistemática para conocer la influencia en alguna característica del proceso\n",
    "- Estudio observacional: se estudia alguna característica del proceso, pero sin tener control sobre los factores que la alteran\n",
    "- Estudio retrospectivo: es similar al estudio observacional, pero empleando solamente datos históricos del proceso.\n",
    "Para cualquiera de estos casos el proceso mediante el que se originaron los datos sigue siendo un **experimento**.\n",
    "\n",
    "<center>\n",
    "    <img src=\"figures/generic-1.jpg\" width=\"400\"/>\n",
    "</center>"
   ]
  },
  {
   "cell_type": "markdown",
   "id": "70d691a5",
   "metadata": {
    "slideshow": {
     "slide_type": "slide"
    }
   },
   "source": [
    "### Espacio muestral\n",
    "- Se llama **espacio muestral** al conjunto de todos los resultados posibles de un experimento estadístico.\n",
    "- A cada resultado en un espacio muestral se le llama **elemento** o **punto muestral**.\n",
    "- En algunos casos se ilustra el espacio muestral de forma sistemática usando un diagrama de árbol.\n",
    "- Se denota con la letra $S$\n"
   ]
  },
  {
   "cell_type": "markdown",
   "id": "12639894",
   "metadata": {
    "slideshow": {
     "slide_type": "subslide"
    }
   },
   "source": [
    "**Ejemplo**: Lanzamiento de un dado\n",
    "\n",
    "<center>\n",
    "    <img src=\"figures/dice-1.jpg\" width=\"400\"/>\n",
    "</center>\n",
    "\n",
    "- Si se busca conocer el resultado del dado el espacio muestral sería:\n",
    "\n",
    "\\begin{align}\n",
    "    S = \\{1, 2, 3, 4, 5, 6\\}\n",
    "\\end{align}\n",
    "\n",
    "- Si se busca conocer solo si el número es par o impar el espacio muestral sería:\n",
    "\n",
    "\\begin{align}\n",
    "    S = \\{par, impar\\}\n",
    "\\end{align}\n",
    "\n"
   ]
  },
  {
   "cell_type": "markdown",
   "id": "4c0cc7ec",
   "metadata": {
    "slideshow": {
     "slide_type": "subslide"
    }
   },
   "source": [
    "**Ejemplo**: Se lanza una moneda. Si sale cara (H), se lanza una segunda vez. Si sale sello (T), entonces se lanza un dado.\n",
    "\n",
    "- Los posibles resultados se listan en el diagrama de árbol:\n",
    "\n",
    "<center>\n",
    "    <img src=\"figures/coin-toss-tree-1.png\" width=\"400\"/>\n",
    "</center>\n",
    "\n",
    "- El espacio muestral sería entonces:\n",
    "\n",
    "\\begin{align}\n",
    "    S = \\{ HH, HT, T1, T2, T3, T4, T5, T6 \\}\n",
    "\\end{align}\n"
   ]
  },
  {
   "cell_type": "markdown",
   "id": "47e8ae60",
   "metadata": {
    "slideshow": {
     "slide_type": "subslide"
    }
   },
   "source": [
    "**Ejemplo**: Ciudades con más de un millón de habitantes\n",
    "- Para espacios muestrales muy grandes o infinitos se usa un enunciado o regla.\n",
    "- En este ejemplo:\n",
    "\n",
    "\\begin{align}\n",
    "    S = \\{ x | x \\text{ es una ciudad con más de un millón de habitantes} \\}\n",
    "\\end{align}"
   ]
  },
  {
   "cell_type": "markdown",
   "id": "6e308f30",
   "metadata": {
    "slideshow": {
     "slide_type": "slide"
    }
   },
   "source": [
    "### Eventos\n",
    "- Muchas veces es de interés conocer la ocurrencia de ciertos eventos más que elementos específicos de un espacio muestral.\n",
    "- En este sentido, un **evento** corresponde a un subconjunto del espacio muestral."
   ]
  },
  {
   "cell_type": "markdown",
   "id": "3c46d8cc",
   "metadata": {
    "slideshow": {
     "slide_type": "subslide"
    }
   },
   "source": [
    "**Ejemplo**: Para el experimento del dado y moneda, se podría querer estudiar el evento en que la moneda arroja un número impar\n",
    "\n",
    "- Diagrama de árbol:\n",
    "\n",
    "<center>\n",
    "    <img src=\"figures/coin-toss-tree-1.png\" width=\"400\"/>\n",
    "</center>\n",
    "\n",
    "- Subconjunto del espacio muestral:\n",
    "\n",
    "\\begin{align}\n",
    "    A = \\{ T1, T3, T5 \\}\n",
    "\\end{align}\n"
   ]
  },
  {
   "cell_type": "markdown",
   "id": "1c75dd86",
   "metadata": {
    "slideshow": {
     "slide_type": "slide"
    }
   },
   "source": [
    "### Operaciones con eventos\n",
    "- El **complemento** de un evento $A$ respecto de $S$ es el subconjunto de elementos de $S$ que no están en $A$. Se denota con el símbolo $A'$.\n",
    "- La **intersección** de dos eventos $A$ y $B$ es el evento que contiene los elementos comunes a $A$ y $B$. Se denota mediante $A \\cap B$.\n",
    "- Dos eventos son mutuamente excluyentes si  $A \\cap B = \\phi$, es decir, si no tienen elementos en común.\n",
    "- La **unión** de dos eventos $A$ y $B$ es el evento que contiene todos los elementos que pertenecen a $A$ o $B$. Se denota mediante $A \\cup B$.\n",
    "- Tanto la unión como intersección de eventos son operaciones claramente conmutativas."
   ]
  },
  {
   "cell_type": "markdown",
   "id": "14df4aab",
   "metadata": {
    "slideshow": {
     "slide_type": "subslide"
    }
   },
   "source": [
    "**Diagrama de Venn**\n",
    "\n",
    "<center>\n",
    "    <img src=\"figures/diagramm-venn-1.jpg\" width=\"450\"/>\n",
    "</center>\n",
    "\n",
    "**Algunas propiedades**\n",
    "\n",
    "\\begin{align}\n",
    "    (A \\cap B)' = A' \\cup B'\n",
    "\\end{align}\n",
    "\n",
    "\\begin{align}\n",
    "    (A \\cup B)' = A' \\cap B'\n",
    "\\end{align}\n",
    "\n"
   ]
  },
  {
   "cell_type": "markdown",
   "id": "d35a55b5",
   "metadata": {
    "slideshow": {
     "slide_type": "slide"
    }
   },
   "source": [
    "### Conteo de puntos muestrales\n",
    "- Para algunos problemas es necesario contar la cantidad de puntos de un espacio muestral, sin necesariamente listarlos a todos.\n",
    "- Se establecer así el _principio_ fundamental del conteo, llamado **regla de multiplicación**: \n",
    "\\\n",
    "_Si una operación se puede realizar de $n_1$ maneras, y si para cada una de ellas se puede realizar otra operación de $n_2$ maneras, entonces las dos operaciones se pueden ejecutar juntas de $n_1 n_2$ maneras_\n",
    "- Esta regla se puede también generalizar a más de dos operaciones."
   ]
  },
  {
   "cell_type": "markdown",
   "id": "b2ad3ea8",
   "metadata": {
    "slideshow": {
     "slide_type": "subslide"
    }
   },
   "source": [
    "**Ejemplo**: Lanzamiento de dos dados\n",
    "\n",
    "<center>\n",
    "    <img src=\"figures/dice-1.jpg\" width=\"400\"/>\n",
    "</center>\n",
    "\n",
    "- El primer dado puede caer de 6 maneras distintas-\n",
    "- Entonces al lanzar dos dados pueden resultar 6x6=36 maneras distintas.\n"
   ]
  },
  {
   "cell_type": "markdown",
   "id": "8bbbfa11",
   "metadata": {
    "slideshow": {
     "slide_type": "slide"
    }
   },
   "source": [
    "### Permutaciones\n",
    "- En ocasiones es de interés estudiar un espacio muestral que contiene elementos que son ordenaciones o arreglos de un grupo de objetos.\n",
    "\n",
    "<center>\n",
    "    <img src=\"figures/permutation-1.png\" width=\"600\"/>\n",
    "</center>\n",
    "\n",
    "- Estos arreglos se conocen como **permutaciones**, en donde el orden en el que van los objetos sí importa.\n",
    "- Matemáticamente, el número de permutaciones de $n$ objetos es igual a $n!$, en donde:\n",
    "\n",
    "\\begin{align}\n",
    "    n! = n \\cdot (n-1) \\cdot (n-2) ... \\cdot 1\n",
    "\\end{align}\n"
   ]
  },
  {
   "cell_type": "markdown",
   "id": "13ee3742",
   "metadata": {
    "slideshow": {
     "slide_type": "subslide"
    }
   },
   "source": [
    "- Para el caso en que hayan objetos repetidos, evidentemente pueden surgir areglos repetidos. En este caso, la cantidad de permutaciones distintas de $n$ objetos, en el que $n_1$ son de un tipo, $n_2$ son de un segundo tipo, hasta $n_k$ de un $k-$ésimo tipo viene dada por:\n",
    "\n",
    "\\begin{align}\n",
    "   \\frac{ n! }{ n_1! \\cdot n_2! ... \\cdot n_k! }\n",
    "\\end{align}\n",
    "\n",
    "- Para el caso en que solo se consideren $r$ objetos del total de $n$ objetos (sin objetos repetidos), la cantidad de permutaciones posibles viene dada por:\n",
    "\n",
    "\\begin{align}\n",
    "    _{n}P_{r} = \\frac{ n! }{ (n-r)! }\n",
    "\\end{align}\n",
    "\n"
   ]
  },
  {
   "cell_type": "markdown",
   "id": "c013c309",
   "metadata": {
    "slideshow": {
     "slide_type": "subslide"
    }
   },
   "source": [
    "**Ejemplo**: ¿De cuántas formas posibles se pueden sentar 5 personas en una butaca?\n",
    "\n",
    "- El orden sí importa, ya que no es lo mismo que se sienten (Pedro - Camila - Jorge - Daniela - Andrés) a que se sienten (Pedro - Jorge - Andrés - Camila - Daniela), por lo que se trata de una permutación.\n",
    "- Como se usan todos los elementos, la cantidad de permutaciones viene dada por:\n",
    "\n",
    "\\begin{align}\n",
    "    n! = 5! = 120\n",
    "\\end{align}\n",
    "\n",
    "- Ya que por definición $0! = 1$, observar que resulta lo mismo al usar la fórmula general considerando $r=5$ de este modo:\n",
    "\n",
    "\\begin{align}\n",
    "    _{4}P_{4} = \\frac{ 5! }{ (5-5)! } = \\frac{ 5! }{ 0! } =  5! = 120\n",
    "\\end{align}\n",
    "\n"
   ]
  },
  {
   "cell_type": "markdown",
   "id": "608f265e",
   "metadata": {
    "slideshow": {
     "slide_type": "subslide"
    }
   },
   "source": [
    "**Ejemplo**: ¿De cuántas formas posibles se pueden sentar 2  de las 5 personas en la butaca?\n",
    "\n",
    "Ahora seleccionamos solo 2 elementos de los 5 para realizar la permutación, por lo que se tiene:\n",
    "\n",
    "\\begin{align}\n",
    "    _{5}P_{3} = \\frac{ 5! }{ (5-2)! } = \\frac{ 5! }{ 3! } =  20\n",
    "\\end{align}\n",
    "<br>\n",
    "\n",
    "<center>\n",
    "    <img src=\"figures/ej-butacas-1.png\" width=\"1000\"/>\n",
    "</center>\n"
   ]
  },
  {
   "cell_type": "markdown",
   "id": "3a0cd447",
   "metadata": {
    "slideshow": {
     "slide_type": "slide"
    }
   },
   "source": [
    "### Combinaciones\n",
    "\n",
    "- A diferencia de las permutaciones en que el orden de los objetos sí se considera, en las **combinaciones** este orden no es considerado.\n",
    "- La cantidad de posibles combinaciones de $r$ objetos del total de $n$ objetos (sin objetos repetidos) viene dada por:\n",
    "\n",
    "\\begin{align}\n",
    "    _{n}C_{r} = \\frac{ n! }{r!  (n-r)! }\n",
    "\\end{align}\n",
    "\n",
    "<center>\n",
    "    <img src=\"figures/combi-permu-1.png\" width=\"600\"/>\n",
    "</center>\n",
    "\n",
    "\n"
   ]
  },
  {
   "cell_type": "markdown",
   "id": "55623a17",
   "metadata": {
    "slideshow": {
     "slide_type": "subslide"
    }
   },
   "source": [
    "**Ejemplo**: ¿De cuántas formas posibles se pueden seleccionar 2 cualesquiera de las 5 personas para hagan un trabajo?\n",
    "\n",
    "- En este caso hablamos de una combinatoria, ya que seleccionar a la dupla (Jorge - Camila) es lo mismo que seleccionar a la dupla (Camila - Jorge) para que hagan un trabajo.\n",
    "- Entonces la cantidad de combinaciones viene dada por:\n",
    "\n",
    "\\begin{align}\n",
    "    _{5}C_{2} = \\frac{ 5! }{ 2! (5-2)! } = \\frac{ 5! }{ 2! \\cdot 3! } =  10\n",
    "\\end{align}\n",
    "<br>\n",
    "\n",
    "<center>\n",
    "    <img src=\"figures/ej-butacas-2.png\" width=\"1000\"/>\n",
    "</center>"
   ]
  },
  {
   "cell_type": "code",
   "execution_count": 1,
   "id": "3f73562c",
   "metadata": {
    "slideshow": {
     "slide_type": "slide"
    }
   },
   "outputs": [
    {
     "name": "stdout",
     "output_type": "stream",
     "text": [
      "<class 'itertools.permutations'>\n",
      "('A', 'B', 'C')\n",
      "('A', 'C', 'B')\n",
      "('B', 'A', 'C')\n",
      "('B', 'C', 'A')\n",
      "('C', 'A', 'B')\n",
      "('C', 'B', 'A')\n",
      "numero total (modulo) =  6\n",
      "numero total (factoriales) =  6\n"
     ]
    }
   ],
   "source": [
    "import itertools\n",
    "from math import factorial\n",
    "\n",
    "mystring = \"ABC\" \n",
    "permu = itertools.permutations(mystring)\n",
    "print(type(permu)) \n",
    "\n",
    "count = 0\n",
    "for values in permu:\n",
    "    print(values)\n",
    "    count += 1\n",
    "    \n",
    "print('numero total (modulo) = ', count)\n",
    "print('numero total (factoriales) = ', factorial(3))"
   ]
  },
  {
   "cell_type": "code",
   "execution_count": 26,
   "id": "0e4c408b",
   "metadata": {
    "scrolled": true,
    "slideshow": {
     "slide_type": "subslide"
    }
   },
   "outputs": [
    {
     "name": "stdout",
     "output_type": "stream",
     "text": [
      "(1, 2)\n",
      "(1, 3)\n",
      "(1, 4)\n",
      "(2, 1)\n",
      "(2, 3)\n",
      "(2, 4)\n",
      "(3, 1)\n",
      "(3, 2)\n",
      "(3, 4)\n",
      "(4, 1)\n",
      "(4, 2)\n",
      "(4, 3)\n",
      "numero total (modulo) =  12\n",
      "numero total (factoriales) =  12.0\n"
     ]
    }
   ],
   "source": [
    "numbers = [1, 2, 3, 4] \n",
    "permu = itertools.permutations(numbers, 2)\n",
    "\n",
    "count = 0\n",
    "for values in permu:\n",
    "    print(values)\n",
    "    count += 1\n",
    "    \n",
    "print('numero total (modulo) = ', count)\n",
    "print('numero total (factoriales) = ', factorial(4)/( factorial(4-2) ) )"
   ]
  },
  {
   "cell_type": "code",
   "execution_count": 27,
   "id": "14c2ea9d",
   "metadata": {
    "slideshow": {
     "slide_type": "subslide"
    }
   },
   "outputs": [
    {
     "name": "stdout",
     "output_type": "stream",
     "text": [
      "('A', 'B', 'C')\n",
      "('A', 'B', 'D')\n",
      "('A', 'B', 'E')\n",
      "('A', 'C', 'D')\n",
      "('A', 'C', 'E')\n",
      "('A', 'D', 'E')\n",
      "('B', 'C', 'D')\n",
      "('B', 'C', 'E')\n",
      "('B', 'D', 'E')\n",
      "('C', 'D', 'E')\n",
      "numero total (modulo) =  10\n",
      "numero total (factoriales) =  10.0\n"
     ]
    }
   ],
   "source": [
    "mystring = \"ABCDE\" \n",
    "permu = itertools.combinations(mystring, 3)\n",
    "\n",
    "count = 0\n",
    "for values in permu:\n",
    "    print(values)\n",
    "    count += 1\n",
    "    \n",
    "print('numero total (modulo) = ', count)\n",
    "print('numero total (factoriales) = ', factorial(5)/( factorial(3)*factorial(5-3) ) )"
   ]
  },
  {
   "cell_type": "markdown",
   "id": "024fb254",
   "metadata": {
    "slideshow": {
     "slide_type": "slide"
    }
   },
   "source": [
    "### Sumario\n",
    "- Espacio muestral es el conjunto de todos los resultados posibles de un experimento estadístico.\n",
    "- Evento es un subconjunto dentro del espacio muestral.\n",
    "- Distintos arreglos de elementos se pueden contar mediante permutaciones (considerando el orden) o mediante combinatorias (sin importar el orden)."
   ]
  },
  {
   "cell_type": "code",
   "execution_count": 6,
   "id": "5e6d3263",
   "metadata": {},
   "outputs": [
    {
     "data": {
      "text/plain": [
       "9.202424223027104e+49"
      ]
     },
     "execution_count": 6,
     "metadata": {},
     "output_type": "execute_result"
    }
   ],
   "source": [
    "factorial(13*4) / (factorial(4))**13"
   ]
  },
  {
   "cell_type": "code",
   "execution_count": null,
   "id": "c031b5ec",
   "metadata": {},
   "outputs": [],
   "source": []
  }
 ],
 "metadata": {
  "celltoolbar": "Slideshow",
  "kernelspec": {
   "display_name": "Python 3 (ipykernel)",
   "language": "python",
   "name": "python3"
  },
  "language_info": {
   "codemirror_mode": {
    "name": "ipython",
    "version": 3
   },
   "file_extension": ".py",
   "mimetype": "text/x-python",
   "name": "python",
   "nbconvert_exporter": "python",
   "pygments_lexer": "ipython3",
   "version": "3.9.7"
  }
 },
 "nbformat": 4,
 "nbformat_minor": 5
}
