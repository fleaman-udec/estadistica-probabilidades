{
 "cells": [
  {
   "cell_type": "markdown",
   "id": "16a309f7",
   "metadata": {
    "slideshow": {
     "slide_type": "slide"
    }
   },
   "source": [
    "# Módulo: Fundamentos de Probabilidad\n",
    "## T3: Espacio muestral, eventos y conteo"
   ]
  },
  {
   "cell_type": "markdown",
   "id": "316b7572",
   "metadata": {
    "slideshow": {
     "slide_type": "slide"
    }
   },
   "source": [
    "# Objetivos de la clase\n",
    "- Comprender los conceptos de espacio muestral y eventos.\n",
    "- Realizar cálculos de combinaciones y permutaciones, entendiendo sus diferencias."
   ]
  },
  {
   "cell_type": "markdown",
   "id": "fe71b754",
   "metadata": {
    "slideshow": {
     "slide_type": "slide"
    }
   },
   "source": [
    "# Experimentos y observaciones\n",
    "\n",
    "En Estadística se denomina **experimento** a cualquier proceso que genere datos.\n",
    "\n",
    "El registro de cada uno de estos datos, ya sean numéricos o categóricos, se denomina **observación**.\n",
    "\n",
    "\n",
    "<br><center>\n",
    "    <img src=\"figures/dice-rolling-1.gif\" width=\"500\"/>\n",
    "</center>\n",
    "\n"
   ]
  },
  {
   "cell_type": "markdown",
   "id": "655e5230",
   "metadata": {
    "slideshow": {
     "slide_type": "subslide"
    }
   },
   "source": [
    "*Tipos de estudios o experimentos estadísticos:*\n",
    "\n",
    "<dt>Diseño experimental</dt>\n",
    "<dd>Varía factores de manera sistemática para conocer la influencia en alguna característica del proceso </dd>\n",
    "<dt>Estudio observacional</dt>\n",
    "<dd>Estudia alguna característica del proceso, pero sin tener control sobre los factores que la alteran </dd>\n",
    "<dt>Estudio retrospectivo</dt>\n",
    "<dd>Similar al estudio observacional, pero empleando solamente datos históricos del proceso. </dd>\n",
    "\n",
    "<center>\n",
    "    <img src=\"figures/generic-1.jpg\" width=\"400\"/>\n",
    "</center>"
   ]
  },
  {
   "cell_type": "markdown",
   "id": "a078dc13",
   "metadata": {
    "slideshow": {
     "slide_type": "slide"
    }
   },
   "source": [
    "# Espacio muestral y eventos"
   ]
  },
  {
   "cell_type": "markdown",
   "id": "c919f7cb",
   "metadata": {
    "slideshow": {
     "slide_type": "slide"
    }
   },
   "source": [
    "## Concepto de espacio muestral\n",
    "\n",
    "*Algunas definiciones:*\n",
    "<dt>Espacio muestral</dt>\n",
    "<dd>Conjunto de todos los resultados posibles de un experimento estadístico</dd>\n",
    "<dt>Elemento o punto muestral</dt>\n",
    "<dd>Cada uno de los posibles resultados contenidos en el espacio muestral </dd>\n",
    "\n",
    "El espacio muestral se denota con la letra $S$ y se suele ilustrar usando un diagrama de árbol.\n"
   ]
  },
  {
   "cell_type": "markdown",
   "id": "072fe2ec",
   "metadata": {
    "slideshow": {
     "slide_type": "subslide"
    }
   },
   "source": [
    "**Ejemplo**: Lanzamiento de un dado\n",
    "\n",
    "<center>\n",
    "    <img src=\"figures/dice-1.jpg\" width=\"400\"/>\n",
    "</center>\n",
    "\n",
    "Si se busca conocer el resultado del dado el espacio muestral sería:\n",
    "\n",
    "\\begin{align}\n",
    "    S = \\{1, 2, 3, 4, 5, 6\\}\n",
    "\\end{align}\n",
    "\n",
    "Si se busca conocer solo si el número es par o impar el espacio muestral sería:\n",
    "\n",
    "\\begin{align}\n",
    "    S = \\{par, impar\\}\n",
    "\\end{align}\n",
    "\n"
   ]
  },
  {
   "cell_type": "markdown",
   "id": "feff586d",
   "metadata": {
    "slideshow": {
     "slide_type": "subslide"
    }
   },
   "source": [
    "**Ejemplo**: Se lanza una moneda. Si sale cara (H), se lanza una segunda vez. Si sale sello (T), entonces se lanza un dado.\n",
    "\n",
    "Los posibles resultados se listan en el diagrama de árbol:\n",
    "\n",
    "<center>\n",
    "    <img src=\"figures/coin-toss-tree-1.png\" width=\"400\"/>\n",
    "</center>\n",
    "\n",
    "El espacio muestral sería entonces:\n",
    "\n",
    "\\begin{align}\n",
    "    S = \\{ HH, HT, T1, T2, T3, T4, T5, T6 \\}\n",
    "\\end{align}\n"
   ]
  },
  {
   "cell_type": "markdown",
   "id": "a9c53ae0",
   "metadata": {
    "slideshow": {
     "slide_type": "subslide"
    }
   },
   "source": [
    "**Ejemplo**: Ciudades con más de un millón de habitantes\n",
    "\n",
    "Para espacios muestrales muy grandes o infinitos se usa un enunciado o regla.\n",
    "\n",
    "En este ejemplo:\n",
    "\n",
    "\\begin{align}\n",
    "    S = \\{ x | x \\text{ es una ciudad con más de un millón de habitantes} \\}\n",
    "\\end{align}"
   ]
  },
  {
   "cell_type": "markdown",
   "id": "c1caab35",
   "metadata": {
    "slideshow": {
     "slide_type": "slide"
    }
   },
   "source": [
    "## Eventos\n",
    "\n",
    "Muchas veces es de interés conocer la ocurrencia de **ciertos eventos** más que elementos específicos de un espacio muestral.\n",
    "\n",
    "En este sentido, un **evento** corresponde a un subconjunto del espacio muestral."
   ]
  },
  {
   "cell_type": "markdown",
   "id": "c9bffc9d",
   "metadata": {
    "slideshow": {
     "slide_type": "subslide"
    }
   },
   "source": [
    "**Ejemplo**: Para el experimento del dado y moneda, se podría querer estudiar el evento en que el dado arroja un número impar\n",
    "\n",
    "Diagrama de árbol:\n",
    "\n",
    "<center>\n",
    "    <img src=\"figures/coin-toss-tree-1.png\" width=\"400\"/>\n",
    "</center>\n",
    "\n",
    "Subconjunto del espacio muestral:\n",
    "\n",
    "\\begin{align}\n",
    "    A = \\{ T1, T3, T5 \\}\n",
    "\\end{align}\n"
   ]
  },
  {
   "cell_type": "markdown",
   "id": "d07218c3",
   "metadata": {
    "slideshow": {
     "slide_type": "slide"
    }
   },
   "source": [
    "## Operaciones con eventos\n",
    "\n",
    "&#10148; El **complemento** de un evento $A$ respecto de $S$ es el subconjunto de elementos de $S$ que no están en $A$. Se denota con el símbolo $A'$.\n",
    "\n",
    "&#10148; La **intersección** de dos eventos $A$ y $B$ es el evento que contiene los elementos comunes a $A$ y $B$. Se denota mediante $A \\cap B$.\n",
    "\n",
    "&#10148; Dos eventos son **mutuamente excluyentes** si  $A \\cap B = \\phi$, es decir, si no tienen elementos en común.\n",
    "\n",
    "&#10148; La **unión** de dos eventos $A$ y $B$ es el evento que contiene todos los elementos que pertenecen a $A$ o $B$. Se denota mediante $A \\cup B$.\n",
    "\n",
    "&#10148; Tanto la unión como intersección de eventos son operaciones conmutativas."
   ]
  },
  {
   "cell_type": "markdown",
   "id": "0e8a3f88",
   "metadata": {
    "slideshow": {
     "slide_type": "subslide"
    }
   },
   "source": [
    "**Diagrama de Venn**\n",
    "\n",
    "<center>\n",
    "    <img src=\"figures/diagramm-venn-1.jpg\" width=\"300\"/>\n",
    "</center>\n",
    "\n",
    "**Algunas propiedades**\n",
    "\n",
    "\\begin{align}\n",
    "    (A \\cap B)' = A' \\cup B'\n",
    "\\end{align}\n",
    "\n",
    "\\begin{align}\n",
    "    (A \\cup B)' = A' \\cap B'\n",
    "\\end{align}\n",
    "\n"
   ]
  },
  {
   "cell_type": "markdown",
   "id": "439cd1cd",
   "metadata": {
    "slideshow": {
     "slide_type": "slide"
    }
   },
   "source": [
    "# Permutación y combinación"
   ]
  },
  {
   "cell_type": "markdown",
   "id": "f1eea213",
   "metadata": {
    "slideshow": {
     "slide_type": "slide"
    }
   },
   "source": [
    "## Conteo de puntos muestrales\n",
    "\n",
    "Para algunos problemas es necesario **contar** la cantidad de puntos de un espacio muestral, sin necesariamente listarlos a todos.\n",
    "\n",
    "Caso simple: **Regla de multiplicación**: \n",
    "\n",
    "*Si una operación se puede realizar de $n_1$ maneras, y si para cada una de ellas se puede realizar otra operación de $n_2$ maneras, entonces las dos operaciones se pueden ejecutar juntas de $n_1 n_2$ maneras*\n",
    "\n",
    "Esta regla se puede generalizar también a más de dos operaciones."
   ]
  },
  {
   "cell_type": "markdown",
   "id": "50721c53",
   "metadata": {
    "slideshow": {
     "slide_type": "subslide"
    }
   },
   "source": [
    "**Ejemplo**: Lanzamiento de dos dados\n",
    "\n",
    "<center>\n",
    "    <img src=\"figures/dice-1.jpg\" width=\"400\"/>\n",
    "</center>\n",
    "\n",
    "Un dado puede caer de 6 maneras distintas.\n",
    "\n",
    "Entonces al lanzar dos dados pueden resultar 6x6=36 maneras distintas.\n"
   ]
  },
  {
   "cell_type": "markdown",
   "id": "3b5f4d7d",
   "metadata": {
    "slideshow": {
     "slide_type": "slide"
    }
   },
   "source": [
    "## Permutaciones\n",
    "\n",
    "En ocasiones es de interés estudiar un espacio muestral que contiene elementos que son ordenaciones o arreglos de un grupo de objetos.\n",
    "\n",
    "<center>\n",
    "    <img src=\"figures/permutation-1.png\" width=\"600\"/>\n",
    "</center>\n",
    "\n",
    "Estos arreglos se llaman **permutaciones**, en donde el orden en el que van los objetos sí importa.\n",
    "\n",
    "Matemáticamente, el número de permutaciones de $n$ objetos es igual a $n!$, en donde:\n",
    "\n",
    "\\begin{align}\n",
    "    n! = n \\cdot (n-1) \\cdot (n-2) ... \\cdot 1\n",
    "\\end{align}\n"
   ]
  },
  {
   "cell_type": "markdown",
   "id": "2c06903e",
   "metadata": {
    "slideshow": {
     "slide_type": "subslide"
    }
   },
   "source": [
    "Si hay **objetos repetidos** pueden surgir arreglos repetidos. En este caso, la cantidad de permutaciones distintas de $n$ objetos, en el que $n_1$ son de un tipo, $n_2$ son de un segundo tipo, hasta $n_k$ de un $k-$ésimo tipo viene dada por:\n",
    "\n",
    "\\begin{align}\n",
    "   \\frac{ n! }{ n_1! \\cdot n_2! ... \\cdot n_k! }\n",
    "\\end{align}\n",
    "\n",
    "Si solo se consideran $r$ objetos del total de $n$ objetos (sin objetos repetidos), la cantidad de permutaciones posibles viene dada por:\n",
    "\n",
    "\\begin{align}\n",
    "    _{n}P_{r} = \\frac{ n! }{ (n-r)! }\n",
    "\\end{align}\n",
    "\n"
   ]
  },
  {
   "cell_type": "markdown",
   "id": "8f86675a",
   "metadata": {
    "slideshow": {
     "slide_type": "subslide"
    }
   },
   "source": [
    "**Ejemplo**: ¿De cuántas formas posibles se pueden sentar 5 personas en una butaca?\n",
    "\n",
    "El orden sí importa, ya que no es lo mismo que se sienten (Pedro - Camila - Jorge - Daniela - Andrés) a que se sienten (Pedro - Jorge - Andrés - Camila - Daniela), por lo que se trata de una **permutación**.\n",
    "\n",
    "Como se usan **todos los elementos**, la cantidad de permutaciones viene dada por:\n",
    "\n",
    "\\begin{align}\n",
    "    n! = 5! = 120\n",
    "\\end{align}\n",
    "\n",
    "Ya que por definición $0! = 1$, observar que resulta lo mismo al usar la fórmula general considerando $r=5$ de este modo:\n",
    "\n",
    "\\begin{align}\n",
    "    _{5}P_{5} = \\frac{ 5! }{ (5-5)! } = \\frac{ 5! }{ 0! } =  5! = 120\n",
    "\\end{align}\n",
    "\n"
   ]
  },
  {
   "cell_type": "markdown",
   "id": "44460994",
   "metadata": {
    "slideshow": {
     "slide_type": "subslide"
    }
   },
   "source": [
    "**Ejemplo**: ¿De cuántas formas posibles se pueden sentar 2  de las 5 personas en la butaca?\n",
    "\n",
    "Ahora seleccionamos solo **2 de los 5 elementos** para realizar la permutación, por lo que se tiene:\n",
    "\n",
    "\\begin{align}\n",
    "    _{5}P_{2} = \\frac{ 5! }{ (5-2)! } = \\frac{ 5! }{ 3! } =  20\n",
    "\\end{align}\n",
    "<br>\n",
    "\n",
    "<center>\n",
    "    <img src=\"figures/ej-butacas-1.png\" width=\"1000\"/>\n",
    "</center>\n"
   ]
  },
  {
   "cell_type": "markdown",
   "id": "cf7041ae",
   "metadata": {
    "slideshow": {
     "slide_type": "slide"
    }
   },
   "source": [
    "## Combinaciones\n",
    "\n",
    "A diferencia de las permutaciones, en las **combinaciones** no importa el orden de los elementos.\n",
    "\n",
    "<center>\n",
    "    <img src=\"figures/combi-permu-1.png\" width=\"600\"/>\n",
    "</center>\n",
    "\n",
    "La cantidad de posibles combinaciones de $r$ objetos del total de $n$ objetos (sin repetidos) viene dada por:\n",
    "\n",
    "\\begin{align}\n",
    "    _{n}C_{r} = \\frac{ n! }{r!  (n-r)! }\n",
    "\\end{align}\n",
    "\n",
    "\n",
    "\n",
    "\n"
   ]
  },
  {
   "cell_type": "markdown",
   "id": "c385464c",
   "metadata": {
    "slideshow": {
     "slide_type": "subslide"
    }
   },
   "source": [
    "**Ejemplo**: ¿De cuántas formas posibles se pueden seleccionar 2 cualesquiera de las 5 personas para que hagan un trabajo determinado?\n",
    "\n",
    "Es una **combinatoria** ya que seleccionar a la dupla (Jorge - Camila) es lo mismo que seleccionar a la dupla (Camila - Jorge) para que hagan un trabajo.\n",
    "\n",
    "Entonces la cantidad de combinaciones viene dada por:\n",
    "\n",
    "\\begin{align}\n",
    "    _{5}C_{2} = \\frac{ 5! }{ 2! (5-2)! } = \\frac{ 5! }{ 2! \\cdot 3! } =  10\n",
    "\\end{align}\n",
    "<br>\n",
    "\n",
    "<center>\n",
    "    <img src=\"figures/ej-butacas-2.png\" width=\"1000\"/>\n",
    "</center>"
   ]
  },
  {
   "cell_type": "markdown",
   "id": "95b16b95",
   "metadata": {
    "slideshow": {
     "slide_type": "slide"
    }
   },
   "source": [
    "## Ejercicios\n",
    "\n",
    "(1) ¿De cuántas formas se pueden ordenar las letras A, B y C considerando el orden?\n",
    "\n",
    "(2) ¿Cuántas combinaciones de números se pueden formar con los dígitos 1, 2, 3 y 4, pero tomando solo 2 dígitos?\n",
    "\n",
    "(3) ¿De cuántas formas se pueden agrupar las letras A, B, C, D y E sin importar el orden en que aparezcan y tomando solo 3 letras a la vez?"
   ]
  },
  {
   "cell_type": "code",
   "execution_count": 2,
   "id": "1efb8938",
   "metadata": {
    "slideshow": {
     "slide_type": "subslide"
    }
   },
   "outputs": [
    {
     "name": "stdout",
     "output_type": "stream",
     "text": [
      "('A', 'B', 'C')\n",
      "('A', 'C', 'B')\n",
      "('B', 'A', 'C')\n",
      "('B', 'C', 'A')\n",
      "('C', 'A', 'B')\n",
      "('C', 'B', 'A')\n",
      "numero total =  6\n"
     ]
    }
   ],
   "source": [
    "import itertools\n",
    "from math import factorial\n",
    "\n",
    "mystring = \"ABC\" \n",
    "permu = itertools.permutations(mystring)\n",
    "\n",
    "count = 0\n",
    "for values in permu:\n",
    "    print(values)\n",
    "    count += 1\n",
    "    \n",
    "print('numero total = ', count)"
   ]
  },
  {
   "cell_type": "code",
   "execution_count": 3,
   "id": "c04158bf",
   "metadata": {
    "scrolled": true,
    "slideshow": {
     "slide_type": "subslide"
    }
   },
   "outputs": [
    {
     "name": "stdout",
     "output_type": "stream",
     "text": [
      "(1, 2)\n",
      "(1, 3)\n",
      "(1, 4)\n",
      "(2, 1)\n",
      "(2, 3)\n",
      "(2, 4)\n",
      "(3, 1)\n",
      "(3, 2)\n",
      "(3, 4)\n",
      "(4, 1)\n",
      "(4, 2)\n",
      "(4, 3)\n",
      "numero total =  12\n"
     ]
    }
   ],
   "source": [
    "numbers = [1, 2, 3, 4] \n",
    "permu = itertools.permutations(numbers, 2)\n",
    "\n",
    "count = 0\n",
    "for values in permu:\n",
    "    print(values)\n",
    "    count += 1\n",
    "    \n",
    "print('numero total = ', count)\n"
   ]
  },
  {
   "cell_type": "code",
   "execution_count": 4,
   "id": "be5b6eb9",
   "metadata": {
    "slideshow": {
     "slide_type": "subslide"
    }
   },
   "outputs": [
    {
     "name": "stdout",
     "output_type": "stream",
     "text": [
      "('A', 'B', 'C')\n",
      "('A', 'B', 'D')\n",
      "('A', 'B', 'E')\n",
      "('A', 'C', 'D')\n",
      "('A', 'C', 'E')\n",
      "('A', 'D', 'E')\n",
      "('B', 'C', 'D')\n",
      "('B', 'C', 'E')\n",
      "('B', 'D', 'E')\n",
      "('C', 'D', 'E')\n",
      "numero total =  10\n"
     ]
    }
   ],
   "source": [
    "mystring = \"ABCDE\" \n",
    "permu = itertools.combinations(mystring, 3)\n",
    "\n",
    "count = 0\n",
    "for values in permu:\n",
    "    print(values)\n",
    "    count += 1\n",
    "    \n",
    "print('numero total = ', count)\n"
   ]
  },
  {
   "cell_type": "markdown",
   "id": "d32abc0e",
   "metadata": {
    "slideshow": {
     "slide_type": "slide"
    }
   },
   "source": [
    "# Sumario\n",
    "- Espacio muestral es el conjunto de todos los resultados posibles de un experimento estadístico.\n",
    "- Evento es un subconjunto dentro del espacio muestral.\n",
    "- Distintos arreglos de elementos se pueden contar mediante permutaciones (considerando el orden) o mediante combinatorias (sin importar el orden)."
   ]
  }
 ],
 "metadata": {
  "celltoolbar": "Slideshow",
  "kernelspec": {
   "display_name": "Python 3 (ipykernel)",
   "language": "python",
   "name": "python3"
  },
  "language_info": {
   "codemirror_mode": {
    "name": "ipython",
    "version": 3
   },
   "file_extension": ".py",
   "mimetype": "text/x-python",
   "name": "python",
   "nbconvert_exporter": "python",
   "pygments_lexer": "ipython3",
   "version": "3.11.5"
  }
 },
 "nbformat": 4,
 "nbformat_minor": 5
}
