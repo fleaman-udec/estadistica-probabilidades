{
 "cells": [
  {
   "cell_type": "markdown",
   "id": "1f26dba0",
   "metadata": {
    "slideshow": {
     "slide_type": "slide"
    }
   },
   "source": [
    "# Módulo: Distribuciones de Probabilidad\n",
    "## Distribución de probabilidad discreta binomial\n",
    "## Distribución de probabilidad discreta hipergeométrica\n",
    "## Distribución de probabilidad discreta de Poisson"
   ]
  },
  {
   "cell_type": "markdown",
   "id": "ecc1922d",
   "metadata": {
    "slideshow": {
     "slide_type": "slide"
    }
   },
   "source": [
    "# Objetivos de la clase\n",
    "Conocer, comprender y realizar cálculos con algunas distribuciones de probabilidad discreta específicas:\n",
    "- Distribución binomial\n",
    "- Distribución hipergeométrica\n",
    "- Distribución de Poisson\n"
   ]
  },
  {
   "cell_type": "markdown",
   "id": "db3d1015",
   "metadata": {
    "slideshow": {
     "slide_type": "slide"
    }
   },
   "source": [
    "# Distribución de probabilidad discreta binomial"
   ]
  },
  {
   "cell_type": "markdown",
   "id": "c699a2e6",
   "metadata": {
    "slideshow": {
     "slide_type": "slide"
    }
   },
   "source": [
    "## Proceso de Bernoulli\n",
    "\n",
    "Consiste en un experimento estadístico con resultados binarios con las siguientes características:\n",
    "- Consta de ensayos repetidos\n",
    "- Cada ensayo produce un resultado que se puede clasificar como éxito o fracaso\n",
    "- La probabilidad de un éxito permanece constante de un experimento a otro\n",
    "- Los ensayos repetidos son independientes\n"
   ]
  },
  {
   "cell_type": "markdown",
   "id": "1b7c7339",
   "metadata": {
    "slideshow": {
     "slide_type": "slide"
    }
   },
   "source": [
    "**Ejemplo**: Un proceso de producción genera un 25% de artículos defectuosos. Se seleccionan 3 artículos al azar del proceso, se inspeccionan y se clasifican como defectuosos o no defectuosos.\n",
    "\n",
    "Modelamos el experimento como un proceso de Bernoulli, donde un \"éxito\" lo definimos como un producto defectuoso. Además, definimos la variable aleatoria $X$ como el número de éxitos. \n",
    "\n",
    "Resultado | x\n",
    "--- | ---\n",
    "NNN | 0\n",
    "NDN | 1\n",
    "NND | 1\n",
    "DNN | 1\n",
    "NDD | 2\n",
    "DND | 2\n",
    "DDN | 2\n",
    "DDD | 3"
   ]
  },
  {
   "cell_type": "markdown",
   "id": "a992f195",
   "metadata": {
    "slideshow": {
     "slide_type": "subslide"
    }
   },
   "source": [
    "Sabiendo que los artículos se eligen de forma **independiente**, podemos calcular las probabilidades de cada valor de $X$ de la siguiente forma:\n",
    "\n",
    "\\begin{align}\n",
    "    P(NDN) = P(N) P(D) P(N) = \\left(\\frac{3}{4}\\right) \\left(\\frac{1}{4}\\right) \\left(\\frac{3}{4}\\right) = \\frac{9}{64}\n",
    "\\end{align}\n",
    "\n",
    "Realizando lo mismo para cada caso, obtenemos la siguiente distribución de probabilidad:\n",
    "\n",
    "x | f(x)\n",
    "--- | ---\n",
    "0 | 27/64\n",
    "1 | 27/64\n",
    "2 | 9/64\n",
    "3 | 1/64"
   ]
  },
  {
   "cell_type": "markdown",
   "id": "4de8492e",
   "metadata": {
    "slideshow": {
     "slide_type": "slide"
    }
   },
   "source": [
    "## Distribución binominal\n",
    "\n",
    "El número de éxitos de $n$ experimentos de Bernoulli se llama **variable aleatoria binominal** y la distribución de probabilidad de esta variable se llama **distribución binominal**.\n",
    "\n",
    "Los valores de la distribución binominal se denotan como $b(x; n, p)$, donde $n$ es el número de ensayos y $p$ es la probabilidad de éxito de cada ensayo.\n",
    "\n",
    "**Ejemplo**: Para el ejemplo de los artículos defectuosos, la probabilidad de obtener 2 artículos defectuosos de la selección de 3 artículos es:\n",
    "\n",
    "\\begin{align}\n",
    "    P(X=2) = f(2) = b \\left( x=2; n=3,p=\\frac{1}{4} \\right) = \\frac{9}{64}\n",
    "\\end{align}"
   ]
  },
  {
   "cell_type": "markdown",
   "id": "e07fa95b",
   "metadata": {
    "slideshow": {
     "slide_type": "slide"
    }
   },
   "source": [
    "Un experimento de Bernoulli arroja un éxito con probabilidad $p$ y un fracaso con probabilidad $q=1-p$ en cada uno de $n$ ensayos independientes. Si $X$ representa el número de éxitos obtenidos, entonces su distribución de probabilidad es:\n",
    "\n",
    "\\begin{align}\n",
    "    b(x; n,p) = {}_{n}C_{x} p^{x} q^{n-x} = \\frac{n!}{x! (n-x)!} p^{x} q^{n-x}\n",
    "\\end{align}\n",
    "\n",
    "**Ejemplo**: Para el ejemplo de los artículos defectuosos, la distribución de probabilidad de expresa como:\n",
    "\n",
    "\\begin{align}\n",
    "    b\\left(x;3,\\frac{1}{4}\\right) = \\frac{3!}{x! (3-x)!} \\left(\\frac{1}{4}\\right)^{x} \\left(\\frac{3}{4}\\right)^{3-x}\n",
    "\\end{align}\n",
    "\n",
    "Para x = 2 resulta:\n",
    "\n",
    "\\begin{align}\n",
    "    b\\left(2;3,\\frac{1}{4}\\right) = \\frac{3!}{2! (3-2)!} \\left(\\frac{1}{4}\\right)^{2} \\left(\\frac{3}{4}\\right)^{3-2} =  \\frac{9}{64}\n",
    "\\end{align}\n"
   ]
  },
  {
   "cell_type": "markdown",
   "id": "feba4ab1",
   "metadata": {
    "slideshow": {
     "slide_type": "slide"
    }
   },
   "source": [
    "## Algunas propiedades\n",
    "\n",
    "a) Como cualquier distribución de probabilidad, se debe cumplir que:\n",
    "\n",
    "\\begin{align}\n",
    "    \\sum_{x=0}^{n} b(x; n,p) = 1\n",
    "\\end{align}\n",
    "\n",
    "b) Las probabilidades de que la variable $X$ sea menor o igual que un valor $r$ se calcula como sigue:\n",
    "\n",
    "\\begin{align}\n",
    "    P(X \\leq r ) = \\sum_{x=0}^{r} b(x; n,p)\n",
    "\\end{align}\n"
   ]
  },
  {
   "cell_type": "markdown",
   "id": "d56e637f",
   "metadata": {
    "slideshow": {
     "slide_type": "subslide"
    }
   },
   "source": [
    "c) La probabilidad de obtener un valor entre $a$ y $b$ se puede calcular como la diferencia de dos probabilidades de obtener un valor menor a otro de la siguiente forma:\n",
    "\n",
    "\\begin{align}\n",
    "    P(a \\leq X \\leq b) = \\sum_{x=a}^{b} b(x; n,p) = \\sum_{x=0}^{b} b(x; n,p) - \\sum_{x=0}^{a} b(x; n,p)\n",
    "\\end{align}\n",
    "\n",
    "d) La media y la varianza de la distribución binominal $b(x; n,p)$ son respectivamente:\n",
    "\n",
    "\\begin{align}\n",
    "    \\mu & = np &\n",
    "    \\sigma^{2} & = npq\n",
    "\\end{align}"
   ]
  },
  {
   "cell_type": "markdown",
   "id": "71793a8c",
   "metadata": {
    "slideshow": {
     "slide_type": "slide"
    }
   },
   "source": [
    "**Ejemplo**: La probabilidad que un paciente se recupere de una enfermedad determinada es 0.4. Si hay 15 personas con esta enfermedad, ¿cuáles son las probabilidades que sobrevivan entre 4 y 6?\n",
    "\n",
    "Sea $X$ es el número de personas que sobreviven. Asumiendo una distribución binominal se tiene:\n",
    "\n",
    "\\begin{align}\n",
    "    P(4 \\leq X \\leq 6) = \\sum_{x=4}^{6} b(x; 15,0.4) = \\sum_{x=4}^{6} \\frac{15!}{x! (15-x)!} 0.4^{x} 0.6^{15-x}\n",
    "\\end{align}\n",
    "\n",
    "\\begin{align}\n",
    "    P(4 \\leq X \\leq 6) = \\frac{15!}{4! (15-4)!} 0.4^{4} 0.6^{15-4} + \\frac{15!}{5! (15-5)!} 0.4^{5} 0.6^{15-5} + \\frac{15!}{6! (15-6)!} 0.4^{6} 0.6^{15-6} = 0.519\n",
    "\\end{align}\n",
    "\n",
    "\\begin{align}\n",
    "    P(4 \\leq X \\leq 6) = 0.519\n",
    "\\end{align}\n"
   ]
  },
  {
   "cell_type": "markdown",
   "id": "b5080352",
   "metadata": {
    "slideshow": {
     "slide_type": "slide"
    }
   },
   "source": [
    "# Distribución de probabilidad hipergeométrica"
   ]
  },
  {
   "cell_type": "markdown",
   "id": "2b5d6b62",
   "metadata": {
    "slideshow": {
     "slide_type": "slide"
    }
   },
   "source": [
    "## Motivación\n",
    "Tenemos un lote de artículos y nos interesa estudiar la probabilidad de escoger uno defectuoso.\n",
    "\n",
    "<center>\n",
    "    <img src=\"figures/lote-1.jpg\" width=\"400\"/>\n",
    "</center>\n",
    "\n",
    "La distribución de probabilidad binominal requiere que los ensayos sean independientes, por lo que no es aplicable para este caso (requiere de reemplazo)."
   ]
  },
  {
   "cell_type": "markdown",
   "id": "75a3aded",
   "metadata": {
    "slideshow": {
     "slide_type": "slide"
    }
   },
   "source": [
    "## Experimento hipergeométrico\n",
    "\n",
    "La probabilidad se seleccionar $x$ éxitos de los $k$ artículos considerados éxitos y $n-x$ fracasos de los $N-k$ artículos considerados fracasos cuando una muestra aleatoria de tamaño $n$ se selecciona de $N$ artículos.\n",
    "\n",
    "**Ejemplo**: se desea calcular la probabilidad de obtener 3 cartas rojas (corazón o diamante) en 5 extracciones de cartas de una baraja de 52 cartas.\n",
    "\n",
    "<center>\n",
    "    <img src=\"figures/cards-4.png\" width=\"400\"/>\n",
    "</center>\n",
    "\n",
    "Estimados la probabilidad de tener $x=3$ éxitos de un total de $k=26$ posibles éxitos y $n-x=2$ fracasos de los $N-k=26$ posibles fracasos desde una muestra aleatoria $n=5$ de un total de $N=52$ opciones."
   ]
  },
  {
   "cell_type": "markdown",
   "id": "7e65f369",
   "metadata": {
    "slideshow": {
     "slide_type": "subslide"
    }
   },
   "source": [
    "Entonces el experimento hipergeométrico tiene las siguientes propiedades:\n",
    "\n",
    "- De un lote de $N$ artículos se selecciona una muestra aleatoria de tamaño $n$ sin reemplazo\n",
    "- $k$ de los $N$ artículos se consideran éxitos y $N-k$ se consideran como fracasos.\n",
    "\n",
    "El número $X$ de éxitos se conoce como variable aleatoria hipergeométrica y su distribución de probabilidad se denota como $h(x; N, n, k)$ ya que depende del número $k$ de éxitos en el total $N$ del cuál se seleccionan $n$ artículos.\n"
   ]
  },
  {
   "cell_type": "markdown",
   "id": "f40d3cf2",
   "metadata": {
    "slideshow": {
     "slide_type": "subslide"
    }
   },
   "source": [
    "## Distribución hipergeométrica\n",
    "La distribución de probabilidad de la variable aleatoria hipergeométrica $X$, que representa el número de éxitos de una muestra aleatoria de tamaño $n$ que se selecciona de $N$ artículos en los que $k$ son éxitos y $N-k$ son fracasos, es igual a:\n",
    "\n",
    "\\begin{align}\n",
    "    h(x; N, n, k) =  \\frac{ {}_{k}C_{x} \\cdot {}_{N-k}C_{n-x} }{ {}_{N}C_{n} }, \\quad \\text{max}\\{0, n-(N-k) \\} \\leq x \\leq \\text{min} \\{n,k\\}\n",
    "\\end{align}\n",
    "\n",
    "En otras palabras, se calcula como:\n",
    "\n",
    "\\begin{align}\n",
    "    h(x; N, n, k) =  \\frac{\\text{Combinaciones de éxito} \\cdot \\text{Combinaciones de fracaso}}{\\text{Total de combinaciones}}\n",
    "\\end{align}"
   ]
  },
  {
   "cell_type": "markdown",
   "id": "094510a1",
   "metadata": {
    "slideshow": {
     "slide_type": "slide"
    }
   },
   "source": [
    "## Algunas propiedades\n",
    "a) La media de la distribución hipergeométrica $h(x; N, n, k)$ es:\n",
    "\n",
    "\\begin{align}\n",
    "    \\mu = \\frac{nk}{N}\n",
    "\\end{align}\n",
    "\n",
    "a) La varianza de la distribución hipergeométrica $h(x; N, n, k)$ es:\n",
    "\n",
    "\\begin{align}\n",
    "    \\sigma^{2} = \\frac{nk}{N} \\left( \\frac{N-n}{N-1} \\right) \\left( 1- \\frac{k}{N} \\right)\n",
    "\\end{align}"
   ]
  },
  {
   "cell_type": "markdown",
   "id": "a309d507",
   "metadata": {
    "slideshow": {
     "slide_type": "slide"
    }
   },
   "source": [
    "**Ejemplo**: Entonces, ¿cuál es la probabilidad de sacar 3 cartas rojas en una mano de 5 cartas?\n",
    "\n",
    "<center>\n",
    "    <img src=\"figures/cards-4.png\" width=\"400\"/>\n",
    "</center>\n",
    "\n",
    "\\begin{align}\n",
    "    h(x=3; N=52, n=5, k=26) =  \\frac{ {}_{26}C_{3} \\cdot {}_{26}C_{2} }{ {}_{52}C_{5} } = 0.325\n",
    "\\end{align}\n",
    "\n",
    "Y ¿cuál es la probabilidad de sacar 4 ases en una mano de 5 cartas?\n",
    "\n",
    "\\begin{align}\n",
    "    h(x=4; N=52, n=5, k=4) =  \\frac{ {}_{4}C_{4} \\cdot {}_{48}C_{1} }{ {}_{52}C_{5} } = 0.0000185\n",
    "\\end{align}"
   ]
  },
  {
   "cell_type": "markdown",
   "id": "4463180c",
   "metadata": {
    "slideshow": {
     "slide_type": "slide"
    }
   },
   "source": [
    "# Distribución de probabilidad discreta de Poisson"
   ]
  },
  {
   "cell_type": "markdown",
   "id": "1fe3ddd9",
   "metadata": {
    "slideshow": {
     "slide_type": "subslide"
    }
   },
   "source": [
    "## Proceso de Poisson\n",
    "Consiste en un experimento estadístico caracterizado por el número de resultados que ocurren en un intervalo de tiempo o en una región del espacio específica.\n",
    "\n",
    "**Ejemplos**:\n",
    "- El número de llamadas por hora que recibe una oficina.\n",
    "- El número de días al año que una escuela se cierra debido al mal tiempo.\n",
    "- El número de árboles por hectárea en un bosque."
   ]
  },
  {
   "cell_type": "markdown",
   "id": "ce3a427d",
   "metadata": {
    "slideshow": {
     "slide_type": "subslide"
    }
   },
   "source": [
    "Tiene las siguientes propiedades:\n",
    "\n",
    "- El número de resultados es independiente de lo que ocurre en otro intervalo de tiempo o región del espacio disjunto. Es decir, el proceso de Poisson \"no tiene memoria\".\n",
    "- La probabilidad que ocurra solo un resultado en un intervalo corto o una región pequeña, es proporcional a la longitud del intervalo o tamaño de la región. Además, no depende del número de resultados fuera del intervalo o región.\n",
    "- La probabilidad que ocurra más de un resultado en ese intervalo corto o región pequeña es insignificante.\n",
    "\n",
    "El número $X$ de resultados se llama **variable de Poisson** y su distribución de probabilidad se llama **distribución de Poisson**."
   ]
  },
  {
   "cell_type": "markdown",
   "id": "ca8e38da",
   "metadata": {
    "slideshow": {
     "slide_type": "slide"
    }
   },
   "source": [
    "## Distribución de Poisson\n",
    "La distribución de probabilidad de una variable de Poisson $X$ que representa el número de resultados en un intervalo de tiempo o región del espacio denotados por $t$ viene dada por:\n",
    "\n",
    "\\begin{align}\n",
    "    p(x; \\lambda t) = \\frac{e^{- \\lambda t} (\\lambda t)^x  }{x!}, & \\quad  \\forall x \\in \\{0, 1, 2, ...\\}\n",
    "\\end{align}\n",
    "\n",
    ", donde $\\lambda$ es el número promedio de resultados por unidad de tiempo, distancia, área o volumen."
   ]
  },
  {
   "cell_type": "markdown",
   "id": "400f4715",
   "metadata": {
    "slideshow": {
     "slide_type": "slide"
    }
   },
   "source": [
    "## Algunas propiedades\n",
    "\n",
    "a) Las probabilidades de que la variable $X$ sea menor que un valor $r$ se calcula como sigue:\n",
    "\n",
    "\\begin{align}\n",
    "    P(X \\leq r) = \\sum_{x=0}^{r} p(x; \\lambda t)\n",
    "\\end{align}\n",
    "\n",
    "b) Las probabilidades de que la variable $X$ esté entre $a$ y $b$ se calcula como sigue:\n",
    "\n",
    "\\begin{align}\n",
    "    P(a \\leq X \\leq b) = \\sum_{x=a}^{b} p(x; \\lambda t)\n",
    "\\end{align}\n",
    "\n",
    "c) La media y la varianza de la distribución Poisson $p(x; \\lambda t)$ son respectivamente:\n",
    "\n",
    "\\begin{align}\n",
    "    \\mu & = \\lambda t &\n",
    "    \\sigma^{2} & = \\lambda t\n",
    "\\end{align}"
   ]
  },
  {
   "cell_type": "markdown",
   "id": "909c4a5a",
   "metadata": {
    "slideshow": {
     "slide_type": "subslide"
    }
   },
   "source": [
    "c) La distribución de Poisson se vuelve cada vez más simétrica a medida que la media $\\mu$ o valor $\\lambda t$ se hace más grande. Ejemplo:\n",
    "\n",
    "<br><center>\n",
    "    <img src=\"figures/poisson-1.png\" width=\"800\"/>\n",
    "</center>"
   ]
  },
  {
   "cell_type": "markdown",
   "id": "eb580d29",
   "metadata": {
    "slideshow": {
     "slide_type": "slide"
    }
   },
   "source": [
    "**Ejemplo**: El número de autos promedio que pasa por determinado cruce cada una hora es igual a 4. ¿Cuál es la probabilidad de que pasen 6 autos por el cruce en una hora dada? ¿y de que pase solo 1 auto?\n",
    "\n",
    "Al usar la distribución de Poisson con $x=6$ y $\\lambda t = 4$ se obtiene:\n",
    "\n",
    "\\begin{align}\n",
    "    P(X=6) = p(6; 4) = \\frac{e^{- 4} (4)^6  }{6!} = 0.1042\n",
    "\\end{align}\n",
    "\n",
    "Al usar la distribución de Poisson con $x=1$ y $\\lambda t = 4$ se obtiene:\n",
    "\n",
    "\\begin{align}\n",
    "    P(X=1) = p(1; 4) = \\frac{e^{- 4} (4)^1  }{1!} = 0.0733\n",
    "\\end{align}"
   ]
  },
  {
   "cell_type": "markdown",
   "id": "1bd9f3ef",
   "metadata": {
    "slideshow": {
     "slide_type": "slide"
    }
   },
   "source": [
    "**Ejemplo**: El número promedio de barcos que llega a un puerto diariamente es 10. Si el puerto tiene capacidad para alojar máximo 15 barcos por día, ¿cuál es la probabilidad de que en un día determinado lleguen más de 15 barcos?\n",
    "\n",
    "Al asumir una distribución de probabilidad de Poisson con $\\lambda t = 10$ para el número de barcos $X$ se obtiene:\n",
    "\n",
    "\\begin{align}\n",
    "    P(X>15) = 1 - P(X \\leq 15) = 1 - \\sum_{x=0}^{15} p(x; 10) = 1 - \\sum_{x=0}^{15} \\frac{e^{- 10} (10)^x  }{x!}\n",
    "\\end{align}\n",
    "\n",
    "\\begin{align}\n",
    "    P(X>15) = 1 - \\frac{e^{-10} (10)^0}{0!} - \\frac{e^{-10} (10)^1}{1!} - ... - \\frac{e^{-10} (10)^{15}}{15!} = 0.0487\n",
    "\\end{align}"
   ]
  },
  {
   "cell_type": "markdown",
   "id": "e16fa558",
   "metadata": {
    "slideshow": {
     "slide_type": "slide"
    }
   },
   "source": [
    "# Sumario\n",
    "- La distribución discreta binomial se puede aplicar a experimentos consistentes en ensayos independientes con resultados binarios.\n",
    "- La distribución discreta hipergeométrica se puede aplicar a experimentos con muestreos aleatorios y sin reemplazo.\n",
    "- La distribución discreta de Poisson se puede aplicar a experimentos consistentes en el número de resultados obtenidos en un intervalo de tiempo o región del espacio."
   ]
  }
 ],
 "metadata": {
  "celltoolbar": "Slideshow",
  "kernelspec": {
   "display_name": "Python 3 (ipykernel)",
   "language": "python",
   "name": "python3"
  },
  "language_info": {
   "codemirror_mode": {
    "name": "ipython",
    "version": 3
   },
   "file_extension": ".py",
   "mimetype": "text/x-python",
   "name": "python",
   "nbconvert_exporter": "python",
   "pygments_lexer": "ipython3",
   "version": "3.9.7"
  }
 },
 "nbformat": 4,
 "nbformat_minor": 5
}
