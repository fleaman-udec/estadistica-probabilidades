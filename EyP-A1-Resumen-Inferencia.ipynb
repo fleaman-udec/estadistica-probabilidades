{
 "cells": [
  {
   "cell_type": "markdown",
   "id": "20798f6f",
   "metadata": {
    "slideshow": {
     "slide_type": "slide"
    }
   },
   "source": [
    "# Módulo: Inferencia Estadística\n",
    "## Resumen"
   ]
  },
  {
   "cell_type": "markdown",
   "id": "94db0361",
   "metadata": {
    "slideshow": {
     "slide_type": "slide"
    }
   },
   "source": [
    "# Resumen: estimaciones de intervalos"
   ]
  },
  {
   "cell_type": "markdown",
   "id": "436e5759",
   "metadata": {
    "slideshow": {
     "slide_type": "slide"
    }
   },
   "source": [
    "## Intervalo de confianza en estimación de media (varianza conocida)\n",
    "\n",
    "*Sea $\\overline{x}$ la media de una muestra de tamaño $n$ de una población con varianza $\\sigma^2$ conocida.*\n",
    "\n",
    "El intervalo de confianza de $100(1 - \\alpha)\\%$ para la estimación de la media poblacional $\\mu$ es:\n",
    "\n",
    "\\begin{align}\n",
    "    \\mu \\in \\left[  \\overline{x} - z_{\\alpha /2} \\frac{\\sigma}{\\sqrt{n}} , \\overline{x} + z_{\\alpha /2} \\frac{\\sigma}{\\sqrt{n}} \\right]\n",
    "\\end{align}\n",
    "\n",
    "\n",
    "donde $z_{\\alpha /2}$ es el valor $z$ que deja un área de $\\alpha /2$ a la derecha de la distribución normal estándar.\n",
    "\n",
    "<font color=darkred>Nota: deben aplicar alguna de las condiciones del TLC. </font>"
   ]
  },
  {
   "cell_type": "markdown",
   "id": "a581f27d",
   "metadata": {
    "slideshow": {
     "slide_type": "slide"
    }
   },
   "source": [
    "## Intervalo de confianza en estimación de media (varianza desconocida)\n",
    "\n",
    "*Sea $\\overline{x}$ la media y $s^2$ la varianza de una muestra de tamaño $n$ de una población normal.*\n",
    "\n",
    "El intervalo de confianza de $100(1 - \\alpha)\\%$ para la estimación de la media poblacional $\\mu$ es:\n",
    "\n",
    "\\begin{align}\n",
    "    \\mu \\in \\left[  \\overline{x} - t_{\\alpha /2} \\frac{s}{\\sqrt{n}} , \\overline{x} + t_{\\alpha /2} \\frac{s}{\\sqrt{n}} \\right]\n",
    "\\end{align}\n",
    "\n",
    "\n",
    "donde $t_{\\alpha /2}$ es el valor $t$ que deja un área de $\\alpha /2$ a la derecha de la distribución $t$ con $\\nu = n - 1$ grados de libertad."
   ]
  },
  {
   "cell_type": "markdown",
   "id": "63daefc4",
   "metadata": {
    "slideshow": {
     "slide_type": "slide"
    }
   },
   "source": [
    "## Intervalos de tolerancia para una proporción\n",
    "\n",
    "*Sea $\\overline{x}$ la media y $s^2$ la varianza de una muestra de tamaño $n$ de una población normal.*\n",
    "\n",
    "Hay una confianza de $100(1-\\gamma)\\%$ que los siguientes límites formen un intervalo que contenga al menos una proporción de $1 - \\alpha$ de las población:\n",
    "\n",
    "\\begin{align}\n",
    "    \\overline{x} \\pm k s\n",
    "\\end{align}\n",
    "\n",
    "donde $k$ se determina de tablas según los valores de $n$, $(1-\\gamma)$ y $\\alpha$\n"
   ]
  },
  {
   "cell_type": "markdown",
   "id": "5488d2b1",
   "metadata": {
    "slideshow": {
     "slide_type": "slide"
    }
   },
   "source": [
    "## Intervalo de confianza en estimación de varianza\n",
    "\n",
    "*Sea $s^2$ la varianza de una muestra de tamaño $n$ de una población normal.*\n",
    "\n",
    "El intervalo de confianza de $100(1 - \\alpha)\\%$ para estimar la varianza poblacional $\\sigma^2$ es:\n",
    "\n",
    "\\begin{align}\n",
    "    \\sigma^2 \\in \\left[ \\frac{(n-1)s^2}{ \\chi^2_{\\alpha /2} }  , \\frac{(n-1)s^2}{ \\chi^2_{1 - \\alpha /2} } \\right]\n",
    "\\end{align}\n",
    "\n",
    "donde $\\chi^2_{\\alpha /2}$ y $\\chi^2_{1 - \\alpha /2}$ son los valores de $\\chi^2$ con $\\nu = n-1$ grados de libertad que dejan áreas $\\alpha/2$ y $1 - \\alpha/2$ a la derecha de la distribución chi cuadrada, respectivamente.\n",
    "\n",
    "<font color=darkred>**Nota**: El intervalo para la desviación estándar $\\sigma$ se obtiene tomando la raíz cuadrada para los extremos del intervalo anterior. </font>"
   ]
  },
  {
   "cell_type": "markdown",
   "id": "6d169d39",
   "metadata": {
    "slideshow": {
     "slide_type": "slide"
    }
   },
   "source": [
    "# Resumen: pruebas de hipótesis"
   ]
  },
  {
   "cell_type": "markdown",
   "id": "582ccc30",
   "metadata": {
    "slideshow": {
     "slide_type": "slide"
    }
   },
   "source": [
    "## Prueba de hipótesis para la media (varianza conocida)\n",
    "\n",
    "*Sea $\\overline{x}$ la media de una muestra de tamaño $n$ de una población con varianza $\\sigma^2$ conocida.*\n",
    "\n",
    "*Sea $\\alpha$ el nivel de significancia y  la hipótesis nula $H_0: \\mu = \\mu_0$*\n",
    "\n",
    "Para la prueba **bilateral** (de dos colas) la región crítica donde se rechaza $H_0$ a favor de $H_1$ es:\n",
    "\n",
    "&#10148; Para $H_1: \\mu \\neq \\mu_0$\n",
    "\n",
    "\\begin{align}\n",
    "    z & = \\frac{ \\overline{x} - \\mu_0 }{ \\sigma / \\sqrt{n} } > z_{\\alpha/2} &\n",
    "    \\text{o} & &\n",
    "    z & = \\frac{ \\overline{x} - \\mu_0 }{ \\sigma / \\sqrt{n} } < -z_{\\alpha/2}\n",
    "\\end{align}\n",
    "\n",
    "donde $z_{\\alpha /2}$ es el valor $z$ que deja un área de $\\alpha /2$ a la derecha de la distribución normal estándar."
   ]
  },
  {
   "cell_type": "markdown",
   "id": "c17b85f7",
   "metadata": {
    "slideshow": {
     "slide_type": "subslide"
    }
   },
   "source": [
    "Para pruebas **unilaterales** (de una cola) las regiones críticas donde se rechaza $H_0$ a favor de $H_1$ son:\n",
    "\n",
    "&#10148; Para $H_1: \\mu > \\mu_0$\n",
    "\n",
    "\\begin{align}\n",
    "    z = \\frac{ \\overline{x} - \\mu_0 }{ \\sigma / \\sqrt{n} } > z_{\\alpha}\n",
    "\\end{align}\n",
    "\n",
    "&#10148; Para $H_1: \\mu < \\mu_0$\n",
    "\n",
    "\\begin{align}\n",
    "    z = \\frac{ \\overline{x} - \\mu_0 }{ \\sigma / \\sqrt{n} } < -z_{\\alpha}\n",
    "\\end{align}\n",
    "\n",
    "donde $z_{\\alpha}$ es el valor $z$ que deja un área de $\\alpha$ a la derecha de la distribución normal estándar.\n",
    "\n",
    "<font color=darkred>Nota: deben aplicar alguna de las condiciones del TLC. </font>"
   ]
  },
  {
   "cell_type": "markdown",
   "id": "4437c97e",
   "metadata": {
    "slideshow": {
     "slide_type": "slide"
    }
   },
   "source": [
    "## Prueba de hipótesis para la media (varianza desconocida)\n",
    "\n",
    "*Sea $\\overline{x}$ la media y $s^2$ la varianza de una muestra de tamaño $n$ de una población normal.*\n",
    "\n",
    "*Sea $\\alpha$ el nivel de significancia y  la hipótesis nula $H_0: \\mu = \\mu_0$*\n",
    "\n",
    "Para la prueba **bilateral** (de dos colas) la región crítica donde se rechaza $H_0$ a favor de $H_1$ es:\n",
    "\n",
    "&#10148; Para $H_1: \\mu \\neq \\mu_0$\n",
    "\n",
    "\\begin{align}\n",
    "    t & = \\frac{ \\overline{x} - \\mu_0 }{ s / \\sqrt{n} } > t_{\\alpha/2} &\n",
    "    \\text{o} & &\n",
    "    t & = \\frac{ \\overline{x} - \\mu_0 }{ s / \\sqrt{n} } < -t_{\\alpha/2}\n",
    "\\end{align}\n",
    "\n",
    "donde $t_{\\alpha /2}$ es el valor $t$ que deja un área de $\\alpha /2$ a la derecha de la distribución $t$"
   ]
  },
  {
   "cell_type": "markdown",
   "id": "cb244eac",
   "metadata": {
    "slideshow": {
     "slide_type": "subslide"
    }
   },
   "source": [
    "Para pruebas **unilaterales** (de una cola) las regiones críticas donde se rechaza $H_0$ a favor de $H_1$ son:\n",
    "\n",
    "&#10148; Para $H_1: \\mu > \\mu_0$\n",
    "\n",
    "\\begin{align}\n",
    "    t = \\frac{ \\overline{x} - \\mu_0 }{ s / \\sqrt{n} } > t_{\\alpha}\n",
    "\\end{align}\n",
    "\n",
    "&#10148; Para $H_1: \\mu < \\mu_0$\n",
    "\n",
    "\\begin{align}\n",
    "    t = \\frac{ \\overline{x} - \\mu_0 }{ s / \\sqrt{n} } < -t_{\\alpha}\n",
    "\\end{align}\n",
    "\n",
    "donde $t_{\\alpha}$ es el valor $t$ que deja un área de $\\alpha$ a la derecha de la distribución $t$."
   ]
  },
  {
   "cell_type": "markdown",
   "id": "65449e6a",
   "metadata": {
    "slideshow": {
     "slide_type": "slide"
    }
   },
   "source": [
    "## Prueba de hipótesis para la varianza\n",
    "\n",
    "*Sea $s^2$ la varianza de una muestra de tamaño $n$ de una población normal.*\n",
    "\n",
    "*Sea $\\alpha$ el nivel de significancia y  la hipótesis nula $H_0: \\sigma^2 = \\sigma^2_0$*\n",
    "\n",
    "Para la prueba **bilateral** (de dos colas) la región crítica donde se rechaza $H_0$ a favor de $H_1$ es:\n",
    "\n",
    "&#10148; Para $H_1: \\sigma^{2} \\neq \\sigma_0^{2}$\n",
    "\n",
    "\\begin{align}\n",
    "    \\chi^{2} & = \\frac{(n-1) s^2}{\\sigma_{0}^2} < \\chi_{1-\\alpha /2}^2 &\n",
    "    \\text{o} & &\n",
    "    \\chi^{2} & = \\frac{(n-1) s^2}{\\sigma_{0}^2} > \\chi_{\\alpha /2}^2 &\n",
    "\\end{align}\n",
    "\n",
    "donde $\\chi^2_{1 - \\alpha /2}$ y $\\chi^2_{\\alpha /2}$ son los valores de $\\chi^2$ con $\\nu = n-1$ grados de libertad que dejan áreas $1 - \\alpha/2$ y $\\alpha/2$ a la derecha de la distribución chi cuadrada, respectivamente."
   ]
  },
  {
   "cell_type": "markdown",
   "id": "d5ed0212",
   "metadata": {
    "slideshow": {
     "slide_type": "subslide"
    }
   },
   "source": [
    "Para pruebas **unilaterales** (de una cola) las regiones críticas donde se rechaza $H_0$ a favor de $H_1$ son:\n",
    "\n",
    "&#10148; Para $H_1: \\sigma^{2} > \\sigma_0^{2}$\n",
    "\n",
    "\\begin{align}\n",
    "    \\chi^{2} = \\frac{(n-1) s^2}{\\sigma_{0}^2} > \\chi_{\\alpha }^2\n",
    "\\end{align}\n",
    "\n",
    "&#10148; Para $H_1: \\sigma^{2} < \\sigma_0^{2}$\n",
    "\n",
    "\\begin{align}\n",
    "    \\chi^{2} = \\frac{(n-1) s^2}{\\sigma_{0}^2} < \\chi_{1 - \\alpha }^2\n",
    "\\end{align}\n",
    "\n",
    "donde $\\chi^2_{\\alpha}$ y $\\chi^2_{1 - \\alpha}$ son los valores de $\\chi^2$ con $\\nu = n-1$ grados de libertad que dejan áreas $\\alpha$ y $1 - \\alpha$ a la derecha de la distribución chi cuadrada, respectivamente."
   ]
  },
  {
   "cell_type": "markdown",
   "id": "ced41fca",
   "metadata": {
    "slideshow": {
     "slide_type": "slide"
    }
   },
   "source": [
    "<center>\n",
    "    <img src=\"figures/inf-stats.png\" width=\"700\"/>\n",
    "</center>"
   ]
  }
 ],
 "metadata": {
  "celltoolbar": "Slideshow",
  "kernelspec": {
   "display_name": "Python 3 (ipykernel)",
   "language": "python",
   "name": "python3"
  },
  "language_info": {
   "codemirror_mode": {
    "name": "ipython",
    "version": 3
   },
   "file_extension": ".py",
   "mimetype": "text/x-python",
   "name": "python",
   "nbconvert_exporter": "python",
   "pygments_lexer": "ipython3",
   "version": "3.9.7"
  }
 },
 "nbformat": 4,
 "nbformat_minor": 5
}
