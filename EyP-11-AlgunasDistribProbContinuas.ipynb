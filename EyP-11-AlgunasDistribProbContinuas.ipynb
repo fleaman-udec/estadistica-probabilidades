{
 "cells": [
  {
   "cell_type": "markdown",
   "id": "197bbf6d",
   "metadata": {
    "slideshow": {
     "slide_type": "slide"
    }
   },
   "source": [
    "# Módulo: Distribuciones de Probabilidad\n",
    "## Distribución de probabilidad continua uniforme\n",
    "## Distribución de probabilidad continua normal\n",
    "## Distribución de probabilidad continua chi cuadrada"
   ]
  },
  {
   "cell_type": "markdown",
   "id": "76241d12",
   "metadata": {
    "slideshow": {
     "slide_type": "slide"
    }
   },
   "source": [
    "# Objetivos de la clase\n",
    "\n",
    "Conocer, comprender y realizar cálculos con algunas distribuciones de probabilidad discreta específicas:\n",
    "- Distribución binomial\n",
    "- Distribución hipergeométrica\n",
    "- Distribución de Poisson\n"
   ]
  },
  {
   "cell_type": "markdown",
   "id": "4dcb322a",
   "metadata": {
    "slideshow": {
     "slide_type": "slide"
    }
   },
   "source": [
    "# Distribución de probabilidad continua uniforme\n"
   ]
  },
  {
   "cell_type": "markdown",
   "id": "a1dddef2",
   "metadata": {
    "slideshow": {
     "slide_type": "slide"
    }
   },
   "source": [
    "## Descripción\n",
    "Se trata de una función de densidad \"plana\", es decir, la probabilidad se reparte uniformemente en todo el rango de la variable aleatoria continua\n",
    "\n",
    "<center>\n",
    "    <img src=\"figures/uniform-2.gif\" width=\"500\"/>\n",
    "</center>"
   ]
  },
  {
   "cell_type": "markdown",
   "id": "242d5ada",
   "metadata": {
    "slideshow": {
     "slide_type": "subslide"
    }
   },
   "source": [
    "Sea $X$ una variable aleatoria continua en el intervalo $[A,B]$. Si la variable tiene una distribución uniforme, entonces su función de densidad es:\n",
    "\n",
    "\\begin{split}\n",
    "    f(x) = \\Bigg\\{\n",
    "    \\begin{array}{ c c }\n",
    "    \\frac{1}{B-A},  & \\quad \\textrm{if } A \\leq x \\leq B \\\\\n",
    "    0,                & \\quad \\textrm{elsewhere}\n",
    "  \\end{array}\n",
    "\\end{split}\n",
    "\n",
    "<center>\n",
    "    <img src=\"figures/uniform-1.png\" width=\"500\"/>\n",
    "</center>"
   ]
  },
  {
   "cell_type": "markdown",
   "id": "fdfb902c",
   "metadata": {
    "slideshow": {
     "slide_type": "slide"
    }
   },
   "source": [
    "## Algunas propiedades\n",
    "a) La media de la distribución uniforme es:\n",
    "\n",
    "\\begin{align}\n",
    "    \\mu = \\frac{A+B}{2}\n",
    "\\end{align}\n",
    "\n",
    "b) La varianza de la distribución uniforme es:\n",
    "\n",
    "\\begin{align}\n",
    "    \\sigma^{2} = \\frac{(B-A)^2}{12}\n",
    "\\end{align}"
   ]
  },
  {
   "cell_type": "markdown",
   "id": "7b0411da",
   "metadata": {
    "slideshow": {
     "slide_type": "slide"
    }
   },
   "source": [
    "# Distribución de probabilidad continua normal\n"
   ]
  },
  {
   "cell_type": "markdown",
   "id": "4ff7f4c9",
   "metadata": {
    "slideshow": {
     "slide_type": "slide"
    }
   },
   "source": [
    "## Motivación\n",
    "Es la distribución de probabilidad más importante en todo el campo de la estadística.\n",
    "\n",
    "La distribución normal describe de manera aproximada muchos fenómenos de la naturaleza, industria e investigación.\n",
    "\n",
    "También se conoce como distribución gaussiana en honor a Karl Friedrich Gauss.\n",
    "\n",
    "<center>\n",
    "    <img src=\"figures/normal-1.png\" width=\"500\"/>\n",
    "</center>\n"
   ]
  },
  {
   "cell_type": "markdown",
   "id": "865030ee",
   "metadata": {
    "slideshow": {
     "slide_type": "subslide"
    }
   },
   "source": [
    "Algunas variables que siguen aproximadamente una distribución normal:\n",
    "- La altura de la población\n",
    "- Las notas de un grupo de estudiantes\n",
    "- Errores de instrumentos de medición\n",
    "- La presión sanguinea\n",
    "\n",
    "<center>\n",
    "    <img src=\"figures/normal-2.png\" width=\"700\"/>\n",
    "</center>\n",
    "    "
   ]
  },
  {
   "cell_type": "markdown",
   "id": "0e52eee8",
   "metadata": {
    "slideshow": {
     "slide_type": "slide"
    }
   },
   "source": [
    "## Distribución normal\n",
    "Una variable aleatoria continua $X$ que sigue una distribución normal se llama variable aleatoria normal.\n",
    "\n",
    "Su distribución de probabilidad depende únicamente de su media $\\mu$ y su desviación estándar $\\sigma$.\n",
    "\n",
    "Su función de densidad se denota $n(x; \\mu, \\sigma)$ y es igual a:\n",
    "\n",
    "\\begin{align}\n",
    "    n(x; \\mu, \\sigma) = \\frac{1}{\\sqrt{2 \\pi \\sigma}} \\text{exp} \\left(- \\frac{1}{2 \\sigma^2} (x-\\mu)^2  \\right), \\quad -\\infty < x < \\infty\n",
    "\\end{align}"
   ]
  },
  {
   "cell_type": "markdown",
   "id": "1bec2165",
   "metadata": {
    "slideshow": {
     "slide_type": "subslide"
    }
   },
   "source": [
    "**Curvas normales para diferentes $\\mu$ y $\\sigma$:**\n",
    "<center>\n",
    "    <img src=\"figures/normal-4.png\" width=\"1000\"/>\n",
    "</center>"
   ]
  },
  {
   "cell_type": "markdown",
   "id": "2d539d72",
   "metadata": {
    "slideshow": {
     "slide_type": "subslide"
    }
   },
   "source": [
    "**Propiedades de la curva normal**:\n",
    "1. La moda, correspondiente al punto máximo de la curva, ocurre en $x = \\mu$\n",
    "2. La curva es simétrica con respecto a un eje vertical a través de la media $\\mu$\n",
    "3. La curva tiene puntos de inflexión en $x = \\mu \\pm \\sigma$\n",
    "4. Se aproxima de manera asintótica al eje horizontal para ambos lados\n",
    "5. El área entre la curva y el eje horizontal es igual a uno"
   ]
  },
  {
   "cell_type": "markdown",
   "id": "e9bab75a",
   "metadata": {
    "slideshow": {
     "slide_type": "slide"
    }
   },
   "source": [
    "## Cálculo de probabilidades\n",
    "\n",
    "Como para cualquier función de densidad, el área bajo la curva en cierto rango representa la probabilidad que la variable tome un valor dentro de ese rango.\n",
    "\n",
    "\\begin{align}\n",
    "    P(x_1 < X < x_2) = \\int_{x_1}^{x_2} n(x; \\mu, \\sigma) dx = \\frac{1}{\\sqrt{2 \\pi \\sigma}} \\int_{x_1}^{x_2}  \\text{exp} \\left(- \\frac{1}{2 \\sigma^2} (x-\\mu)^2  \\right) dx\n",
    "\\end{align}\n",
    "\n",
    "<center>\n",
    "    <img src=\"figures/normal-5.png\" width=\"500\"/>\n",
    "</center>\n",
    "\n",
    "Ya que la integral no es trivial de resolver, se suelen calcular las probabilidades mediante un cambio de variables y el uso de tablas estandarizadas."
   ]
  },
  {
   "cell_type": "markdown",
   "id": "c71d1c2f",
   "metadata": {
    "slideshow": {
     "slide_type": "subslide"
    }
   },
   "source": [
    "Se define la variable aleatoria normal $Z$ con media $\\mu=0$ y desviación estándar $\\sigma = 1$ como sigue:\n",
    "\n",
    "\\begin{align}\n",
    "    Z = \\frac{X-\\mu}{\\sigma}\n",
    "\\end{align}\n",
    "\n",
    "De esta forma la integral queda así:\n",
    "\n",
    "\\begin{align}\n",
    "    P(x_1 < X < x_2) = \\frac{1}{\\sqrt{2 \\pi}} \\int_{z_1}^{z_2}  \\text{exp} \\left(- \\frac{1}{2} z^2  \\right) dz = \\int_{z_1}^{z_2}  n(z;0,1) dz\n",
    "\\end{align}\n",
    "\n",
    "La distribución $n(z;0,1)$ se conoce como **distribución normal estándar** y sus valores de área bajo la curva (probabilidad) se puede obtener desde tablas. Por lo tanto:\n",
    "\n",
    "\\begin{align}\n",
    "    P(x_1 < X < x_2) = P(z_1 < Z < z_2)\n",
    "\\end{align}\n"
   ]
  },
  {
   "cell_type": "markdown",
   "id": "8d7dabf4",
   "metadata": {
    "slideshow": {
     "slide_type": "slide"
    }
   },
   "source": [
    "**Ejemplo**: La siguiente tabla muestra áreas bajo la curva de la distribución normal estándar en el rango $(-\\infty, z)$, donde la columna corresponde a la unidad y décima de $z$ y la fila corresponde a la centésima.\n",
    "\n",
    "<center>\n",
    "    <img src=\"figures/norm-table-3.png\" width=\"1000\"/>\n",
    "</center>\n",
    "\n",
    "La probabilidad que $z \\in [0.2, 0.41]$ sería igual a:\n",
    "\n",
    "\\begin{align}\n",
    "    P(0.2 < Z < 0.41) = P(Z < 0.41) - P(Z < 0.2) = 0.6591 - 0.5793 = 0.0798\n",
    "\\end{align}\n",
    "\n",
    "\n"
   ]
  },
  {
   "cell_type": "markdown",
   "id": "20aa63b1",
   "metadata": {
    "slideshow": {
     "slide_type": "slide"
    }
   },
   "source": [
    "**Ejemplo**: Dada una variable aleatoria $X$ que tiene distribución normal con $\\mu = 50$ y $\\sigma = 10$, calcular la probabilidad que $X$ tome un valor entre 45 y 62.\n",
    "\n",
    "Primero expresamos los valores de $X$ en función una variable normal estándar $Z$ como sigue:\n",
    "\n",
    "\\begin{align}\n",
    "    z_1 & = \\frac{45-50}{10}=-0.5 &\n",
    "    z_2 & = \\frac{62-50}{10}=1.2\n",
    "\\end{align}\n",
    "\n",
    "Por lo tanto se cumple que:\n",
    "\n",
    "\\begin{align}\n",
    "    P(45 < X < 62) = P(-0.5 < Z < 1.2)\n",
    "\\end{align}"
   ]
  },
  {
   "cell_type": "markdown",
   "id": "9e75abc5",
   "metadata": {
    "slideshow": {
     "slide_type": "subslide"
    }
   },
   "source": [
    "Vamos a revisar las tablas de valores para los valores de $Z$ que se requieren:\n",
    "\n",
    "<center>\n",
    "    <img src=\"figures/norm-table-5.png\" width=\"900\"/>\n",
    "</center>\n",
    "\n",
    "Observamos que $P(Z<-0.5) = 0.3085$ y que $P(Z<1.2) = 0.8849$\n",
    "\n",
    "Por lo tanto:\n",
    "\n",
    "\\begin{align}\n",
    "    P(-0.5 < Z < 1.2) = P(Z<1.2) - P(Z<-0.5) = 0.8849 - 0.3085 = 0.5764\n",
    "\\end{align}\n",
    "\n",
    "Es decir, para la variable original $X$ se tiene que:\n",
    "\n",
    "\\begin{align}\n",
    "    P(45 < X < 62) = P(-0.5 < Z < 1.2) = 0.5764\n",
    "\\end{align}\n"
   ]
  },
  {
   "cell_type": "code",
   "execution_count": null,
   "id": "bfe03a87",
   "metadata": {},
   "outputs": [],
   "source": []
  }
 ],
 "metadata": {
  "celltoolbar": "Slideshow",
  "kernelspec": {
   "display_name": "Python 3 (ipykernel)",
   "language": "python",
   "name": "python3"
  },
  "language_info": {
   "codemirror_mode": {
    "name": "ipython",
    "version": 3
   },
   "file_extension": ".py",
   "mimetype": "text/x-python",
   "name": "python",
   "nbconvert_exporter": "python",
   "pygments_lexer": "ipython3",
   "version": "3.9.7"
  }
 },
 "nbformat": 4,
 "nbformat_minor": 5
}
