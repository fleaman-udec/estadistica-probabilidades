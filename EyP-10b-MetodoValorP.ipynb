{
 "cells": [
  {
   "cell_type": "markdown",
   "metadata": {
    "slideshow": {
     "slide_type": "slide"
    }
   },
   "source": [
    "# Módulo: Inferencia Estadística\n",
    "## T10b: Método del Valor P"
   ]
  },
  {
   "cell_type": "markdown",
   "metadata": {
    "slideshow": {
     "slide_type": "slide"
    }
   },
   "source": [
    "# Objetivos de la clase\n",
    "- Comprender el método del valor P\n",
    "- Aplicar este método al análisis de pruebas de hipótesis"
   ]
  },
  {
   "cell_type": "markdown",
   "metadata": {
    "slideshow": {
     "slide_type": "subslide"
    }
   },
   "source": [
    "## Prueba de hipótesis con probabilidad fija\n",
    "1. Se establecen hipótesis nula y alternativa\n",
    "2. Se elige nivel de significancia $\\alpha$ fijo\n",
    "3. Se selecciona estadístico de prueba y establece su región crítica\n",
    "4. Se rechaza $H_0$ si el estadístico de prueba está en la región crítica\n",
    "5. Se sacan conclusiones del análisis"
   ]
  },
  {
   "cell_type": "markdown",
   "metadata": {
    "slideshow": {
     "slide_type": "subslide"
    }
   },
   "source": [
    "**Ejemplo:** Suponga la siguiente prueba de dos colas:\n",
    "\n",
    "\\begin{align}\n",
    "H_0: \\mu = 10 \\\\\n",
    "H_1: \\mu \\neq 10\n",
    "\\end{align}\n",
    "\n",
    "Con un nivel de significancia $\\alpha$=0.05 y estadístico de prueba $z$ la región crítica es:\n",
    "\n",
    "\\begin{align}\n",
    "    z & > 1.96 &\n",
    "    \\text{o} & &\n",
    "    z & < -1.96\n",
    "\\end{align}\n",
    "\n",
    "donde 1.96 viene del valor $z_{0.025}$ de las tablas de distribución normal."
   ]
  },
  {
   "cell_type": "markdown",
   "metadata": {
    "slideshow": {
     "slide_type": "subslide"
    }
   },
   "source": [
    "Para un valor $z=1.87$, $H_0$ no se puede rechazar. Es decir, el valor $z$ obtenido no es significativo para descartar que $\\mu = 10$ con $\\alpha=0.05$.\n",
    "\n",
    "Sin embargo, el riesgo de rechazar equivocadamente $H_0$ es bajo, ya que $z=1.87$ está \"cerca\" de la región crítica.\n",
    "\n",
    "<br><center>\n",
    "    <img src=\"figures/p-norm.png\" width=\"600\"/>\n",
    "</center>"
   ]
  },
  {
   "cell_type": "markdown",
   "metadata": {
    "slideshow": {
     "slide_type": "subslide"
    }
   },
   "source": [
    "El riesgo (probabilidad) de cometer el error de tipo I sería:\n",
    "\n",
    "\\begin{align}\n",
    "    P = 2 P(Z>1.87) = 2 \\cdot 0.0307 = 0.0614\n",
    "\\end{align}\n",
    "\n",
    "\n",
    "Esa probabilidad (o valor P) corresponde al nivel de significancia más bajo con el que el valor del estadístico de prueba es significativo.\n",
    "\n",
    "Es decir, con $z=1.87$ podríamos rechazar $H_0$, pero con una significancia $P = 0.0614$."
   ]
  },
  {
   "cell_type": "markdown",
   "metadata": {
    "slideshow": {
     "slide_type": "slide"
    }
   },
   "source": [
    "## Método del valor P\n",
    "1. Se establecen hipótesis nula y alternativa\n",
    "2. Se selecciona estadístico de prueba adecuado\n",
    "4. Se calcula valor P en base a los valores del estadístico de prueba\n",
    "5. Se sacan conclusiones del análisis"
   ]
  },
  {
   "cell_type": "markdown",
   "metadata": {
    "slideshow": {
     "slide_type": "slide"
    }
   },
   "source": [
    "# Ejercicios"
   ]
  },
  {
   "cell_type": "markdown",
   "metadata": {
    "slideshow": {
     "slide_type": "slide"
    }
   },
   "source": [
    "**Ejercicio 1:** Se afirma que los vehículos de una empresa recorren más de 20000 km al año. Se toma una muestra aleatoria de 30 vehículos y se obtiene un promedio de 21000 km con desviación estándar 3900 km. ¿Se puede afirmar que en realidad los vehículos recorren más de 20000 km al año?\n",
    "\n",
    "La prueba de hipótesis unilateral es:\n",
    "\n",
    "\\begin{align}\n",
    "H_0: \\mu = \\mu_0 = 20000 \\\\\n",
    "H_1: \\mu > \\mu_0 = 20000\n",
    "\\end{align}\n",
    "\n",
    "Asumiendo una distribución normal del kilometraje, usamos el estadístico de prueba $t$ así:\n",
    "\n",
    "\\begin{align}\n",
    "    t = \\frac{ \\overline{x} - \\mu_0 }{ s / \\sqrt{n} } = \\frac{ 21000 - 20000 }{ 3900 / \\sqrt{30} } = 1.4\n",
    "\\end{align}\n",
    "\n",
    "En este caso el valor P será:\n",
    "\n",
    "\\begin{align}\n",
    "    P \\approx 0.1\n",
    "\\end{align}\n",
    "\n",
    "Es decir, al rechazar $H_0$ hay una probabilidad de 0.1 de cometer un error"
   ]
  },
  {
   "cell_type": "markdown",
   "metadata": {
    "slideshow": {
     "slide_type": "slide"
    }
   },
   "source": [
    "**Ejercicio 2:** Se toma una muestra de 50 temperaturas en diferentes puntos de un estanque y se obtiene una media de 98ºC. Asumiendo que la desviación estándar dentro del estanque es 5ºC, ¿se puede afirmar que la temperatura media del estanque es distinta de 100ºC?\n",
    "\n",
    "La prueba de hipótesis bilateral es:\n",
    "\n",
    "\\begin{align}\n",
    "H_0: \\mu = \\mu_0 = 100 \\\\\n",
    "H_1: \\mu \\neq \\mu_0 = 100\n",
    "\\end{align}\n",
    "\n",
    "Ya que se cumplen condiciones del TLC, usamos el estadístico de prueba $z$ así:\n",
    "\n",
    "\\begin{align}\n",
    "    z = \\frac{ \\overline{x} - \\mu_0 }{ \\sigma / \\sqrt{n} } = \\frac{ 98 - 100 }{ 5 / \\sqrt{50} } = -2.83\n",
    "\\end{align}\n",
    "\n",
    "En este caso el valor P será:\n",
    "\n",
    "\\begin{align}\n",
    "    P = 2 \\cdot P(z<-2.83) = 2 \\cdot 0.0023 = 0.0046\n",
    "\\end{align}\n",
    "\n",
    "Es decir, al rechazar $H_0$ hay una probabilidad de 0.0046 de cometer un error"
   ]
  },
  {
   "cell_type": "markdown",
   "metadata": {
    "slideshow": {
     "slide_type": "slide"
    }
   },
   "source": [
    "## Sumario\n",
    "- El método del valor P ofrece una manera de calcular la probabilidad de cometer un error al rechazar una hipótesis nula.\n",
    "- En vez de preestablecer un nivel de significancia, el valor P representa la mínima significancia con la que se puede rechazar la hipótesis nula."
   ]
  }
 ],
 "metadata": {
  "celltoolbar": "Slideshow",
  "kernelspec": {
   "display_name": "Python 3 (ipykernel)",
   "language": "python",
   "name": "python3"
  },
  "language_info": {
   "codemirror_mode": {
    "name": "ipython",
    "version": 3
   },
   "file_extension": ".py",
   "mimetype": "text/x-python",
   "name": "python",
   "nbconvert_exporter": "python",
   "pygments_lexer": "ipython3",
   "version": "3.9.7"
  }
 },
 "nbformat": 4,
 "nbformat_minor": 4
}
