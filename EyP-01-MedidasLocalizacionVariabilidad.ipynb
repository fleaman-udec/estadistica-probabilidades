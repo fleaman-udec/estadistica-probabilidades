{
 "cells": [
  {
   "cell_type": "markdown",
   "metadata": {
    "slideshow": {
     "slide_type": "slide"
    }
   },
   "source": [
    "# Módulo: Estadística Descriptiva\n",
    "## T1: Medidas de localización y variabilidad"
   ]
  },
  {
   "cell_type": "markdown",
   "metadata": {
    "slideshow": {
     "slide_type": "slide"
    }
   },
   "source": [
    "# Objetivos de la clase\n",
    "- Conocer medidas de localización y variabilidad de una muestra estadística.\n",
    "- Aprender definiciones matemáticas para el cálculo de estas medidas.\n",
    "- Comprender su interpretación en el análisis de datos."
   ]
  },
  {
   "cell_type": "markdown",
   "metadata": {
    "slideshow": {
     "slide_type": "slide"
    }
   },
   "source": [
    "# Medidas de la muestra y la población\n",
    "\n",
    "Las medidas estadísticas a estudiar corresponden a medidas sobre una muestra, las que no son directamente extrapolables a la población.\n",
    "\n",
    "<center>\n",
    "    <img src=\"figures/sample-popu-1.jpg\" width=\"500\"/>\n",
    "</center>\n",
    "\n",
    "Las medidas de la muestra se simbolizan con letras latinas, mientras que sobre la población se simbolizan con letras griegas."
   ]
  },
  {
   "cell_type": "markdown",
   "metadata": {
    "slideshow": {
     "slide_type": "slide"
    }
   },
   "source": [
    "# Medidas de localización"
   ]
  },
  {
   "cell_type": "markdown",
   "metadata": {
    "slideshow": {
     "slide_type": "slide"
    }
   },
   "source": [
    "## Definición y tipos\n",
    "\n",
    "Son valores que se caracterizan por la **posición** que ocupan dentro del rango de valores de la muestra. \n",
    "\n",
    "Entre ellos se distinguen:\n",
    "- Medidas de **tendencia central**: medias, moda y mediana.\n",
    "- Medidas de **posición no central**: cuantiles (cuartiles, quintiles, deciles, percentiles).\n",
    "\n",
    "<center>\n",
    "    <br><img src=\"figures/central-tend-1.jpg\" width=\"400\"/>\n",
    "</center>"
   ]
  },
  {
   "cell_type": "markdown",
   "metadata": {
    "slideshow": {
     "slide_type": "slide"
    }
   },
   "source": [
    "## Media de la muestra\n",
    "Es el promedio numérico y refleja la tendencia central de la muestra.\n",
    "\n",
    "\\begin{align}\n",
    "    \\bar{x} = \\sum_{i=1}^{n} \\frac{x_i}{n} = \\frac{x_1 + x_2 + ... + x_n}{n}\n",
    "\\end{align}\n"
   ]
  },
  {
   "cell_type": "code",
   "execution_count": 3,
   "metadata": {
    "slideshow": {
     "slide_type": "subslide"
    }
   },
   "outputs": [
    {
     "name": "stdout",
     "output_type": "stream",
     "text": [
      "la media es =  3.4\n"
     ]
    },
    {
     "data": {
      "image/png": "[encoded data removed]",
      "text/plain": [
       "<Figure size 432x288 with 1 Axes>"
      ]
     },
     "metadata": {
      "needs_background": "light"
     },
     "output_type": "display_data"
    }
   ],
   "source": [
    "import numpy as np\n",
    "import matplotlib.pyplot as plt\n",
    "\n",
    "x = np.array([2., 3., 5., 2., 9., 1., 5., 2., 1., 4.])\n",
    "print('la media es = ', np.mean(x))\n",
    "\n",
    "plt.plot(x, 'ko')\n",
    "plt.tick_params(axis='x', bottom=False, labelbottom=False), plt.ylabel('variable x')\n",
    "plt.axhline(y=np.mean(x), color='r', linestyle='--', label='media', linewidth=3), plt.legend()\n",
    "plt.show()"
   ]
  },
  {
   "cell_type": "markdown",
   "metadata": {
    "slideshow": {
     "slide_type": "slide"
    }
   },
   "source": [
    "## Mediana de la muestra\n",
    "Refleja tendencia central sin influencia de valores extremos\n",
    "\n",
    "\\begin{equation}\n",
    "  \\tilde{x} =\n",
    "    \\begin{cases}\n",
    "      x_{(n+1)/2} & \\text{si $n$ es impar}\\\\\n",
    "      \\tfrac{1}{2} \\left(x_{n/2} + x_{n/2+1} \\right) & \\text{si $n$ es par}\\\\\n",
    "    \\end{cases}       \n",
    "\\end{equation}\n",
    "\n",
    "Ejemplo:\n",
    "<center>\n",
    "    <img src=\"figures/median-1.png\" width=\"400\"/>\n",
    "</center>"
   ]
  },
  {
   "cell_type": "code",
   "execution_count": 5,
   "metadata": {
    "slideshow": {
     "slide_type": "subslide"
    }
   },
   "outputs": [
    {
     "name": "stdout",
     "output_type": "stream",
     "text": [
      "la mediana es =  2.5\n"
     ]
    },
    {
     "data": {
      "image/png": "[encoded data removed]",
      "text/plain": [
       "<Figure size 432x288 with 1 Axes>"
      ]
     },
     "metadata": {
      "needs_background": "light"
     },
     "output_type": "display_data"
    }
   ],
   "source": [
    "print('la mediana es = ', np.median(x))\n",
    "\n",
    "plt.plot(x, 'ko')\n",
    "plt.tick_params(axis='x', bottom=False, labelbottom=False), plt.ylabel('variable x')\n",
    "plt.axhline(y=np.median(x), color='b', linestyle='-.', label='mediana', linewidth=3)\n",
    "plt.axhline(y=np.mean(x), color='r', linestyle='--', label='media', linewidth=3), plt.legend()\n",
    "plt.show()"
   ]
  },
  {
   "cell_type": "markdown",
   "metadata": {
    "slideshow": {
     "slide_type": "slide"
    }
   },
   "source": [
    "## Moda de la muestra\n",
    "Corresponde al dato que más se repite en la muestra\n",
    "\n",
    "<center>\n",
    "    <br><img src=\"figures/mode-gif-1.gif\" width=\"500\"/>\n",
    "</center>"
   ]
  },
  {
   "cell_type": "code",
   "execution_count": 6,
   "metadata": {
    "scrolled": true,
    "slideshow": {
     "slide_type": "subslide"
    }
   },
   "outputs": [
    {
     "name": "stdout",
     "output_type": "stream",
     "text": [
      "la moda es =  [2.]\n"
     ]
    },
    {
     "data": {
      "image/png": "[encoded data removed]",
      "text/plain": [
       "<Figure size 432x288 with 1 Axes>"
      ]
     },
     "metadata": {
      "needs_background": "light"
     },
     "output_type": "display_data"
    }
   ],
   "source": [
    "from scipy import stats\n",
    "print('la moda es = ', stats.mode(x)[0])\n",
    "\n",
    "plt.plot(x, 'ko')\n",
    "plt.tick_params(axis='x', bottom=False, labelbottom=False), plt.ylabel('variable x')\n",
    "plt.axhline(y=np.median(x), color='b', linestyle='-.', label='mediana', linewidth=3)\n",
    "plt.axhline(y=np.mean(x), color='r', linestyle='--', label='media', linewidth=3)\n",
    "plt.axhline(y=stats.mode(x)[0], color='g', linestyle='--', label='moda', linewidth=3), plt.legend()\n",
    "plt.show()"
   ]
  },
  {
   "cell_type": "markdown",
   "metadata": {
    "slideshow": {
     "slide_type": "slide"
    }
   },
   "source": [
    "## Media ponderada de la muestra\n",
    "Es un promedio apropiado cuando cada dato en la muestra tiene una importancia relativa (o peso) respecto de los demás datos. \n",
    "\n",
    "Si $w_i$ son los pesos asignados a cada dato, entonces la media ponderada es:\n",
    "\n",
    "\\begin{align}\n",
    "    \\bar{x}_{w} =  \\frac{ \\sum_{i=1}^{n} w_{i} x_{i}}{ \\sum_{i=1}^{n} w_{i} } = \\frac{w_{1} x_1 + w_{2} x_2 + ... + w_{n} x_n}{ w_{1} + w_{2} + ... + w_{n}}\n",
    "\\end{align}"
   ]
  },
  {
   "cell_type": "code",
   "execution_count": 7,
   "metadata": {
    "slideshow": {
     "slide_type": "subslide"
    }
   },
   "outputs": [
    {
     "name": "stdout",
     "output_type": "stream",
     "text": [
      "la media es =  4.5 :)\n",
      "la media ponderada es =  3.87 :(\n"
     ]
    }
   ],
   "source": [
    "notas = np.array([6.2, 5.6, 5.2, 1.0])\n",
    "ponderaciones = np.array([0.25, 0.25, 0.1, 0.4])\n",
    "\n",
    "media_pond = np.dot(notas, ponderaciones) / np.sum(ponderaciones)\n",
    "media = np.mean(notas) \n",
    "print('la media es = ', media, ':)')\n",
    "print('la media ponderada es = ', media_pond, ':(')"
   ]
  },
  {
   "cell_type": "markdown",
   "metadata": {
    "slideshow": {
     "slide_type": "slide"
    }
   },
   "source": [
    "## Cuantiles de una muestra\n",
    "\n",
    "Corresponden a datos ubicados a intervalos regulares de la muestra.\n",
    "\n",
    "Cuantiles destacados son:\n",
    "- Cuartiles: muestra se divide en 4 partes\n",
    "- Quintiles: muestra se divide en 5 partes\n",
    "- Deciles: muestra se divide en 10 partes\n",
    "- Percentiles: muestra se divide en 100 partes"
   ]
  },
  {
   "cell_type": "markdown",
   "metadata": {
    "slideshow": {
     "slide_type": "subslide"
    }
   },
   "source": [
    "**Método de medianas sucesivas para cálculo de cuartiles**\n",
    "\n",
    "Se determina la mediana de la muestra y luego se determinan las medianas de las 2 mitades respectivas\n",
    "\n",
    "<center>\n",
    "    <img src=\"figures/quartile-1.png\" width=\"600\"/>\n",
    "</center>"
   ]
  },
  {
   "cell_type": "markdown",
   "metadata": {
    "slideshow": {
     "slide_type": "subslide"
    }
   },
   "source": [
    "Si la cantidad de datos es par, se utiliza la misma regla para el cálculo de la mediana.\n",
    "\n",
    "<center>\n",
    "    <img src=\"figures/quartile-2.png\" width=\"600\"/>\n",
    "</center>\n",
    "\n",
    "El último dato de la muestra es el cuartil 4."
   ]
  },
  {
   "cell_type": "code",
   "execution_count": 8,
   "metadata": {
    "slideshow": {
     "slide_type": "subslide"
    }
   },
   "outputs": [
    {
     "name": "stderr",
     "output_type": "stream",
     "text": [
      "<ipython-input-8-f79251cd43fc>:4: DeprecationWarning: the `interpolation=` argument to quantile was renamed to `method=`, which has additional options.\n",
      "Users of the modes 'nearest', 'lower', 'higher', or 'midpoint' are encouraged to review the method they used. (Deprecated NumPy 1.22)\n",
      "  plt.axhline(y=np.quantile(y, 0.25, interpolation='linear'), color='orange', linestyle='-.', label='cuartil 1', linewidth=3)\n",
      "<ipython-input-8-f79251cd43fc>:5: DeprecationWarning: the `interpolation=` argument to quantile was renamed to `method=`, which has additional options.\n",
      "Users of the modes 'nearest', 'lower', 'higher', or 'midpoint' are encouraged to review the method they used. (Deprecated NumPy 1.22)\n",
      "  plt.axhline(y=np.quantile(y, 0.5, interpolation='linear'), color='magenta', linestyle='--', label='cuartil 2', linewidth=3)\n",
      "<ipython-input-8-f79251cd43fc>:6: DeprecationWarning: the `interpolation=` argument to quantile was renamed to `method=`, which has additional options.\n",
      "Users of the modes 'nearest', 'lower', 'higher', or 'midpoint' are encouraged to review the method they used. (Deprecated NumPy 1.22)\n",
      "  plt.axhline(y=np.quantile(y, 0.75, interpolation='linear'), color='cyan', linestyle='--', label='cuartil 3', linewidth=3)\n"
     ]
    },
    {
     "data": {
      "image/png": "[encoded data removed]",
      "text/plain": [
       "<Figure size 432x288 with 1 Axes>"
      ]
     },
     "metadata": {
      "needs_background": "light"
     },
     "output_type": "display_data"
    }
   ],
   "source": [
    "y = np.array([1.1, 8.3, 2.8, 3.7, 1.8, 5.3, 6.8, 7.0, 1.9, 9.0, 8.3, 2.2])\n",
    "plt.plot(y, 'gs')\n",
    "plt.tick_params(axis='x', bottom=False, labelbottom=False), plt.ylabel('variable y')\n",
    "plt.axhline(y=np.quantile(y, 0.25, interpolation='linear'), color='orange', linestyle='-.', label='cuartil 1', linewidth=3)\n",
    "plt.axhline(y=np.quantile(y, 0.5, interpolation='linear'), color='magenta', linestyle='--', label='cuartil 2', linewidth=3)\n",
    "plt.axhline(y=np.quantile(y, 0.75, interpolation='linear'), color='cyan', linestyle='--', label='cuartil 3', linewidth=3)\n",
    "plt.legend()\n",
    "plt.show()"
   ]
  },
  {
   "cell_type": "markdown",
   "metadata": {
    "slideshow": {
     "slide_type": "slide"
    }
   },
   "source": [
    "# Medidas de variabilidad"
   ]
  },
  {
   "cell_type": "markdown",
   "metadata": {
    "slideshow": {
     "slide_type": "slide"
    }
   },
   "source": [
    "## Definición\n",
    "\n",
    "La **variabilidad** de procesos y productos en sistemas de ingeniería es un hecho que siempre debe ser considerado.\n",
    "\n",
    "<center>\n",
    "    <br><img src=\"figures/varab-1.jpg\" width=\"400\"/>\n",
    "</center>\n",
    "\n",
    "Junto a las medidas de localización, las **medidas de variabilidad** son una parte fundamental del análisis de datos.\n"
   ]
  },
  {
   "cell_type": "markdown",
   "metadata": {
    "slideshow": {
     "slide_type": "slide"
    }
   },
   "source": [
    "## Rango de una muestra\n",
    "\n",
    "Corresponde a la diferencia entre el valor máximo y mínimo de una muestra.\n",
    "\n",
    "\\begin{align}\n",
    "    R = x_{max} - x_{min}\n",
    "\\end{align}"
   ]
  },
  {
   "cell_type": "markdown",
   "metadata": {
    "slideshow": {
     "slide_type": "slide"
    }
   },
   "source": [
    "## Rango intercuartílico\n",
    "\n",
    "Corresponde a la diferencia entre el primer y tercer cuartil de una muestra.\n",
    "\n",
    "\\begin{align}\n",
    "    R_{Q} = Q_{3} - Q_{1}\n",
    "\\end{align}"
   ]
  },
  {
   "cell_type": "markdown",
   "metadata": {
    "slideshow": {
     "slide_type": "slide"
    }
   },
   "source": [
    "## Varianza de la muestra\n",
    "\n",
    "Expresa la desviación cuadrática promedio de la muestra respecto de la media.\n",
    "\n",
    "\\begin{align}\n",
    "    S^{2} = \\sum_{i=1}^{n} \\frac{ (x_{i} - \\bar{x})^{2} }{n-1}\n",
    "\\end{align}\n",
    "\n",
    "Al usar el denominador $(n-1)$ en vez de $n$ se obtiene la llamada varianza de la muestra corregida (o no sesgada)."
   ]
  },
  {
   "cell_type": "markdown",
   "metadata": {
    "slideshow": {
     "slide_type": "slide"
    }
   },
   "source": [
    "## Desviación estándar de la muestra\n",
    "\n",
    "Corresponde a la raiz cuadrada de la varianza.\n",
    "\n",
    "\\begin{align}\n",
    "    S = \\sqrt{ S^{2}} = \\sqrt{ \\sum_{i=1}^{n} \\frac{ (x_{i} - \\bar{x})^{2} }{n-1} }\n",
    "\\end{align}\n",
    "\n",
    "Tiene las mismas unidades de medida que los datos de la muestra."
   ]
  },
  {
   "cell_type": "code",
   "execution_count": 9,
   "metadata": {
    "slideshow": {
     "slide_type": "slide"
    }
   },
   "outputs": [
    {
     "data": {
      "image/png": "[encoded data removed]",
      "text/plain": [
       "<Figure size 432x288 with 1 Axes>"
      ]
     },
     "metadata": {
      "needs_background": "light"
     },
     "output_type": "display_data"
    },
    {
     "name": "stdout",
     "output_type": "stream",
     "text": [
      "el rango es =  7.9\n",
      "el rango intercuartil es =  5.2\n",
      "la varianza es =  7.855833333333336\n",
      "la desviación estándar es =  2.8028259548772083\n"
     ]
    }
   ],
   "source": [
    "plt.plot(y, 'gs')\n",
    "plt.tick_params(axis='x', bottom=False, labelbottom=False), plt.ylabel('variable y')\n",
    "plt.axhline(y=np.mean(y), color='r', linestyle='--', label='media', linewidth=3)\n",
    "plt.legend(), plt.show()\n",
    "print('el rango es = ', np.max(y) - np.min(y))\n",
    "print('el rango intercuartil es = ', np.quantile(y, 0.75) - np.quantile(y, 0.25))\n",
    "print('la varianza es = ', np.var(y))\n",
    "print('la desviación estándar es = ', np.std(y))"
   ]
  },
  {
   "cell_type": "code",
   "execution_count": 10,
   "metadata": {
    "slideshow": {
     "slide_type": "subslide"
    }
   },
   "outputs": [
    {
     "data": {
      "image/png": "[encoded data removed]",
      "text/plain": [
       "<Figure size 432x288 with 1 Axes>"
      ]
     },
     "metadata": {
      "needs_background": "light"
     },
     "output_type": "display_data"
    },
    {
     "name": "stdout",
     "output_type": "stream",
     "text": [
      "el rango es =  7.9\n",
      "el rango intercuartil es =  2.3000000000000003\n",
      "la varianza es =  3.6447222222222226\n",
      "la desviación estándar es =  1.909115560206407\n"
     ]
    }
   ],
   "source": [
    "z = np.array([1.1, 6.3, 3.8, 3.7, 4.8, 5.3, 6.8, 6.0, 4.9, 9.0, 5.3, 3.2])\n",
    "plt.plot(z, 'mp')\n",
    "plt.tick_params(axis='x', bottom=False, labelbottom=False), plt.ylabel('variable z')\n",
    "plt.axhline(y=np.mean(z), color='r', linestyle='--', label='media', linewidth=3)\n",
    "plt.legend(), plt.show()\n",
    "print('el rango es = ', np.max(z) - np.min(z))\n",
    "print('el rango intercuartil es = ', np.quantile(z, 0.75) - np.quantile(z, 0.25))\n",
    "print('la varianza es = ', np.var(z))\n",
    "print('la desviación estándar es = ', np.std(z))"
   ]
  },
  {
   "cell_type": "markdown",
   "metadata": {
    "slideshow": {
     "slide_type": "slide"
    }
   },
   "source": [
    "# Otras medidas descriptivas"
   ]
  },
  {
   "cell_type": "markdown",
   "metadata": {
    "slideshow": {
     "slide_type": "slide"
    }
   },
   "source": [
    "## Factor de asimetría de la muestra (skewness)\n",
    "\n",
    "Es una medida de la asimetría en los datos de la muestra respecto de la media\n",
    "\n",
    "\\begin{align}\n",
    "    \\text{Skew}(x) =  \\frac{ \\tfrac{1}{n} \\sum_{i=1}^{n} (x_{i} - \\bar{x})^{3} }{ \\left[ \\tfrac{1}{n} \\sum_{i=1}^{n} (x_{i} - \\bar{x})^{2} \\right]^{3/2} }\n",
    "\\end{align}\n"
   ]
  },
  {
   "cell_type": "code",
   "execution_count": 11,
   "metadata": {
    "slideshow": {
     "slide_type": "subslide"
    }
   },
   "outputs": [
    {
     "data": {
      "image/png": "[encoded data removed]",
      "text/plain": [
       "<Figure size 432x288 with 1 Axes>"
      ]
     },
     "metadata": {
      "needs_background": "light"
     },
     "output_type": "display_data"
    },
    {
     "name": "stdout",
     "output_type": "stream",
     "text": [
      "x1: promedio =  6.0 , asimetría =   0.0\n",
      "x2: promedio =  6.090909090909091 , asimetría =   -0.7590456139550342\n"
     ]
    }
   ],
   "source": [
    "x1 = np.array([1, 2, 3, 4, 5, 6, 7, 8, 9, 10, 11])\n",
    "x2 = np.array([1, 2, 6, 7, 8, 6, 7, 6, 10, 8, 6])\n",
    "#x1 = np.array([1, 2, 1, 3, 2, 1, 2, 1, 3, 9, 8])\n",
    "\n",
    "plt.plot(x1, 'sr', markersize=12, label='x1'), plt.plot(x2, 'ob', label='x2')\n",
    "plt.tick_params(axis='x', bottom=False, labelbottom=False), plt.ylabel('variable x')\n",
    "plt.legend(), plt.show()\n",
    "\n",
    "print('x1: promedio = ', np.mean(x1), ', asimetría =  ', stats.skew(x1))\n",
    "print('x2: promedio = ', np.mean(x2), ', asimetría =  ', stats.skew(x2))"
   ]
  },
  {
   "cell_type": "markdown",
   "metadata": {
    "slideshow": {
     "slide_type": "slide"
    }
   },
   "source": [
    "## Curtosis de la muestra (kurtosis)\n",
    "\n",
    "Es una medida de la presencia de datos extremos o atípicos en la muestra\n",
    "\n",
    "\\begin{align}\n",
    "    \\text{Kurt}(x) =  \\frac{ \\tfrac{1}{n} \\sum_{i=1}^{n} (x_{i} - \\bar{x})^{4} }{ \\left[ \\tfrac{1}{n} \\sum_{i=1}^{n} (x_{i} - \\bar{x})^{2} \\right]^{2} } - 3\n",
    "\\end{align}"
   ]
  },
  {
   "cell_type": "code",
   "execution_count": 12,
   "metadata": {
    "slideshow": {
     "slide_type": "subslide"
    }
   },
   "outputs": [
    {
     "data": {
      "image/png": "[encoded data removed]",
      "text/plain": [
       "<Figure size 432x288 with 1 Axes>"
      ]
     },
     "metadata": {
      "needs_background": "light"
     },
     "output_type": "display_data"
    },
    {
     "name": "stdout",
     "output_type": "stream",
     "text": [
      "x3: des. estandar =  1.6762808104168887  kurtosis =  -1.0343944636678202\n",
      "x4: des. estandar =  3.6522380775637573  kurtosis =  3.251846068093771\n"
     ]
    }
   ],
   "source": [
    "x3 = np.array([6, 7, 4, 8, 8, 6, 3, 7, 4, 8, 6])\n",
    "x4 = np.array([5, 4, 5, 7, 8, 6, 7, 7, 18, 10, 6])\n",
    "\n",
    "plt.plot(x3, 'sg', markersize=12, label='x3'), plt.plot(x4, 'om', label='x4')\n",
    "plt.tick_params(axis='x', bottom=False, labelbottom=False), plt.ylabel('variable x')\n",
    "plt.legend(), plt.show()\n",
    "\n",
    "print('x3: des. estandar = ', np.std(x3), ' kurtosis = ', stats.kurtosis(x3, fisher=True))\n",
    "print('x4: des. estandar = ', np.std(x4), ' kurtosis = ', stats.kurtosis(x4, fisher=True))"
   ]
  },
  {
   "cell_type": "markdown",
   "metadata": {
    "slideshow": {
     "slide_type": "slide"
    }
   },
   "source": [
    "# Sumario\n",
    "\n",
    "- Las medidas de localización, y en particular las de tendencia central, son indicadores estadísticos que ayudan a resumir los datos de una muestra.\n",
    "- Estas se contrastan con las medidas de variabilidad, que indican resumidamente cuánto y cómo los datos se alejan de la tendencia central."
   ]
  }
 ],
 "metadata": {
  "celltoolbar": "Slideshow",
  "kernelspec": {
   "display_name": "Python 3",
   "language": "python",
   "name": "python3"
  },
  "language_info": {
   "codemirror_mode": {
    "name": "ipython",
    "version": 3
   },
   "file_extension": ".py",
   "mimetype": "text/x-python",
   "name": "python",
   "nbconvert_exporter": "python",
   "pygments_lexer": "ipython3",
   "version": "3.8.5"
  }
 },
 "nbformat": 4,
 "nbformat_minor": 5
}
