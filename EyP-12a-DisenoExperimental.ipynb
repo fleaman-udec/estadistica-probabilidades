{
 "cells": [
  {
   "cell_type": "markdown",
   "id": "cc0237ce",
   "metadata": {
    "slideshow": {
     "slide_type": "slide"
    }
   },
   "source": [
    "# Módulo: Diseño Experimental\n",
    "## T12a: Fundamentos y pruebas sobre experimentos"
   ]
  },
  {
   "cell_type": "markdown",
   "id": "75b8150a",
   "metadata": {
    "slideshow": {
     "slide_type": "slide"
    }
   },
   "source": [
    "# Objetivos de la clase\n",
    "- Conocer algunas definiciones y principios fundamentales del diseño de experimentos\n",
    "- Aprender algunas técnicas para verificar la validez de resultados experimentales."
   ]
  },
  {
   "cell_type": "markdown",
   "id": "9f8d0cef",
   "metadata": {
    "slideshow": {
     "slide_type": "slide"
    }
   },
   "source": [
    "# Conceptos fundamentales\n"
   ]
  },
  {
   "cell_type": "markdown",
   "id": "7a17efcb",
   "metadata": {
    "slideshow": {
     "slide_type": "slide"
    }
   },
   "source": [
    "## Definiciones\n",
    "\n",
    "<br><dl>\n",
    "<dt>Experimento</dt>\n",
    "<dd>Observación de un fenómeno o variable respuesta bajo determinadas condiciones </dd>\n",
    "<dt>Objetivo del experimento</dt>\n",
    "<dd>Aprendizaje por medio de la observación como complemento al aprendizaje teórico</dd>\n",
    "<dt>Análisis estadístico</dt>\n",
    "<dd>Determina qué variables o factores influyen en la variable respuesta </dd>\n",
    "</dl>"
   ]
  },
  {
   "cell_type": "markdown",
   "id": "df2ae7c7",
   "metadata": {
    "slideshow": {
     "slide_type": "subslide"
    }
   },
   "source": [
    "En un **diseño experimental** se manipula intencionalmente los valores o **niveles** de los **factores** (variable independiente) y se observa cómo cambia la variable respuesta (variable dependiente).\n",
    "\n",
    "<center>\n",
    "    <img src=\"figures/expd-1.png\" width=\"500\"/>\n",
    "</center>\n",
    "\n",
    "Un **tratamiento** corresponde a cada uno de los niveles de un factor que se le aplica a una **unidad experimental** para estudiar su influencia"
   ]
  },
  {
   "cell_type": "markdown",
   "id": "526cf8c9",
   "metadata": {
    "slideshow": {
     "slide_type": "subslide"
    }
   },
   "source": [
    "**Ejemplo**: Aplicación de tratamientos a los pasteles (unidades experimentales)\n",
    "\n",
    "&#10148; Efecto de añadir o no azúcar\n",
    "- Hay un solo factor o tratamiento (con o sin azúcar)\n",
    "- Se requieren 2 grupos de unidades experimentales para estudiar la influencia.\n",
    "- A un grupo se le aplica el tratamiento y a otro no\n",
    "\n",
    "&#10148; Efecto de añadir 1, 2 o 3 huevos\n",
    "- Hay un solo factor (huevo) con 3 niveles o tratamientos (1, 2 o 3)\n",
    "- Se requieren 3 grupos de unidades experimentales para estudiar la influencia.\n",
    "- A cada grupo se le aplica uno de los tratamientos (cantidad de huevos)\n",
    "\n"
   ]
  },
  {
   "cell_type": "markdown",
   "id": "ccbb4896",
   "metadata": {
    "slideshow": {
     "slide_type": "slide"
    }
   },
   "source": [
    "## Clasificación de experimentos\n",
    "\n",
    "<br><dl>\n",
    "<dt>Selección de factores</dt>\n",
    "<dd>A partir de un gran número de factores, se busca encontrar los que más influyen en la variable respuesta </dd>\n",
    "<dt>Comparación de tratamientos</dt>\n",
    "<dd>Se busca detectar diferencias entre distintos valores o niveles de uno o más factores</dd>\n",
    "<dt>Superficies de respuesta</dt>\n",
    "<dd>Se determina cómo o en qué grado un factor influye en la variable respuesta </dd>\n",
    "</dl>"
   ]
  },
  {
   "cell_type": "markdown",
   "id": "735dad00",
   "metadata": {
    "slideshow": {
     "slide_type": "subslide"
    }
   },
   "source": [
    "<center>\n",
    "    <img src=\"figures/expd-2.png\" width=\"700\"/>\n",
    "</center>"
   ]
  },
  {
   "cell_type": "markdown",
   "id": "9baff165",
   "metadata": {
    "slideshow": {
     "slide_type": "slide"
    }
   },
   "source": [
    "## Ejecución de un experimento\n",
    "\n",
    "Se busca identificar una relación causa-efecto entre uno o más factores y la variable respuesta.\n",
    "\n",
    "<center>\n",
    "    <img src=\"figures/expd-3.jpg\" width=\"500\"/>\n",
    "</center>\n",
    "\n",
    "Idealmente, todos los otros factores (salvo el que está bajo estudio) deben permanecer constantes o controlados durante el experimento.\n",
    "\n",
    "Mientras mejor pueda cumplirse esto, mejor será la calidad del experimento."
   ]
  },
  {
   "cell_type": "markdown",
   "id": "436383a0",
   "metadata": {
    "slideshow": {
     "slide_type": "subslide"
    }
   },
   "source": [
    "**Dos principios fundamentales:**\n",
    "\n",
    "**Replicación:** corresponde a aplicar el mismo tratamiento a unidades experimentales diferentes. Unidad experimental se refiere al sujeto de estudio.\n",
    "\n",
    "*Ejemplo*: aplicar el mismo medicamento a distintas personas para ver su eficacia.\n",
    "\n",
    "**Aleatorización:** se refiere a aplicar aleatoriamente los tratamientos a distintas unidades experimentales.\n",
    "\n",
    "*Ejemplo*: cuáles personas reciben qué medicamento se define al azar."
   ]
  },
  {
   "cell_type": "markdown",
   "id": "7df0d289",
   "metadata": {
    "slideshow": {
     "slide_type": "slide"
    }
   },
   "source": [
    "# Pruebas sobre dos medias"
   ]
  },
  {
   "cell_type": "markdown",
   "id": "3c77ffb6",
   "metadata": {
    "slideshow": {
     "slide_type": "slide"
    }
   },
   "source": [
    "## Un tratamiento y dos muestras\n",
    "\n",
    "**Ejemplo**: Se estudia la capacidad de un medicamento para aumentar el nivel de plaquetas en la sangre. Se tienen dos muestras de personas aleatorias y se le aplica el medicamento (tratamiento) a una de ellas. Se registran los niveles de plaquetas luego de esto.\n",
    "\n",
    "<center>\n",
    "    <img src=\"figures/tab-med-1.png\" width=\"500\"/>\n",
    "</center>\n",
    "\n",
    "¿Se puede concluir que efectivamente el medicamento es efectivo en aumentar el nivel de plaquetas?"
   ]
  },
  {
   "cell_type": "markdown",
   "id": "0765c42c",
   "metadata": {
    "slideshow": {
     "slide_type": "subslide"
    }
   },
   "source": [
    "## Varianzas conocidas\n",
    "\n",
    "Si las varianzas (poblacionales) de cada grupo son conocidas y aplican las condiciones del TLC, el estadístico de prueba para $H_0: \\mu_1 = \\mu_2$ es:\n",
    "\n",
    "\\begin{align}\n",
    "    z = \\frac{  \\overline{x}_1 - \\overline{x}_2  }{ \\sqrt{ \\sigma_1^2 / n_1 + \\sigma_2^2 / n_2} }\n",
    "\\end{align}\n",
    "\n",
    "que tiene distribución normal.\n",
    "\n",
    "La prueba alternativa bilateral $H_1: \\mu_1 \\neq \\mu_2$ se rechaza si $z > z_{\\alpha /2}$ o $z < -z_{\\alpha /2}$, donde $\\alpha$ es el nivel de significancia\n",
    "\n",
    "Para el caso unilateral se debe comparar $z$ con $z_{\\alpha}$ según corresponda"
   ]
  },
  {
   "cell_type": "markdown",
   "id": "b173d12a",
   "metadata": {
    "slideshow": {
     "slide_type": "subslide"
    }
   },
   "source": [
    "## Varianzas desconocidas\n",
    "\n",
    "Si las varianzas (poblacionales) de cada grupo son desconocidas y la población es normal, el estadístico de prueba para $H_0: \\mu_1 = \\mu_2$ es:\n",
    "\n",
    "\\begin{align}\n",
    "    t = \\frac{  \\overline{x}_1 - \\overline{x}_2  }{ \\sqrt{ s_1^2 / n_1 + s_2^2 / n_2} }\n",
    "\\end{align}\n",
    "\n",
    "que tiene distribución $t$ con $\\nu$ grados de libertad\n",
    "\n",
    "\\begin{align}\n",
    "    \\nu = \\frac{  (s_1^2 / n_1 + s_2^2 / n_2)^2  }{ (s_1^2 / n_1)^2/(n_1-1) + (s_2^2 / n_2)^2/(n_2-1) }\n",
    "\\end{align}\n",
    "\n",
    "La prueba alternativa bilateral $H_1: \\mu_1 \\neq \\mu_2$ se rechaza si $t > t_{\\alpha /2}$ o $t < -t_{\\alpha /2}$. Para el caso unilateral se debe comparar $t$ con $t_{\\alpha}$ según corresponda"
   ]
  },
  {
   "cell_type": "markdown",
   "id": "95d5808e",
   "metadata": {
    "slideshow": {
     "slide_type": "subslide"
    }
   },
   "source": [
    "**Ejemplo**: Para el caso del medicamento para las plaquetas calculamos el estadístico de prueba $t$ como sigue:\n",
    "\n",
    "\\begin{align}\n",
    "    t = \\frac{  149.8 - 154  }{ \\sqrt{ 1.48^2 / 5 + 5.24^2 / 5} } = -1.72\n",
    "\\end{align}\n",
    "\n",
    "Para comprobar que el promedio con medicamento es mayor, planteamos $H_1: \\mu_1 < \\mu_2$. Los grados de libertad $\\nu$ son: \n",
    "\n",
    "\\begin{align}\n",
    "    \\nu = \\frac{  (1.48^2 / 5 + 5.24^2 / 5)^2  }{ (1.48^2 / 5)^2/4 + (5.24^2 / 5)^2/4 } = 4.6 \\approx 5\n",
    "\\end{align}\n",
    " \n",
    "Suponiendo $\\alpha = 0.05$, el valor crítico para la cola izquierda es: $-t_{\\alpha} = -2.015$. Es decir, no se puede rechazar que los promedios sean iguales.\n",
    "\n",
    "En este caso resulta un valor $P \\approx 0.073$"
   ]
  },
  {
   "cell_type": "markdown",
   "id": "0313c4a6",
   "metadata": {
    "slideshow": {
     "slide_type": "slide"
    }
   },
   "source": [
    "# Prueba sobre una recta de regresión"
   ]
  },
  {
   "cell_type": "markdown",
   "id": "17ca5294",
   "metadata": {
    "slideshow": {
     "slide_type": "slide"
    }
   },
   "source": [
    "Suponemos que intentamos explicar el comportamiento de la variable dependiente $y$ con respecto a la variable independiente  $x$ mediante una regresión lineal. En este caso tenemos que: $\\hat{y} = b_0 + b_1 x$\n",
    "\n",
    "**Ejemplo**: se prueban distintos contenidos de cromo en una aleación de acero para ver su influencia en la resistencia a la corrosión.\n",
    "\n",
    "<center>\n",
    "    <img src=\"figures/expd-5.png\" width=\"500\"/>\n",
    "</center>\n",
    "\n",
    "De acuerdo a estos datos, ¿influye efectivamente el cromo en la resistencia a la corrosión o el comportamiento observado se debe al azar?"
   ]
  },
  {
   "cell_type": "markdown",
   "id": "0d587150",
   "metadata": {
    "slideshow": {
     "slide_type": "subslide"
    }
   },
   "source": [
    "Se puede demostrar que:\n",
    "\n",
    "\\begin{align}\n",
    "    \\sum_{i=1}^{n} (y_i - \\overline{y})^2 = \\sum_{i=1}^{n} (\\hat{y}_i - \\overline{y})^2 + \\sum_{i=1}^{n} (y_i - \\hat{y}_i)^2\n",
    "\\end{align}\n",
    "\n",
    "\\begin{align}\n",
    "    STCC = SCR + SCE\n",
    "\\end{align}\n",
    "\n",
    "Es decir, la suma total de los cuadrados corregida (STCC) se puede expresar como la suma de los cuadrados de la regresión (SCR) más la suma de los cuadrados del error (SCE).\n",
    "\n",
    "Interpretación: \"*la varianza de los datos se puede explicar por una componente sistemática que se puede explicar con el modelo de regresión y por una componente aleatoria que no se puede explicar con el modelo de regresión*\""
   ]
  },
  {
   "cell_type": "markdown",
   "id": "378e26d1",
   "metadata": {
    "slideshow": {
     "slide_type": "subslide"
    }
   },
   "source": [
    "En el **ejemplo**, para demostrar que efectivamente el contenido de cromo (factor) tiene influencia en la resistencia a la corrosión (variable respuesta) y que los resultados no se deben solo al azar se debe probar la hipótesis:\n",
    "\n",
    "\\begin{equation}\n",
    "H_0: \\beta_1 = 0 \\\\\n",
    "H_1: \\beta_1 \\neq 0\n",
    "\\end{equation}\n",
    "\n",
    "Es decir, la hipótesis nula indica que la variable respuesta no depende del factor en estudio:\n",
    "\n",
    "\\begin{equation}\n",
    "H_0: y = \\beta_0 + \\epsilon \\\\\n",
    "H_1: y \\neq \\beta_0 + \\epsilon\n",
    "\\end{equation}"
   ]
  },
  {
   "cell_type": "markdown",
   "id": "b4c01a82",
   "metadata": {
    "slideshow": {
     "slide_type": "subslide"
    }
   },
   "source": [
    "La hipótesis anterior se puede rechazar cuando el estadístico de prueba:\n",
    "\n",
    "\\begin{equation}\n",
    "    f = \\frac{SCR}{SCE/(n-2)} = \\frac{SCR}{s^2}\n",
    "\\end{equation}\n",
    "\n",
    "es mayor al valor crítico $f_\\alpha (1, n-2)$ para el nivel de significancia $\\alpha$. \n",
    "\n",
    "El valor crítico $f_\\alpha (1, n-2)$ se obtiene desde las tablas de la distribución $F$ para 1 y $(n-2)$ grados de libertad, respectivamente.\n",
    "\n",
    "Al rechazar $H_0$ se concluye que una parte significativa de la variación en la respuesta se justifica por el modelo de regresión lineal."
   ]
  },
  {
   "cell_type": "markdown",
   "id": "35d2b7de",
   "metadata": {
    "slideshow": {
     "slide_type": "subslide"
    }
   },
   "source": [
    "Supongamos los siguientes datos del **ejemplo** del cromo y la corrosión:\n",
    "\n",
    "<center>\n",
    "    <img src=\"figures/tab-regre-inf.png\" width=\"500\"/>\n",
    "</center>\n",
    "\n",
    "En este caso resulta: $SCR = 207.90$, $SCE = 33.84$ y $n=7$.\n",
    "\n",
    "El estadístico de prueba resulta ser: $f = 30.72$"
   ]
  },
  {
   "cell_type": "markdown",
   "id": "5d959808",
   "metadata": {
    "slideshow": {
     "slide_type": "subslide"
    }
   },
   "source": [
    "Suponiendo un nivel de significancia $\\alpha = 0.05$ buscamos en las tablas el valor crítico $f_{0.05}(1, 5)$\n",
    "\n",
    "<center>\n",
    "    <img src=\"figures/distr-f-regre.png\" width=\"1000\"/>\n",
    "</center>\n",
    "\n",
    "Como $f = 30.72 > f_{\\alpha} = 6.61$ podemos rechazar $H_0: \\beta_1 = 0$ a favor de $H_1: \\beta_1 \\neq 0$\n",
    "\n",
    "Es decir, efectivamente la variabilidad de la resistencia a la corrosión se explica en parte por la variabilidad del contenido de cromo."
   ]
  },
  {
   "cell_type": "markdown",
   "id": "a4f3243d",
   "metadata": {
    "slideshow": {
     "slide_type": "slide"
    }
   },
   "source": [
    "# Sumario\n",
    "- Los experimentos para aprender sobre un fenómeno deben ejecutarse de forma correcta y el análisis estadístico debe verificar que los resultados obtenidos sean significativos.\n",
    "- Las pruebas estadísticas son técnicas que permiten cuantificar la significancia de los resultados. \n",
    "- La prueba t entre dos muestras permite determinar si hay diferencia significativa entre dos medias de dos poblaciones (o dos tratamientos).\n",
    "- La prueba de la pendiente de regresión permite determinar la influencia lineal de una variable independiente en otra dependiente."
   ]
  }
 ],
 "metadata": {
  "celltoolbar": "Slideshow",
  "kernelspec": {
   "display_name": "Python 3 (ipykernel)",
   "language": "python",
   "name": "python3"
  },
  "language_info": {
   "codemirror_mode": {
    "name": "ipython",
    "version": 3
   },
   "file_extension": ".py",
   "mimetype": "text/x-python",
   "name": "python",
   "nbconvert_exporter": "python",
   "pygments_lexer": "ipython3",
   "version": "3.9.7"
  }
 },
 "nbformat": 4,
 "nbformat_minor": 5
}
