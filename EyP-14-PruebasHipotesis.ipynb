{
 "cells": [
  {
   "cell_type": "markdown",
   "id": "e8e9c5e8",
   "metadata": {
    "slideshow": {
     "slide_type": "slide"
    }
   },
   "source": [
    "# Módulo: Inferencia Estadística\n",
    "## Pruebas de hipótesis"
   ]
  },
  {
   "cell_type": "markdown",
   "id": "9b0d37e7",
   "metadata": {
    "slideshow": {
     "slide_type": "slide"
    }
   },
   "source": [
    "# Objetivos de la clase\n",
    "- Objetivos 1\n",
    "- Objetivos 1\n",
    "- Objetivos 1\n"
   ]
  },
  {
   "cell_type": "markdown",
   "id": "9ef8b77e",
   "metadata": {
    "slideshow": {
     "slide_type": "slide"
    }
   },
   "source": [
    "# Introducción\n"
   ]
  },
  {
   "cell_type": "markdown",
   "id": "6592e41f",
   "metadata": {
    "slideshow": {
     "slide_type": "slide"
    }
   },
   "source": [
    "Una **hipótesis estadística** es una aseveración o conjetura respecto de una o más poblaciones.\n",
    "\n",
    "La verdad o falsedad de la hipótesis nunca se sabe con absoluta certeza, ya que es muy difícil analizar a toda la población.\n",
    "\n",
    "En cambio, solo se analiza una muestra aleatoria. Esto lleva a que el aceptar o rechazar una hipótesis ocurra con cierto grado de probabilidad."
   ]
  },
  {
   "cell_type": "markdown",
   "id": "0336d743",
   "metadata": {
    "slideshow": {
     "slide_type": "slide"
    }
   },
   "source": [
    "Si la evidencia de la muestra es inconsistente con la hipótesis, entonces la hipótesis se rechaza.\n",
    "\n",
    "Este rechazo solo deja una pequeña probabilidad que la hipótesis sea verdadera.\n",
    "\n",
    "Ya que es más sencillo encontrar evidencia en contra de algo que a favor de algo, generalmente las conclusiones de las hipótesis son firmes cuando se rechaza una hipótesis"
   ]
  },
  {
   "cell_type": "markdown",
   "id": "adc9db1a",
   "metadata": {
    "slideshow": {
     "slide_type": "slide"
    }
   },
   "source": [
    "Esto lleva a que la formulación de la hipótesis debe ser tal que su rechazo proporcione información respecto del fenómeno a analizar.\n",
    "\n",
    "**Ejemplos**\n",
    "Se quiere aproyar la afirmación que un medidos es más preciso que otro.\n",
    "Hipótesis: \"No hay diferencia entre la precisión los dos tipos de medidores\"\n",
    "\n",
    "Se quiere apoyar el argumento que beber alcohol aumenta el riesgo de contraer una enfermedad\n",
    "Hipótesis: \"El riesgo de contraer la enfermedad no aumenta como consecuencia de beber alcohol\"\n",
    "\n"
   ]
  },
  {
   "cell_type": "markdown",
   "id": "8720f709",
   "metadata": {
    "slideshow": {
     "slide_type": "slide"
    }
   },
   "source": [
    "Definición Hipótesis nula y alternativa\n",
    "\n",
    "Estadístico de prueba"
   ]
  },
  {
   "cell_type": "markdown",
   "id": "c6f7fbc7",
   "metadata": {
    "slideshow": {
     "slide_type": "slide"
    }
   },
   "source": [
    "**Ejemplo**: Cierta vacuna contra un virus tiene solo un 25% de eficacia luego de 2 años. En un estudio se aplica una nueva vacuna a un grupo de 20 personas para determinar su eficacia. \n",
    "\n",
    "Si más de 8 personas superan los 2 años sin enfermarse, se considera que la vacuna nueva es mejor que la actual. Esto sería una mejoría respecto de las 5 personas que actualmente siguen protegidas luego de 2 años.\n",
    "\n",
    "La hipótesis nula sería:\n",
    "<center>\n",
    "$H_0:$ la nueva vacuna es igual de eficaz que la vacuna actual\n",
    "</center>\n",
    "\n",
    "La hipótesis alternativa sería:\n",
    "<center>\n",
    "$H_1:$ la nueva vacuna es mejor\n",
    "</center>\n",
    "\n"
   ]
  },
  {
   "cell_type": "markdown",
   "id": "b0bf6391",
   "metadata": {
    "slideshow": {
     "slide_type": "slide"
    }
   },
   "source": [
    "Las hipótesis anteriores son equivalentes a probar estos valores de \"éxito\" para el parámetro de una distribución binomial:\n",
    "\n",
    "\\begin{align}\n",
    "H_0: p = 0.25 \\\\\n",
    "H_1: p > 0.25\n",
    "\\end{align}\n",
    "\n",
    "La variable estadística de prueba $X$ es la base para tomar una decisión. En este caso $X$ es la cantidad de personas que siguen con protección luego de 2 años.\n",
    "\n",
    "Si $x>8$ rechazamos $H_0$ en favor de $H_1$. Si $x\\leq8$, entonces no rechazamos $H_0$\n",
    "\n",
    "<center>\n",
    "    <img src=\"figures/hipo-1.png\" width=\"600\"/>\n",
    "</center>\n",
    "\n",
    "La **región crítica** se define como todos los valores de la variable de prueba tal que se rechaza la hipótesis nula. En este caso la región crítica es $x>8$ ."
   ]
  },
  {
   "cell_type": "markdown",
   "id": "089a627f",
   "metadata": {
    "slideshow": {
     "slide_type": "slide"
    }
   },
   "source": [
    "## Tipos de error\n",
    "\n",
    "Hay 2 tipos de errores en la toma de una decisión respecto de una hipótesis:\n",
    "\n",
    "<dl>\n",
    "<dt>Error tipo I</dt>\n",
    "<dd>Se rechaza la hipótesis nula cuando esta en realidad es verdadera</dd>\n",
    "<dt>Error tipo II</dt>\n",
    "<dd>No se rechaza la hipótesis nula cuando esta en realidad es falsa</dd>\n",
    "</dl>\n",
    "\n",
    "<center>\n",
    "    <img src=\"figures/hipo-2b.png\" width=\"1000\"/>\n",
    "</center>\n"
   ]
  },
  {
   "cell_type": "markdown",
   "id": "521bd900",
   "metadata": {
    "slideshow": {
     "slide_type": "subslide"
    }
   },
   "source": [
    "La probabilidad de cometer un error de tipo I se llama **nivel de significancia** y se denota $\\alpha$.\n",
    "\n",
    "<div class=\"well\">\n",
    "Para el ejemplo de la vacuna, un error tipo I ocurriría si más de 8 personas siguen con protección luego de 2 años, cuando en realidad la nueva vacuna es igual de eficaz que la actual.\n",
    "\n",
    "Matemáticamente, esto es equivalente a que $x>8$ cuando $p=0.25$. La probabilidad que esto ocurra es:\n",
    "\n",
    "\\begin{align}\n",
    "    \\alpha = P(X>8 | p=0.25) = \\sum_{9}^{20} b(x; n=20, p=0.25) = 0.0409\n",
    "\\end{align}\n",
    "\n",
    "Es decir, en este caso la probabilidad de cometer un error tipo I es muy baja.\n",
    "</div>\n",
    "\n",
    "La probabilidad de cometer un error tipo II se denota como $\\beta$ y solo se puede calcular si la hipótesis alternativa es específica."
   ]
  },
  {
   "cell_type": "code",
   "execution_count": null,
   "id": "68a08d41",
   "metadata": {
    "slideshow": {
     "slide_type": "slide"
    }
   },
   "outputs": [],
   "source": []
  },
  {
   "cell_type": "markdown",
   "id": "d47fa1e5",
   "metadata": {
    "slideshow": {
     "slide_type": "slide"
    }
   },
   "source": [
    "# Pruebas respecto de una sola media"
   ]
  },
  {
   "cell_type": "markdown",
   "id": "4a8858be",
   "metadata": {
    "slideshow": {
     "slide_type": "slide"
    }
   },
   "source": [
    "## Pruebas para una media (varianza conocida)\n",
    "Supongamos un experimento del que se extraen $n$ observaciones $X_1$, $X_2$, ..., $X_n$ aleatorias desde una población con media $\\mu$ y varianza $\\sigma^2$.\n",
    "\n",
    "Para probar las hipótesis:\n",
    "\n",
    "\\begin{align}\n",
    "H_0: \\mu = \\mu_0 \\\\\n",
    "H_1: \\mu \\neq \\mu_0\n",
    "\\end{align}\n",
    "\n",
    "usaremos la variable estadística de prueba $\\overline{X}$ que en condiciones del TLC tiene distribución normal con:\n",
    "\n",
    "\\begin{equation}\n",
    "\\mu_{\\overline{X}} = \\mu \\\\\n",
    "\\sigma_{\\overline{X}}^2 = \\sigma^2/n\n",
    "\\end{equation}\n"
   ]
  },
  {
   "cell_type": "markdown",
   "id": "514e7135",
   "metadata": {
    "slideshow": {
     "slide_type": "subslide"
    }
   },
   "source": [
    "Bajo la hipótesis nula $H_0$ ($\\mu = \\mu_0$), de acuerdo al intervalo de confianza, se cumplirá que:\n",
    "\n",
    "\\begin{align}\n",
    "    P \\left( -z_{\\alpha /2} < \\frac{ \\overline{X} - \\mu_0 }{ \\sigma / \\sqrt{n} } < z_{\\alpha /2} \\right) = 1 - \\alpha\n",
    "\\end{align}\n",
    "\n",
    "donde $\\alpha$ será entonces la probabilidad de cometer un error de tipo I (rechazar una hipótesis verdadera). Es decir, $\\alpha$ es la probabilidad de que el valor estandarizado de $\\overline{X}$ no se encuentre en el rango indicado.\n",
    "\n",
    "<center>\n",
    "    <img src=\"figures/norm-interval-1.png\" width=\"500\"/>\n",
    "</center>\n",
    "\n",
    "Si el valor estandarizado de $\\overline{X}$ no está dentro de ese rango, se procede a rechazar la hipótesis nula en favor de la hipótesis alternativa $H_1$ ($\\mu \\neq \\mu_0$)\n",
    "\n"
   ]
  },
  {
   "cell_type": "markdown",
   "id": "8e134059",
   "metadata": {
    "slideshow": {
     "slide_type": "subslide"
    }
   },
   "source": [
    "Finalmente, dado un valor $\\overline{x}$ la prueba formal implica rechazar $H_0$ si la variable estadística de prueba $z$ cae en la región crítica descrita a continuación:\n",
    "\n",
    "\\begin{align}\n",
    "    z & = \\frac{ \\overline{x} - \\mu_0 }{ \\sigma / \\sqrt{n} } > z_{\\alpha/2} &\n",
    "    \\text{o} & &\n",
    "    z & = \\frac{ \\overline{x} - \\mu_0 }{ \\sigma / \\sqrt{n} } < -z_{\\alpha/2}\n",
    "\\end{align}\n",
    "\n",
    "El rechazo de $H_0$ implica aceptar la hipótesis alternativa $H_1$ que $\\mu \\neq \\mu_0$. La probabilidad de rechazar equivocadamente $H_0$ es $\\alpha$.\n",
    "\n",
    "<center>\n",
    "    <img src=\"figures/norm-x-1.png\" width=\"500\"/>\n",
    "</center>\n",
    "\n",
    "Por otro lado, si $-z_{\\alpha /2} < z < z_{\\alpha /2}$ entonces $H_0$ no se rechaza.\n",
    "\n"
   ]
  },
  {
   "cell_type": "markdown",
   "id": "aa1a9ec9",
   "metadata": {
    "slideshow": {
     "slide_type": "subslide"
    }
   },
   "source": [
    "La formulación anterior se conoce como **bilateral**, ya que interesaba probar que $z$ estuviera hacia la izquierda o hacia la derecha del rango dado para poder rechazar $H_0$ en favor de $H_1$.\n",
    "\n",
    "En caso que se quiera probar una hipótesis **unilateral** del tipo:\n",
    "\n",
    "\\begin{align}\n",
    "H_0: \\mu = \\mu_0 \\\\\n",
    "H_1: \\mu > \\mu_0\n",
    "\\end{align}\n",
    "\n",
    "se requiere valores grandes de $z$ para favorecer a $H_1$. Entonces el rechazo de $H_0$ resulta solo de probar:\n",
    "\n",
    "\\begin{align}\n",
    "    z = \\frac{ \\overline{x} - \\mu_0 }{ \\sigma / \\sqrt{n} } > z_{\\alpha}\n",
    "\\end{align}\n",
    "\n",
    "La formulación unilateral se realiza de forma similar para un caso en que $H_1: \\mu > \\mu_0$\n",
    "\n",
    "<font color=darkred>Note que en el caso unilateral la región crítica queda solo en una de las dos colas de la distribución normal </font>"
   ]
  },
  {
   "cell_type": "markdown",
   "id": "9c8f7710",
   "metadata": {
    "slideshow": {
     "slide_type": "slide"
    }
   },
   "source": [
    "**Ejemplo**: Una muestra aleatoria de 100 fallecimientos arrojó una vida promedio de 71.8 años. Si la desviación estándar de la población es 8.9 años, ¿la muestra indica que la vida media actual es mayor a 70 años? Considerar un nivel de significancia de 0.05.\n",
    "\n",
    "Se plantean las hipótesis a probar:\n",
    "\n",
    "\\begin{align}\n",
    "H_0: \\mu = \\mu_0 \\\\\n",
    "H_1: \\mu > \\mu_0\n",
    "\\end{align}\n",
    "\n",
    "Para favorecer $H_1$ intentaremos rechazar $H_0$ usando como región crítica la cola derecha de la distribución normal estándar con una probabilidad de $\\alpha = 0.05$\n",
    "\n",
    "<center>\n",
    "    <img src=\"figures/table-norm-1.png\" width=\"1300\"/>\n",
    "</center>\n"
   ]
  },
  {
   "cell_type": "markdown",
   "id": "c48ead46",
   "metadata": {
    "slideshow": {
     "slide_type": "subslide"
    }
   },
   "source": [
    "Seleccionamos el valor crítico $z_{\\alpha} = 1.645$. Si nuestro valor $z$ está a la derecha de este valor crítico, entonces podemos rechazar la hipótesis nula.\n",
    "\n",
    "Para $\\overline{x} = 71.8$, $\\sigma = 8.9$ y $n=100$ se tiene:\n",
    "\n",
    "\\begin{align}\n",
    "    z = \\frac{ 71.8 - 70 }{ 8.9 / \\sqrt{100} } = 2.02\n",
    "\\end{align}\n",
    "\n",
    "Se decide rechazar $H_0$ para concluir que la vida media actual sí es mayor a 70 años.\n",
    "\n",
    "El nivel de significancia de 0.05 significa que tenemos una probabilidad de 0.05 de habernos equivocado en rechazar $H_0$"
   ]
  },
  {
   "cell_type": "markdown",
   "id": "303eade3",
   "metadata": {
    "slideshow": {
     "slide_type": "slide"
    }
   },
   "source": [
    "## Pruebas para una media (varianza desconocida)\n"
   ]
  },
  {
   "cell_type": "code",
   "execution_count": null,
   "id": "c1550148",
   "metadata": {},
   "outputs": [],
   "source": [
    "t"
   ]
  },
  {
   "cell_type": "markdown",
   "id": "d564ad26",
   "metadata": {},
   "source": [
    "# Pruebas respecto de una sola varianza\n"
   ]
  },
  {
   "cell_type": "code",
   "execution_count": null,
   "id": "77e896ee",
   "metadata": {},
   "outputs": [],
   "source": []
  },
  {
   "cell_type": "code",
   "execution_count": null,
   "id": "409a191e",
   "metadata": {},
   "outputs": [],
   "source": []
  },
  {
   "cell_type": "code",
   "execution_count": null,
   "id": "9a18bcbc",
   "metadata": {},
   "outputs": [],
   "source": []
  },
  {
   "cell_type": "markdown",
   "id": "555324c2",
   "metadata": {
    "slideshow": {
     "slide_type": "slide"
    }
   },
   "source": [
    "# Pruebas respecto de una sola proporción (?) \n"
   ]
  },
  {
   "cell_type": "code",
   "execution_count": null,
   "id": "f63282a7",
   "metadata": {},
   "outputs": [],
   "source": []
  },
  {
   "cell_type": "code",
   "execution_count": null,
   "id": "c9619bd9",
   "metadata": {},
   "outputs": [],
   "source": []
  },
  {
   "cell_type": "code",
   "execution_count": null,
   "id": "d8aab757",
   "metadata": {},
   "outputs": [],
   "source": []
  },
  {
   "cell_type": "code",
   "execution_count": null,
   "id": "6d658070",
   "metadata": {},
   "outputs": [],
   "source": []
  },
  {
   "cell_type": "markdown",
   "id": "2b8c85ed",
   "metadata": {},
   "source": [
    "<dl>\n",
    "<dt>Hipótesis estadística</dt>\n",
    "<dd>Aseveración o conjetura respecto de una o más poblaciones</dd>\n",
    "</dl>"
   ]
  },
  {
   "cell_type": "code",
   "execution_count": null,
   "id": "adcef79a",
   "metadata": {},
   "outputs": [],
   "source": []
  },
  {
   "cell_type": "code",
   "execution_count": null,
   "id": "76f87543",
   "metadata": {},
   "outputs": [],
   "source": []
  },
  {
   "cell_type": "code",
   "execution_count": null,
   "id": "64cadbc4",
   "metadata": {},
   "outputs": [],
   "source": []
  }
 ],
 "metadata": {
  "celltoolbar": "Slideshow",
  "kernelspec": {
   "display_name": "Python 3 (ipykernel)",
   "language": "python",
   "name": "python3"
  },
  "language_info": {
   "codemirror_mode": {
    "name": "ipython",
    "version": 3
   },
   "file_extension": ".py",
   "mimetype": "text/x-python",
   "name": "python",
   "nbconvert_exporter": "python",
   "pygments_lexer": "ipython3",
   "version": "3.9.7"
  }
 },
 "nbformat": 4,
 "nbformat_minor": 5
}
